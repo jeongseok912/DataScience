{
 "cells": [
  {
   "cell_type": "code",
   "execution_count": 1,
   "metadata": {},
   "outputs": [],
   "source": [
    "# 파이썬 2와 3 지원\n",
    "from __future__ import division, print_function, unicode_literals\n",
    "\n",
    "# 공통\n",
    "import numpy as np\n",
    "import os\n",
    "\n",
    "# 일관된 출력을 위해 유사난수 초기화\n",
    "np.random.seed(42)\n",
    "\n",
    "# 맷플롯립 설정\n",
    "%matplotlib inline\n",
    "import matplotlib\n",
    "import matplotlib.pyplot as plt\n",
    "plt.rcParams['axes.labelsize'] = 14\n",
    "plt.rcParams['xtick.labelsize'] = 12\n",
    "plt.rcParams['ytick.labelsize'] = 12\n",
    "\n",
    "# 한글 출력\n",
    "matplotlib.rc('font', family='NanumBarunGothic')\n",
    "plt.rcParams['axes.unicode_minus'] = False\n",
    "\n",
    "# 그림을 저장할 폴더\n",
    "PROJECT_ROOT_DIR = \".\"\n",
    "CHAPTER_ID = \"end_to_end_project\"\n",
    "IMAGES_PATH = os.path.join(PROJECT_ROOT_DIR, \"images\", CHAPTER_ID)\n",
    "\n",
    "def save_fig(fig_id, tight_layout=True, fig_extension=\"png\", resolution=300):\n",
    "    path = os.path.join(IMAGES_PATH, fig_id + \".\" + fig_extension)\n",
    "    if tight_layout:\n",
    "        plt.tight_layout()\n",
    "    plt.savefig(path, format=fig_extension, dpi=resolution)"
   ]
  },
  {
   "cell_type": "markdown",
   "metadata": {},
   "source": [
    "# 1. 큰 그림 보기\n",
    "\n",
    "#### 데이터셋\n",
    "* 데이터셋 : 캘리포니아 인구조사 데이터  \n",
    "* 특성 : 블록 그룹(block group)마다 인구(population), 중간 소득(median incom), 중간 주택 가격(median housing price) 등  \n",
    "* 특성 설명\n",
    "  * 블록 그룹 : 미국 인구조사국에서 샘플 데이터를 발표하는 데 사용하는 최소한의 지리적 단위(간단히 '구역'이라고 부를 예정)\n",
    "    * 하나의 블록 그룹은 보통 600 ~ 3,000명의 인구를 나타낸다.\n",
    "    \n",
    "#### 목표\n",
    "다른 측정 데이터가 주어졌을 때 구역의 중간 주택 가격 예측"
   ]
  },
  {
   "cell_type": "markdown",
   "metadata": {},
   "source": [
    "## 1.1. 문제 정의\n",
    "### 1.1.1. 상사에게 해야할 질문\n",
    "1. 비즈니스의 목적이 정확히 무엇인가요?\n",
    "   * 회사는 이 모델을 어떻게 사용해 이익을 얻으려고 할 것인지 \n",
    "   * 즉 문제를 어떻게 구성할지, 어떤 알고리즘을 선택할지, 모델 평가에 어떤 성능 지표를 사용할지, 모델 튜닝을 위해 얼마나 노력을 투여할지 결정하는 아주 중요한 질문\n",
    "#### Answer\n",
    "    * 결과의 사용용도 : 구역의 중간 주택 가격의 예측치가 여러 가지 다른 신호(signal, 머신러닝 시스템에 주입하는 정보를 종종 신호라고 부름)와 함께 다른 머신러닝 시스템의 입력으로 사용\n",
    "    * 뒤따르는 시스템이 해당 지역에 투자할 가치가 있는지 결정한다.\n",
    "    * 이 결정이 수익에 직결되기 때문에 올바르게 예측하는 것이 매우 중요\n",
    "    * 부동산 투자를 위한 머신러닝 파이프라인\n",
    "    <img src='../../dsschool_img/machine_learning_pipeline.png'>\n",
    " \n",
    "> **파이프라인**  \n",
    "* 데이터 파이프라인(pipeline) : 데이터 처리 컴포넌트(component)들이 연속되어 있는 것\n",
    "* 머신러닝 시스템은 데이터를 조작, 변환하는 일이 많아 파이프라인을 사용하는 일이 매우 흔하다.\n",
    "* 보통 component들은 비동기적으로 동작한다.  \n",
    "각 component는 결과를 다른 데이터 저장소로 보낸다.  \n",
    "그러면 일정 시간 후 다음 component가 그 데이터를 추출해 자신의 출력 결과를 만드는 식이다.\n",
    "* 각 component는 완전히 독립적이다.  \n",
    "즉 component 사이의 인터페이스는 데이터 저장소 뿐이다.\n",
    "* 한편 모니터링이 적절히 되지 않으면 고장 난 component를 한동안 모를 수 있고 데이터가 만들어진지 오래 되면 전체 시스템의 성능이 떨어진다.\n",
    "\n",
    "2. 현재 솔루션은 어떻게 구성되어 있나요?\n",
    "   * 문제 해결 방법에 대한 정보 획득, 참고 성능으로 사용 가능\n",
    "#### Answer\n",
    "    * 현재는 구역 주택 가격을 전문가가 수동으로 추정하는 중\n",
    "    * 한 팀이 구역에 관한 최신 정보를 모으고 있고, 중간 주택 가격을 얻을 수 없을 때는 복잡한 규칙을 사용하여 추정 중\n",
    "        * 이는 비용과 시간이 많이 들고 추정 결과도 썩 좋지 않다 "
   ]
  },
  {
   "cell_type": "markdown",
   "metadata": {},
   "source": [
    "### 1.1.2. 모델 문제 정의\n",
    "* 지도 학습? 비지도 학습? 강화 학습?\n",
    "    * 레이블된 훈련 샘플(각 샘플이 기대 출력값, 즉 구역의 중간 주택 가격을 가지고 있다.)이 있기 때문에 전형적인 지도 학습\n",
    "* 분류? 회귀? 다른 작업?\n",
    "    * 값을 예측하므로 전형적인 회귀 문제\n",
    "    * 좀 더 구체적으로 특성이 여러 개(구역의 인구, 중간 소득 층)이므로 다변량 회귀(multivariate regression) 문제\n",
    "* 배치 학습? 온라인 학습?\n",
    "    * 이 시스템에 들어오는 데이터에 연속적인 흐름이 없으므로 빠르게 변하는 데이터에 적응하지 않아도 되고, 데이터가 메모리에 들어갈 만큼 충분히 작으므로 일반적인 배치 학습\n",
    "    > 데이터가 매우 크면 맵리듀스(MapReduce)를 사용해 배치 학습을 여러 서버로 분할하거나, 대신 온라인 학습 기법을 사용할 수 있다."
   ]
  },
  {
   "cell_type": "markdown",
   "metadata": {},
   "source": [
    "## 1.2. 성능 측정 지표 \n",
    "#### 평균 제곱근 오차(RMSE, Root Mean Square Error)\n",
    "* 회귀 문제의 전형적인 성능 지표\n",
    "* 오차가 커질수록 이 값은 더욱 커져 예측에 얼마나 많은 오류가 있는지 가늠하게 해준다.\n",
    "$$ \\mbox{RMSE}(\\mathbf X,h) = \\sqrt{\\frac{1}{m}∑^m_{i=1}(h(\\mathbf x^i) - y^i)^2)} $$\n",
    "> **표기법**\n",
    "  * $m$ : RMSE를 측정할 데이터셋의 샘플 수\n",
    "       * ex)  \n",
    "       2,000개 구역의 검증 세트에 대해 RMSE를 평가한다면 m = 2,000\n",
    "  * $\\mathbf x^i$ : i번째 샘플(레이블을 제외한)의 전체 특성값의 벡터\n",
    "  * $y^i$ : 해당 레이블(해당 샘플의 기대 출력값)\n",
    "  * ex)  \n",
    "  데이터셋의 첫 번째 구역이 경도 -118.29˚, 위도 33.91˚의 위치, 중간 소득 \\\\$38,372, 주민 1,416명, 중간 주택 가격 \\\\$156,400이라면(다른 특성은 고려하지 않음)  \n",
    "    * $\\mathbf x^1 =  \\begin{bmatrix}\n",
    "              -118.29\\\\\n",
    "              33.91\\\\\n",
    "              1,416\\\\\n",
    "              38,372\n",
    "              \\end{bmatrix} $\n",
    "    * $y^1$ = 156,400\n",
    "  * $X$ : 모든 특성값(레이블은 제외)을 포함하는 행렬\n",
    "    * $\\mathbf X = \\begin{bmatrix}\n",
    "        (\\mathbf x^1)^T\\\\\n",
    "        (\\mathbf x^2)^T\\\\\n",
    "        \\dots\\\\\n",
    "        (\\mathbf x^{2000})^T\n",
    "        \\end{bmatrix} = \\begin{bmatrix}\n",
    "        -118.29 & 33.91 & 1,416 & 38.372\\\\\n",
    "        \\dots & \\dots & \\dots & \\dots\n",
    "        \\end{bmatrix}$\n",
    "    * $i$번째 행 = $(\\mathbf x^i)^T$\n",
    "  * $h$(가설, hypothesis) : 시스템 예측 함수\n",
    "    * 시스템의 하나의 샘플 특성 벡터 $\\mathbf x^i$를 받으면 그 샘플에 대한 예측값 $\\hat y^i = h(\\mathbf x^i)$를 출력한다.\n",
    "  * $\\mbox{RMSE}(\\mathbf X, h$) : 가설 $h$를 사용하여 일련의 샘플을 평가하는 비용 함수\n",
    "  * **사용할 표기법**\n",
    "    * 스칼라 값 or 함수 : 이탤릭체 소문자 $m, y^i, h$ 등\n",
    "    * 벡터 : 굵은 소문자 $\\mathbf x^i$\n",
    "    * 행렬 : 굵은 대문자 $\\mathbf X$\n",
    "\n",
    "#### 평균 절대 오차 (MAE, Mean Absolute Error)(평균 절대 편차, Mean Absolute Deviation)\n",
    "* 또 다른 성능 지표 \n",
    "* 이상치가 많을 때 고려해 볼 수 있음\n",
    "$$ \\mbox{MAE}(\\mathbf X, h) = \\frac{1}{m}\\sum^m_{i=1}|h(\\mathbf x^i)-y^i|$$\n",
    "\n",
    "\n",
    "#### 거리 측정 방법\n",
    "* RMSE와 MAE 모두 예측값의 벡터와 타깃값 벡터 사이의 거리를 재는 방법이다.\n",
    "* 거리 측정 방법(또는 노름(norm))\n",
    "    * **유클리디안 노름(Euclidian norm)** : 제곱항을 합한 것의 제곱근(RMSE) 계산\n",
    "        * 우리가 친숙한 거리 개념\n",
    "        * **$ℓ_2$ 노름**이라고도 부른다.\n",
    "        * $||·||_2$ (또는 $||·||$)로 표시\n",
    "    * **맨해튼 노름(Manhattan norm)** : 절댓값의 합을 계산\n",
    "        * **$ℓ_1$ 노름**이라고도 부른다.\n",
    "        * $||·||_1$로 표시\n",
    "* 일반적인 원소 $n$개인 벡터 $\\mathbf v$의 $ℓ_k$ 노름\n",
    "$$ ||\\mathbf v||_k = (|v_0|^k + |v_1|^k + ... + |v_n|^k)^{\\frac{1}{k}} $$\n",
    "    * $ℓ_0$ :  단순히 벡터에 있는 0이 아닌 원소의 수\n",
    "    * $ℓ_∞$ : 벡터에서 가장 큰 절댓값\n",
    "    * 노름의 지수가 클수록 큰 값의 원소에 치우치며, 작은 값은 무시된다.\n",
    "    * 그래서 RMSE가 MAE보다 조금 더 이상치에 민감하다.\n",
    "    * 하지만 이상치가 매우 드물면 RMSE가 잘 맞아 일반적으로 널리 사용된다."
   ]
  },
  {
   "cell_type": "markdown",
   "metadata": {},
   "source": [
    "## 1.3. 가정 검사\n",
    "* 지금까지 만든 가정을 동료들과 나열하고 검사해보는 것이 좋다.\n",
    "* ex)  \n",
    "시스템이 출력한 구역의 가격이 다음 머신러닝 시스템의 입력으로 들어갈 줄 알았는데 이 값 대신 '저렴', '보통', '고가' 같은 카테고리로 바꿔 사용할 수도 있기 때문이다. \n",
    "    * 그러면 정확한 가격이 아닌 올바른 카테고리를 구하는 시스템이 필요\n",
    "    * 이 문제는 회귀가 아니라 분류 작업이 된다."
   ]
  },
  {
   "cell_type": "markdown",
   "metadata": {},
   "source": [
    "# 2. 데이터 가져오기\n",
    "## 2.1. 작업환경 만들기\n",
    "* 머신러닝 코드와 데이터셋을 저장할 작업 디렉토리 만들기\n",
    "    * 터미널을 열고 다음 명령 실행(\\$ 프롬프트 다음이 명령)  \n",
    "    `export ML_PATH=\"$HOME/ml\"`  \n",
    "    `mkdir -p \\$ML_PATH`\n",
    "* 독립적인 환경 만들기  \n",
    "    `pip install --user --upgrade virtualenv`  \n",
    "    `cd $ML_PATH`  \n",
    "    `virtualenv env` (시스템에 설치된 패키지를 사용하고 싶다면 `-system-site-packages` 옵션 추가)  \n",
    "    `source env/bin/activate`\n",
    "* 파이썬 패키지 설치\n",
    "    * 아나콘다 써두 됨(권장)\n",
    "        * 아나콘다 패키징 도구 : `conda`\n",
    "    * pip로 필요한 패키지와 의존성으로 연결된 다른 패키지 모두 설치 및 확인  \n",
    "    `pip3 install --upgrade jupyter matplotlib numpy pandas scipy scikit-learn`  \n",
    "    `python3 -c \"import jupyter, matplotlib, numpy, pandas, scipy, sklearn\"`  \n",
    "* 주피터 노트북 실행  \n",
    "    `jupyter notebook`\n",
    "    * default port : 8888\n",
    "    * web : http://localhost:8888/ (보통 서버가 시작될 때 자동으로 브라우저 연결해줌)\n",
    "    * 현재 작업공간 디렉토리가 보일 것임\n",
    "        * virtualenv 설정 그대로 따라했다면 env 디렉토리만 있다."
   ]
  },
  {
   "cell_type": "markdown",
   "metadata": {},
   "source": [
    "## 2.2. 데이터 다운로드 및 로드\n",
    "* housing.csv를 압축한 housing.tgz 파일 내려받기"
   ]
  },
  {
   "cell_type": "code",
   "execution_count": 2,
   "metadata": {},
   "outputs": [],
   "source": [
    "import os\n",
    "import tarfile\n",
    "from six.moves import urllib\n",
    "\n",
    "DOWNLOAD_ROOT = \"https://raw.githubusercontent.com/ageron/handson-ml/master/\"\n",
    "HOUSING_PATH = os.path.join(\"datasets\", \"housing\")\n",
    "HOUSING_URL = DOWNLOAD_ROOT + \"datasets/housing/housing.tgz\"\n",
    "\n",
    "def fetch_housing_data(housing_url=HOUSING_URL, housing_path=HOUSING_PATH):\n",
    "    # 작업 공간에 datasets/housing 디렉토리 만들기\n",
    "    if not os.path.isdir(housing_path):\n",
    "        os.makedirs(housing_path)\n",
    "    tgz_path = os.path.join(housing_path, \"housing.tgz\")\n",
    "    # housing.tgz 파일 내려받기\n",
    "    urllib.request.urlretrieve(housing_url, tgz_path)\n",
    "    # 압축풀어 housing.csv 파일 만들기\n",
    "    housing_tgz = tarfile.open(tgz_path)\n",
    "    housing_tgz.extractall(path=housing_path)\n",
    "    housing_tgz.close()\n",
    "    \n",
    "fetch_housing_data()"
   ]
  },
  {
   "cell_type": "markdown",
   "metadata": {},
   "source": [
    "#### 데이터 로드"
   ]
  },
  {
   "cell_type": "code",
   "execution_count": 3,
   "metadata": {},
   "outputs": [],
   "source": [
    "import pandas as pd\n",
    "\n",
    "def load_housing_data(housing_path=HOUSING_PATH):\n",
    "    csv_path = os.path.join(housing_path, \"housing.csv\")\n",
    "    return pd.read_csv(csv_path)"
   ]
  },
  {
   "cell_type": "markdown",
   "metadata": {},
   "source": [
    "## 2.3. 데이터 구조 훑기\n",
    "\n",
    "#### 데이터프레임 확인하기"
   ]
  },
  {
   "cell_type": "code",
   "execution_count": 4,
   "metadata": {},
   "outputs": [
    {
     "data": {
      "text/html": [
       "<div>\n",
       "<style scoped>\n",
       "    .dataframe tbody tr th:only-of-type {\n",
       "        vertical-align: middle;\n",
       "    }\n",
       "\n",
       "    .dataframe tbody tr th {\n",
       "        vertical-align: top;\n",
       "    }\n",
       "\n",
       "    .dataframe thead th {\n",
       "        text-align: right;\n",
       "    }\n",
       "</style>\n",
       "<table border=\"1\" class=\"dataframe\">\n",
       "  <thead>\n",
       "    <tr style=\"text-align: right;\">\n",
       "      <th></th>\n",
       "      <th>longitude</th>\n",
       "      <th>latitude</th>\n",
       "      <th>housing_median_age</th>\n",
       "      <th>total_rooms</th>\n",
       "      <th>total_bedrooms</th>\n",
       "      <th>population</th>\n",
       "      <th>households</th>\n",
       "      <th>median_income</th>\n",
       "      <th>median_house_value</th>\n",
       "      <th>ocean_proximity</th>\n",
       "    </tr>\n",
       "  </thead>\n",
       "  <tbody>\n",
       "    <tr>\n",
       "      <th>0</th>\n",
       "      <td>-122.23</td>\n",
       "      <td>37.88</td>\n",
       "      <td>41.0</td>\n",
       "      <td>880.0</td>\n",
       "      <td>129.0</td>\n",
       "      <td>322.0</td>\n",
       "      <td>126.0</td>\n",
       "      <td>8.3252</td>\n",
       "      <td>452600.0</td>\n",
       "      <td>NEAR BAY</td>\n",
       "    </tr>\n",
       "    <tr>\n",
       "      <th>1</th>\n",
       "      <td>-122.22</td>\n",
       "      <td>37.86</td>\n",
       "      <td>21.0</td>\n",
       "      <td>7099.0</td>\n",
       "      <td>1106.0</td>\n",
       "      <td>2401.0</td>\n",
       "      <td>1138.0</td>\n",
       "      <td>8.3014</td>\n",
       "      <td>358500.0</td>\n",
       "      <td>NEAR BAY</td>\n",
       "    </tr>\n",
       "    <tr>\n",
       "      <th>2</th>\n",
       "      <td>-122.24</td>\n",
       "      <td>37.85</td>\n",
       "      <td>52.0</td>\n",
       "      <td>1467.0</td>\n",
       "      <td>190.0</td>\n",
       "      <td>496.0</td>\n",
       "      <td>177.0</td>\n",
       "      <td>7.2574</td>\n",
       "      <td>352100.0</td>\n",
       "      <td>NEAR BAY</td>\n",
       "    </tr>\n",
       "    <tr>\n",
       "      <th>3</th>\n",
       "      <td>-122.25</td>\n",
       "      <td>37.85</td>\n",
       "      <td>52.0</td>\n",
       "      <td>1274.0</td>\n",
       "      <td>235.0</td>\n",
       "      <td>558.0</td>\n",
       "      <td>219.0</td>\n",
       "      <td>5.6431</td>\n",
       "      <td>341300.0</td>\n",
       "      <td>NEAR BAY</td>\n",
       "    </tr>\n",
       "    <tr>\n",
       "      <th>4</th>\n",
       "      <td>-122.25</td>\n",
       "      <td>37.85</td>\n",
       "      <td>52.0</td>\n",
       "      <td>1627.0</td>\n",
       "      <td>280.0</td>\n",
       "      <td>565.0</td>\n",
       "      <td>259.0</td>\n",
       "      <td>3.8462</td>\n",
       "      <td>342200.0</td>\n",
       "      <td>NEAR BAY</td>\n",
       "    </tr>\n",
       "  </tbody>\n",
       "</table>\n",
       "</div>"
      ],
      "text/plain": [
       "   longitude  latitude  housing_median_age  total_rooms  total_bedrooms  \\\n",
       "0    -122.23     37.88                41.0        880.0           129.0   \n",
       "1    -122.22     37.86                21.0       7099.0          1106.0   \n",
       "2    -122.24     37.85                52.0       1467.0           190.0   \n",
       "3    -122.25     37.85                52.0       1274.0           235.0   \n",
       "4    -122.25     37.85                52.0       1627.0           280.0   \n",
       "\n",
       "   population  households  median_income  median_house_value ocean_proximity  \n",
       "0       322.0       126.0         8.3252            452600.0        NEAR BAY  \n",
       "1      2401.0      1138.0         8.3014            358500.0        NEAR BAY  \n",
       "2       496.0       177.0         7.2574            352100.0        NEAR BAY  \n",
       "3       558.0       219.0         5.6431            341300.0        NEAR BAY  \n",
       "4       565.0       259.0         3.8462            342200.0        NEAR BAY  "
      ]
     },
     "execution_count": 4,
     "metadata": {},
     "output_type": "execute_result"
    }
   ],
   "source": [
    "housing = load_housing_data()\n",
    "housing.head()"
   ]
  },
  {
   "cell_type": "markdown",
   "metadata": {},
   "source": [
    "#### 데이터프레임 구조 살펴보기"
   ]
  },
  {
   "cell_type": "code",
   "execution_count": 5,
   "metadata": {},
   "outputs": [
    {
     "name": "stdout",
     "output_type": "stream",
     "text": [
      "<class 'pandas.core.frame.DataFrame'>\n",
      "RangeIndex: 20640 entries, 0 to 20639\n",
      "Data columns (total 10 columns):\n",
      "longitude             20640 non-null float64\n",
      "latitude              20640 non-null float64\n",
      "housing_median_age    20640 non-null float64\n",
      "total_rooms           20640 non-null float64\n",
      "total_bedrooms        20433 non-null float64\n",
      "population            20640 non-null float64\n",
      "households            20640 non-null float64\n",
      "median_income         20640 non-null float64\n",
      "median_house_value    20640 non-null float64\n",
      "ocean_proximity       20640 non-null object\n",
      "dtypes: float64(9), object(1)\n",
      "memory usage: 1.6+ MB\n"
     ]
    }
   ],
   "source": [
    "housing.info()"
   ]
  },
  {
   "cell_type": "markdown",
   "metadata": {},
   "source": [
    "> * 20,640개 샘플\n",
    "* total_bedrooms 특성(필드) : 20,433개만 null값이 아님\n",
    "* ocean_proximity 특성 : 어떤 파이썬 객체도 될 수 있지만, csv에서 읽어 들였기 때문에 텍스트 특성일 것임\n",
    "    * 열 값이 반복되기 때문에 범주형(categorical) 데이터로 보임\n",
    "    \n",
    "#### 범주형 특성 카테고리 확인"
   ]
  },
  {
   "cell_type": "code",
   "execution_count": 6,
   "metadata": {},
   "outputs": [
    {
     "data": {
      "text/plain": [
       "<1H OCEAN     9136\n",
       "INLAND        6551\n",
       "NEAR OCEAN    2658\n",
       "NEAR BAY      2290\n",
       "ISLAND           5\n",
       "Name: ocean_proximity, dtype: int64"
      ]
     },
     "execution_count": 6,
     "metadata": {},
     "output_type": "execute_result"
    }
   ],
   "source": [
    "housing[\"ocean_proximity\"].value_counts()"
   ]
  },
  {
   "cell_type": "markdown",
   "metadata": {},
   "source": [
    "#### 숫자형 특성 통계량 확인"
   ]
  },
  {
   "cell_type": "code",
   "execution_count": 7,
   "metadata": {},
   "outputs": [
    {
     "data": {
      "text/html": [
       "<div>\n",
       "<style scoped>\n",
       "    .dataframe tbody tr th:only-of-type {\n",
       "        vertical-align: middle;\n",
       "    }\n",
       "\n",
       "    .dataframe tbody tr th {\n",
       "        vertical-align: top;\n",
       "    }\n",
       "\n",
       "    .dataframe thead th {\n",
       "        text-align: right;\n",
       "    }\n",
       "</style>\n",
       "<table border=\"1\" class=\"dataframe\">\n",
       "  <thead>\n",
       "    <tr style=\"text-align: right;\">\n",
       "      <th></th>\n",
       "      <th>longitude</th>\n",
       "      <th>latitude</th>\n",
       "      <th>housing_median_age</th>\n",
       "      <th>total_rooms</th>\n",
       "      <th>total_bedrooms</th>\n",
       "      <th>population</th>\n",
       "      <th>households</th>\n",
       "      <th>median_income</th>\n",
       "      <th>median_house_value</th>\n",
       "    </tr>\n",
       "  </thead>\n",
       "  <tbody>\n",
       "    <tr>\n",
       "      <th>count</th>\n",
       "      <td>20640.000000</td>\n",
       "      <td>20640.000000</td>\n",
       "      <td>20640.000000</td>\n",
       "      <td>20640.000000</td>\n",
       "      <td>20433.000000</td>\n",
       "      <td>20640.000000</td>\n",
       "      <td>20640.000000</td>\n",
       "      <td>20640.000000</td>\n",
       "      <td>20640.000000</td>\n",
       "    </tr>\n",
       "    <tr>\n",
       "      <th>mean</th>\n",
       "      <td>-119.569704</td>\n",
       "      <td>35.631861</td>\n",
       "      <td>28.639486</td>\n",
       "      <td>2635.763081</td>\n",
       "      <td>537.870553</td>\n",
       "      <td>1425.476744</td>\n",
       "      <td>499.539680</td>\n",
       "      <td>3.870671</td>\n",
       "      <td>206855.816909</td>\n",
       "    </tr>\n",
       "    <tr>\n",
       "      <th>std</th>\n",
       "      <td>2.003532</td>\n",
       "      <td>2.135952</td>\n",
       "      <td>12.585558</td>\n",
       "      <td>2181.615252</td>\n",
       "      <td>421.385070</td>\n",
       "      <td>1132.462122</td>\n",
       "      <td>382.329753</td>\n",
       "      <td>1.899822</td>\n",
       "      <td>115395.615874</td>\n",
       "    </tr>\n",
       "    <tr>\n",
       "      <th>min</th>\n",
       "      <td>-124.350000</td>\n",
       "      <td>32.540000</td>\n",
       "      <td>1.000000</td>\n",
       "      <td>2.000000</td>\n",
       "      <td>1.000000</td>\n",
       "      <td>3.000000</td>\n",
       "      <td>1.000000</td>\n",
       "      <td>0.499900</td>\n",
       "      <td>14999.000000</td>\n",
       "    </tr>\n",
       "    <tr>\n",
       "      <th>25%</th>\n",
       "      <td>-121.800000</td>\n",
       "      <td>33.930000</td>\n",
       "      <td>18.000000</td>\n",
       "      <td>1447.750000</td>\n",
       "      <td>296.000000</td>\n",
       "      <td>787.000000</td>\n",
       "      <td>280.000000</td>\n",
       "      <td>2.563400</td>\n",
       "      <td>119600.000000</td>\n",
       "    </tr>\n",
       "    <tr>\n",
       "      <th>50%</th>\n",
       "      <td>-118.490000</td>\n",
       "      <td>34.260000</td>\n",
       "      <td>29.000000</td>\n",
       "      <td>2127.000000</td>\n",
       "      <td>435.000000</td>\n",
       "      <td>1166.000000</td>\n",
       "      <td>409.000000</td>\n",
       "      <td>3.534800</td>\n",
       "      <td>179700.000000</td>\n",
       "    </tr>\n",
       "    <tr>\n",
       "      <th>75%</th>\n",
       "      <td>-118.010000</td>\n",
       "      <td>37.710000</td>\n",
       "      <td>37.000000</td>\n",
       "      <td>3148.000000</td>\n",
       "      <td>647.000000</td>\n",
       "      <td>1725.000000</td>\n",
       "      <td>605.000000</td>\n",
       "      <td>4.743250</td>\n",
       "      <td>264725.000000</td>\n",
       "    </tr>\n",
       "    <tr>\n",
       "      <th>max</th>\n",
       "      <td>-114.310000</td>\n",
       "      <td>41.950000</td>\n",
       "      <td>52.000000</td>\n",
       "      <td>39320.000000</td>\n",
       "      <td>6445.000000</td>\n",
       "      <td>35682.000000</td>\n",
       "      <td>6082.000000</td>\n",
       "      <td>15.000100</td>\n",
       "      <td>500001.000000</td>\n",
       "    </tr>\n",
       "  </tbody>\n",
       "</table>\n",
       "</div>"
      ],
      "text/plain": [
       "          longitude      latitude  housing_median_age   total_rooms  \\\n",
       "count  20640.000000  20640.000000        20640.000000  20640.000000   \n",
       "mean    -119.569704     35.631861           28.639486   2635.763081   \n",
       "std        2.003532      2.135952           12.585558   2181.615252   \n",
       "min     -124.350000     32.540000            1.000000      2.000000   \n",
       "25%     -121.800000     33.930000           18.000000   1447.750000   \n",
       "50%     -118.490000     34.260000           29.000000   2127.000000   \n",
       "75%     -118.010000     37.710000           37.000000   3148.000000   \n",
       "max     -114.310000     41.950000           52.000000  39320.000000   \n",
       "\n",
       "       total_bedrooms    population    households  median_income  \\\n",
       "count    20433.000000  20640.000000  20640.000000   20640.000000   \n",
       "mean       537.870553   1425.476744    499.539680       3.870671   \n",
       "std        421.385070   1132.462122    382.329753       1.899822   \n",
       "min          1.000000      3.000000      1.000000       0.499900   \n",
       "25%        296.000000    787.000000    280.000000       2.563400   \n",
       "50%        435.000000   1166.000000    409.000000       3.534800   \n",
       "75%        647.000000   1725.000000    605.000000       4.743250   \n",
       "max       6445.000000  35682.000000   6082.000000      15.000100   \n",
       "\n",
       "       median_house_value  \n",
       "count        20640.000000  \n",
       "mean        206855.816909  \n",
       "std         115395.615874  \n",
       "min          14999.000000  \n",
       "25%         119600.000000  \n",
       "50%         179700.000000  \n",
       "75%         264725.000000  \n",
       "max         500001.000000  "
      ]
     },
     "execution_count": 7,
     "metadata": {},
     "output_type": "execute_result"
    }
   ],
   "source": [
    "housing.describe()"
   ]
  },
  {
   "cell_type": "markdown",
   "metadata": {},
   "source": [
    "> * null값은 제외된다.\n",
    "* total_bedrooms 특성의 count가 20,640이 아닌 20,433이다."
   ]
  },
  {
   "cell_type": "markdown",
   "metadata": {},
   "source": [
    "#### 데이터 형태 히스토그램으로 확인하기\n",
    "* 수평축 : 주어진 값의 범위\n",
    "* 수직축 : 범위에 속한 샘플 수\n",
    "* 특성마다 따로 히스토그램을 그릴 수도 있고, 전체 데이터셋에 `hist()` 메서드를 호출하여 모든 숫자형 특성에 대한 히스토그램도 출력할 수 있다.\n",
    "\n",
    "> **NOTE**  \n",
    "* `hist()`\n",
    "    * 맷플롯립을 사용하고 결국 그래프를 그리기 위해 사용자 컴퓨터의 그래픽 백엔드를 필요로 한다.  \n",
    "    * 그 벡엔드 지정을 주피터 노트북 매직 명령 `%matplotlib inline`을 사용하면 편하다. 이 명령은 주피터 자체의 벡엔드를 사용하도록 설정한다.  \n",
    "    * IPython kernel 4.4.0부터는 매직 명령 사용하지 않아도 matplotlib 1.5 이상에서 자동으로 주피터 자체 벡엔드로 설정된다.\n",
    "* `show()`\n",
    "    * 주피터는 셀 실행 시 자동으로 그래프를 그려주기 때문에, 주피터노트북에서 그래프를 그릴 때 `show()` 메서드 호출은 선택사항이다."
   ]
  },
  {
   "cell_type": "code",
   "execution_count": 8,
   "metadata": {
    "scrolled": false
   },
   "outputs": [
    {
     "name": "stderr",
     "output_type": "stream",
     "text": [
      "C:\\Anaconda3\\lib\\site-packages\\matplotlib\\font_manager.py:1238: UserWarning: findfont: Font family ['NanumBarunGothic'] not found. Falling back to DejaVu Sans.\n",
      "  (prop.get_family(), self.defaultFamily[fontext]))\n"
     ]
    },
    {
     "data": {
      "image/png": "[encoded data removed]",
      "text/plain": [
       "<Figure size 1440x1080 with 9 Axes>"
      ]
     },
     "metadata": {
      "needs_background": "light"
     },
     "output_type": "display_data"
    }
   ],
   "source": [
    "# 주피터 노트북의 매직 명령\n",
    "%matplotlib inline \n",
    "import matplotlib.pyplot as plt\n",
    "\n",
    "housing.hist(bins=50, figsize=(20,15))\n",
    "plt.show()"
   ]
  },
  {
   "cell_type": "markdown",
   "metadata": {},
   "source": [
    "> * median income(중간 소득) 특성\n",
    "    * US 달러로 표현되어 있지 않다.\n",
    "    * 데이터 취합 팀에 확인해보니 스케일을 조정하고, 상한 15(실제 15.001), 하한 0.5(실제 0.4999)가 되도록 만들었다고 한다.\n",
    "    * 머신러닝에서는 전처리된 데이터를 다루는 경우가 흔하다.  \n",
    "    이게 문제가 되지는 않지만 데이터가 어떻게 계산된 것인지 반드시 이해하고 있어야 한다.\n",
    "* housing median age(중간 주택 연도), median house value(중간 주택 가격)\n",
    "  * 역시 최댓값, 최솟값을 한정했다.  \n",
    "  histogram의 맨 오른쪽 그래프가 심하게 높아지면서 끝나는 것으로 보아 한정되었음을 짐작할 수 있다.\n",
    "  * 중간 주택 가격은 타깃 속성(레이블)으로 사용되기 때문에 심각한 문제가 될 수 있다.  \n",
    "  가격이 한곗값을 넘어가지 않도록 머신러닝 알고리즘이 학습될지도 모른다.\n",
    "  * 문제될지 여부는 클라이언트 팀(이 시스템의 출력을 사용할 팀)과 함께 검토하는 것이 좋다.\n",
    "  * 만약 \\\\$500,000를 넘어가도 정확한 예측값이 필요하다면 선택사항\n",
    "      1. 한곗값 밖의 구역에 대한 정확한 레이블을 구한다.\n",
    "      2. 훈련 세트에서 이런 구역 제거\n",
    "           * \\\\$500,000가 넘는 값에 대한 예측은 평가 결과가 매우 나쁠 것이므로 테스트 세트에서도 제거한다.\n",
    "* 특성들의 스케일이 서로 많이 다르다.\n",
    "* 많은 histogram이 꼬리가 두껍다. \n",
    "  * 가운데에서 왼쪽보다 오른쪽으로 더 멀리 뻗어있다.\n",
    "  * 이런 분포는 일부 머신러닝 알고리즘에서 패턴을 찾기 어렵게 만든다."
   ]
  },
  {
   "cell_type": "markdown",
   "metadata": {},
   "source": [
    "## 2.4. 테스트 세트 만들기\n",
    "* **데이터 스누핑(data snooping) 편향** : 만약 테스트 세트를 들여다 봤을 때 겉으로 들어난 패턴에 속아 특정 머신러닝 모델을 선택할 수 있다.  \n",
    "테스트 세트로 일반화 오차를 추정하면 매우 낙관적인 추정이 되며 시스템을 론칭했을 때 기대한 성능이 나오지 않는 것\n",
    "* 테스트 세트는 보통 무작위로 데이터셋의 20% 정도 떼어낸다."
   ]
  },
  {
   "cell_type": "code",
   "execution_count": 9,
   "metadata": {},
   "outputs": [
    {
     "name": "stdout",
     "output_type": "stream",
     "text": [
      "16512 train + 4128 test\n"
     ]
    }
   ],
   "source": [
    "import numpy as np\n",
    "\n",
    "def split_train_test(data, test_ratio):\n",
    "    shuffled_indices = np.random.permutation(len(data))\n",
    "    test_set_size = int(len(data) * test_ratio)\n",
    "    test_indices = shuffled_indices[:test_set_size]\n",
    "    train_indices = shuffled_indices[test_set_size:]\n",
    "    return data.iloc[train_indices], data.iloc[test_indices]\n",
    "\n",
    "train_set, test_set = split_train_test(housing, 0.2)\n",
    "print(len(train_set), \"train +\", len(test_set), \"test\")"
   ]
  },
  {
   "cell_type": "markdown",
   "metadata": {},
   "source": [
    "> 위 코드는 프로그램을 다시 실행하면 다른 테스트 세트가 생성된다.  \n",
    "여러 번 계속하면 전체 데이터셋을 보는 셈이므로 이런 상황은 피해야 한다.\n",
    "\n",
    "#### 해결책\n",
    "1. 처음 실행에서 테스트 세트를 저장하고 다음번 실행에서 이를 불러들이는 것\n",
    "2. 항상 같은 난수 인덱스 생성되도록 `np.random.permutation()` 호출 전 난수 발생기의\n",
    "    초깃값 지정(예. `np.random.seed(42)`)\n",
    "    \n",
    "하지만 위 두 해법 모두 다음번 업데이트된 데이터셋 사용시 문제 발생\n",
    "\n",
    "#### 추가 해결책\n",
    "샘플의 식별자를 사용하여 테스트 세트로 보낼지 말지 정하는 것  \n",
    "ex)  \n",
    "각 샘플마다 고유 식별자가 있다고 할 때, 식별자의 해시값을 계산하여 해시의 마지막 바이트 값이 51(256의 20% 정도)보다 작거나 같은 샘플만 테스트 세트로 보낼 수 있다.\n",
    "* 이러면 반복 실행되면서 데이터셋이 갱신되더라도 테스트 세트가 동일하게 유지된다.\n",
    "* 새로운 테스트 세트는 새 샘플의 20%를 갖지만 이전 훈련 세트에 있던 샘플은 포함시키지 않을 것이다."
   ]
  },
  {
   "cell_type": "code",
   "execution_count": 10,
   "metadata": {},
   "outputs": [],
   "source": [
    "from zlib import crc32\n",
    "\n",
    "def test_set_check(identifier, test_ratio):\n",
    "    return crc32(np.int64(identifier)) & 0xffffffff < test_ratio * 2**32\n",
    "\n",
    "def split_train_test_by_id(data, test_ratio, id_column):\n",
    "    ids = data[id_column]\n",
    "    in_test_set = ids.apply(lambda id_: test_set_check(id_, test_ratio))\n",
    "    return data.loc[~in_test_set], data.loc[in_test_set]"
   ]
  },
  {
   "cell_type": "markdown",
   "metadata": {},
   "source": [
    "> `crc32()` 결과에 비트 연산하는 이유 : 파이썬 2와 호환성 유지\n",
    "따라서 `test_set_check()` 함수는 파이썬 2와 3 모두에서 작동되고, 다음의 `hashlib`를 \n",
    " 사용한 구현보다 훨씬 빠르다.\n",
    " \n",
    "#### `hashlib`를 사용한 식별자를 이용한 테스트셋 나누기 구현"
   ]
  },
  {
   "cell_type": "code",
   "execution_count": 11,
   "metadata": {},
   "outputs": [],
   "source": [
    "import hashlib\n",
    "\n",
    "# 이 버전의 test_set_check() 함수가 파이썬 2도 지원한다.\n",
    "def test_set_check(identifier, test_ratio, hash=hashlib.md5):\n",
    "    return bytearray(hash(np.int64(identifier)).digest())[-1] < 256 * test_ratio"
   ]
  },
  {
   "cell_type": "markdown",
   "metadata": {},
   "source": [
    "#### 행의 인덱스를 ID를 식별자로 사용하기\n",
    "이 주택 데이터셋에는 식별자가 없기 때문에 행의 인덱스를 ID로 사용하면 간단히 해결된다."
   ]
  },
  {
   "cell_type": "code",
   "execution_count": 12,
   "metadata": {},
   "outputs": [],
   "source": [
    "housing_with_id = housing.reset_index() # index 열이 추가된 데이터프레임 반환\n",
    "train_set, test_set = split_train_test_by_id(housing_with_id, 0.2, \"index\")"
   ]
  },
  {
   "cell_type": "markdown",
   "metadata": {},
   "source": [
    "행의 인덱스를 고유 식별자로 사용할 때 새 데이터는 데이터셋의 끝에 추가되어야 하고 어떤 행도 삭제되지 않아야 한다.  \n",
    "이게 불가능하면 고유 식별자를 만드는 데 안전한 특성을 사용해야 한다.  \n",
    "ex)  \n",
    "구역의 위도, 경도는 몇백 년 후까지도 안정적이다."
   ]
  },
  {
   "cell_type": "code",
   "execution_count": 13,
   "metadata": {},
   "outputs": [
    {
     "data": {
      "text/html": [
       "<div>\n",
       "<style scoped>\n",
       "    .dataframe tbody tr th:only-of-type {\n",
       "        vertical-align: middle;\n",
       "    }\n",
       "\n",
       "    .dataframe tbody tr th {\n",
       "        vertical-align: top;\n",
       "    }\n",
       "\n",
       "    .dataframe thead th {\n",
       "        text-align: right;\n",
       "    }\n",
       "</style>\n",
       "<table border=\"1\" class=\"dataframe\">\n",
       "  <thead>\n",
       "    <tr style=\"text-align: right;\">\n",
       "      <th></th>\n",
       "      <th>index</th>\n",
       "      <th>longitude</th>\n",
       "      <th>latitude</th>\n",
       "      <th>housing_median_age</th>\n",
       "      <th>total_rooms</th>\n",
       "      <th>total_bedrooms</th>\n",
       "      <th>population</th>\n",
       "      <th>households</th>\n",
       "      <th>median_income</th>\n",
       "      <th>median_house_value</th>\n",
       "      <th>ocean_proximity</th>\n",
       "      <th>id</th>\n",
       "    </tr>\n",
       "  </thead>\n",
       "  <tbody>\n",
       "    <tr>\n",
       "      <th>8</th>\n",
       "      <td>8</td>\n",
       "      <td>-122.26</td>\n",
       "      <td>37.84</td>\n",
       "      <td>42.0</td>\n",
       "      <td>2555.0</td>\n",
       "      <td>665.0</td>\n",
       "      <td>1206.0</td>\n",
       "      <td>595.0</td>\n",
       "      <td>2.0804</td>\n",
       "      <td>226700.0</td>\n",
       "      <td>NEAR BAY</td>\n",
       "      <td>-122222.16</td>\n",
       "    </tr>\n",
       "    <tr>\n",
       "      <th>10</th>\n",
       "      <td>10</td>\n",
       "      <td>-122.26</td>\n",
       "      <td>37.85</td>\n",
       "      <td>52.0</td>\n",
       "      <td>2202.0</td>\n",
       "      <td>434.0</td>\n",
       "      <td>910.0</td>\n",
       "      <td>402.0</td>\n",
       "      <td>3.2031</td>\n",
       "      <td>281500.0</td>\n",
       "      <td>NEAR BAY</td>\n",
       "      <td>-122222.15</td>\n",
       "    </tr>\n",
       "    <tr>\n",
       "      <th>11</th>\n",
       "      <td>11</td>\n",
       "      <td>-122.26</td>\n",
       "      <td>37.85</td>\n",
       "      <td>52.0</td>\n",
       "      <td>3503.0</td>\n",
       "      <td>752.0</td>\n",
       "      <td>1504.0</td>\n",
       "      <td>734.0</td>\n",
       "      <td>3.2705</td>\n",
       "      <td>241800.0</td>\n",
       "      <td>NEAR BAY</td>\n",
       "      <td>-122222.15</td>\n",
       "    </tr>\n",
       "    <tr>\n",
       "      <th>12</th>\n",
       "      <td>12</td>\n",
       "      <td>-122.26</td>\n",
       "      <td>37.85</td>\n",
       "      <td>52.0</td>\n",
       "      <td>2491.0</td>\n",
       "      <td>474.0</td>\n",
       "      <td>1098.0</td>\n",
       "      <td>468.0</td>\n",
       "      <td>3.0750</td>\n",
       "      <td>213500.0</td>\n",
       "      <td>NEAR BAY</td>\n",
       "      <td>-122222.15</td>\n",
       "    </tr>\n",
       "    <tr>\n",
       "      <th>13</th>\n",
       "      <td>13</td>\n",
       "      <td>-122.26</td>\n",
       "      <td>37.84</td>\n",
       "      <td>52.0</td>\n",
       "      <td>696.0</td>\n",
       "      <td>191.0</td>\n",
       "      <td>345.0</td>\n",
       "      <td>174.0</td>\n",
       "      <td>2.6736</td>\n",
       "      <td>191300.0</td>\n",
       "      <td>NEAR BAY</td>\n",
       "      <td>-122222.16</td>\n",
       "    </tr>\n",
       "  </tbody>\n",
       "</table>\n",
       "</div>"
      ],
      "text/plain": [
       "    index  longitude  latitude  housing_median_age  total_rooms  \\\n",
       "8       8    -122.26     37.84                42.0       2555.0   \n",
       "10     10    -122.26     37.85                52.0       2202.0   \n",
       "11     11    -122.26     37.85                52.0       3503.0   \n",
       "12     12    -122.26     37.85                52.0       2491.0   \n",
       "13     13    -122.26     37.84                52.0        696.0   \n",
       "\n",
       "    total_bedrooms  population  households  median_income  median_house_value  \\\n",
       "8            665.0      1206.0       595.0         2.0804            226700.0   \n",
       "10           434.0       910.0       402.0         3.2031            281500.0   \n",
       "11           752.0      1504.0       734.0         3.2705            241800.0   \n",
       "12           474.0      1098.0       468.0         3.0750            213500.0   \n",
       "13           191.0       345.0       174.0         2.6736            191300.0   \n",
       "\n",
       "   ocean_proximity         id  \n",
       "8         NEAR BAY -122222.16  \n",
       "10        NEAR BAY -122222.15  \n",
       "11        NEAR BAY -122222.15  \n",
       "12        NEAR BAY -122222.15  \n",
       "13        NEAR BAY -122222.16  "
      ]
     },
     "execution_count": 13,
     "metadata": {},
     "output_type": "execute_result"
    }
   ],
   "source": [
    "housing_with_id[\"id\"] = housing[\"longitude\"] * 1000 + housing[\"latitude\"]\n",
    "train_set, test_set = split_train_test_by_id(housing_with_id, 0.2, \"id\")\n",
    "test_set.head()"
   ]
  },
  {
   "cell_type": "markdown",
   "metadata": {},
   "source": [
    "#### scikit-learn의 `train_test_split()` 메서드로 데이터셋을 여러 서브셋으로 나누기\n",
    "* 앞서 만든 `split_train_test()`와 다른 점\n",
    "    * 난수 초깃값을 지정하는 `random_state` 매개변수가 있다.\n",
    "    * 행의 개수가 같은 여러 개의 데이터셋을 넘겨서 같은 인덱스를 기반으로 나눌 수 있다.  \n",
    "        ex) 데이터프레임이 레이블에 따라 여러 개로 나뉘어 있을 때 매우 유용하다.\n",
    "* 입력으로 파이썬 리스트, 넘파이 배열, 판다스 데이터프레임, 판다스 시리즈 객체 등을 받는다."
   ]
  },
  {
   "cell_type": "code",
   "execution_count": 14,
   "metadata": {},
   "outputs": [
    {
     "data": {
      "text/html": [
       "<div>\n",
       "<style scoped>\n",
       "    .dataframe tbody tr th:only-of-type {\n",
       "        vertical-align: middle;\n",
       "    }\n",
       "\n",
       "    .dataframe tbody tr th {\n",
       "        vertical-align: top;\n",
       "    }\n",
       "\n",
       "    .dataframe thead th {\n",
       "        text-align: right;\n",
       "    }\n",
       "</style>\n",
       "<table border=\"1\" class=\"dataframe\">\n",
       "  <thead>\n",
       "    <tr style=\"text-align: right;\">\n",
       "      <th></th>\n",
       "      <th>longitude</th>\n",
       "      <th>latitude</th>\n",
       "      <th>housing_median_age</th>\n",
       "      <th>total_rooms</th>\n",
       "      <th>total_bedrooms</th>\n",
       "      <th>population</th>\n",
       "      <th>households</th>\n",
       "      <th>median_income</th>\n",
       "      <th>median_house_value</th>\n",
       "      <th>ocean_proximity</th>\n",
       "    </tr>\n",
       "  </thead>\n",
       "  <tbody>\n",
       "    <tr>\n",
       "      <th>20046</th>\n",
       "      <td>-119.01</td>\n",
       "      <td>36.06</td>\n",
       "      <td>25.0</td>\n",
       "      <td>1505.0</td>\n",
       "      <td>NaN</td>\n",
       "      <td>1392.0</td>\n",
       "      <td>359.0</td>\n",
       "      <td>1.6812</td>\n",
       "      <td>47700.0</td>\n",
       "      <td>INLAND</td>\n",
       "    </tr>\n",
       "    <tr>\n",
       "      <th>3024</th>\n",
       "      <td>-119.46</td>\n",
       "      <td>35.14</td>\n",
       "      <td>30.0</td>\n",
       "      <td>2943.0</td>\n",
       "      <td>NaN</td>\n",
       "      <td>1565.0</td>\n",
       "      <td>584.0</td>\n",
       "      <td>2.5313</td>\n",
       "      <td>45800.0</td>\n",
       "      <td>INLAND</td>\n",
       "    </tr>\n",
       "    <tr>\n",
       "      <th>15663</th>\n",
       "      <td>-122.44</td>\n",
       "      <td>37.80</td>\n",
       "      <td>52.0</td>\n",
       "      <td>3830.0</td>\n",
       "      <td>NaN</td>\n",
       "      <td>1310.0</td>\n",
       "      <td>963.0</td>\n",
       "      <td>3.4801</td>\n",
       "      <td>500001.0</td>\n",
       "      <td>NEAR BAY</td>\n",
       "    </tr>\n",
       "    <tr>\n",
       "      <th>20484</th>\n",
       "      <td>-118.72</td>\n",
       "      <td>34.28</td>\n",
       "      <td>17.0</td>\n",
       "      <td>3051.0</td>\n",
       "      <td>NaN</td>\n",
       "      <td>1705.0</td>\n",
       "      <td>495.0</td>\n",
       "      <td>5.7376</td>\n",
       "      <td>218600.0</td>\n",
       "      <td>&lt;1H OCEAN</td>\n",
       "    </tr>\n",
       "    <tr>\n",
       "      <th>9814</th>\n",
       "      <td>-121.93</td>\n",
       "      <td>36.62</td>\n",
       "      <td>34.0</td>\n",
       "      <td>2351.0</td>\n",
       "      <td>NaN</td>\n",
       "      <td>1063.0</td>\n",
       "      <td>428.0</td>\n",
       "      <td>3.7250</td>\n",
       "      <td>278000.0</td>\n",
       "      <td>NEAR OCEAN</td>\n",
       "    </tr>\n",
       "  </tbody>\n",
       "</table>\n",
       "</div>"
      ],
      "text/plain": [
       "       longitude  latitude  housing_median_age  total_rooms  total_bedrooms  \\\n",
       "20046    -119.01     36.06                25.0       1505.0             NaN   \n",
       "3024     -119.46     35.14                30.0       2943.0             NaN   \n",
       "15663    -122.44     37.80                52.0       3830.0             NaN   \n",
       "20484    -118.72     34.28                17.0       3051.0             NaN   \n",
       "9814     -121.93     36.62                34.0       2351.0             NaN   \n",
       "\n",
       "       population  households  median_income  median_house_value  \\\n",
       "20046      1392.0       359.0         1.6812             47700.0   \n",
       "3024       1565.0       584.0         2.5313             45800.0   \n",
       "15663      1310.0       963.0         3.4801            500001.0   \n",
       "20484      1705.0       495.0         5.7376            218600.0   \n",
       "9814       1063.0       428.0         3.7250            278000.0   \n",
       "\n",
       "      ocean_proximity  \n",
       "20046          INLAND  \n",
       "3024           INLAND  \n",
       "15663        NEAR BAY  \n",
       "20484       <1H OCEAN  \n",
       "9814       NEAR OCEAN  "
      ]
     },
     "execution_count": 14,
     "metadata": {},
     "output_type": "execute_result"
    }
   ],
   "source": [
    "from sklearn.model_selection import train_test_split\n",
    "\n",
    "train_set, test_set = train_test_split(housing, test_size=0.2, random_state=42)\n",
    "test_set.head()"
   ]
  },
  {
   "cell_type": "markdown",
   "metadata": {},
   "source": [
    "여태까지 순수한 무작위 샘플링 방식은 보았다.  \n",
    "데이터셋이 충분히 크다면(특히 특성 수에 비해) 일반적으로 괜찮지만, 그렇지 않다면 샘플링 편향이 생길 가능성이 크다.\n",
    "\n",
    "### 2.4.1. 계층적 샘플링\n",
    "* **계층적 샘플링**(stratified sampling) : 전체 인구를 대표할 수 있는 1,000명을 선택하려고 할 때, 인구의 51.3%가 여성, 48.7%가 남성이라면 잘 구성된 샘플에서도 이 비율을 유지해야 한다. 이런 비율을 유지하며 샘플링하는 것\n",
    "    * 즉, 여성 513명, 남성 487명 이어야 한다.  \n",
    "    전체 모수는 **계층**(strata)이라는 동질의 그룹으로 나뉘고, 테스트 세트가 전체 모수를 대표하도록 각 계층에 올바른 수의 샘플을 추출한다.\n",
    "    * 기본 무작위 샘플링을 사용하면 여성 비율이 49%보다 적거나 54%보다 많이 들어갈 확률이 약 12%이다.\n",
    "    >  샘플 수 $n$, 모수 비율 $p$일 때  \n",
    "    $n \\times p \\ge 10$이고, $n \\times (1 - p) \\ge 10$인 이항 분포는 평균이 $np$, 표준편차가 $\\sqrt{np(1 - p)}$인 정규분포로 근사할 수 있다.  \n",
    "    따라서 전체 인구 중 51.3%인 여성이 샘플에서 차지할 비율의 분포는 평균이 1000 × 0.513 = 513, 표준편차가 1000 × 0.513 × (1 - 0.513) = 15.8이고,  \n",
    "    평균 : 513, 표준편차 : 15.8인 정규분포에서 490 이하, 540 이상인 부분의 면적은 약 11.65%이다.\n",
    "    * 어느 방법을 사용하든 설문조사 결과를 크게 편향시킨다.\n",
    "\n",
    "* 전문가가 중간 소득이 중간 주택 가격을 예측하다는 데 매우 중요하다고 하면 테스트 세트가 전체 데이터셋에 있는 여러 소득 카테고리를 잘 대표해야 한다.\n",
    "    * 연속적 숫자형 특성 → 소득에 대한 카테고리 특성으로 만들어야 한다.\n",
    "    * median_income(중간 소득) histogram을 보면 \\\\$20,000 ~ \\\\$50,000에 모여 있지만 일부 $60,000를 넘는다.\n",
    "    * 계층별로 데이터셋에 충분한 샘플 수가 있어야 한다.  \n",
    "    안 그러면 계층의 중요도 추정 시 편향이 발생한다.\n",
    "    * 즉 너무 많은 계층으로 나누면 안 된다는 뜻이고 각 계층이 충분히 커야 한다."
   ]
  },
  {
   "cell_type": "code",
   "execution_count": 15,
   "metadata": {},
   "outputs": [
    {
     "data": {
      "text/plain": [
       "<matplotlib.axes._subplots.AxesSubplot at 0x1c619de3320>"
      ]
     },
     "execution_count": 15,
     "metadata": {},
     "output_type": "execute_result"
    },
    {
     "data": {
      "image/png": "[encoded data removed]",
      "text/plain": [
       "<Figure size 432x288 with 1 Axes>"
      ]
     },
     "metadata": {
      "needs_background": "light"
     },
     "output_type": "display_data"
    }
   ],
   "source": [
    "housing[\"median_income\"].hist()"
   ]
  },
  {
   "cell_type": "markdown",
   "metadata": {},
   "source": [
    "#### 중간 소득 카테고리화\n",
    "* 중간 소득을 1.5로 나누고(소득의 카테고리 수를 제한하기 위해),  \n",
    "* `ceil()` 함수를 사용해 올림해서 소득 카테고리 특성 만들고(이산적 카테고리 만들기 위해),  \n",
    "* 5보다 큰 카테고리는 5로 합친다."
   ]
  },
  {
   "cell_type": "code",
   "execution_count": 16,
   "metadata": {},
   "outputs": [
    {
     "data": {
      "text/plain": [
       "count    20640.000000\n",
       "mean         3.006686\n",
       "std          1.054618\n",
       "min          1.000000\n",
       "25%          2.000000\n",
       "50%          3.000000\n",
       "75%          4.000000\n",
       "max          5.000000\n",
       "Name: income_cat, dtype: float64"
      ]
     },
     "execution_count": 16,
     "metadata": {},
     "output_type": "execute_result"
    }
   ],
   "source": [
    "housing[\"income_cat\"] = np.ceil(housing[\"median_income\"] / 1.5)\n",
    "housing[\"income_cat\"].where(housing[\"income_cat\"] < 5, 5.0, inplace=True)\n",
    "housing[\"income_cat\"].describe()"
   ]
  },
  {
   "cell_type": "code",
   "execution_count": 17,
   "metadata": {},
   "outputs": [
    {
     "data": {
      "text/plain": [
       "<matplotlib.axes._subplots.AxesSubplot at 0x1c61a640e48>"
      ]
     },
     "execution_count": 17,
     "metadata": {},
     "output_type": "execute_result"
    },
    {
     "data": {
      "image/png": "[encoded data removed]",
      "text/plain": [
       "<Figure size 432x288 with 1 Axes>"
      ]
     },
     "metadata": {
      "needs_background": "light"
     },
     "output_type": "display_data"
    }
   ],
   "source": [
    "housing[\"income_cat\"].hist()"
   ]
  },
  {
   "cell_type": "code",
   "execution_count": 18,
   "metadata": {},
   "outputs": [
    {
     "data": {
      "text/plain": [
       "3.0    7236\n",
       "2.0    6581\n",
       "4.0    3639\n",
       "5.0    2362\n",
       "1.0     822\n",
       "Name: income_cat, dtype: int64"
      ]
     },
     "execution_count": 18,
     "metadata": {},
     "output_type": "execute_result"
    }
   ],
   "source": [
    "housing[\"income_cat\"].value_counts()"
   ]
  },
  {
   "cell_type": "markdown",
   "metadata": {},
   "source": [
    "#### 중간 소득 카테고리 기반으로 계층 샘플링하기\n",
    "* 사이킷런의 `StratifiedShuffleSplit`을 사용할 수 있다.\n",
    "> `StratifiedShuffleSplit` = `StratifiedKFold`의 계층 샘플링 + `ShuffleSplit`의 랜덤 샘플링\n",
    " * `test_size`, `train_size` 매개변수의 합으로 1 이하 지정도 가능하다."
   ]
  },
  {
   "cell_type": "code",
   "execution_count": 19,
   "metadata": {},
   "outputs": [],
   "source": [
    "from sklearn.model_selection import StratifiedShuffleSplit\n",
    "\n",
    "split = StratifiedShuffleSplit(n_splits=1, test_size=0.2, random_state=42)\n",
    "\n",
    "for train_index, test_index in split.split(housing, housing[\"income_cat\"]):\n",
    "    strat_train_set = housing.loc[train_index]\n",
    "    strat_test_set = housing.loc[test_index]"
   ]
  },
  {
   "cell_type": "code",
   "execution_count": 20,
   "metadata": {},
   "outputs": [
    {
     "data": {
      "text/plain": [
       "3.0    1.402374\n",
       "2.0    1.275436\n",
       "4.0    0.705184\n",
       "5.0    0.457607\n",
       "1.0    0.159399\n",
       "Name: income_cat, dtype: float64"
      ]
     },
     "execution_count": 20,
     "metadata": {},
     "output_type": "execute_result"
    }
   ],
   "source": [
    "strat_train_set[\"income_cat\"].value_counts() / len(strat_test_set)"
   ]
  },
  {
   "cell_type": "markdown",
   "metadata": {},
   "source": [
    "#### 전체 데이터셋에서 계층 샘플링 전 중간 소득 카테고리의 비율"
   ]
  },
  {
   "cell_type": "code",
   "execution_count": 21,
   "metadata": {},
   "outputs": [
    {
     "data": {
      "text/plain": [
       "3.0    0.350581\n",
       "2.0    0.318847\n",
       "4.0    0.176308\n",
       "5.0    0.114438\n",
       "1.0    0.039826\n",
       "Name: income_cat, dtype: float64"
      ]
     },
     "execution_count": 21,
     "metadata": {},
     "output_type": "execute_result"
    }
   ],
   "source": [
    "housing[\"income_cat\"].value_counts() / len(housing)"
   ]
  },
  {
   "cell_type": "markdown",
   "metadata": {},
   "source": [
    "#### 전체 데이터셋과 계층 샘플링으로 만든 테스트 세트에서 소득 카테고리 비율 비교"
   ]
  },
  {
   "cell_type": "code",
   "execution_count": 22,
   "metadata": {},
   "outputs": [
    {
     "data": {
      "text/html": [
       "<div>\n",
       "<style scoped>\n",
       "    .dataframe tbody tr th:only-of-type {\n",
       "        vertical-align: middle;\n",
       "    }\n",
       "\n",
       "    .dataframe tbody tr th {\n",
       "        vertical-align: top;\n",
       "    }\n",
       "\n",
       "    .dataframe thead th {\n",
       "        text-align: right;\n",
       "    }\n",
       "</style>\n",
       "<table border=\"1\" class=\"dataframe\">\n",
       "  <thead>\n",
       "    <tr style=\"text-align: right;\">\n",
       "      <th></th>\n",
       "      <th>Overall</th>\n",
       "      <th>Stratified</th>\n",
       "      <th>Random</th>\n",
       "      <th>Rand. %error</th>\n",
       "      <th>Strat. %error</th>\n",
       "    </tr>\n",
       "  </thead>\n",
       "  <tbody>\n",
       "    <tr>\n",
       "      <th>1.0</th>\n",
       "      <td>0.039826</td>\n",
       "      <td>0.039729</td>\n",
       "      <td>0.040213</td>\n",
       "      <td>0.973236</td>\n",
       "      <td>-0.243309</td>\n",
       "    </tr>\n",
       "    <tr>\n",
       "      <th>2.0</th>\n",
       "      <td>0.318847</td>\n",
       "      <td>0.318798</td>\n",
       "      <td>0.324370</td>\n",
       "      <td>1.732260</td>\n",
       "      <td>-0.015195</td>\n",
       "    </tr>\n",
       "    <tr>\n",
       "      <th>3.0</th>\n",
       "      <td>0.350581</td>\n",
       "      <td>0.350533</td>\n",
       "      <td>0.358527</td>\n",
       "      <td>2.266446</td>\n",
       "      <td>-0.013820</td>\n",
       "    </tr>\n",
       "    <tr>\n",
       "      <th>4.0</th>\n",
       "      <td>0.176308</td>\n",
       "      <td>0.176357</td>\n",
       "      <td>0.167393</td>\n",
       "      <td>-5.056334</td>\n",
       "      <td>0.027480</td>\n",
       "    </tr>\n",
       "    <tr>\n",
       "      <th>5.0</th>\n",
       "      <td>0.114438</td>\n",
       "      <td>0.114583</td>\n",
       "      <td>0.109496</td>\n",
       "      <td>-4.318374</td>\n",
       "      <td>0.127011</td>\n",
       "    </tr>\n",
       "  </tbody>\n",
       "</table>\n",
       "</div>"
      ],
      "text/plain": [
       "      Overall  Stratified    Random  Rand. %error  Strat. %error\n",
       "1.0  0.039826    0.039729  0.040213      0.973236      -0.243309\n",
       "2.0  0.318847    0.318798  0.324370      1.732260      -0.015195\n",
       "3.0  0.350581    0.350533  0.358527      2.266446      -0.013820\n",
       "4.0  0.176308    0.176357  0.167393     -5.056334       0.027480\n",
       "5.0  0.114438    0.114583  0.109496     -4.318374       0.127011"
      ]
     },
     "execution_count": 22,
     "metadata": {},
     "output_type": "execute_result"
    }
   ],
   "source": [
    "def income_cat_proportions(data):\n",
    "    return data[\"income_cat\"].value_counts() / len(data)\n",
    "\n",
    "train_set, test_set = train_test_split(housing, test_size=0.2, random_state=42)\n",
    "\n",
    "compare_props = pd.DataFrame({\n",
    "    \"Overall\": income_cat_proportions(housing),\n",
    "    \"Stratified\": income_cat_proportions(strat_test_set),\n",
    "    \"Random\": income_cat_proportions(test_set),\n",
    "}).sort_index()\n",
    "\n",
    "compare_props[\"Rand. %error\"] = 100 * compare_props[\"Random\"] / compare_props[\"Overall\"] - 100\n",
    "compare_props[\"Strat. %error\"] = 100 * compare_props[\"Stratified\"] / compare_props[\"Overall\"] - 100\n",
    "\n",
    "compare_props"
   ]
  },
  {
   "cell_type": "markdown",
   "metadata": {},
   "source": [
    "> 계층 샘플링을 사용해 만든 테스트 세트가 전체 데이터셋에 있는 소득 카테고리의 비율과 거의 같다.  \n",
    "반면 일반 무작위 샘플링으로 만든 테스트 세트는 비율이 많이 달라졌다.\n",
    "\n",
    "#### income_cat 특성 삭제해 데이터 원상 복구\n",
    "> `drop()` : 행 또는 열을 삭제한다.\n",
    "* 매개변수\n",
    "    * `axis` : 0일 때는 행 삭제(default), 1일 때는 열 삭제\n",
    "    * `inplace=True` : 호출된 데이터프레임 자체를 수정하고 아무런 값도 반환하지 않는다."
   ]
  },
  {
   "cell_type": "code",
   "execution_count": 23,
   "metadata": {},
   "outputs": [],
   "source": [
    "for set_ in (strat_train_set, strat_test_set):\n",
    "    set_.drop(\"income_cat\", axis=1, inplace=True) "
   ]
  },
  {
   "cell_type": "markdown",
   "metadata": {},
   "source": [
    "테스트 세트에 대해 종종 등한시되기도 하지만 머신러닝 프로젝트에서 아주 중요하다.  \n",
    "게다가 이런 아이디어들은 나중에 교차 검증 이야기에 도움이 된다."
   ]
  },
  {
   "cell_type": "markdown",
   "metadata": {},
   "source": [
    "# 3. 데이터 탐색 및 시각화\n",
    "* 먼저 테스트 세트를 떼어놓았는지 확인하고 훈련 세트만 탐색한다.\n",
    "* 훈련 세트가 매우 크면 조작을 간단하고 빠르게 하기 위해 탐색을 위한 세트를 별도로 샘플링할 수도 있다.\n",
    "* 주택 데이터셋은 크기가 작으므로 훈련 세트 전체 사용한다.\n",
    "* 훈련 세트 손상을 피하기 위해 복사본 만들어 사용한다."
   ]
  },
  {
   "cell_type": "code",
   "execution_count": 24,
   "metadata": {},
   "outputs": [],
   "source": [
    "housing = strat_train_set.copy()"
   ]
  },
  {
   "cell_type": "markdown",
   "metadata": {},
   "source": [
    "## 3.1. 지리적 데이터 시각화"
   ]
  },
  {
   "cell_type": "code",
   "execution_count": 25,
   "metadata": {
    "scrolled": false
   },
   "outputs": [
    {
     "data": {
      "text/plain": [
       "<matplotlib.axes._subplots.AxesSubplot at 0x1c619bbafd0>"
      ]
     },
     "execution_count": 25,
     "metadata": {},
     "output_type": "execute_result"
    },
    {
     "name": "stderr",
     "output_type": "stream",
     "text": [
      "C:\\Anaconda3\\lib\\site-packages\\matplotlib\\font_manager.py:1238: UserWarning: findfont: Font family ['NanumBarunGothic'] not found. Falling back to DejaVu Sans.\n",
      "  (prop.get_family(), self.defaultFamily[fontext]))\n"
     ]
    },
    {
     "data": {
      "image/png": "[encoded data removed]",
      "text/plain": [
       "<Figure size 432x288 with 1 Axes>"
      ]
     },
     "metadata": {
      "needs_background": "light"
     },
     "output_type": "display_data"
    }
   ],
   "source": [
    "housing.plot(kind=\"scatter\", x=\"longitude\", y=\"latitude\")"
   ]
  },
  {
   "cell_type": "markdown",
   "metadata": {},
   "source": [
    "`alpha=0.1` 옵션을 주면 데이터포인트가 밀집된 영역을 잘 보여준다."
   ]
  },
  {
   "cell_type": "code",
   "execution_count": 26,
   "metadata": {},
   "outputs": [
    {
     "data": {
      "text/plain": [
       "<matplotlib.axes._subplots.AxesSubplot at 0x1c619bf31d0>"
      ]
     },
     "execution_count": 26,
     "metadata": {},
     "output_type": "execute_result"
    },
    {
     "data": {
      "image/png": "[encoded data removed]",
      "text/plain": [
       "<Figure size 432x288 with 1 Axes>"
      ]
     },
     "metadata": {
      "needs_background": "light"
     },
     "output_type": "display_data"
    }
   ],
   "source": [
    "housing.plot(kind=\"scatter\", x=\"longitude\", y=\"latitude\", alpha=0.1)"
   ]
  },
  {
   "cell_type": "markdown",
   "metadata": {},
   "source": [
    "> 베이 에어리어(Bay Area)와 로스앤젤레스(Los Angeles) 근처, 샌디에이고(San Diego) 같이 밀집된 지역이 눈에 잘 띄고, 센트럴 밸리(Central Valley) 특히 새크라멘토(Scramento)와 프레즈노(Fresno) 근처를 따라 밀집된 지역이 긴 띠를 이루고 있음\n",
    "* 캘리포이나 해변을 따라서 경도 -122˚ 근처가 샌프란시스코가 있는 베이 에어리어 지역\n",
    "* 경도 -118˚ 근처가 로스앤젤레스\n",
    "* 경도 -117˚ 근처가 샌디에이고 지역\n",
    "* 샌트럴 밸리는 샌프란시스코 위에서부터 로스앤젤레스 위쪽까지 캘리포니아 중앙부에 길게 뻗은 지역\n",
    "* 새크라멘토는 위도 38.5˚, 경도 -121.5˚ 근처\n",
    "* 프레즈노는 위도 36.7˚, 경도 -119.8˚ 근처\n",
    "\n",
    "더 두드러진 패턴을 보려면 매개변수를 다양하게 조절해봐야 한다.\n",
    "\n",
    "#### 주택 가격 나타내기\n",
    "* 원의 반지름 : 구역의 인구(매개변수 `s`)\n",
    "* 색깔 : 가격(매개변수 `c`)\n",
    "* 미리 정의된 컬러 맵(color map) 중 파란색(낮은 가격) ~ 빨간색(높은 가격) 범위를 가지는 jet을 사용한다.(매개변수 `cmap`)\n",
    "* `sharex=False`는 x축의 값과 범례를 표시하지 못하는 버그를 수정한다.(임시 방편으로)"
   ]
  },
  {
   "cell_type": "code",
   "execution_count": 27,
   "metadata": {},
   "outputs": [
    {
     "data": {
      "text/plain": [
       "<matplotlib.legend.Legend at 0x1c619abe320>"
      ]
     },
     "execution_count": 27,
     "metadata": {},
     "output_type": "execute_result"
    },
    {
     "data": {
      "image/png": "[encoded data removed]",
      "text/plain": [
       "<Figure size 720x504 with 2 Axes>"
      ]
     },
     "metadata": {
      "needs_background": "light"
     },
     "output_type": "display_data"
    }
   ],
   "source": [
    "housing.plot(kind=\"scatter\", x=\"longitude\", y=\"latitude\", alpha=0.4, \n",
    "             s=housing[\"population\"]/100, label=\"population\", figsize=(10, 7),\n",
    "             c=\"median_house_value\", cmap=plt.get_cmap(\"jet\"), colorbar=True,\n",
    "             sharex=False)\n",
    "plt.legend()"
   ]
  },
  {
   "cell_type": "markdown",
   "metadata": {},
   "source": [
    "> 주택 가격은 지역(예. 바다와 인접한 곳)과 인구 밀도에 관련이 매우 크다.  \n",
    "이런 내용은 군집 알고리즘(clustering algorithm)을 사용해 주요 군집을 찾고 군집의 중심까지의 거리를 재는 특성을 추가할 때 도움이 된다.  \n",
    "해안 근접성 특성이 유용할 수도 있지만, 북부 캘리포니아 지역(대략 위도 35˚ 위쪽 지역)의 해안가는 주택 가격이 그리 높지 않아 간단한 규칙이 적용되기 어렵다.  \n",
    "베이 에어리어를 제외하고는 해안가의 주택 가격이 높지 않게 나타난다."
   ]
  },
  {
   "cell_type": "code",
   "execution_count": 29,
   "metadata": {},
   "outputs": [
    {
     "data": {
      "image/png": "[encoded data removed]",
      "text/plain": [
       "<Figure size 720x504 with 2 Axes>"
      ]
     },
     "metadata": {
      "needs_background": "light"
     },
     "output_type": "display_data"
    }
   ],
   "source": [
    "import matplotlib.image as mpimg\n",
    "\n",
    "\n",
    "california_img = mpimg.imread('../../images\\end_to_end_project\\california.png')\n",
    "ax = housing.plot(kind=\"scatter\", x=\"longitude\", y=\"latitude\", figsize=(10,7),\n",
    "                 s=housing['population']/100, label=\"population\",\n",
    "                 c=\"median_house_value\", cmap=plt.get_cmap(\"jet\"),\n",
    "                 colorbar=False, alpha=0.4)\n",
    "plt.imshow(california_img, extent=[-124.55, -113.80, 32.45, 42.05], alpha=0.5)\n",
    "plt.ylabel(\"latitude\", fontsize=14)\n",
    "plt.xlabel(\"longitude\", fontsize=14)\n",
    "\n",
    "prices = housing[\"median_house_value\"]\n",
    "tick_values = np.linspace(prices.min(), prices.max(), 11)\n",
    "cbar = plt.colorbar()\n",
    "cbar.ax.set_yticklabels([\"$%dk\"%(round(v/1000)) for v in tick_values], fontsize=14)\n",
    "cbar.set_label(\"median_house_value\", fontsize=16)\n",
    "\n",
    "plt.legend(fontsize=16)\n",
    "plt.show()"
   ]
  },
  {
   "cell_type": "markdown",
   "metadata": {},
   "source": [
    "## 3.2. 상관관계 조사\n",
    "* 데이터셋이 너무 크지 않으므로 모든 특성 간의 **표준 상관계수**(standard correlation coefficient(**피어슨 $r$**이라고도 함))를 `corr()` 메서드를 이용해 쉽게 계산할 수 있다."
   ]
  },
  {
   "cell_type": "code",
   "execution_count": 30,
   "metadata": {},
   "outputs": [
    {
     "data": {
      "text/plain": [
       "median_house_value    1.000000\n",
       "median_income         0.687160\n",
       "total_rooms           0.135097\n",
       "housing_median_age    0.114110\n",
       "households            0.064506\n",
       "total_bedrooms        0.047689\n",
       "population           -0.026920\n",
       "longitude            -0.047432\n",
       "latitude             -0.142724\n",
       "Name: median_house_value, dtype: float64"
      ]
     },
     "execution_count": 30,
     "metadata": {},
     "output_type": "execute_result"
    }
   ],
   "source": [
    "corr_matrix = housing.corr()\n",
    "\n",
    "corr_matrix[\"median_house_value\"].sort_values(ascending=False)"
   ]
  },
  {
   "cell_type": "markdown",
   "metadata": {},
   "source": [
    "> * median_house_value(중간 주택 가격)은 median_income(중간 소득)과 양의 상관관계가 있다.\n",
    "* latitude(위도)와는 약한 음의 상관관계가 있다.\n",
    "    * 북쪽으로 갈수록 주택 가격이 조금씩 내려가는 경향\n",
    "    \n",
    "#### 상관계수\n",
    "* 상관계수는 선형적인 상관관계만 측정한다 ($x$가 증가하면 $y$는 증가/감소)  \n",
    "그래서 비선형적 관계는 잡을 수 없다 (ex. $x$가 0에 가까워지면 $y$가 증가하는 경우)\n",
    "* 상관계수는 기울기와도 상관없다.\n",
    "\n",
    "#### 특성 사이의 상관관계를 확인하는 다른 방법\n",
    "pandas의 `scatter_matrix()` : 숫자형 특성 사이에 산점도를 그려준다.  \n",
    "여기서는 숫자형 특성이 11개 이여서 총 $11^2 = 121$개 그래프가 되어 한 페이지에 모두 나타낼 수 없다.\n",
    " \n",
    "#### 중간 주택 가격과 상관관계가 높아 보이는 특성 몇 개만 살펴보기\n",
    "대각선(왼쪽 위 ~ 오른쪽 아래)은 각 변수 자신에 대한 것이라 pandas는 각 특성의 히스토그램을 그린다.(default)\n",
    "> `scatter_matrix()` 메서드의 `diagonal` 매개변수값 \n",
    "* `kde`(커널 밀도 추정, Kernel Density Estimation)\n",
    "* `hist`"
   ]
  },
  {
   "cell_type": "code",
   "execution_count": null,
   "metadata": {},
   "outputs": [],
   "source": [
    "from pandas.plotting import scatter_matrix\n",
    "\n",
    "attributes = [\"median_house_value\", \"median_income\", \"total_rooms\", \"housing_median_age\"]\n",
    "scatter_matrix(housing[attributes], figsize=(12, 8))\n",
    "plt.show()"
   ]
  },
  {
   "cell_type": "markdown",
   "metadata": {},
   "source": [
    "#### 가장 유용할 것 같은 특성인 median_income(중간 소득)과의 상관관계 산점도 확대"
   ]
  },
  {
   "cell_type": "code",
   "execution_count": 73,
   "metadata": {},
   "outputs": [
    {
     "data": {
      "text/plain": [
       "[0, 16, 0, 550000]"
      ]
     },
     "execution_count": 73,
     "metadata": {},
     "output_type": "execute_result"
    },
    {
     "data": {
      "image/png": "[encoded data removed]",
      "text/plain": [
       "<Figure size 432x288 with 1 Axes>"
      ]
     },
     "metadata": {
      "needs_background": "light"
     },
     "output_type": "display_data"
    }
   ],
   "source": [
    "housing.plot(kind=\"scatter\", x=\"median_income\", y=\"median_house_value\", alpha=0.1)\n",
    "plt.axis([0, 16, 0, 550000])"
   ]
  },
  {
   "cell_type": "markdown",
   "metadata": {},
   "source": [
    "> * 상관관계가 매우 강하다.  \n",
    "위쪽으로 향하고 포인트들이 너무 널리 퍼져 있지 않다.\n",
    "* 앞서 본 가격 제한 값이 \\\\$500,000에서 수평선으로 잘 보인다.\n",
    "* 수평선 형태가 더 있다.\n",
    "    * \\\\$500,000\n",
    "    * \\\\$450,000 근처\n",
    "    * \\\\$350,000\n",
    "    * \\\\$280,000\n",
    "    * 그 아래 부분\n",
    "\n",
    "알고리즘이 데이터에서 이런 이상한 형태를 학습하지 않도록 해당 구역을 제거하는 것이 좋다."
   ]
  },
  {
   "cell_type": "markdown",
   "metadata": {},
   "source": [
    "## 3.3. 특성 조합으로 실험\n",
    "머신러닝 알고리즘용 데이터를 실제로 준비하기 전에 마지막으로 해볼 수 있는 것은 여러 특성의 조합을 시도해보는 것이다.\n",
    "* 특정 구역의 방 개수는 얼마나 많은 가구수가 있는지 모르다면 그다지 유용하지 않다.  \n",
    "진짜 필요한 것은 가구당 방 개수\n",
    "*  전체 침대 개수도 그 자체로는 유용하지 않다.  \n",
    "방 개수와 비교하는 게 낫다."
   ]
  },
  {
   "cell_type": "code",
   "execution_count": null,
   "metadata": {},
   "outputs": [],
   "source": [
    "housing[\"rooms_per_household\"] = housing[\"total_rooms\"] / housing[\"households\"]\n",
    "housing[\"bedrooms_per_room\"] = housing[\"total_bedrooms\"] / housing[\"total_rooms\"]\n",
    "# 가구당 인원\n",
    "housing[\"population_per_household\"] = housing[\"population\"] / housing[\"households\"]"
   ]
  },
  {
   "cell_type": "markdown",
   "metadata": {},
   "source": [
    "#### 상관관계 행렬 다시 확인하기"
   ]
  },
  {
   "cell_type": "code",
   "execution_count": null,
   "metadata": {},
   "outputs": [],
   "source": [
    "corr_matrix = housing.corr()\n",
    "corr_matrix[\"median_house_value\"].sort_values(ascending=False)"
   ]
  },
  {
   "cell_type": "markdown",
   "metadata": {},
   "source": [
    "> * bedrooms_per_room 특성이 total_rooms(전체 방 개수)나 total_bedrooms(침대 개수)보다 중간 주택 가격과의 상관관계가 훨씬 높다.\n",
    "* 침대/방 비율이 낮은 집은 더 비싼 경향이 있다.\n",
    "* rooms_per_household(가구당 방 개수)를 보면 더 큰 집이 더 비싸다."
   ]
  },
  {
   "cell_type": "code",
   "execution_count": null,
   "metadata": {},
   "outputs": [],
   "source": [
    "housing.plot(kind=\"scatter\", x=\"rooms_per_household\", y=\"median_house_value\", \n",
    "            alpha=0.2)\n",
    "plt.axis([0, 5, 0, 520000])"
   ]
  },
  {
   "cell_type": "code",
   "execution_count": 77,
   "metadata": {},
   "outputs": [
    {
     "data": {
      "text/html": [
       "<div>\n",
       "<style scoped>\n",
       "    .dataframe tbody tr th:only-of-type {\n",
       "        vertical-align: middle;\n",
       "    }\n",
       "\n",
       "    .dataframe tbody tr th {\n",
       "        vertical-align: top;\n",
       "    }\n",
       "\n",
       "    .dataframe thead th {\n",
       "        text-align: right;\n",
       "    }\n",
       "</style>\n",
       "<table border=\"1\" class=\"dataframe\">\n",
       "  <thead>\n",
       "    <tr style=\"text-align: right;\">\n",
       "      <th></th>\n",
       "      <th>longitude</th>\n",
       "      <th>latitude</th>\n",
       "      <th>housing_median_age</th>\n",
       "      <th>total_rooms</th>\n",
       "      <th>total_bedrooms</th>\n",
       "      <th>population</th>\n",
       "      <th>households</th>\n",
       "      <th>median_income</th>\n",
       "      <th>median_house_value</th>\n",
       "      <th>rooms_per_household</th>\n",
       "      <th>bedrooms_per_room</th>\n",
       "      <th>population_per_household</th>\n",
       "    </tr>\n",
       "  </thead>\n",
       "  <tbody>\n",
       "    <tr>\n",
       "      <th>count</th>\n",
       "      <td>16512.000000</td>\n",
       "      <td>16512.000000</td>\n",
       "      <td>16512.000000</td>\n",
       "      <td>16512.000000</td>\n",
       "      <td>16354.000000</td>\n",
       "      <td>16512.000000</td>\n",
       "      <td>16512.000000</td>\n",
       "      <td>16512.000000</td>\n",
       "      <td>16512.000000</td>\n",
       "      <td>16512.000000</td>\n",
       "      <td>16354.000000</td>\n",
       "      <td>16512.000000</td>\n",
       "    </tr>\n",
       "    <tr>\n",
       "      <th>mean</th>\n",
       "      <td>-119.575834</td>\n",
       "      <td>35.639577</td>\n",
       "      <td>28.653101</td>\n",
       "      <td>2622.728319</td>\n",
       "      <td>534.973890</td>\n",
       "      <td>1419.790819</td>\n",
       "      <td>497.060380</td>\n",
       "      <td>3.875589</td>\n",
       "      <td>206990.920724</td>\n",
       "      <td>5.440341</td>\n",
       "      <td>0.212878</td>\n",
       "      <td>3.096437</td>\n",
       "    </tr>\n",
       "    <tr>\n",
       "      <th>std</th>\n",
       "      <td>2.001860</td>\n",
       "      <td>2.138058</td>\n",
       "      <td>12.574726</td>\n",
       "      <td>2138.458419</td>\n",
       "      <td>412.699041</td>\n",
       "      <td>1115.686241</td>\n",
       "      <td>375.720845</td>\n",
       "      <td>1.904950</td>\n",
       "      <td>115703.014830</td>\n",
       "      <td>2.611712</td>\n",
       "      <td>0.057379</td>\n",
       "      <td>11.584826</td>\n",
       "    </tr>\n",
       "    <tr>\n",
       "      <th>min</th>\n",
       "      <td>-124.350000</td>\n",
       "      <td>32.540000</td>\n",
       "      <td>1.000000</td>\n",
       "      <td>6.000000</td>\n",
       "      <td>2.000000</td>\n",
       "      <td>3.000000</td>\n",
       "      <td>2.000000</td>\n",
       "      <td>0.499900</td>\n",
       "      <td>14999.000000</td>\n",
       "      <td>1.130435</td>\n",
       "      <td>0.100000</td>\n",
       "      <td>0.692308</td>\n",
       "    </tr>\n",
       "    <tr>\n",
       "      <th>25%</th>\n",
       "      <td>-121.800000</td>\n",
       "      <td>33.940000</td>\n",
       "      <td>18.000000</td>\n",
       "      <td>1443.000000</td>\n",
       "      <td>295.000000</td>\n",
       "      <td>784.000000</td>\n",
       "      <td>279.000000</td>\n",
       "      <td>2.566775</td>\n",
       "      <td>119800.000000</td>\n",
       "      <td>4.442040</td>\n",
       "      <td>0.175304</td>\n",
       "      <td>2.431287</td>\n",
       "    </tr>\n",
       "    <tr>\n",
       "      <th>50%</th>\n",
       "      <td>-118.510000</td>\n",
       "      <td>34.260000</td>\n",
       "      <td>29.000000</td>\n",
       "      <td>2119.500000</td>\n",
       "      <td>433.000000</td>\n",
       "      <td>1164.000000</td>\n",
       "      <td>408.000000</td>\n",
       "      <td>3.540900</td>\n",
       "      <td>179500.000000</td>\n",
       "      <td>5.232284</td>\n",
       "      <td>0.203031</td>\n",
       "      <td>2.817653</td>\n",
       "    </tr>\n",
       "    <tr>\n",
       "      <th>75%</th>\n",
       "      <td>-118.010000</td>\n",
       "      <td>37.720000</td>\n",
       "      <td>37.000000</td>\n",
       "      <td>3141.000000</td>\n",
       "      <td>644.000000</td>\n",
       "      <td>1719.250000</td>\n",
       "      <td>602.000000</td>\n",
       "      <td>4.744475</td>\n",
       "      <td>263900.000000</td>\n",
       "      <td>6.056361</td>\n",
       "      <td>0.239831</td>\n",
       "      <td>3.281420</td>\n",
       "    </tr>\n",
       "    <tr>\n",
       "      <th>max</th>\n",
       "      <td>-114.310000</td>\n",
       "      <td>41.950000</td>\n",
       "      <td>52.000000</td>\n",
       "      <td>39320.000000</td>\n",
       "      <td>6210.000000</td>\n",
       "      <td>35682.000000</td>\n",
       "      <td>5358.000000</td>\n",
       "      <td>15.000100</td>\n",
       "      <td>500001.000000</td>\n",
       "      <td>141.909091</td>\n",
       "      <td>1.000000</td>\n",
       "      <td>1243.333333</td>\n",
       "    </tr>\n",
       "  </tbody>\n",
       "</table>\n",
       "</div>"
      ],
      "text/plain": [
       "          longitude      latitude  housing_median_age   total_rooms  \\\n",
       "count  16512.000000  16512.000000        16512.000000  16512.000000   \n",
       "mean    -119.575834     35.639577           28.653101   2622.728319   \n",
       "std        2.001860      2.138058           12.574726   2138.458419   \n",
       "min     -124.350000     32.540000            1.000000      6.000000   \n",
       "25%     -121.800000     33.940000           18.000000   1443.000000   \n",
       "50%     -118.510000     34.260000           29.000000   2119.500000   \n",
       "75%     -118.010000     37.720000           37.000000   3141.000000   \n",
       "max     -114.310000     41.950000           52.000000  39320.000000   \n",
       "\n",
       "       total_bedrooms    population    households  median_income  \\\n",
       "count    16354.000000  16512.000000  16512.000000   16512.000000   \n",
       "mean       534.973890   1419.790819    497.060380       3.875589   \n",
       "std        412.699041   1115.686241    375.720845       1.904950   \n",
       "min          2.000000      3.000000      2.000000       0.499900   \n",
       "25%        295.000000    784.000000    279.000000       2.566775   \n",
       "50%        433.000000   1164.000000    408.000000       3.540900   \n",
       "75%        644.000000   1719.250000    602.000000       4.744475   \n",
       "max       6210.000000  35682.000000   5358.000000      15.000100   \n",
       "\n",
       "       median_house_value  rooms_per_household  bedrooms_per_room  \\\n",
       "count        16512.000000         16512.000000       16354.000000   \n",
       "mean        206990.920724             5.440341           0.212878   \n",
       "std         115703.014830             2.611712           0.057379   \n",
       "min          14999.000000             1.130435           0.100000   \n",
       "25%         119800.000000             4.442040           0.175304   \n",
       "50%         179500.000000             5.232284           0.203031   \n",
       "75%         263900.000000             6.056361           0.239831   \n",
       "max         500001.000000           141.909091           1.000000   \n",
       "\n",
       "       population_per_household  \n",
       "count              16512.000000  \n",
       "mean                   3.096437  \n",
       "std                   11.584826  \n",
       "min                    0.692308  \n",
       "25%                    2.431287  \n",
       "50%                    2.817653  \n",
       "75%                    3.281420  \n",
       "max                 1243.333333  "
      ]
     },
     "execution_count": 77,
     "metadata": {},
     "output_type": "execute_result"
    }
   ],
   "source": [
    "housing.describe()"
   ]
  },
  {
   "cell_type": "markdown",
   "metadata": {},
   "source": [
    "* 이 탐색 과정은 시작을 잘해서 빨리 통찰을 얻는 것이 처음 프로토타입을 잘 만드는 데 도움이 된다.  \n",
    "하지만 이는 반복적인 과정이다. 프로토타입을 만들고 실행한 후 그 결과를 분석해서 더 많은 통찰을 얻고 다시 이 탐색 단계로 돌아오게 된다.\n",
    "* 대부분 SW 프로젝트가 그렇지만 특히 머신러닝 프로젝트는 빠른 프로토타이핑과 반복적인 프로세스가 권장된다."
   ]
  },
  {
   "cell_type": "markdown",
   "metadata": {},
   "source": [
    "# 4. 머신러닝 알고리즘을 위한 데이터 준비\n",
    "이 작업을 수동으로 하는 대신 함수를 만들어 자동화해야 하는 이유\n",
    "* 어떤 데이터셋에서도 데이터 변환을 손쉽게 반복할 수 있다.\n",
    "    * ex) 다음번에 새로운 데이터셋 사용할 때\n",
    "* 향후 프로젝트에 사용할 수 있는 변환 라이브러리를 점진적으로 구축하게 된다.\n",
    "* 실제 시스템에서 알고리즘에 새 데이터를 주입하기 전에 변환시키는 데 이 함수를 사용할 수 있다.\n",
    "* 여러 가지 데이터 변환을 쉽게 시도해볼 수 있고 어떤 조합이 가장 좋은지 확인하는 데 편리하다.\n",
    "    \n",
    "먼저 원래 훈련 세트로 복원하고(`strat_train_set` 다시 한 번 복사), 예측 변수와 타깃 값에 같은 변형을 적용하지 않기 위해 예측 변수와 레이블을 분리한다.  \n",
    "(`drop()`은 데이터 복사본을 만들며 `strat_train_set`에는 영향을 주지 않음)"
   ]
  },
  {
   "cell_type": "code",
   "execution_count": 31,
   "metadata": {},
   "outputs": [],
   "source": [
    "housing = strat_train_set.drop(\"median_house_value\", axis=1) # 레이블 삭제\n",
    "housing_labels = strat_train_set[\"median_house_value\"].copy()"
   ]
  },
  {
   "cell_type": "markdown",
   "metadata": {},
   "source": [
    "## 4.1. 데이터 정제\n",
    "total_bedrooms 특성 누락된 값 수정 방법\n",
    "* 해당 구역 제거\n",
    "* 전체 특성 삭제\n",
    "* 특정 값으로 대체(0, 중간값, 평균 등)\n",
    "\n",
    "데이터프레임의 `dropna()`, `drop()`, `fillna()` 메서드를 이용해 간단히 처리 가능하다."
   ]
  },
  {
   "cell_type": "code",
   "execution_count": 32,
   "metadata": {},
   "outputs": [
    {
     "data": {
      "text/html": [
       "<div>\n",
       "<style scoped>\n",
       "    .dataframe tbody tr th:only-of-type {\n",
       "        vertical-align: middle;\n",
       "    }\n",
       "\n",
       "    .dataframe tbody tr th {\n",
       "        vertical-align: top;\n",
       "    }\n",
       "\n",
       "    .dataframe thead th {\n",
       "        text-align: right;\n",
       "    }\n",
       "</style>\n",
       "<table border=\"1\" class=\"dataframe\">\n",
       "  <thead>\n",
       "    <tr style=\"text-align: right;\">\n",
       "      <th></th>\n",
       "      <th>longitude</th>\n",
       "      <th>latitude</th>\n",
       "      <th>housing_median_age</th>\n",
       "      <th>total_rooms</th>\n",
       "      <th>total_bedrooms</th>\n",
       "      <th>population</th>\n",
       "      <th>households</th>\n",
       "      <th>median_income</th>\n",
       "      <th>ocean_proximity</th>\n",
       "    </tr>\n",
       "  </thead>\n",
       "  <tbody>\n",
       "    <tr>\n",
       "      <th>4629</th>\n",
       "      <td>-118.30</td>\n",
       "      <td>34.07</td>\n",
       "      <td>18.0</td>\n",
       "      <td>3759.0</td>\n",
       "      <td>NaN</td>\n",
       "      <td>3296.0</td>\n",
       "      <td>1462.0</td>\n",
       "      <td>2.2708</td>\n",
       "      <td>&lt;1H OCEAN</td>\n",
       "    </tr>\n",
       "    <tr>\n",
       "      <th>6068</th>\n",
       "      <td>-117.86</td>\n",
       "      <td>34.01</td>\n",
       "      <td>16.0</td>\n",
       "      <td>4632.0</td>\n",
       "      <td>NaN</td>\n",
       "      <td>3038.0</td>\n",
       "      <td>727.0</td>\n",
       "      <td>5.1762</td>\n",
       "      <td>&lt;1H OCEAN</td>\n",
       "    </tr>\n",
       "    <tr>\n",
       "      <th>17923</th>\n",
       "      <td>-121.97</td>\n",
       "      <td>37.35</td>\n",
       "      <td>30.0</td>\n",
       "      <td>1955.0</td>\n",
       "      <td>NaN</td>\n",
       "      <td>999.0</td>\n",
       "      <td>386.0</td>\n",
       "      <td>4.6328</td>\n",
       "      <td>&lt;1H OCEAN</td>\n",
       "    </tr>\n",
       "    <tr>\n",
       "      <th>13656</th>\n",
       "      <td>-117.30</td>\n",
       "      <td>34.05</td>\n",
       "      <td>6.0</td>\n",
       "      <td>2155.0</td>\n",
       "      <td>NaN</td>\n",
       "      <td>1039.0</td>\n",
       "      <td>391.0</td>\n",
       "      <td>1.6675</td>\n",
       "      <td>INLAND</td>\n",
       "    </tr>\n",
       "    <tr>\n",
       "      <th>19252</th>\n",
       "      <td>-122.79</td>\n",
       "      <td>38.48</td>\n",
       "      <td>7.0</td>\n",
       "      <td>6837.0</td>\n",
       "      <td>NaN</td>\n",
       "      <td>3468.0</td>\n",
       "      <td>1405.0</td>\n",
       "      <td>3.1662</td>\n",
       "      <td>&lt;1H OCEAN</td>\n",
       "    </tr>\n",
       "  </tbody>\n",
       "</table>\n",
       "</div>"
      ],
      "text/plain": [
       "       longitude  latitude  housing_median_age  total_rooms  total_bedrooms  \\\n",
       "4629     -118.30     34.07                18.0       3759.0             NaN   \n",
       "6068     -117.86     34.01                16.0       4632.0             NaN   \n",
       "17923    -121.97     37.35                30.0       1955.0             NaN   \n",
       "13656    -117.30     34.05                 6.0       2155.0             NaN   \n",
       "19252    -122.79     38.48                 7.0       6837.0             NaN   \n",
       "\n",
       "       population  households  median_income ocean_proximity  \n",
       "4629       3296.0      1462.0         2.2708       <1H OCEAN  \n",
       "6068       3038.0       727.0         5.1762       <1H OCEAN  \n",
       "17923       999.0       386.0         4.6328       <1H OCEAN  \n",
       "13656      1039.0       391.0         1.6675          INLAND  \n",
       "19252      3468.0      1405.0         3.1662       <1H OCEAN  "
      ]
     },
     "execution_count": 32,
     "metadata": {},
     "output_type": "execute_result"
    }
   ],
   "source": [
    "sample_incomplete_rows = housing[housing.isnull().any(axis=1)].head()\n",
    "sample_incomplete_rows"
   ]
  },
  {
   "cell_type": "markdown",
   "metadata": {},
   "source": [
    "#### 옵션 1. 해당 구역(샘플) 제거"
   ]
  },
  {
   "cell_type": "code",
   "execution_count": 33,
   "metadata": {},
   "outputs": [
    {
     "data": {
      "text/html": [
       "<div>\n",
       "<style scoped>\n",
       "    .dataframe tbody tr th:only-of-type {\n",
       "        vertical-align: middle;\n",
       "    }\n",
       "\n",
       "    .dataframe tbody tr th {\n",
       "        vertical-align: top;\n",
       "    }\n",
       "\n",
       "    .dataframe thead th {\n",
       "        text-align: right;\n",
       "    }\n",
       "</style>\n",
       "<table border=\"1\" class=\"dataframe\">\n",
       "  <thead>\n",
       "    <tr style=\"text-align: right;\">\n",
       "      <th></th>\n",
       "      <th>longitude</th>\n",
       "      <th>latitude</th>\n",
       "      <th>housing_median_age</th>\n",
       "      <th>total_rooms</th>\n",
       "      <th>total_bedrooms</th>\n",
       "      <th>population</th>\n",
       "      <th>households</th>\n",
       "      <th>median_income</th>\n",
       "      <th>ocean_proximity</th>\n",
       "    </tr>\n",
       "  </thead>\n",
       "  <tbody>\n",
       "  </tbody>\n",
       "</table>\n",
       "</div>"
      ],
      "text/plain": [
       "Empty DataFrame\n",
       "Columns: [longitude, latitude, housing_median_age, total_rooms, total_bedrooms, population, households, median_income, ocean_proximity]\n",
       "Index: []"
      ]
     },
     "execution_count": 33,
     "metadata": {},
     "output_type": "execute_result"
    }
   ],
   "source": [
    "sample_incomplete_rows.dropna(subset=[\"total_bedrooms\"])"
   ]
  },
  {
   "cell_type": "markdown",
   "metadata": {},
   "source": [
    "#### 옵션 2. 특성 삭제"
   ]
  },
  {
   "cell_type": "code",
   "execution_count": 34,
   "metadata": {},
   "outputs": [
    {
     "data": {
      "text/html": [
       "<div>\n",
       "<style scoped>\n",
       "    .dataframe tbody tr th:only-of-type {\n",
       "        vertical-align: middle;\n",
       "    }\n",
       "\n",
       "    .dataframe tbody tr th {\n",
       "        vertical-align: top;\n",
       "    }\n",
       "\n",
       "    .dataframe thead th {\n",
       "        text-align: right;\n",
       "    }\n",
       "</style>\n",
       "<table border=\"1\" class=\"dataframe\">\n",
       "  <thead>\n",
       "    <tr style=\"text-align: right;\">\n",
       "      <th></th>\n",
       "      <th>longitude</th>\n",
       "      <th>latitude</th>\n",
       "      <th>housing_median_age</th>\n",
       "      <th>total_rooms</th>\n",
       "      <th>population</th>\n",
       "      <th>households</th>\n",
       "      <th>median_income</th>\n",
       "      <th>ocean_proximity</th>\n",
       "    </tr>\n",
       "  </thead>\n",
       "  <tbody>\n",
       "    <tr>\n",
       "      <th>4629</th>\n",
       "      <td>-118.30</td>\n",
       "      <td>34.07</td>\n",
       "      <td>18.0</td>\n",
       "      <td>3759.0</td>\n",
       "      <td>3296.0</td>\n",
       "      <td>1462.0</td>\n",
       "      <td>2.2708</td>\n",
       "      <td>&lt;1H OCEAN</td>\n",
       "    </tr>\n",
       "    <tr>\n",
       "      <th>6068</th>\n",
       "      <td>-117.86</td>\n",
       "      <td>34.01</td>\n",
       "      <td>16.0</td>\n",
       "      <td>4632.0</td>\n",
       "      <td>3038.0</td>\n",
       "      <td>727.0</td>\n",
       "      <td>5.1762</td>\n",
       "      <td>&lt;1H OCEAN</td>\n",
       "    </tr>\n",
       "    <tr>\n",
       "      <th>17923</th>\n",
       "      <td>-121.97</td>\n",
       "      <td>37.35</td>\n",
       "      <td>30.0</td>\n",
       "      <td>1955.0</td>\n",
       "      <td>999.0</td>\n",
       "      <td>386.0</td>\n",
       "      <td>4.6328</td>\n",
       "      <td>&lt;1H OCEAN</td>\n",
       "    </tr>\n",
       "    <tr>\n",
       "      <th>13656</th>\n",
       "      <td>-117.30</td>\n",
       "      <td>34.05</td>\n",
       "      <td>6.0</td>\n",
       "      <td>2155.0</td>\n",
       "      <td>1039.0</td>\n",
       "      <td>391.0</td>\n",
       "      <td>1.6675</td>\n",
       "      <td>INLAND</td>\n",
       "    </tr>\n",
       "    <tr>\n",
       "      <th>19252</th>\n",
       "      <td>-122.79</td>\n",
       "      <td>38.48</td>\n",
       "      <td>7.0</td>\n",
       "      <td>6837.0</td>\n",
       "      <td>3468.0</td>\n",
       "      <td>1405.0</td>\n",
       "      <td>3.1662</td>\n",
       "      <td>&lt;1H OCEAN</td>\n",
       "    </tr>\n",
       "  </tbody>\n",
       "</table>\n",
       "</div>"
      ],
      "text/plain": [
       "       longitude  latitude  housing_median_age  total_rooms  population  \\\n",
       "4629     -118.30     34.07                18.0       3759.0      3296.0   \n",
       "6068     -117.86     34.01                16.0       4632.0      3038.0   \n",
       "17923    -121.97     37.35                30.0       1955.0       999.0   \n",
       "13656    -117.30     34.05                 6.0       2155.0      1039.0   \n",
       "19252    -122.79     38.48                 7.0       6837.0      3468.0   \n",
       "\n",
       "       households  median_income ocean_proximity  \n",
       "4629       1462.0         2.2708       <1H OCEAN  \n",
       "6068        727.0         5.1762       <1H OCEAN  \n",
       "17923       386.0         4.6328       <1H OCEAN  \n",
       "13656       391.0         1.6675          INLAND  \n",
       "19252      1405.0         3.1662       <1H OCEAN  "
      ]
     },
     "execution_count": 34,
     "metadata": {},
     "output_type": "execute_result"
    }
   ],
   "source": [
    "sample_incomplete_rows.drop(\"total_bedrooms\", axis=1)"
   ]
  },
  {
   "cell_type": "markdown",
   "metadata": {},
   "source": [
    "#### 옵션 3. 특정 값으로 대체\n",
    "이 때 계산된 중간값을 저장해야 한다.\n",
    "* 나중에 시스템을 평가할 때 테스트 세트에 있는 누락된 값을 바꾸기 위해 필요하고, 시스템이 실제 운영될 때 새로운 데이터에서 누락된 값을 바꿔야 하기 때문이다.  \n",
    "> 훈련 세트에서 학습한 것이 소용없어지므로 테스트 세트의 중간값을 사용하면 안 된다."
   ]
  },
  {
   "cell_type": "code",
   "execution_count": 35,
   "metadata": {},
   "outputs": [
    {
     "data": {
      "text/html": [
       "<div>\n",
       "<style scoped>\n",
       "    .dataframe tbody tr th:only-of-type {\n",
       "        vertical-align: middle;\n",
       "    }\n",
       "\n",
       "    .dataframe tbody tr th {\n",
       "        vertical-align: top;\n",
       "    }\n",
       "\n",
       "    .dataframe thead th {\n",
       "        text-align: right;\n",
       "    }\n",
       "</style>\n",
       "<table border=\"1\" class=\"dataframe\">\n",
       "  <thead>\n",
       "    <tr style=\"text-align: right;\">\n",
       "      <th></th>\n",
       "      <th>longitude</th>\n",
       "      <th>latitude</th>\n",
       "      <th>housing_median_age</th>\n",
       "      <th>total_rooms</th>\n",
       "      <th>total_bedrooms</th>\n",
       "      <th>population</th>\n",
       "      <th>households</th>\n",
       "      <th>median_income</th>\n",
       "      <th>ocean_proximity</th>\n",
       "    </tr>\n",
       "  </thead>\n",
       "  <tbody>\n",
       "    <tr>\n",
       "      <th>4629</th>\n",
       "      <td>-118.30</td>\n",
       "      <td>34.07</td>\n",
       "      <td>18.0</td>\n",
       "      <td>3759.0</td>\n",
       "      <td>433.0</td>\n",
       "      <td>3296.0</td>\n",
       "      <td>1462.0</td>\n",
       "      <td>2.2708</td>\n",
       "      <td>&lt;1H OCEAN</td>\n",
       "    </tr>\n",
       "    <tr>\n",
       "      <th>6068</th>\n",
       "      <td>-117.86</td>\n",
       "      <td>34.01</td>\n",
       "      <td>16.0</td>\n",
       "      <td>4632.0</td>\n",
       "      <td>433.0</td>\n",
       "      <td>3038.0</td>\n",
       "      <td>727.0</td>\n",
       "      <td>5.1762</td>\n",
       "      <td>&lt;1H OCEAN</td>\n",
       "    </tr>\n",
       "    <tr>\n",
       "      <th>17923</th>\n",
       "      <td>-121.97</td>\n",
       "      <td>37.35</td>\n",
       "      <td>30.0</td>\n",
       "      <td>1955.0</td>\n",
       "      <td>433.0</td>\n",
       "      <td>999.0</td>\n",
       "      <td>386.0</td>\n",
       "      <td>4.6328</td>\n",
       "      <td>&lt;1H OCEAN</td>\n",
       "    </tr>\n",
       "    <tr>\n",
       "      <th>13656</th>\n",
       "      <td>-117.30</td>\n",
       "      <td>34.05</td>\n",
       "      <td>6.0</td>\n",
       "      <td>2155.0</td>\n",
       "      <td>433.0</td>\n",
       "      <td>1039.0</td>\n",
       "      <td>391.0</td>\n",
       "      <td>1.6675</td>\n",
       "      <td>INLAND</td>\n",
       "    </tr>\n",
       "    <tr>\n",
       "      <th>19252</th>\n",
       "      <td>-122.79</td>\n",
       "      <td>38.48</td>\n",
       "      <td>7.0</td>\n",
       "      <td>6837.0</td>\n",
       "      <td>433.0</td>\n",
       "      <td>3468.0</td>\n",
       "      <td>1405.0</td>\n",
       "      <td>3.1662</td>\n",
       "      <td>&lt;1H OCEAN</td>\n",
       "    </tr>\n",
       "  </tbody>\n",
       "</table>\n",
       "</div>"
      ],
      "text/plain": [
       "       longitude  latitude  housing_median_age  total_rooms  total_bedrooms  \\\n",
       "4629     -118.30     34.07                18.0       3759.0           433.0   \n",
       "6068     -117.86     34.01                16.0       4632.0           433.0   \n",
       "17923    -121.97     37.35                30.0       1955.0           433.0   \n",
       "13656    -117.30     34.05                 6.0       2155.0           433.0   \n",
       "19252    -122.79     38.48                 7.0       6837.0           433.0   \n",
       "\n",
       "       population  households  median_income ocean_proximity  \n",
       "4629       3296.0      1462.0         2.2708       <1H OCEAN  \n",
       "6068       3038.0       727.0         5.1762       <1H OCEAN  \n",
       "17923       999.0       386.0         4.6328       <1H OCEAN  \n",
       "13656      1039.0       391.0         1.6675          INLAND  \n",
       "19252      3468.0      1405.0         3.1662       <1H OCEAN  "
      ]
     },
     "execution_count": 35,
     "metadata": {},
     "output_type": "execute_result"
    }
   ],
   "source": [
    "median = housing[\"total_bedrooms\"].median()\n",
    "sample_incomplete_rows[\"total_bedrooms\"].fillna(median, inplace=True)\n",
    "sample_incomplete_rows"
   ]
  },
  {
   "cell_type": "markdown",
   "metadata": {},
   "source": [
    "#### 사이킷런 `SimpleImputer`로 누락값 손쉽게 다루기\n",
    "수치형 특성에만 중간값이 계산되기 때문에 텍스트 특성 ocean_proximity를 제외한 수치형 특성만 복사한다."
   ]
  },
  {
   "cell_type": "code",
   "execution_count": 36,
   "metadata": {},
   "outputs": [],
   "source": [
    "from sklearn.impute import SimpleImputer\n",
    "\n",
    "# SimpleImputer의 객체 생성\n",
    "imputer = SimpleImputer(strategy=\"median\")\n",
    "housing_num = housing.drop(\"ocean_proximity\", axis=1)\n",
    "# housing_num = housing.select_dtypes(include=[np.number]) # 다른 방법"
   ]
  },
  {
   "cell_type": "markdown",
   "metadata": {},
   "source": [
    "total_bedrooms 특성에만 NA가 있지만 나중에 시스템이 서비스될 때 새로운 데이터에서 어떤 값이 누락될지 확신할 수 없기 때문에 모든 수치형 특성에 `imputer`를 적용해야 한다."
   ]
  },
  {
   "cell_type": "code",
   "execution_count": 37,
   "metadata": {},
   "outputs": [
    {
     "data": {
      "text/plain": [
       "SimpleImputer(copy=True, fill_value=None, missing_values=nan,\n",
       "       strategy='median', verbose=0)"
      ]
     },
     "execution_count": 37,
     "metadata": {},
     "output_type": "execute_result"
    }
   ],
   "source": [
    "imputer.fit(housing_num)"
   ]
  },
  {
   "cell_type": "markdown",
   "metadata": {},
   "source": [
    "`imputer`는 각 특성의 중간값을 객체의 `statistics_` 속성에 저장한다."
   ]
  },
  {
   "cell_type": "code",
   "execution_count": 38,
   "metadata": {},
   "outputs": [
    {
     "data": {
      "text/plain": [
       "array([-118.51  ,   34.26  ,   29.    , 2119.5   ,  433.    , 1164.    ,\n",
       "        408.    ,    3.5409])"
      ]
     },
     "execution_count": 38,
     "metadata": {},
     "output_type": "execute_result"
    }
   ],
   "source": [
    "imputer.statistics_"
   ]
  },
  {
   "cell_type": "markdown",
   "metadata": {},
   "source": [
    "수동으로 계산한 결과"
   ]
  },
  {
   "cell_type": "code",
   "execution_count": 39,
   "metadata": {},
   "outputs": [
    {
     "data": {
      "text/plain": [
       "array([-118.51  ,   34.26  ,   29.    , 2119.5   ,  433.    , 1164.    ,\n",
       "        408.    ,    3.5409])"
      ]
     },
     "execution_count": 39,
     "metadata": {},
     "output_type": "execute_result"
    }
   ],
   "source": [
    "housing_num.median().values"
   ]
  },
  {
   "cell_type": "markdown",
   "metadata": {},
   "source": [
    "#### 훈련 세트 변환\n",
    "학습된 `imputer` 객체를 사용해 훈련 세트에서 누락된 값을 학습한 중간값으로 대체한다.\n",
    "* 변형된 특성들이 들어있는 평범한 Numpy 배열을 반환하기 때문에 Pandas 데이터프레임으로 변경해주어야 한다. "
   ]
  },
  {
   "cell_type": "code",
   "execution_count": 40,
   "metadata": {},
   "outputs": [],
   "source": [
    "X = imputer.transform(housing_num)"
   ]
  },
  {
   "cell_type": "markdown",
   "metadata": {},
   "source": [
    "#### Pandas 데이터프레임으로 다시 되돌림"
   ]
  },
  {
   "cell_type": "code",
   "execution_count": 41,
   "metadata": {},
   "outputs": [],
   "source": [
    "housing_tr = pd.DataFrame(X, columns=housing_num.columns, \n",
    "                          index=list(housing.index.values))"
   ]
  },
  {
   "cell_type": "code",
   "execution_count": 42,
   "metadata": {},
   "outputs": [
    {
     "data": {
      "text/html": [
       "<div>\n",
       "<style scoped>\n",
       "    .dataframe tbody tr th:only-of-type {\n",
       "        vertical-align: middle;\n",
       "    }\n",
       "\n",
       "    .dataframe tbody tr th {\n",
       "        vertical-align: top;\n",
       "    }\n",
       "\n",
       "    .dataframe thead th {\n",
       "        text-align: right;\n",
       "    }\n",
       "</style>\n",
       "<table border=\"1\" class=\"dataframe\">\n",
       "  <thead>\n",
       "    <tr style=\"text-align: right;\">\n",
       "      <th></th>\n",
       "      <th>longitude</th>\n",
       "      <th>latitude</th>\n",
       "      <th>housing_median_age</th>\n",
       "      <th>total_rooms</th>\n",
       "      <th>total_bedrooms</th>\n",
       "      <th>population</th>\n",
       "      <th>households</th>\n",
       "      <th>median_income</th>\n",
       "    </tr>\n",
       "  </thead>\n",
       "  <tbody>\n",
       "    <tr>\n",
       "      <th>4629</th>\n",
       "      <td>-118.30</td>\n",
       "      <td>34.07</td>\n",
       "      <td>18.0</td>\n",
       "      <td>3759.0</td>\n",
       "      <td>433.0</td>\n",
       "      <td>3296.0</td>\n",
       "      <td>1462.0</td>\n",
       "      <td>2.2708</td>\n",
       "    </tr>\n",
       "    <tr>\n",
       "      <th>6068</th>\n",
       "      <td>-117.86</td>\n",
       "      <td>34.01</td>\n",
       "      <td>16.0</td>\n",
       "      <td>4632.0</td>\n",
       "      <td>433.0</td>\n",
       "      <td>3038.0</td>\n",
       "      <td>727.0</td>\n",
       "      <td>5.1762</td>\n",
       "    </tr>\n",
       "    <tr>\n",
       "      <th>17923</th>\n",
       "      <td>-121.97</td>\n",
       "      <td>37.35</td>\n",
       "      <td>30.0</td>\n",
       "      <td>1955.0</td>\n",
       "      <td>433.0</td>\n",
       "      <td>999.0</td>\n",
       "      <td>386.0</td>\n",
       "      <td>4.6328</td>\n",
       "    </tr>\n",
       "    <tr>\n",
       "      <th>13656</th>\n",
       "      <td>-117.30</td>\n",
       "      <td>34.05</td>\n",
       "      <td>6.0</td>\n",
       "      <td>2155.0</td>\n",
       "      <td>433.0</td>\n",
       "      <td>1039.0</td>\n",
       "      <td>391.0</td>\n",
       "      <td>1.6675</td>\n",
       "    </tr>\n",
       "    <tr>\n",
       "      <th>19252</th>\n",
       "      <td>-122.79</td>\n",
       "      <td>38.48</td>\n",
       "      <td>7.0</td>\n",
       "      <td>6837.0</td>\n",
       "      <td>433.0</td>\n",
       "      <td>3468.0</td>\n",
       "      <td>1405.0</td>\n",
       "      <td>3.1662</td>\n",
       "    </tr>\n",
       "  </tbody>\n",
       "</table>\n",
       "</div>"
      ],
      "text/plain": [
       "       longitude  latitude  housing_median_age  total_rooms  total_bedrooms  \\\n",
       "4629     -118.30     34.07                18.0       3759.0           433.0   \n",
       "6068     -117.86     34.01                16.0       4632.0           433.0   \n",
       "17923    -121.97     37.35                30.0       1955.0           433.0   \n",
       "13656    -117.30     34.05                 6.0       2155.0           433.0   \n",
       "19252    -122.79     38.48                 7.0       6837.0           433.0   \n",
       "\n",
       "       population  households  median_income  \n",
       "4629       3296.0      1462.0         2.2708  \n",
       "6068       3038.0       727.0         5.1762  \n",
       "17923       999.0       386.0         4.6328  \n",
       "13656      1039.0       391.0         1.6675  \n",
       "19252      3468.0      1405.0         3.1662  "
      ]
     },
     "execution_count": 42,
     "metadata": {},
     "output_type": "execute_result"
    }
   ],
   "source": [
    "housing_tr.loc[sample_incomplete_rows.index.values]"
   ]
  },
  {
   "cell_type": "code",
   "execution_count": 43,
   "metadata": {},
   "outputs": [
    {
     "data": {
      "text/plain": [
       "'median'"
      ]
     },
     "execution_count": 43,
     "metadata": {},
     "output_type": "execute_result"
    }
   ],
   "source": [
    "imputer.strategy"
   ]
  },
  {
   "cell_type": "code",
   "execution_count": 44,
   "metadata": {
    "scrolled": true
   },
   "outputs": [
    {
     "data": {
      "text/html": [
       "<div>\n",
       "<style scoped>\n",
       "    .dataframe tbody tr th:only-of-type {\n",
       "        vertical-align: middle;\n",
       "    }\n",
       "\n",
       "    .dataframe tbody tr th {\n",
       "        vertical-align: top;\n",
       "    }\n",
       "\n",
       "    .dataframe thead th {\n",
       "        text-align: right;\n",
       "    }\n",
       "</style>\n",
       "<table border=\"1\" class=\"dataframe\">\n",
       "  <thead>\n",
       "    <tr style=\"text-align: right;\">\n",
       "      <th></th>\n",
       "      <th>longitude</th>\n",
       "      <th>latitude</th>\n",
       "      <th>housing_median_age</th>\n",
       "      <th>total_rooms</th>\n",
       "      <th>total_bedrooms</th>\n",
       "      <th>population</th>\n",
       "      <th>households</th>\n",
       "      <th>median_income</th>\n",
       "    </tr>\n",
       "  </thead>\n",
       "  <tbody>\n",
       "    <tr>\n",
       "      <th>0</th>\n",
       "      <td>-121.89</td>\n",
       "      <td>37.29</td>\n",
       "      <td>38.0</td>\n",
       "      <td>1568.0</td>\n",
       "      <td>351.0</td>\n",
       "      <td>710.0</td>\n",
       "      <td>339.0</td>\n",
       "      <td>2.7042</td>\n",
       "    </tr>\n",
       "    <tr>\n",
       "      <th>1</th>\n",
       "      <td>-121.93</td>\n",
       "      <td>37.05</td>\n",
       "      <td>14.0</td>\n",
       "      <td>679.0</td>\n",
       "      <td>108.0</td>\n",
       "      <td>306.0</td>\n",
       "      <td>113.0</td>\n",
       "      <td>6.4214</td>\n",
       "    </tr>\n",
       "    <tr>\n",
       "      <th>2</th>\n",
       "      <td>-117.20</td>\n",
       "      <td>32.77</td>\n",
       "      <td>31.0</td>\n",
       "      <td>1952.0</td>\n",
       "      <td>471.0</td>\n",
       "      <td>936.0</td>\n",
       "      <td>462.0</td>\n",
       "      <td>2.8621</td>\n",
       "    </tr>\n",
       "    <tr>\n",
       "      <th>3</th>\n",
       "      <td>-119.61</td>\n",
       "      <td>36.31</td>\n",
       "      <td>25.0</td>\n",
       "      <td>1847.0</td>\n",
       "      <td>371.0</td>\n",
       "      <td>1460.0</td>\n",
       "      <td>353.0</td>\n",
       "      <td>1.8839</td>\n",
       "    </tr>\n",
       "    <tr>\n",
       "      <th>4</th>\n",
       "      <td>-118.59</td>\n",
       "      <td>34.23</td>\n",
       "      <td>17.0</td>\n",
       "      <td>6592.0</td>\n",
       "      <td>1525.0</td>\n",
       "      <td>4459.0</td>\n",
       "      <td>1463.0</td>\n",
       "      <td>3.0347</td>\n",
       "    </tr>\n",
       "  </tbody>\n",
       "</table>\n",
       "</div>"
      ],
      "text/plain": [
       "   longitude  latitude  housing_median_age  total_rooms  total_bedrooms  \\\n",
       "0    -121.89     37.29                38.0       1568.0           351.0   \n",
       "1    -121.93     37.05                14.0        679.0           108.0   \n",
       "2    -117.20     32.77                31.0       1952.0           471.0   \n",
       "3    -119.61     36.31                25.0       1847.0           371.0   \n",
       "4    -118.59     34.23                17.0       6592.0          1525.0   \n",
       "\n",
       "   population  households  median_income  \n",
       "0       710.0       339.0         2.7042  \n",
       "1       306.0       113.0         6.4214  \n",
       "2       936.0       462.0         2.8621  \n",
       "3      1460.0       353.0         1.8839  \n",
       "4      4459.0      1463.0         3.0347  "
      ]
     },
     "execution_count": 44,
     "metadata": {},
     "output_type": "execute_result"
    }
   ],
   "source": [
    "housing_tr = pd.DataFrame(X, columns=housing_num.columns)\n",
    "housing_tr.head()"
   ]
  },
  {
   "cell_type": "markdown",
   "metadata": {},
   "source": [
    "> **scikit-learn 설계 철학**  \n",
    "* **일관성** : 모든 객체가 일관되고 단순한 인터페이스를 공유한다.  \n",
    "    * **추정기**(estimator) : 데이터셋을 기반으로 일련의 모델 파라미터들을 추정하는 객체  \n",
    "    ex) `imputer` 객체는 추정기이다.\n",
    "        * 추정 자체는 `fit()` 메서드에 의해 수행되고 하나의 매개변수로 하나의 데이터셋만 전달한다.\n",
    "            * 지도 학습 알고리즘에서는 매개변수는 2개, 두 번째 데이터셋은 레이블을 담고 있다.\n",
    "        * 추정 과정에서 필요한 다른 매개변수들은 모두 하이퍼파라미터로 간주되고(ex. `imputer` 객체의 `strategy` 매개변수), 인스턴스 변수(객체가 각각 독립적으로 가지는 변수)로 저장된다.  \n",
    "        (보통 생성자의 매개변수로 전달한다. `__init()__`)\n",
    "    * **변환기**(transformer) : 데이터셋을 변환하는 추정기(`imputer` 같이)\n",
    "        * 변환은 데이터셋을 매개변수로 전달받은 `transform()` 메서드가 수행하고 변환된 데이터셋을 반환한다.\n",
    "        * 이런 변환은 일반적으로 `imputer`의 경우와 같이 학습된 모델 파라미터(`imputer`가 실제로 계산한 것은 각 특성의 중간값. 사이킷런에서 변환기도 추정기와 인터페이스가 같기 때문에 학습한다고 표현)에 의해 결정된다.\n",
    "        * 모든 변환기는 `fit()`, `transform()`을 연달아 호출하는 것과 동일한 `fit_transform()` 메서드도 가지고 있다.  \n",
    "        (이따금 `fit_transform()`이 최적화되어 있어 더 빠르다.)\n",
    "    * **예측기**(predictor) : 일부 추정기는 주어진 데이터셋에 대해 예측을 만들 수 있다.  \n",
    "    ex) `LinearRegression` 모델\n",
    "        * 어떤 나라의 1인당 GDP로 삶의 만족도 예측했을 때, 예측기의 `predict()` 메서드는 새로운 데이터셋에서 상응하는 예측값을 반환한다.\n",
    "        * 또한 테스트 세트(지도 학습 알고리즘이라면 레이블도 함께)를 사용해 예측의 품질을 측정하는 `score()` 메서드를 가진다.\n",
    "        * 어떤 예측기는 예측의 확신을 측정하는 메서드도 제공한다.\n",
    "            * 분류 모델이 제공하는 `predict_proba()`나 `decision_function()` 메서드\n",
    "* **검사 기능** : 모든 추정기의 하이퍼파라미터는 public 인스턴스 변수로 직접 접근할 수 있고(예. `imputer.strategy`), 모든 추정기의 학습된 모델 파라미터도 접미사로 밑줄을 붙여 public 인스턴스 변수로 제공된다.(예. `imputer.statistics_`)\n",
    "    * 사실 파이썬은 private 인스턴스 변수가 없다.\n",
    "    * 따라서 모든 인스턴스 변수는 직접 참조 가능\n",
    "* **클래스 남용 방지** : 데이터셋을 별도의 클래스가 아니라 Numpy 배열이나 scipy sparse(희소) 행렬로 표현한다.\n",
    "    * 하이퍼파라미터는 보통 파이썬 문자열이나 숫자이다.\n",
    "* **조합성** : 기존의 구성요소를 최대한 재사용한다.\n",
    "    * ex) 여러 변환기를 연결한 다음 마지막에 추정기 하나를 배치한 Pipeline 추정기를 쉽게 만들 수 있다.\n",
    "* **합리적인 기본값** : 사이킷런은 일단 돌아가는 기본 시스템을 빠르게 만들 수 있도록 대부분의 매개변수에 합리적인 기본값을 지정해두었다."
   ]
  },
  {
   "cell_type": "markdown",
   "metadata": {},
   "source": [
    "## 4.2. 텍스트와 범주형 특성 다루기\n",
    "* 대부분의 머신러닝 알고리즘은 숫자형을 다루기 때문에 텍스트라 중간값을 계산할 수 없었던 ocean_proximity 카테고리를 숫자로 바꾼다."
   ]
  },
  {
   "cell_type": "code",
   "execution_count": 65,
   "metadata": {},
   "outputs": [
    {
     "data": {
      "text/plain": [
       "pandas.core.series.Series"
      ]
     },
     "execution_count": 65,
     "metadata": {},
     "output_type": "execute_result"
    }
   ],
   "source": [
    "housing_cat = housing[\"ocean_proximity\"]\n",
    "housing_cat.head(10)"
   ]
  },
  {
   "cell_type": "markdown",
   "metadata": {},
   "source": [
    "#### 카테고리를 정수값으로 변환\n",
    "각 카테고리를 다른 정숫값으로 매핑해주는 Pandas의 `factorize()`를 사용한다."
   ]
  },
  {
   "cell_type": "code",
   "execution_count": 64,
   "metadata": {},
   "outputs": [
    {
     "data": {
      "text/plain": [
       "array([0, 0, 1, 2, 0, 2, 0, 2, 0, 0], dtype=int64)"
      ]
     },
     "execution_count": 64,
     "metadata": {},
     "output_type": "execute_result"
    }
   ],
   "source": [
    "housing_cat_encoded, housing_categories = housing_cat.factorize()\n",
    "housing_cat_encoded[:10]"
   ]
  },
  {
   "cell_type": "code",
   "execution_count": 67,
   "metadata": {},
   "outputs": [
    {
     "data": {
      "text/plain": [
       "Index(['<1H OCEAN', 'NEAR OCEAN', 'INLAND', 'NEAR BAY', 'ISLAND'], dtype='object')"
      ]
     },
     "execution_count": 67,
     "metadata": {},
     "output_type": "execute_result"
    }
   ],
   "source": [
    "housing_categories"
   ]
  },
  {
   "cell_type": "markdown",
   "metadata": {},
   "source": [
    "> **이 표현 방식의 문제**  \n",
    "머신러닝 알고리즘이 가까이 있는 두 값이 떨어져 있는 두 값보다 더 비슷하다고 생각한다.  \n",
    "실제로는 그렇지 않다.  \n",
    "ex) 카테고리 0과 1보다 카테고리 0과 4가 더 비슷하다.\n",
    "\n",
    "#### 해결법\n",
    "일반적으로 카테고리별 이진 특성을 만들어 해결하는 방법\n",
    "* 사이킷런의 `OneHotEncoder`를 이용해 범주형 값을 원-핫 벡터로 변경한다.\n",
    "* **원-핫 인코딩**(one-hot encoding) : 한 특성만 1이고(핫) 나머지는 0\n",
    "    * 각 행은 1이 하나, 열은 카테고리 수\n",
    "\n",
    "> 사이킷런 0.20 버전에서 OneHotEncoder의 동작 방식이 변경되었다.  \n",
    "종전에는 0 ~ 최댓값 사이의 정수를 카테고리로 인식했지만,  \n",
    "앞으로는 정수나 문자열에 \n",
    "상관없이 고유한 값만을 카테고리로 인식\n",
    "* 경고 메세지를 피하기 위해 categories 매개변수를 auto로 설정\n",
    "\n",
    "### 4.2.1. 원-핫 인코딩 방법 1; `OneHotEncoder` 사용하기 (입력 - 정수형 배열 형태)"
   ]
  },
  {
   "cell_type": "code",
   "execution_count": 49,
   "metadata": {},
   "outputs": [
    {
     "data": {
      "text/plain": [
       "<16512x5 sparse matrix of type '<class 'numpy.float64'>'\n",
       "\twith 16512 stored elements in Compressed Sparse Row format>"
      ]
     },
     "execution_count": 49,
     "metadata": {},
     "output_type": "execute_result"
    }
   ],
   "source": [
    "from sklearn.preprocessing import OneHotEncoder\n",
    "\n",
    "encoder = OneHotEncoder(categories='auto')\n",
    "\n",
    "housing_cat_1hot = encoder.fit_transform(housing_cat_encoded.reshape(-1,1)) # 정수형\n",
    "housing_cat_1hot"
   ]
  },
  {
   "cell_type": "markdown",
   "metadata": {},
   "source": [
    "> * `fit_transform()` 메서드는 2차원 배열을 넣어줘야 하는데 `housing_cat_encoded`는 1차원 배열이므로 구조를 바꿔야 한다.\n",
    "* Numpy의 `reshape()` 함수에서 `-1`은 차원을 지정하지 않는다는 뜻  \n",
    "    * 해당 차원의 크기는 전체 배열에서 다른 차원이 정해지고 남은 크기가 된다.\n",
    "* 또한 출력을 보면 Numpy 배열이 아니고 SciPy 희소 행렬(sprse matrix)이다.\n",
    "    * `OneHotEncoder`는 기본적으로 인코딩은 원-핫 벡터이고 희소 행렬을 반환한다.  \n",
    "    이는 수천 개의 카테고리가 있는 범주형 특성일 경우 매우 효율적이다.  \n",
    "    0을 모두 메모리에 저장하는 것은 낭비이므로 희소 행렬은 0이 아닌 원소의 위치만 저장한다."
   ]
  },
  {
   "cell_type": "markdown",
   "metadata": {},
   "source": [
    "#### 밀집 배열로 변환\n",
    "이 행렬을 거의 일반적인 2차원 배열처럼 사용할 수 있지만(SciPy의 `csr_matrix`), (밀집된) Numpy 배열로 바꾸려면 `toarray()` 메서드를 호출하면 된다."
   ]
  },
  {
   "cell_type": "code",
   "execution_count": 50,
   "metadata": {},
   "outputs": [
    {
     "data": {
      "text/plain": [
       "array([[1., 0., 0., 0., 0.],\n",
       "       [1., 0., 0., 0., 0.],\n",
       "       [0., 1., 0., 0., 0.],\n",
       "       ...,\n",
       "       [0., 0., 1., 0., 0.],\n",
       "       [1., 0., 0., 0., 0.],\n",
       "       [0., 0., 0., 1., 0.]])"
      ]
     },
     "execution_count": 50,
     "metadata": {},
     "output_type": "execute_result"
    }
   ],
   "source": [
    "housing_cat_1hot.toarray()"
   ]
  },
  {
   "cell_type": "markdown",
   "metadata": {},
   "source": [
    "### 4.2.2. 원-핫 인코딩 방법 2; `pd.get_dummies()` 사용하기 (입력 - 데이터프레임, 시리즈, 배열 형태)\n",
    "`housing`이 Pandas 데이터프레임이므로 `pd.get_dummies(housing)`처럼 텍스트 특성을 원-핫 벡터로 간단하게 변환할 수 있다.\n",
    "* `get_dummies()` : 데이터프레임에서 텍스트 특성을 가진 열을 찾아 자동으로\n",
    " 원-핫 인코딩을 적용하고 반환된 데이터프레임을 반환한다."
   ]
  },
  {
   "cell_type": "markdown",
   "metadata": {},
   "source": [
    "### 4.2.3.  원-핫 인코딩 방법 3; `OneHotEncoder` 사용하기 (입력 - 문자열형 배열 형태)\n",
    "`OneHotEncoder`로 문자열로 된 범주형 변수도 변환할 수 있다."
   ]
  },
  {
   "cell_type": "code",
   "execution_count": 51,
   "metadata": {},
   "outputs": [
    {
     "data": {
      "text/plain": [
       "<16512x5 sparse matrix of type '<class 'numpy.float64'>'\n",
       "\twith 16512 stored elements in Compressed Sparse Row format>"
      ]
     },
     "execution_count": 51,
     "metadata": {},
     "output_type": "execute_result"
    }
   ],
   "source": [
    "from sklearn.preprocessing import OneHotEncoder\n",
    "\n",
    "cat_encoder = OneHotEncoder(categories='auto')\n",
    "housing_cat_reshaped = housing_cat.values.reshape(-1, 1) # 범주형\n",
    "housing_cat_1hot = cat_encoder.fit_transform(housing_cat_reshaped)\n",
    "housing_cat_1hot"
   ]
  },
  {
   "cell_type": "markdown",
   "metadata": {},
   "source": [
    "#### 밀집 배열로 변환"
   ]
  },
  {
   "cell_type": "code",
   "execution_count": 52,
   "metadata": {},
   "outputs": [
    {
     "data": {
      "text/plain": [
       "array([[1., 0., 0., 0., 0.],\n",
       "       [1., 0., 0., 0., 0.],\n",
       "       [0., 0., 0., 0., 1.],\n",
       "       ...,\n",
       "       [0., 1., 0., 0., 0.],\n",
       "       [1., 0., 0., 0., 0.],\n",
       "       [0., 0., 0., 1., 0.]])"
      ]
     },
     "execution_count": 52,
     "metadata": {},
     "output_type": "execute_result"
    }
   ],
   "source": [
    "housing_cat_1hot.toarray()"
   ]
  },
  {
   "cell_type": "markdown",
   "metadata": {},
   "source": [
    "#### 인코딩 시 밀집 행렬 바로 얻기\n",
    "`sparse=False`로 설정하여 희소 행렬 대신 밀집 행렬을 얻을 수 있다."
   ]
  },
  {
   "cell_type": "code",
   "execution_count": 53,
   "metadata": {},
   "outputs": [
    {
     "data": {
      "text/plain": [
       "array([[1., 0., 0., 0., 0.],\n",
       "       [1., 0., 0., 0., 0.],\n",
       "       [0., 0., 0., 0., 1.],\n",
       "       ...,\n",
       "       [0., 1., 0., 0., 0.],\n",
       "       [1., 0., 0., 0., 0.],\n",
       "       [0., 0., 0., 1., 0.]])"
      ]
     },
     "execution_count": 53,
     "metadata": {},
     "output_type": "execute_result"
    }
   ],
   "source": [
    "cat_encoder = OneHotEncoder(categories='auto', sparse=False)\n",
    "housing_cat_1hot = cat_encoder.fit_transform(housing_cat_reshaped)\n",
    "housing_cat_1hot"
   ]
  },
  {
   "cell_type": "markdown",
   "metadata": {},
   "source": [
    "#### 카테고리 리스트"
   ]
  },
  {
   "cell_type": "code",
   "execution_count": 54,
   "metadata": {},
   "outputs": [
    {
     "data": {
      "text/plain": [
       "[array(['<1H OCEAN', 'INLAND', 'ISLAND', 'NEAR BAY', 'NEAR OCEAN'],\n",
       "       dtype=object)]"
      ]
     },
     "execution_count": 54,
     "metadata": {},
     "output_type": "execute_result"
    }
   ],
   "source": [
    "cat_encoder.categories_"
   ]
  },
  {
   "cell_type": "markdown",
   "metadata": {},
   "source": [
    "카테고리 수가 많다면 원-핫 인코딩은 많은 수의 입력 특성을 만들어 훈련을 느리게 하고 성능을 감소시킬 수 있다.\n",
    "\n",
    "#### 해결 방법\n",
    "* 임베딩(embedding)이라는 조금 더 조밀한 표현을 사용할 수 있다.\n",
    "    * 신경망에 대한 이해가 필요하다."
   ]
  },
  {
   "cell_type": "markdown",
   "metadata": {},
   "source": [
    "### 4.2.4. 원-핫 인코딩 방법 4; `OrdinalEncoder` 사용하기 (입력 - 정수형/문자열형 배열 형태, 데이터프레임도 받는 듯?)\n",
    "> 사이킷런 0.20에 추가된 `OrdinalEncoder` 클래스는 입력 특성(레이블 $y$가 아니라 $\\mathbf X$)을 위해 설계되었고 파이프라인과 잘 작동되기 때문에 더 좋은 방법이다."
   ]
  },
  {
   "cell_type": "code",
   "execution_count": 69,
   "metadata": {},
   "outputs": [
    {
     "data": {
      "text/html": [
       "<div>\n",
       "<style scoped>\n",
       "    .dataframe tbody tr th:only-of-type {\n",
       "        vertical-align: middle;\n",
       "    }\n",
       "\n",
       "    .dataframe tbody tr th {\n",
       "        vertical-align: top;\n",
       "    }\n",
       "\n",
       "    .dataframe thead th {\n",
       "        text-align: right;\n",
       "    }\n",
       "</style>\n",
       "<table border=\"1\" class=\"dataframe\">\n",
       "  <thead>\n",
       "    <tr style=\"text-align: right;\">\n",
       "      <th></th>\n",
       "      <th>ocean_proximity</th>\n",
       "    </tr>\n",
       "  </thead>\n",
       "  <tbody>\n",
       "    <tr>\n",
       "      <th>17606</th>\n",
       "      <td>&lt;1H OCEAN</td>\n",
       "    </tr>\n",
       "    <tr>\n",
       "      <th>18632</th>\n",
       "      <td>&lt;1H OCEAN</td>\n",
       "    </tr>\n",
       "    <tr>\n",
       "      <th>14650</th>\n",
       "      <td>NEAR OCEAN</td>\n",
       "    </tr>\n",
       "    <tr>\n",
       "      <th>3230</th>\n",
       "      <td>INLAND</td>\n",
       "    </tr>\n",
       "    <tr>\n",
       "      <th>3555</th>\n",
       "      <td>&lt;1H OCEAN</td>\n",
       "    </tr>\n",
       "    <tr>\n",
       "      <th>19480</th>\n",
       "      <td>INLAND</td>\n",
       "    </tr>\n",
       "    <tr>\n",
       "      <th>8879</th>\n",
       "      <td>&lt;1H OCEAN</td>\n",
       "    </tr>\n",
       "    <tr>\n",
       "      <th>13685</th>\n",
       "      <td>INLAND</td>\n",
       "    </tr>\n",
       "    <tr>\n",
       "      <th>4937</th>\n",
       "      <td>&lt;1H OCEAN</td>\n",
       "    </tr>\n",
       "    <tr>\n",
       "      <th>4861</th>\n",
       "      <td>&lt;1H OCEAN</td>\n",
       "    </tr>\n",
       "  </tbody>\n",
       "</table>\n",
       "</div>"
      ],
      "text/plain": [
       "      ocean_proximity\n",
       "17606       <1H OCEAN\n",
       "18632       <1H OCEAN\n",
       "14650      NEAR OCEAN\n",
       "3230           INLAND\n",
       "3555        <1H OCEAN\n",
       "19480          INLAND\n",
       "8879        <1H OCEAN\n",
       "13685          INLAND\n",
       "4937        <1H OCEAN\n",
       "4861        <1H OCEAN"
      ]
     },
     "execution_count": 69,
     "metadata": {},
     "output_type": "execute_result"
    }
   ],
   "source": [
    "housing_cat = housing[['ocean_proximity']]\n",
    "housing_cat.head(10)"
   ]
  },
  {
   "cell_type": "code",
   "execution_count": 70,
   "metadata": {},
   "outputs": [
    {
     "data": {
      "text/plain": [
       "array([[0.],\n",
       "       [0.],\n",
       "       [4.],\n",
       "       [1.],\n",
       "       [0.],\n",
       "       [1.],\n",
       "       [0.],\n",
       "       [1.],\n",
       "       [0.],\n",
       "       [0.]])"
      ]
     },
     "execution_count": 70,
     "metadata": {},
     "output_type": "execute_result"
    }
   ],
   "source": [
    "from sklearn.preprocessing import OrdinalEncoder\n",
    "\n",
    "ordinal_encoder = OrdinalEncoder()\n",
    "housing_cat_encoded = ordinal_encoder.fit_transform(housing_cat)\n",
    "housing_cat_encoded[:10]"
   ]
  },
  {
   "cell_type": "code",
   "execution_count": 71,
   "metadata": {},
   "outputs": [
    {
     "data": {
      "text/plain": [
       "[array(['<1H OCEAN', 'INLAND', 'ISLAND', 'NEAR BAY', 'NEAR OCEAN'],\n",
       "       dtype=object)]"
      ]
     },
     "execution_count": 71,
     "metadata": {},
     "output_type": "execute_result"
    }
   ],
   "source": [
    "ordinal_encoder.categories_"
   ]
  },
  {
   "cell_type": "markdown",
   "metadata": {},
   "source": [
    "## 4.3. 나만의 변환기\n",
    "* 사이킷런 기능과 매끄럽게 연동하여 나만의 변환기를 만들고 싶다면, 사이킷런은 (상속이 아닌)덕 타이핑(duck typing)을 지원하므로 `fit()`(`self`를 반환), `transform()`, `fit_transform()` 메서드를 구현한 파이썬 클래스를 만들면 된다.\n",
    "> 덕 타이핑 : 상속이나 인터페이스 구현이 아닌 객체의 속성이나 메서드가 객체의 유형을 결정하는 식을 말한다.\n",
    "\n",
    "* `fit_transform()` 메소드는 `TransformerMixin`을 상속하면 자동으로 생성된다.\n",
    "> 파이썬에서 이름에 Mixin이 있으면 객체의 기능을 확장하려는 목적으로 만들어진 클래스를 나타낸다.\n",
    " * `TransformerMixin`은 `fit_transform()` 메서드 하나를 가지고 있으며 이를 상속하는 모든 파이썬 클래스에 이 메서드를 제공한다.\n",
    " * `fit_transform()` 메소드는 단순히 `fit()`과 `transform()`을 메서드 연결(method chaining) 한 것이다.\n",
    "\n",
    "* `BaseEstimator`를 상속하면(그리고 생성자에 `*args`나 `**kargs`를 사용하지 않으면) 하이퍼파라미터 튜닝에 필요한 두 메서드 `get_params()`, `set_params()`를 추가로 얻게 된다.\n",
    "> * `get_params()`, `set_params()` 함수는 사이킷런의 파이프라인과 그리드 탐색에 꼭 필요한 메서드이므로 모든 추정기와 변환기는 `BaseEstimator`를 상속해야 한다.\n",
    " * 두 메서드는 생성자에 명시된 매개변수만을 참조하므로 `*args`, `**kargs`는 사용할 수 없다.\n",
    " \n",
    "#### 앞서 본 조합 특성을 추가하는 간단한 변환기"
   ]
  },
  {
   "cell_type": "code",
   "execution_count": 74,
   "metadata": {},
   "outputs": [],
   "source": [
    "from sklearn.base import BaseEstimator, TransformerMixin\n",
    "\n",
    "rooms_ix, bedrooms_ix, population_ix, household_ix = 3, 4, 5, 6\n",
    "\n",
    "class CombinedAttributesAdder(BaseEstimator, TransformerMixin):\n",
    "    def __init__(self, add_bedrooms_per_room = True): # *args나 **kargs가 아님\n",
    "        self.add_bedrooms_per_room = add_bedrooms_per_room\n",
    "        \n",
    "    def fit(self, X, y=None):\n",
    "        return self # 더 할 일이 없음\n",
    "    \n",
    "    def transform(self, X, y=None):\n",
    "        rooms_per_household = X[:, rooms_ix] / X[:, household_ix]\n",
    "        population_per_household = X[:, population_ix] / X[:, household_ix]\n",
    "        if self.add_bedrooms_per_room:\n",
    "            bedrooms_per_room = X[:, bedrooms_ix] / X[:, rooms_ix]\n",
    "            return np.c_[X, rooms_per_household, population_per_household, \n",
    "                         bedrooms_per_room]\n",
    "        else:\n",
    "            return np.c_[X, rooms_per_household, population_per_household]\n",
    "                         \n",
    "attr_adder = CombinedAttributesAdder(add_bedrooms_per_room=False)\n",
    "housing_extra_attribs = attr_adder.transform(housing.values)"
   ]
  },
  {
   "cell_type": "markdown",
   "metadata": {},
   "source": [
    "> 이 경우 변환기가 `add_bedrooms_per_room` 하이퍼파라미터 하나를 가지고 있고 기본값을 `True`로 지정한다(합리적인 기본값을 주는 것이 좋다.)\n",
    "* 이 특성을 추가하는 것이 머신러닝 알고리즘에 도움이 될지 안 될지 이 하이퍼파라미터로 쉽게 확인해볼 수 있다.\n",
    "* 일반적으로 100% 확신이 없는 모든 데이터 준비 단계에 대해 하이퍼파라미터를 추가할 수 있다.\n",
    "* 이런 데이터 준비 단계를 자동화할수록 더 많은 조합을 자동으로 시도해볼 수 있고 최상의 조합을 찾을 가능성을 매우 높여주고 시간도 많이 절약된다."
   ]
  },
  {
   "cell_type": "code",
   "execution_count": 76,
   "metadata": {},
   "outputs": [
    {
     "data": {
      "text/html": [
       "<div>\n",
       "<style scoped>\n",
       "    .dataframe tbody tr th:only-of-type {\n",
       "        vertical-align: middle;\n",
       "    }\n",
       "\n",
       "    .dataframe tbody tr th {\n",
       "        vertical-align: top;\n",
       "    }\n",
       "\n",
       "    .dataframe thead th {\n",
       "        text-align: right;\n",
       "    }\n",
       "</style>\n",
       "<table border=\"1\" class=\"dataframe\">\n",
       "  <thead>\n",
       "    <tr style=\"text-align: right;\">\n",
       "      <th></th>\n",
       "      <th>longitude</th>\n",
       "      <th>latitude</th>\n",
       "      <th>housing_median_age</th>\n",
       "      <th>total_rooms</th>\n",
       "      <th>total_bedrooms</th>\n",
       "      <th>population</th>\n",
       "      <th>households</th>\n",
       "      <th>median_income</th>\n",
       "      <th>ocean_proximity</th>\n",
       "      <th>rooms_per_household</th>\n",
       "      <th>population_per_household</th>\n",
       "    </tr>\n",
       "  </thead>\n",
       "  <tbody>\n",
       "    <tr>\n",
       "      <th>0</th>\n",
       "      <td>-121.89</td>\n",
       "      <td>37.29</td>\n",
       "      <td>38</td>\n",
       "      <td>1568</td>\n",
       "      <td>351</td>\n",
       "      <td>710</td>\n",
       "      <td>339</td>\n",
       "      <td>2.7042</td>\n",
       "      <td>&lt;1H OCEAN</td>\n",
       "      <td>4.62537</td>\n",
       "      <td>2.0944</td>\n",
       "    </tr>\n",
       "    <tr>\n",
       "      <th>1</th>\n",
       "      <td>-121.93</td>\n",
       "      <td>37.05</td>\n",
       "      <td>14</td>\n",
       "      <td>679</td>\n",
       "      <td>108</td>\n",
       "      <td>306</td>\n",
       "      <td>113</td>\n",
       "      <td>6.4214</td>\n",
       "      <td>&lt;1H OCEAN</td>\n",
       "      <td>6.00885</td>\n",
       "      <td>2.70796</td>\n",
       "    </tr>\n",
       "    <tr>\n",
       "      <th>2</th>\n",
       "      <td>-117.2</td>\n",
       "      <td>32.77</td>\n",
       "      <td>31</td>\n",
       "      <td>1952</td>\n",
       "      <td>471</td>\n",
       "      <td>936</td>\n",
       "      <td>462</td>\n",
       "      <td>2.8621</td>\n",
       "      <td>NEAR OCEAN</td>\n",
       "      <td>4.22511</td>\n",
       "      <td>2.02597</td>\n",
       "    </tr>\n",
       "    <tr>\n",
       "      <th>3</th>\n",
       "      <td>-119.61</td>\n",
       "      <td>36.31</td>\n",
       "      <td>25</td>\n",
       "      <td>1847</td>\n",
       "      <td>371</td>\n",
       "      <td>1460</td>\n",
       "      <td>353</td>\n",
       "      <td>1.8839</td>\n",
       "      <td>INLAND</td>\n",
       "      <td>5.23229</td>\n",
       "      <td>4.13598</td>\n",
       "    </tr>\n",
       "    <tr>\n",
       "      <th>4</th>\n",
       "      <td>-118.59</td>\n",
       "      <td>34.23</td>\n",
       "      <td>17</td>\n",
       "      <td>6592</td>\n",
       "      <td>1525</td>\n",
       "      <td>4459</td>\n",
       "      <td>1463</td>\n",
       "      <td>3.0347</td>\n",
       "      <td>&lt;1H OCEAN</td>\n",
       "      <td>4.50581</td>\n",
       "      <td>3.04785</td>\n",
       "    </tr>\n",
       "  </tbody>\n",
       "</table>\n",
       "</div>"
      ],
      "text/plain": [
       "  longitude latitude housing_median_age total_rooms total_bedrooms population  \\\n",
       "0   -121.89    37.29                 38        1568            351        710   \n",
       "1   -121.93    37.05                 14         679            108        306   \n",
       "2    -117.2    32.77                 31        1952            471        936   \n",
       "3   -119.61    36.31                 25        1847            371       1460   \n",
       "4   -118.59    34.23                 17        6592           1525       4459   \n",
       "\n",
       "  households median_income ocean_proximity rooms_per_household  \\\n",
       "0        339        2.7042       <1H OCEAN             4.62537   \n",
       "1        113        6.4214       <1H OCEAN             6.00885   \n",
       "2        462        2.8621      NEAR OCEAN             4.22511   \n",
       "3        353        1.8839          INLAND             5.23229   \n",
       "4       1463        3.0347       <1H OCEAN             4.50581   \n",
       "\n",
       "  population_per_household  \n",
       "0                   2.0944  \n",
       "1                  2.70796  \n",
       "2                  2.02597  \n",
       "3                  4.13598  \n",
       "4                  3.04785  "
      ]
     },
     "execution_count": 76,
     "metadata": {},
     "output_type": "execute_result"
    }
   ],
   "source": [
    "housing_extra_attribs = pd.DataFrame(\n",
    "    housing_extra_attribs,\n",
    "    columns=list(housing.columns)+[\"rooms_per_household\", \"population_per_household\"])\n",
    "housing_extra_attribs.head()"
   ]
  },
  {
   "cell_type": "markdown",
   "metadata": {},
   "source": [
    "## 4.4. 특성 스케일링\n",
    "* 트리 기반 알고리즘 몇 가지를 빼고는 나머지 머신러닝 알고리즘은 입력 숫자 특성들의 스케일이 많이 다르면 잘 작동하지 않는다.\n",
    "* 현재 데이터셋의 전체 방 개수 범위는 6 ~ 39,320인 반면 중간 소득의 범위는 0 ~ 15까지이다.\n",
    "* 타깃 값에 대한 스케일링은 일반적으로 불필요하다.\n",
    "\n",
    "#### 모든 특성의 범위를 같도록 만들어 주는 널리 쓰이는 방법\n",
    "1. **min-max 스케일링**(많은 사람들이 **정규화**(normalization)라고 부른다.)\n",
    "    * 0 ~ 1 범위에 들도록 값을 이동하고 스케일을 조정한다.\n",
    "    * $\\frac{관측값(데이터) - 최솟값}{최댓값 - 최솟값}$\n",
    "    * scikit-learn에는 이에 해당하는 `MinMaxScaler` 변환기를 제공\n",
    "    * 0 ~ 1 범위를 원하지 않으면 `feature_range` 매개변수로 변경 가능\n",
    "> **정규화**\n",
    " * scikit-learn에는 입력 데이터에서 각 행의 l_2 노름이 1이 되도록 조정하는 `Normalizer`라는 전처리 기능이 있다.\n",
    " * min-max 스케일링과는 전혀 다른 결과를 만든다.\n",
    " * 정규화는 여러 의미로 다양하게 사용된다.\n",
    "\n",
    "2. **표준화**(standardization)\n",
    "    * 평균을 뺀 후(그래서 표준화를 하면 0이 됨), 표준편차로 나누어 결과 분포의 분산이 1이 되도록 한다.\n",
    "    * min-max 스케일링과 달리 범위의 상한, 하한이 없어 어떤 알고리즘에서는 문제가 될 수 있다.\n",
    "        * ex) 신경망은 종종 입력값의 범위로 0 ~ 1를 기대한다.\n",
    "    * 이상치에 영향을 덜 받는다.\n",
    "        * 중간 소득을 잘못해서 100이라 입력한 구역에 대해 min-max 스케일링은 0 ~ 15 값을 이상치의 영향을 받아 0 ~ 0.15로 매우 작게 만들 수 있다.\n",
    "    * scikit-learn에는 표준화를 위한 `StandardScaler` 변환기가 있다.\n",
    "\n",
    "> **CAUTION**  \n",
    "모든 변환기에서 스케일링은 전체 데이터가 아닌 훈련 데이터에 대해서만 `fit()` 메서드를 적용해야 한다.  \n",
    "그런 다음 훈련 세트와 테스트 세트(그리고 새로운 데이터)에 대해 `transform()` 메서드를 사용한다."
   ]
  },
  {
   "cell_type": "markdown",
   "metadata": {},
   "source": [
    "## 4.5. 변환 파이프라인\n",
    "* scikit-learn은 연속된 변환을 순서대로 처리할 수 있도록 도와주는 `Pipeline` 클래스가 있다.\n",
    "\n",
    "#### 숫자 특성을 처리하는 간단한 파이프라인"
   ]
  },
  {
   "cell_type": "code",
   "execution_count": 77,
   "metadata": {},
   "outputs": [],
   "source": [
    "from sklearn.pipeline import Pipeline\n",
    "from sklearn.preprocessing import StandardScaler\n",
    "\n",
    "num_pipeline = Pipeline([('imputer', SimpleImputer(strategy=\"median\")),\n",
    "                        ('attribs_adder', CombinedAttributesAdder()),\n",
    "                        ('std_scaler', StandardScaler()),\n",
    "                       ])\n",
    "housing_num_tr = num_pipeline.fit_transform(housing_num)"
   ]
  },
  {
   "cell_type": "markdown",
   "metadata": {},
   "source": [
    "#### `Pipeline` 클래스\n",
    "* `Pipeline`은 연속된 단계를 나타내는 이름/추정치 쌍의 목록을 입력으로 받는다.\n",
    "* 마지막 단계에는 변환기와 추정기를 모두 사용할 수 있다.  \n",
    "그 외에는 모두 변환기여야 한다.(즉, `fit_transform()` 메서드를 가지고 있어야 한다. `fit()`과 `transform()` 메서드만 가지고 있어도 됨)\n",
    "* 이름은 이중 밑줄 문자(__)는 포함하지 않아야 한다.\n",
    "\n",
    "#### 파이프라인의 `fit()` 메서드 호출 시\n",
    "* 모든 변환기의 `fit_transform()` 메서드(또는 `fit()`과 `transform()`)를 순서대로 호출하면서 한 단계의 출력을 다음 단계의 입력으로 전달한다.\n",
    "* 마지막 단계에서는 `fit()` 메서드만 호출한다.\n",
    "\n",
    "#### `Pipeline` 객체\n",
    "* 파이프라인 객체는 마지막 추정기와 동일한 메서드를 제공한다.\n",
    "* 예에서는 마지막 추정기가 변환기 `StandardScaler`이므로 `transform()` 메서드(파이프라인이 데이터에 대해 모든 변환을 순서대로 적용한다)를 가지고 있다.  \n",
    "또한 `fit_transform()` 메서드도 가지고 있다."
   ]
  },
  {
   "cell_type": "markdown",
   "metadata": {},
   "source": [
    "### 4.5.1. 컬럼 추출기 만들어 파이프라인 만들기\n",
    "* 데이터프레임에서 수치형/범주형 컬럼과 같은 특정 컬럼을 선택하는 클래스를 만들어 본다. \n",
    "* 기존에는 사이킷런이 데이터프레임을 다룰 수 없어 데이터프레임을 입력으로 받아 특정 컬럼을 Numpy 배열로 바꾸는 변환기를 만들어 사용한 듯하다.\n",
    "> pip3 install sklearn-pandas 명령으로 비슷한 목적을 가진 `DataFrameMapper`를 얻을 수도 있다."
   ]
  },
  {
   "cell_type": "code",
   "execution_count": 79,
   "metadata": {},
   "outputs": [],
   "source": [
    "from sklearn.base import BaseEstimator, TransformerMixin\n",
    "\n",
    "class DataFrameSelector(BaseEstimator, TransformerMixin):\n",
    "    def __init__(self, attribute_names):\n",
    "        self.attribute_names = attribute_names\n",
    "        \n",
    "    def fit(self, X, y=None):\n",
    "        return self\n",
    "    \n",
    "    def transform(self, X):\n",
    "        return X[self.attribute_names].values"
   ]
  },
  {
   "cell_type": "markdown",
   "metadata": {},
   "source": [
    "> `DataFrameSelector`는 나머지는 버리고 필요한 특성을 선택하여 데이터프레임을 Numpy 배열로 바꾸는 식으로 데이터를 변환한다.  \n",
    "이를 이용해 데이터프레임을 받아 수치형만 다루는 파이프라인을 손쉽게 만들 수 있다.\n",
    "\n",
    "#### 수치형과 범주형 특성을 각각 전처리하는 파이프라인"
   ]
  },
  {
   "cell_type": "code",
   "execution_count": 80,
   "metadata": {},
   "outputs": [],
   "source": [
    "num_attribs = list(housing_num)\n",
    "cat_attribs = [\"ocean_proximity\"]\n",
    "\n",
    "num_pipeline = Pipeline([\n",
    "    ('selector', DataFrameSelector(num_attribs)),\n",
    "    ('imputer', SimpleImputer(strategy=\"median\")),\n",
    "    ('attribs_adder', CombinedAttributesAdder()),\n",
    "    ('std_scaler', StandardScaler()),\n",
    "])\n",
    "\n",
    "cat_pipeline = Pipeline([\n",
    "    ('selector', DataFrameSelector(cat_attribs)),\n",
    "    ('cat_encoder', OneHotEncoder(categories='auto', sparse=False))\n",
    "])"
   ]
  },
  {
   "cell_type": "markdown",
   "metadata": {},
   "source": [
    "#### 숫자형과 범주형 특성을 모두 다루는 전체 파이프 라인\n",
    "scikit-learn의 `FeatureUnion`을 이용하여 두 파이프라인을 합칠 수 있다.  \n",
    "변환기 목록(또는 모두 변환기로 이뤄진 파이프라인)을 전달하고 `transform()` 메서드를 호출하면 각 변환기의 `transform()` 메서드를 병렬로 실행한다.  \n",
    "그런 다음 각 변환기의 결과를 합쳐 반환한다.\n",
    "(물론 `fit()` 메서드를 호출하면 각 변환기의 `fit()` 메서드를 실행한다.)"
   ]
  },
  {
   "cell_type": "code",
   "execution_count": 83,
   "metadata": {},
   "outputs": [],
   "source": [
    "from sklearn.pipeline import FeatureUnion\n",
    "\n",
    "full_pipeline = FeatureUnion(transformer_list=[\n",
    "     (\"num_pipeline\", num_pipeline),\n",
    "     (\"cat_pipeline\", cat_pipeline),\n",
    "])"
   ]
  },
  {
   "cell_type": "markdown",
   "metadata": {},
   "source": [
    "### 4.5.2. `ColumnTransformer`를 이용한 간단한 파이프라인 만들기\n",
    "사이킷런 0.20에 추가된 `ColumnTransformer`로 간단하게 `full_pipeline` 만들기\n",
    "> `ColumnTransformer`를 사용하면 `DataFrameSelector`와 `FeatureUnion`을 사용하지 않아도 된다."
   ]
  },
  {
   "cell_type": "code",
   "execution_count": 84,
   "metadata": {},
   "outputs": [
    {
     "data": {
      "text/plain": [
       "array([[-1.15604281,  0.77194962,  0.74333089, ...,  0.        ,\n",
       "         0.        ,  0.        ],\n",
       "       [-1.17602483,  0.6596948 , -1.1653172 , ...,  0.        ,\n",
       "         0.        ,  0.        ],\n",
       "       [ 1.18684903, -1.34218285,  0.18664186, ...,  0.        ,\n",
       "         0.        ,  1.        ],\n",
       "       ...,\n",
       "       [ 1.58648943, -0.72478134, -1.56295222, ...,  0.        ,\n",
       "         0.        ,  0.        ],\n",
       "       [ 0.78221312, -0.85106801,  0.18664186, ...,  0.        ,\n",
       "         0.        ,  0.        ],\n",
       "       [-1.43579109,  0.99645926,  1.85670895, ...,  0.        ,\n",
       "         1.        ,  0.        ]])"
      ]
     },
     "execution_count": 84,
     "metadata": {},
     "output_type": "execute_result"
    }
   ],
   "source": [
    "from sklearn.compose import ColumnTransformer\n",
    "\n",
    "num_attribs = list(housing_num)\n",
    "cat_attribs = [\"ocean_proximity\"]\n",
    "\n",
    "full_pipeline = ColumnTransformer([\n",
    "    (\"num_pipeline\", num_pipeline, num_attribs),\n",
    "    (\"cat_encoder\", OneHotEncoder(categories='auto'), cat_attribs)\n",
    "])\n",
    "\n",
    "housing_prepared = full_pipeline.fit_transform(housing)\n",
    "housing_prepared"
   ]
  },
  {
   "cell_type": "code",
   "execution_count": 85,
   "metadata": {},
   "outputs": [
    {
     "data": {
      "text/plain": [
       "(16512, 16)"
      ]
     },
     "execution_count": 85,
     "metadata": {},
     "output_type": "execute_result"
    }
   ],
   "source": [
    "housing_prepared.shape"
   ]
  },
  {
   "cell_type": "markdown",
   "metadata": {},
   "source": [
    "# 5. 모델 선택과 훈련\n",
    "## 5.1. 훈련 세트에서 훈련하고 평가하기\n",
    "\n",
    "#### 선형 회귀 모델 훈련"
   ]
  },
  {
   "cell_type": "code",
   "execution_count": 86,
   "metadata": {},
   "outputs": [
    {
     "data": {
      "text/plain": [
       "LinearRegression(copy_X=True, fit_intercept=True, n_jobs=None,\n",
       "         normalize=False)"
      ]
     },
     "execution_count": 86,
     "metadata": {},
     "output_type": "execute_result"
    }
   ],
   "source": [
    "from sklearn.linear_model import LinearRegression\n",
    "\n",
    "lin_reg = LinearRegression()\n",
    "lin_reg.fit(housing_prepared, housing_labels)"
   ]
  },
  {
   "cell_type": "markdown",
   "metadata": {},
   "source": [
    "#### 훈련 세트의 몇 개 샘플에 대해 적용해보기"
   ]
  },
  {
   "cell_type": "code",
   "execution_count": 87,
   "metadata": {},
   "outputs": [
    {
     "name": "stdout",
     "output_type": "stream",
     "text": [
      "예측:  [210644.60459286 317768.80697211 210956.43331178  59218.98886849\n",
      " 189747.55849879]\n",
      "레이블:  [286600.0, 340600.0, 196900.0, 46300.0, 254500.0]\n"
     ]
    }
   ],
   "source": [
    "some_data = housing.iloc[:5]\n",
    "some_labels = housing_labels.iloc[:5]\n",
    "some_data_prepared = full_pipeline.transform(some_data)\n",
    "\n",
    "print(\"예측: \", lin_reg.predict(some_data_prepared))\n",
    "print(\"레이블: \", list(some_labels))"
   ]
  },
  {
   "cell_type": "markdown",
   "metadata": {},
   "source": [
    "> 아주 정확한 예측은 아니지만(첫 번째 예측은 40% 가까이 벗어남) 작동은 한다.\n",
    "\n",
    "#### RMSE 측정\n",
    "scikit-learn의 `mean_square_error()` 함수 이용해 전체 훈련 세트에 대한 이 회귀 모델의 RMSE 측정"
   ]
  },
  {
   "cell_type": "code",
   "execution_count": 88,
   "metadata": {},
   "outputs": [
    {
     "data": {
      "text/plain": [
       "68628.19819848923"
      ]
     },
     "execution_count": 88,
     "metadata": {},
     "output_type": "execute_result"
    }
   ],
   "source": [
    "from sklearn.metrics import mean_squared_error\n",
    "\n",
    "housing_predictions = lin_reg.predict(housing_prepared)\n",
    "lin_mse = mean_squared_error(housing_labels, housing_predictions)\n",
    "lin_rmse = np.sqrt(lin_mse)\n",
    "lin_rmse"
   ]
  },
  {
   "cell_type": "markdown",
   "metadata": {},
   "source": [
    "> 없는 것보다는 낫지만 좋은 점수는 아니다.  \n",
    "대부분 구역의 중간 주택 가격은 \\\\$120,000 \\~ \\\\$265,000인데, 예측 오차가 \\\\$68,628은 매우 만족스럽지 못하다.  \n",
    "* 이는 모델이 훈련 데이터에 과소적합된 사례  \n",
    "즉 특성들이 좋은 예측을 만들만큼 충분한 정보를 제공하지 못했거나, 모델이 충분히 강력하지 못한 것\n",
    "\n",
    "#### 과소적합 해결법\n",
    "1. 더 강력한 모델 선택\n",
    "2. 훈련 알고리즘에 더 좋은 특성 주입\n",
    "3. 모델의 규제 감소시키기  \n",
    "(이 모델은 규제를 사용하지 않았으므로 이 옵션 제외)\n",
    "\n",
    "#### 평균 절대 편차(MAE)"
   ]
  },
  {
   "cell_type": "code",
   "execution_count": 89,
   "metadata": {},
   "outputs": [
    {
     "data": {
      "text/plain": [
       "49439.89599001897"
      ]
     },
     "execution_count": 89,
     "metadata": {},
     "output_type": "execute_result"
    }
   ],
   "source": [
    "from sklearn.metrics import mean_absolute_error\n",
    "\n",
    "lin_mae = mean_absolute_error(housing_labels, housing_predictions)\n",
    "lin_mae"
   ]
  },
  {
   "cell_type": "markdown",
   "metadata": {},
   "source": [
    "### 5.1.1. 특성 추가(예. 로그 스케일된 인구) 전 먼저 더 복잡한 모델 시도해보기\n",
    "\n",
    "#### DecisionTreeRegressor 훈련시키기\n",
    "해당 모델은 강력하고 데이터에서 복잡한 비선형 관계를 찾을 수 있다."
   ]
  },
  {
   "cell_type": "code",
   "execution_count": 91,
   "metadata": {},
   "outputs": [
    {
     "data": {
      "text/plain": [
       "0.0"
      ]
     },
     "execution_count": 91,
     "metadata": {},
     "output_type": "execute_result"
    }
   ],
   "source": [
    "from sklearn.tree import DecisionTreeRegressor\n",
    "\n",
    "tree_reg = DecisionTreeRegressor(random_state=42)\n",
    "# 모델 훈련\n",
    "tree_reg.fit(housing_prepared, housing_labels)\n",
    "# 훈련 세트로 평가\n",
    "housing_predictions = tree_reg.predict(housing_prepared)\n",
    "tree_mse = mean_squared_error(housing_labels, housing_predictions)\n",
    "tree_rmse = np.sqrt(tree_mse)\n",
    "tree_rmse"
   ]
  },
  {
   "cell_type": "markdown",
   "metadata": {},
   "source": [
    "> 오차가 없다는 것은 모델이 완벽하다는 뜻  \n",
    "이는 데이터에 너무 심하게 과대적합된 것\n",
    "\n",
    "확신이 드는 모델이 론칭할 준비가 되기 전까지 테스트 세트를 사용하지 않으려 하므로 훈련 세트의 일부분으로 훈련을 하고 다른 일부분은 모델 검증에 사용해야 한다."
   ]
  },
  {
   "cell_type": "markdown",
   "metadata": {},
   "source": [
    "## 5.2. 교차 검증을 사용한 평가\n",
    "\n",
    "#### 모델 평가 방법 생각해보기\n",
    "1. `train_test_split()` 함수로 훈련 세트를 더 작은 훈련 세트와 검증 세트로 나누고 더 작은 훈련 세트에서 모델을 훈련시키고 검증 세트로 모델을 평가하는 방법\n",
    "    * 조금 수고스럽지만 너무 어렵지 않으며 매우 잘 작동한다.\n",
    "2. scikit-learnn의 **교차 검증** 기능 사용하는 방법\n",
    "    * 훌륭한 대안\n",
    "    * **K-겹 교차 검증**(k-fold cross-validation)\n",
    "        1. 훈련 세트를 **폴드**(fold)라 불리는 K개의 서브셋으로 무작위 분할한다.\n",
    "        2. 모델을 K번 훈련하고 평가한다.\n",
    "            * 매번 다른 폴드를 선택해 평가에 사용하고, 나머지 K-1개 폴드는 훈련에 사용한다.  \n",
    "        3. K개의 평가 점수가 담긴 배열이 결과가 된다.\n",
    "        \n",
    "#### 결정 트리 10겹 교차 검증(k-fold cross-validation)으로 평가하기"
   ]
  },
  {
   "cell_type": "code",
   "execution_count": 92,
   "metadata": {},
   "outputs": [],
   "source": [
    "from sklearn.model_selection import cross_val_score\n",
    "\n",
    "scores = cross_val_score(tree_reg, housing_prepared, housing_labels,\n",
    "                        scoring=\"neg_mean_squared_error\", cv=10)\n",
    "tree_rmse_scores = np.sqrt(-scores)"
   ]
  },
  {
   "cell_type": "markdown",
   "metadata": {},
   "source": [
    "> **CAUTION**\n",
    "* 사이킷런의 교차 검증 기능은 scoring 매개변수에 (낮을수록 좋은)비용 함수가 아니라 (클수록 좋은)효용 함수를 기대한다.\n",
    "    * 그래서 평균 제곱 오차(MSE)의 반댓값(즉, 음수값)을 계산하는 `neg_mean_squared_error` 함수를 사용한다.\n",
    "    * 이런 이유로 제곱근 계산 전 `-scores`로 부호 변경\n",
    "    >> * MSE가 작을수록 좋은 비용 함수이므로 부호가 반대가 되어야 `scoring` 매개변수 정의에 맞는다.\n",
    "     * 회귀 모델에서 `scoring` 매개변수를 지정하지 않으면 기본적으로 0 ~ 1 값을 가지는 `r2_score`가 사용된다.\n",
    "     \n",
    "#### 교차 검증 결과"
   ]
  },
  {
   "cell_type": "code",
   "execution_count": 93,
   "metadata": {
    "scrolled": true
   },
   "outputs": [
    {
     "name": "stdout",
     "output_type": "stream",
     "text": [
      "Scores: [70194.33680785 66855.16363941 72432.58244769 70758.73896782\n",
      " 71115.88230639 75585.14172901 70262.86139133 70273.6325285\n",
      " 75366.87952553 71231.65726027]\n",
      "Mean: 71407.68766037929\n",
      "Standard deviation: 2439.4345041191004\n"
     ]
    }
   ],
   "source": [
    "def display_scores(scores):\n",
    "    print(\"Scores:\", scores)\n",
    "    print(\"Mean:\", scores.mean())\n",
    "    print(\"Standard deviation:\", scores.std())\n",
    "    \n",
    "display_scores(tree_rmse_scores)"
   ]
  },
  {
   "cell_type": "markdown",
   "metadata": {},
   "source": [
    "> * 결정 트리 결과가 이전만큼 좋지 않다.  \n",
    "실제로 선형 회귀 모델보다 나쁘다.\n",
    "* 교차 검증으로 모델 성능 추정 외 이 추정이 얼마나 정확한지(즉, 표준편차) 측정할 수 있다.\n",
    "    * 결정 트리 점수가 대략 평균 71,407에서 ±2,439 사이\n",
    "* 검증 세트를 하나만 사용했다면 이런 정보를 얻지 못한다.  \n",
    "하지만 모델을 여러 번 훈련시켜야 해서 비용이 비싸므로 교차 검증을 언제나 쓸 수 있는 것은 아니다.\n",
    "\n",
    "#### 비교를 위해 선형 회귀 모델의 교차 검증 점수 계산"
   ]
  },
  {
   "cell_type": "code",
   "execution_count": 95,
   "metadata": {},
   "outputs": [
    {
     "name": "stdout",
     "output_type": "stream",
     "text": [
      "Scores: [66782.73843989 66960.118071   70347.95244419 74739.57052552\n",
      " 68031.13388938 71193.84183426 64969.63056405 68281.61137997\n",
      " 71552.91566558 67665.10082067]\n",
      "Mean: 69052.46136345083\n",
      "Standard deviation: 2731.6740017983493\n"
     ]
    }
   ],
   "source": [
    "lin_scores = cross_val_score(lin_reg, housing_prepared, housing_labels,\n",
    "                             scoring=\"neg_mean_squared_error\", cv=10)\n",
    "lin_rmse_scores = np.sqrt(-lin_scores)\n",
    "display_scores(lin_rmse_scores)"
   ]
  },
  {
   "cell_type": "markdown",
   "metadata": {},
   "source": [
    "> 확실히 결정 트리 모델이 과대적합되어 선형 회귀 모델보다 성능이 나쁘다."
   ]
  },
  {
   "cell_type": "markdown",
   "metadata": {},
   "source": [
    "#### 교차 검증 결과 좀 더 편하게 보기"
   ]
  },
  {
   "cell_type": "code",
   "execution_count": 97,
   "metadata": {},
   "outputs": [
    {
     "data": {
      "text/plain": [
       "count       10.000000\n",
       "mean     69052.461363\n",
       "std       2879.437224\n",
       "min      64969.630564\n",
       "25%      67136.363758\n",
       "50%      68156.372635\n",
       "75%      70982.369487\n",
       "max      74739.570526\n",
       "dtype: float64"
      ]
     },
     "execution_count": 97,
     "metadata": {},
     "output_type": "execute_result"
    }
   ],
   "source": [
    "pd.Series(lin_rmse_scores).describe()"
   ]
  },
  {
   "cell_type": "markdown",
   "metadata": {},
   "source": [
    "#### `RandomForestRegressor` 모델 교차 검증해보기\n",
    "* **랜덤 포레스트** : 특성을 무작위로 선택해서 많은 결정 트리를 만들고 그 예측을 평균내는 방식의 앙상블 기법\n",
    "* **앙상블 학습** : 여러 다른 모델을 모아서 하나의 모델을 만드는 것\n",
    "    * 머신러닝 알고리즘의 성능을 극대화하는 방법 중 하나"
   ]
  },
  {
   "cell_type": "code",
   "execution_count": 99,
   "metadata": {},
   "outputs": [
    {
     "data": {
      "text/plain": [
       "21933.31414779769"
      ]
     },
     "execution_count": 99,
     "metadata": {},
     "output_type": "execute_result"
    }
   ],
   "source": [
    "from sklearn.ensemble import RandomForestRegressor\n",
    "\n",
    "# 경고 메세지를 피하기 위해 n_estimator 10으로 설정\n",
    "forest_reg = RandomForestRegressor(n_estimators=10, random_state=42)\n",
    "forest_reg.fit(housing_prepared, housing_labels)\n",
    "housing_predictions = forest_reg.predict(housing_prepared)\n",
    "forest_mse = mean_squared_error(housing_labels, housing_predictions)\n",
    "forest_rmse = np.sqrt(forest_mse)\n",
    "forest_rmse"
   ]
  },
  {
   "cell_type": "code",
   "execution_count": 100,
   "metadata": {},
   "outputs": [
    {
     "name": "stdout",
     "output_type": "stream",
     "text": [
      "Scores: [51646.44545909 48940.60114882 53050.86323649 54408.98730149\n",
      " 50922.14870785 56482.50703987 51864.52025526 49760.85037653\n",
      " 55434.21627933 53326.10093303]\n",
      "Mean: 52583.72407377466\n",
      "Standard deviation: 2298.353351147122\n"
     ]
    }
   ],
   "source": [
    "forest_scores = cross_val_score(forest_reg, housing_prepared, housing_labels,\n",
    "                                scoring=\"neg_mean_squared_error\", cv=10)\n",
    "forest_rmse_scores = np.sqrt(-forest_scores)\n",
    "display_scores(forest_rmse_scores)"
   ]
  },
  {
   "cell_type": "markdown",
   "metadata": {},
   "source": [
    "> 훨씬 좋다.  \n",
    "하지만 훈련 세트에 대한 점수가 검증 세트에 대한 점수보다 훨씬 낮음으로 과대적합\n",
    "\n",
    "#### 과대적합 해결방법\n",
    "1. 모델을 간단히 하는 것\n",
    "2. 제한하는 것(즉, 규제)\n",
    "3. 더 많은 훈련 데이터 모으는 것\n",
    "\n",
    "특정 모델을 더 깊이 들어가기 전에 여러 종류의 머신러닝 알고리즘으로 하이퍼파라미터 조정에 너무 많은 시간을 들이지 않으면서, 다양한 모델(다양한 커널의 SVM, 신경망 등)을 시도해봐야 한다.  \n",
    "가능성 있는 2 ~ 5개 정도의 모델을 선정하는 것이 목적이다.\n",
    "\n",
    "> **TIP**  \n",
    "실험한 모델을 모두 저장해두면 필요할 때 쉽게 모델을 복원할 수 있다.\n",
    "* 교차 검증 점수, 실제 예측값, 하이퍼파라미터, 훈련된 모델 파라미터 모두 저장해야 한다.  \n",
    "이렇게 하면 여러 모델의 점수와 모델이 만든 오차를 쉽게 비교할 수 있다.\n",
    "* 파이썬의 `pickle` 패키지나 `sklearn.externals.joblib`(넘파이 배열을 저장하는 데 아주 효율적)을 사용하여 사이킷런 모델을 간단히 저장할 수 있다."
   ]
  },
  {
   "cell_type": "code",
   "execution_count": null,
   "metadata": {},
   "outputs": [],
   "source": [
    "from sklearn.externals import joblib\n",
    "\n",
    "joblib.dump(my_model, \"my_model.pkl\")\n",
    "# 그리고 나중에...\n",
    "my_model_loaded = joblib.load(\"my_model.pkl\")"
   ]
  },
  {
   "cell_type": "markdown",
   "metadata": {},
   "source": [
    "# 6. 모델 세부 튜닝\n",
    "가능성 있는 모델들을 추렸다면 이 모델들의 세부 튜닝을 해야한다.  \n",
    "가장 단순한 방법은 만족할 만한 하이퍼파라미터 조합을 찾을 때까지 수동으로 하이퍼파라미터를 조정하는 것이다.\n",
    "이는 매우 지루하고 시간이 비효율이다.\n",
    "\n",
    "## 6.1. 그리드 탐색\n",
    "scikit-learn의 `GridSearchCV`를 사용한 탐색\n",
    "* 탐색하고자 하는 하이퍼파라미터와 시도해볼 값을 지정하기만 하면 된다.\n",
    "* 그러면 가능한 모든 하이퍼파라미터 조합에 대해 교차 검증을 사용해 평가한다.\n",
    "\n",
    "#### 랜덤 포레스트에 대한 최적의 하이퍼파라미터 조합 탐색"
   ]
  },
  {
   "cell_type": "code",
   "execution_count": 101,
   "metadata": {},
   "outputs": [
    {
     "data": {
      "text/plain": [
       "GridSearchCV(cv=5, error_score='raise-deprecating',\n",
       "       estimator=RandomForestRegressor(bootstrap=True, criterion='mse', max_depth=None,\n",
       "           max_features='auto', max_leaf_nodes=None,\n",
       "           min_impurity_decrease=0.0, min_impurity_split=None,\n",
       "           min_samples_leaf=1, min_samples_split=2,\n",
       "           min_weight_fraction_leaf=0.0, n_estimators='warn', n_jobs=None,\n",
       "           oob_score=False, random_state=42, verbose=0, warm_start=False),\n",
       "       fit_params=None, iid='warn', n_jobs=None,\n",
       "       param_grid=[{'n_estimators': [3, 10, 30], 'max_features': [2, 4, 6, 8]}, {'bootstrap': [False], 'n_estimators': [3, 10], 'max_features': [2, 3, 4]}],\n",
       "       pre_dispatch='2*n_jobs', refit=True, return_train_score=True,\n",
       "       scoring='neg_mean_squared_error', verbose=0)"
      ]
     },
     "execution_count": 101,
     "metadata": {},
     "output_type": "execute_result"
    }
   ],
   "source": [
    "from sklearn.model_selection import GridSearchCV\n",
    "\n",
    "param_grid = [\n",
    "    # 하이퍼파라미터 12(3*4=12)개 조합을 시도한다.\n",
    "    {'n_estimators': [3, 10, 30], 'max_features': [2, 4, 6, 8]},\n",
    "    # bootstrap은 False로 하고 6개 조합을 시도한다.\n",
    "    {'bootstrap': [False], 'n_estimators': [3, 10], 'max_features': [2, 3, 4]},\n",
    "]\n",
    "forest_reg = RandomForestRegressor(random_state=42)\n",
    "\n",
    "# 5 폴드에서 훈련하면 90((12+6)*5)번 훈련이 일어난다.\n",
    "grid_search = GridSearchCV(forest_reg, param_grid, scoring='neg_mean_squared_error',\n",
    "                           cv=5, return_train_score=True)\n",
    "\n",
    "grid_search.fit(housing_prepared, housing_labels)"
   ]
  },
  {
   "cell_type": "markdown",
   "metadata": {},
   "source": [
    "> * `param_grid` 설정에 따라 scikit-learn이 먼저 첫 번째 dict에 있는 `n_estimators`와 `max_features` 하이퍼파라미터의 조합인 3 * 4 = 12개를 평가하고, 그런 다음 두 번째 dict에 있는 하이퍼파라미터 조합인 2 * 3= 6개를 시도한다.\n",
    "    * 이 때는 `bootstrap` 하이퍼파라미터를 `True`(기본값)가 아니라 `False`로 설정한다.\n",
    "* 모두 합하면 그리드 탐색이 `RandomForestRegressor` 하이퍼파라미터 값의 12 + 6 = 18개 조합을 탐색하고, 각각 다섯 번 모델을 훈련시킨다.  \n",
    "즉 전체 훈련 횟수 : 18 * 5 = 90\n",
    "\n",
    "> **TIP**  \n",
    "어떤 하이퍼파라미터 값을 지정해야 할지 모를 때는 연속된 10의 거듭제곱 수로 시도해보는 것도 좋다.\n",
    "* 더 세밀하게 탐색하려면 위 예제의 `n_estimators` 하이퍼파라미터처럼 더 작은 값을 지정한다.\n",
    "\n",
    "#### 최적의 하이퍼파라미터 값\n",
    "이는 시간이 꽤 오래 걸리지만 다음과 같이 최적의 조합을 얻을 수 있다."
   ]
  },
  {
   "cell_type": "code",
   "execution_count": 102,
   "metadata": {},
   "outputs": [
    {
     "data": {
      "text/plain": [
       "{'max_features': 8, 'n_estimators': 30}"
      ]
     },
     "execution_count": 102,
     "metadata": {},
     "output_type": "execute_result"
    }
   ],
   "source": [
    "grid_search.best_params_"
   ]
  },
  {
   "cell_type": "markdown",
   "metadata": {},
   "source": [
    "> **TIP**  \n",
    "8과 30은 탐색 범위의 최댓값이기 때문에 계속 점수가 향상될 가능성이 있어 더 큰 값으로 다시 검색해야 한다.\n",
    "\n",
    "#### 최적의 추정기\n",
    "최적의 추정기에 직접 접근할 수도 있다."
   ]
  },
  {
   "cell_type": "code",
   "execution_count": 104,
   "metadata": {},
   "outputs": [
    {
     "data": {
      "text/plain": [
       "RandomForestRegressor(bootstrap=True, criterion='mse', max_depth=None,\n",
       "           max_features=8, max_leaf_nodes=None, min_impurity_decrease=0.0,\n",
       "           min_impurity_split=None, min_samples_leaf=1,\n",
       "           min_samples_split=2, min_weight_fraction_leaf=0.0,\n",
       "           n_estimators=30, n_jobs=None, oob_score=False, random_state=42,\n",
       "           verbose=0, warm_start=False)"
      ]
     },
     "execution_count": 104,
     "metadata": {},
     "output_type": "execute_result"
    }
   ],
   "source": [
    "grid_search.best_estimator_"
   ]
  },
  {
   "cell_type": "markdown",
   "metadata": {},
   "source": [
    "> **NOTE**  \n",
    "`GridSearchCV`가 `refit=True`(default)로 초기화되었다면 교차 검증으로 최적의 추정기를 찾은 다음 전체 훈련 세트로 다시 훈련시킨다.  \n",
    "일반적으로 데이터가 많을수록 성능이 향상되므로 좋은 방법이다.\n",
    "\n",
    "#### 조합별 평가 점수 확인\n",
    "조합별로 평가 점수도 확인할 수 있다."
   ]
  },
  {
   "cell_type": "code",
   "execution_count": 105,
   "metadata": {},
   "outputs": [
    {
     "name": "stdout",
     "output_type": "stream",
     "text": [
      "63669.05791727153 {'max_features': 2, 'n_estimators': 3}\n",
      "55627.16171305252 {'max_features': 2, 'n_estimators': 10}\n",
      "53384.57867637289 {'max_features': 2, 'n_estimators': 30}\n",
      "60965.99185930139 {'max_features': 4, 'n_estimators': 3}\n",
      "52740.98248528835 {'max_features': 4, 'n_estimators': 10}\n",
      "50377.344409590376 {'max_features': 4, 'n_estimators': 30}\n",
      "58663.84733372485 {'max_features': 6, 'n_estimators': 3}\n",
      "52006.15355973719 {'max_features': 6, 'n_estimators': 10}\n",
      "50146.465964159885 {'max_features': 6, 'n_estimators': 30}\n",
      "57869.25504027614 {'max_features': 8, 'n_estimators': 3}\n",
      "51711.09443660957 {'max_features': 8, 'n_estimators': 10}\n",
      "49682.25345942335 {'max_features': 8, 'n_estimators': 30}\n",
      "62895.088889905004 {'bootstrap': False, 'max_features': 2, 'n_estimators': 3}\n",
      "54658.14484390074 {'bootstrap': False, 'max_features': 2, 'n_estimators': 10}\n",
      "59470.399594730654 {'bootstrap': False, 'max_features': 3, 'n_estimators': 3}\n",
      "52725.01091081235 {'bootstrap': False, 'max_features': 3, 'n_estimators': 10}\n",
      "57490.612956065226 {'bootstrap': False, 'max_features': 4, 'n_estimators': 3}\n",
      "51009.51445842374 {'bootstrap': False, 'max_features': 4, 'n_estimators': 10}\n"
     ]
    }
   ],
   "source": [
    "cvres = grid_search.cv_results_\n",
    "\n",
    "for mean_score, params in zip(cvres[\"mean_test_score\"], cvres[\"params\"]):\n",
    "    print(np.sqrt(-mean_score), params)"
   ]
  },
  {
   "cell_type": "markdown",
   "metadata": {},
   "source": [
    "> `max_features: 8, n_estimators: 30` 일 때, RMSE 점수가 49,682로 기본 하이퍼파라미터 설정으로 얻은 점수보다 조금 더 좋다."
   ]
  },
  {
   "cell_type": "code",
   "execution_count": 106,
   "metadata": {},
   "outputs": [
    {
     "data": {
      "text/html": [
       "<div>\n",
       "<style scoped>\n",
       "    .dataframe tbody tr th:only-of-type {\n",
       "        vertical-align: middle;\n",
       "    }\n",
       "\n",
       "    .dataframe tbody tr th {\n",
       "        vertical-align: top;\n",
       "    }\n",
       "\n",
       "    .dataframe thead th {\n",
       "        text-align: right;\n",
       "    }\n",
       "</style>\n",
       "<table border=\"1\" class=\"dataframe\">\n",
       "  <thead>\n",
       "    <tr style=\"text-align: right;\">\n",
       "      <th></th>\n",
       "      <th>mean_fit_time</th>\n",
       "      <th>std_fit_time</th>\n",
       "      <th>mean_score_time</th>\n",
       "      <th>std_score_time</th>\n",
       "      <th>param_max_features</th>\n",
       "      <th>param_n_estimators</th>\n",
       "      <th>param_bootstrap</th>\n",
       "      <th>params</th>\n",
       "      <th>split0_test_score</th>\n",
       "      <th>split1_test_score</th>\n",
       "      <th>...</th>\n",
       "      <th>mean_test_score</th>\n",
       "      <th>std_test_score</th>\n",
       "      <th>rank_test_score</th>\n",
       "      <th>split0_train_score</th>\n",
       "      <th>split1_train_score</th>\n",
       "      <th>split2_train_score</th>\n",
       "      <th>split3_train_score</th>\n",
       "      <th>split4_train_score</th>\n",
       "      <th>mean_train_score</th>\n",
       "      <th>std_train_score</th>\n",
       "    </tr>\n",
       "  </thead>\n",
       "  <tbody>\n",
       "    <tr>\n",
       "      <th>0</th>\n",
       "      <td>0.068943</td>\n",
       "      <td>0.006750</td>\n",
       "      <td>0.003672</td>\n",
       "      <td>0.000243</td>\n",
       "      <td>2</td>\n",
       "      <td>3</td>\n",
       "      <td>NaN</td>\n",
       "      <td>{'max_features': 2, 'n_estimators': 3}</td>\n",
       "      <td>-3.837622e+09</td>\n",
       "      <td>-4.147108e+09</td>\n",
       "      <td>...</td>\n",
       "      <td>-4.053749e+09</td>\n",
       "      <td>1.519609e+08</td>\n",
       "      <td>18</td>\n",
       "      <td>-1.064113e+09</td>\n",
       "      <td>-1.105142e+09</td>\n",
       "      <td>-1.116550e+09</td>\n",
       "      <td>-1.112342e+09</td>\n",
       "      <td>-1.129650e+09</td>\n",
       "      <td>-1.105559e+09</td>\n",
       "      <td>2.220402e+07</td>\n",
       "    </tr>\n",
       "    <tr>\n",
       "      <th>1</th>\n",
       "      <td>0.248694</td>\n",
       "      <td>0.056802</td>\n",
       "      <td>0.011606</td>\n",
       "      <td>0.003679</td>\n",
       "      <td>2</td>\n",
       "      <td>10</td>\n",
       "      <td>NaN</td>\n",
       "      <td>{'max_features': 2, 'n_estimators': 10}</td>\n",
       "      <td>-3.047771e+09</td>\n",
       "      <td>-3.254861e+09</td>\n",
       "      <td>...</td>\n",
       "      <td>-3.094381e+09</td>\n",
       "      <td>1.327046e+08</td>\n",
       "      <td>11</td>\n",
       "      <td>-5.927175e+08</td>\n",
       "      <td>-5.870952e+08</td>\n",
       "      <td>-5.776964e+08</td>\n",
       "      <td>-5.716332e+08</td>\n",
       "      <td>-5.802501e+08</td>\n",
       "      <td>-5.818785e+08</td>\n",
       "      <td>7.345821e+06</td>\n",
       "    </tr>\n",
       "    <tr>\n",
       "      <th>2</th>\n",
       "      <td>0.645925</td>\n",
       "      <td>0.018875</td>\n",
       "      <td>0.026768</td>\n",
       "      <td>0.000536</td>\n",
       "      <td>2</td>\n",
       "      <td>30</td>\n",
       "      <td>NaN</td>\n",
       "      <td>{'max_features': 2, 'n_estimators': 30}</td>\n",
       "      <td>-2.689185e+09</td>\n",
       "      <td>-3.021086e+09</td>\n",
       "      <td>...</td>\n",
       "      <td>-2.849913e+09</td>\n",
       "      <td>1.626879e+08</td>\n",
       "      <td>9</td>\n",
       "      <td>-4.381089e+08</td>\n",
       "      <td>-4.391272e+08</td>\n",
       "      <td>-4.371702e+08</td>\n",
       "      <td>-4.376955e+08</td>\n",
       "      <td>-4.452654e+08</td>\n",
       "      <td>-4.394734e+08</td>\n",
       "      <td>2.966320e+06</td>\n",
       "    </tr>\n",
       "    <tr>\n",
       "      <th>3</th>\n",
       "      <td>0.108031</td>\n",
       "      <td>0.004123</td>\n",
       "      <td>0.003176</td>\n",
       "      <td>0.000243</td>\n",
       "      <td>4</td>\n",
       "      <td>3</td>\n",
       "      <td>NaN</td>\n",
       "      <td>{'max_features': 4, 'n_estimators': 3}</td>\n",
       "      <td>-3.730181e+09</td>\n",
       "      <td>-3.786886e+09</td>\n",
       "      <td>...</td>\n",
       "      <td>-3.716852e+09</td>\n",
       "      <td>1.631421e+08</td>\n",
       "      <td>16</td>\n",
       "      <td>-9.865163e+08</td>\n",
       "      <td>-1.012565e+09</td>\n",
       "      <td>-9.169425e+08</td>\n",
       "      <td>-1.037400e+09</td>\n",
       "      <td>-9.707739e+08</td>\n",
       "      <td>-9.848396e+08</td>\n",
       "      <td>4.084607e+07</td>\n",
       "    </tr>\n",
       "    <tr>\n",
       "      <th>4</th>\n",
       "      <td>0.342745</td>\n",
       "      <td>0.006895</td>\n",
       "      <td>0.010318</td>\n",
       "      <td>0.000783</td>\n",
       "      <td>4</td>\n",
       "      <td>10</td>\n",
       "      <td>NaN</td>\n",
       "      <td>{'max_features': 4, 'n_estimators': 10}</td>\n",
       "      <td>-2.666283e+09</td>\n",
       "      <td>-2.784511e+09</td>\n",
       "      <td>...</td>\n",
       "      <td>-2.781611e+09</td>\n",
       "      <td>1.268562e+08</td>\n",
       "      <td>8</td>\n",
       "      <td>-5.097115e+08</td>\n",
       "      <td>-5.162820e+08</td>\n",
       "      <td>-4.962893e+08</td>\n",
       "      <td>-5.436192e+08</td>\n",
       "      <td>-5.160297e+08</td>\n",
       "      <td>-5.163863e+08</td>\n",
       "      <td>1.542862e+07</td>\n",
       "    </tr>\n",
       "  </tbody>\n",
       "</table>\n",
       "<p>5 rows × 23 columns</p>\n",
       "</div>"
      ],
      "text/plain": [
       "   mean_fit_time  std_fit_time  mean_score_time  std_score_time  \\\n",
       "0       0.068943      0.006750         0.003672        0.000243   \n",
       "1       0.248694      0.056802         0.011606        0.003679   \n",
       "2       0.645925      0.018875         0.026768        0.000536   \n",
       "3       0.108031      0.004123         0.003176        0.000243   \n",
       "4       0.342745      0.006895         0.010318        0.000783   \n",
       "\n",
       "  param_max_features param_n_estimators param_bootstrap  \\\n",
       "0                  2                  3             NaN   \n",
       "1                  2                 10             NaN   \n",
       "2                  2                 30             NaN   \n",
       "3                  4                  3             NaN   \n",
       "4                  4                 10             NaN   \n",
       "\n",
       "                                    params  split0_test_score  \\\n",
       "0   {'max_features': 2, 'n_estimators': 3}      -3.837622e+09   \n",
       "1  {'max_features': 2, 'n_estimators': 10}      -3.047771e+09   \n",
       "2  {'max_features': 2, 'n_estimators': 30}      -2.689185e+09   \n",
       "3   {'max_features': 4, 'n_estimators': 3}      -3.730181e+09   \n",
       "4  {'max_features': 4, 'n_estimators': 10}      -2.666283e+09   \n",
       "\n",
       "   split1_test_score       ...         mean_test_score  std_test_score  \\\n",
       "0      -4.147108e+09       ...           -4.053749e+09    1.519609e+08   \n",
       "1      -3.254861e+09       ...           -3.094381e+09    1.327046e+08   \n",
       "2      -3.021086e+09       ...           -2.849913e+09    1.626879e+08   \n",
       "3      -3.786886e+09       ...           -3.716852e+09    1.631421e+08   \n",
       "4      -2.784511e+09       ...           -2.781611e+09    1.268562e+08   \n",
       "\n",
       "   rank_test_score  split0_train_score  split1_train_score  \\\n",
       "0               18       -1.064113e+09       -1.105142e+09   \n",
       "1               11       -5.927175e+08       -5.870952e+08   \n",
       "2                9       -4.381089e+08       -4.391272e+08   \n",
       "3               16       -9.865163e+08       -1.012565e+09   \n",
       "4                8       -5.097115e+08       -5.162820e+08   \n",
       "\n",
       "   split2_train_score  split3_train_score  split4_train_score  \\\n",
       "0       -1.116550e+09       -1.112342e+09       -1.129650e+09   \n",
       "1       -5.776964e+08       -5.716332e+08       -5.802501e+08   \n",
       "2       -4.371702e+08       -4.376955e+08       -4.452654e+08   \n",
       "3       -9.169425e+08       -1.037400e+09       -9.707739e+08   \n",
       "4       -4.962893e+08       -5.436192e+08       -5.160297e+08   \n",
       "\n",
       "   mean_train_score  std_train_score  \n",
       "0     -1.105559e+09     2.220402e+07  \n",
       "1     -5.818785e+08     7.345821e+06  \n",
       "2     -4.394734e+08     2.966320e+06  \n",
       "3     -9.848396e+08     4.084607e+07  \n",
       "4     -5.163863e+08     1.542862e+07  \n",
       "\n",
       "[5 rows x 23 columns]"
      ]
     },
     "execution_count": 106,
     "metadata": {},
     "output_type": "execute_result"
    }
   ],
   "source": [
    "pd.DataFrame(grid_search.cv_results_).head()"
   ]
  },
  {
   "cell_type": "markdown",
   "metadata": {},
   "source": [
    "> **TIP**  \n",
    "* 데이터 준비 단계를 하나의 하이퍼파라미터처럼 다룰 수 있다.\n",
    "    * ex) 그리드 탐색이 확실하지 않은 특성을 추가할지 말지 자동으로 정할 수 있다.\n",
    "        * ex) `CombinedAttributesAdder` 변환기의 `add_bedrooms_per_room` 하이퍼파라미터를 사용하여 특성을 추가할지 결정한다.\n",
    "* 비슷하게 이상치나 값이 빈 특성을 다루거나 특성 선택 등을 자동으로 처리하는 데 그리드 탐색을 사용한다.\n",
    ">> * 데이터 준비 단계와 모델을 연결한 파이프라인을 그리드 탐색에 적용할 때 데이터 준비 단계를 캐싱하면 탐색 시간을 줄일 수 있다.  \n",
    "    https://goo.gl/cq9Nyb\n",
    "\n",
    "\n",
    "그리드 탐색 방법은 비교적 적은 수의 조합을 탐구할 때 괜찮다.  \n",
    "하지만 하이퍼파라미터 탐색 공간이 커지면 `RandomizedSearchCV`를 사용하는 편이 더 좋다.\n",
    "> 특히 규제처럼 설정값이 연속형인 경우 랜덤 탐색이 권장된다.\n",
    "* 랜덤 탐색을 10회 반복하여 찾은 최적의 하이퍼파라미터는 `n_esimators: 180, max_features: 7`이다."
   ]
  },
  {
   "cell_type": "markdown",
   "metadata": {},
   "source": [
    "## 6.2. 랜덤 탐색\n",
    "`RandomizedSearchCV`는 `GridSearchCV`와 거의 같은 방식이지만 가능한 모든 조합을 시도하는 대신 각 반복마다 하이퍼파라미터에 임의의 수를 대입하여 지정한 횟수만큼 평가한다.\n",
    "\n",
    "#### 이 방식의 주요 장점\n",
    "* 랜덤 탐색을 1,000회 반복하도록 실행하면 하이퍼파라미터마다 각기 다른 1,000개의 값을 탐색한다.\n",
    "    * 그리드 탐색은 하이퍼파라미터마다 몇 개의 값만 탐색한다.\n",
    "* 단순히 반복 횟수를 조절하는 것만으로 하이퍼파라미터 탐색에 투입할 컴퓨팅 자원을 제어할 수 있다."
   ]
  },
  {
   "cell_type": "code",
   "execution_count": 107,
   "metadata": {},
   "outputs": [
    {
     "name": "stdout",
     "output_type": "stream",
     "text": [
      "49150.657232934034 {'max_features': 7, 'n_estimators': 180}\n",
      "51389.85295710133 {'max_features': 5, 'n_estimators': 15}\n",
      "50796.12045980556 {'max_features': 3, 'n_estimators': 72}\n",
      "50835.09932039744 {'max_features': 5, 'n_estimators': 21}\n",
      "49280.90117886215 {'max_features': 7, 'n_estimators': 122}\n",
      "50774.86679035961 {'max_features': 3, 'n_estimators': 75}\n",
      "50682.75001237282 {'max_features': 3, 'n_estimators': 88}\n",
      "49608.94061293652 {'max_features': 5, 'n_estimators': 100}\n",
      "50473.57642831875 {'max_features': 3, 'n_estimators': 150}\n",
      "64429.763804893395 {'max_features': 5, 'n_estimators': 2}\n"
     ]
    }
   ],
   "source": [
    "from sklearn.model_selection import RandomizedSearchCV\n",
    "from scipy.stats import randint\n",
    "\n",
    "param_distribs = {\n",
    "    'n_estimators': randint(low=1, high=200),\n",
    "    'max_features': randint(low=1, high=8)\n",
    "}\n",
    "\n",
    "forest_reg = RandomForestRegressor(random_state=42)\n",
    "rnd_search = RandomizedSearchCV(forest_reg, param_distributions=param_distribs,\n",
    "                               n_iter=10, cv=5, scoring='neg_mean_squared_error',\n",
    "                               random_state=42, n_jobs=-1)\n",
    "rnd_search.fit(housing_prepared, housing_labels)\n",
    "cvres = rnd_search.cv_results_\n",
    "\n",
    "for mean_score, params in zip(cvres[\"mean_test_score\"], cvres[\"params\"]):\n",
    "    print(np.sqrt(-mean_score), params)"
   ]
  },
  {
   "cell_type": "markdown",
   "metadata": {},
   "source": [
    "## 6.3. 앙상블 방법\n",
    "* 모델을 세밀하게 튜닝하는 또 다른 방법은 최상의 모델을 연결해보는 것이다.\n",
    "* 모델의 그룹(또는 앙상블, ensemble)이 최상의 단일 모델보다 더 나은 성능을 발휘할 때가 많다.\n",
    "    * ex) 결정 트리의 앙상블인 랜덤 포레스트\n",
    "    * 특히 개개의 모델이 각기 다른 형태의 오차를 만들 때\n",
    "* 7장 참고\n",
    "    \n",
    "## 6.4. 최상의 모델과 오차 분석\n",
    "최상의 모델을 분석하면 문제에 대한 좋은 통찰을 얻는 경우가 많다.  \n",
    "ex)  \n",
    "`RandomForestRegressor`가 정확한 예측을 만들기 위한 각 특성의 상대적인 중요도를 알려준다."
   ]
  },
  {
   "cell_type": "code",
   "execution_count": 108,
   "metadata": {},
   "outputs": [
    {
     "data": {
      "text/plain": [
       "array([7.33442355e-02, 6.29090705e-02, 4.11437985e-02, 1.46726854e-02,\n",
       "       1.41064835e-02, 1.48742809e-02, 1.42575993e-02, 3.66158981e-01,\n",
       "       5.64191792e-02, 1.08792957e-01, 5.33510773e-02, 1.03114883e-02,\n",
       "       1.64780994e-01, 6.02803867e-05, 1.96041560e-03, 2.85647464e-03])"
      ]
     },
     "execution_count": 108,
     "metadata": {},
     "output_type": "execute_result"
    }
   ],
   "source": [
    "feature_importances = grid_search.best_estimator_.feature_importances_\n",
    "feature_importances"
   ]
  },
  {
   "cell_type": "markdown",
   "metadata": {},
   "source": [
    "#### 중요도와 그에 대응하는 특성 이름 표시\n",
    "사이킷런 0.20 버전의 `ColumnTransformer`를 사용했기 때문에 `full_pipline`에서 `cat_encoder`를 가져온다.  \n",
    "즉 `cat_pipline`을 사용하지 않는다."
   ]
  },
  {
   "cell_type": "code",
   "execution_count": 109,
   "metadata": {},
   "outputs": [
    {
     "data": {
      "text/plain": [
       "[(0.3661589806181342, 'median_income'),\n",
       " (0.1647809935615905, 'INLAND'),\n",
       " (0.10879295677551573, 'pop_per_hhold'),\n",
       " (0.07334423551601242, 'longitude'),\n",
       " (0.0629090704826203, 'latitude'),\n",
       " (0.05641917918195401, 'rooms_per_hhold'),\n",
       " (0.05335107734767581, 'bedrooms_per_room'),\n",
       " (0.041143798478729635, 'housing_median_age'),\n",
       " (0.014874280890402767, 'population'),\n",
       " (0.014672685420543237, 'total_rooms'),\n",
       " (0.014257599323407807, 'households'),\n",
       " (0.014106483453584102, 'total_bedrooms'),\n",
       " (0.010311488326303787, '<1H OCEAN'),\n",
       " (0.002856474637320158, 'NEAR OCEAN'),\n",
       " (0.00196041559947807, 'NEAR BAY'),\n",
       " (6.028038672736599e-05, 'ISLAND')]"
      ]
     },
     "execution_count": 109,
     "metadata": {},
     "output_type": "execute_result"
    }
   ],
   "source": [
    "extra_attribs = [\"rooms_per_hhold\", \"pop_per_hhold\", \"bedrooms_per_room\"]\n",
    "# cat_encoder = cat_pipeline.named_steps[\"cat_encoder\"]\n",
    "cat_encoder = full_pipeline.named_transformers_[\"cat_encoder\"]\n",
    "cat_one_hot_attribs = list(cat_encoder.categories_[0])\n",
    "attributes = num_attribs + extra_attribs + cat_one_hot_attribs\n",
    "sorted(zip(feature_importances, attributes), reverse=True)"
   ]
  },
  {
   "cell_type": "markdown",
   "metadata": {},
   "source": [
    "> 이 정보를 바탕으로 덜 중요한 특성을 제외할 수 있다.  \n",
    "ex)  \n",
    "ocean_proximity 카테고리 중 하나만 실제로 유용하므로 다른 카테고리는 제외할 수 있다.\n",
    "\n",
    "시스템이 특정한 오차를 만들었다면 왜 그런 문제가 생겼는지 이해하고 문제를 해결하는 방법을 찾아야 한다.\n",
    "* 추가 특성을 포함시키거나, 반대로 불필요한 특성을 제거하거나, 이상치를 제외하는 등"
   ]
  },
  {
   "cell_type": "markdown",
   "metadata": {},
   "source": [
    "## 6.5. 테스트 세트로 시스템 평가하기\n",
    "어느 정도 모델을 튜닝하면 마침내 만족할 만한 모델을 얻는다.  \n",
    "그럼 이제 테스트 세트로 최종 모델을 평가할 차례이다.  \n",
    "이 과정에 특별히 다른 점은 없다.  \n",
    "테스트 세트에서 예측 변수와 레이블을 얻은 후 `full_pipeline`을 사용해 데이터를 변환하고(`fit_transform()`이 아니라 `transform()`을 호출해야 한다!) 테스트 세트에서 최종 모델을 평가한다."
   ]
  },
  {
   "cell_type": "code",
   "execution_count": 111,
   "metadata": {},
   "outputs": [
    {
     "data": {
      "text/plain": [
       "47730.22690385927"
      ]
     },
     "execution_count": 111,
     "metadata": {},
     "output_type": "execute_result"
    }
   ],
   "source": [
    "final_model = grid_search.best_estimator_\n",
    "\n",
    "X_test = strat_test_set.drop(\"median_house_value\", axis=1)\n",
    "y_test = strat_test_set[\"median_house_value\"].copy()\n",
    "\n",
    "X_test_prepared = full_pipeline.transform(X_test)\n",
    "\n",
    "final_predictions = final_model.predict(X_test_prepared)\n",
    "\n",
    "final_mse = mean_squared_error(y_test, final_predictions)\n",
    "final_rmse = np.sqrt(final_mse)\n",
    "final_rmse"
   ]
  },
  {
   "cell_type": "markdown",
   "metadata": {},
   "source": [
    "> * 하이퍼파라미터 튜닝을 많이 했다면 교차 검증을 사용해 측정한 것보다 조금 성능이 낮은 것이 보통이다.\n",
    "    * 우리 시스템이 검증 데이터에서 좋은 성능을 내도록 세밀하게 튜닝되었기 때문에 새로운 데이터셋에는 잘 작동하지 않을 가능성이 크다.\n",
    "* 이 예제에서는 성능이 낮아지진 않았지만, 이런 경우가 생기더라도 테스트 세트에서 성능 수치를 좋게 하려고 하이퍼파라미터 튜닝 시도를 해서는 안된다.  \n",
    "그렇게 향상된 성능은 새로운 데이터에 일반화되기 어렵다.\n",
    "\n",
    "#### 테스트 RMSE에 대한 95% 신뢰 구간 계산"
   ]
  },
  {
   "cell_type": "code",
   "execution_count": 112,
   "metadata": {},
   "outputs": [
    {
     "data": {
      "text/plain": [
       "array([45685.10470776, 49691.25001878])"
      ]
     },
     "execution_count": 112,
     "metadata": {},
     "output_type": "execute_result"
    }
   ],
   "source": [
    "from scipy import stats\n",
    "\n",
    "confidence = 0.95\n",
    "squared_errors = (final_predictions - y_test) ** 2\n",
    "mean = squared_errors.mean()\n",
    "m = len(squared_errors)\n",
    "\n",
    "np.sqrt(stats.t.interval(confidence, m - 1, loc=np.mean(squared_errors),\n",
    "                        scale=stats.sem(squared_errors)))"
   ]
  },
  {
   "cell_type": "markdown",
   "metadata": {},
   "source": [
    "#### 신뢰 구간 수동 계산"
   ]
  },
  {
   "cell_type": "code",
   "execution_count": 113,
   "metadata": {},
   "outputs": [
    {
     "data": {
      "text/plain": [
       "(45685.10470776, 49691.25001877858)"
      ]
     },
     "execution_count": 113,
     "metadata": {},
     "output_type": "execute_result"
    }
   ],
   "source": [
    "tscore = stats.t.ppf((1 + confidence)/2, df=m-1)\n",
    "tmargin = tscore * squared_errors.std(ddof=1) / np.sqrt(m)\n",
    "np.sqrt(mean - tmargin), np.sqrt(mean + tmargin)"
   ]
  },
  {
   "cell_type": "markdown",
   "metadata": {},
   "source": [
    "#### z점수 계산"
   ]
  },
  {
   "cell_type": "code",
   "execution_count": 114,
   "metadata": {},
   "outputs": [
    {
     "data": {
      "text/plain": [
       "(45685.717918136455, 49690.68623889413)"
      ]
     },
     "execution_count": 114,
     "metadata": {},
     "output_type": "execute_result"
    }
   ],
   "source": [
    "zscore = stats.norm.ppf((1 + confidence) / 2)\n",
    "zmargin = zscore * squared_errors.std(ddof=1) / np.sqrt(m)\n",
    "np.sqrt(mean - zmargin), np.sqrt(mean + zmargin)"
   ]
  },
  {
   "cell_type": "markdown",
   "metadata": {},
   "source": [
    "이제 프로젝트 론칭 직전 단계에 왔다.  \n",
    "솔루션(학습한 것, 한 일과 하지 않은 일, 수립한 가정, 시스템 제한사항 등을 강조하면서)과 문서를 출시하고, 깔끔한 도표와 기억하기 쉬운 제목으로(예. 수입의 중간값이 주택 가격 예측의 가장 중요한 지표다.') 멋진 발표 자료를 만들어야 한다."
   ]
  },
  {
   "cell_type": "markdown",
   "metadata": {},
   "source": [
    "# 7. 론칭, 모니터링, 그리고 시스템 유지 보수\n",
    "\n",
    "#### 론칭 전 준비\n",
    "솔루션 론칭 허가 받은 후 이제 제품 시스템에 적용하기 위한 준비를 해야 한다.\n",
    "* 특히 입력 데이터 소스를 우리 시스템에 연결하고 테스트 코드를 작성해야 한다.\n",
    "* 또한 일정 간격으로 시스템의 실시간 성능을 체크하고 성능이 떨어졌을 때 알람을 통지할 수 있는 모니터링 코드를 작성해야 한다.\n",
    "    * 갑작스런 오작동뿐만 아니라 성능 감소 상황을 잡아내기 위해서도 아주 중요하다.\n",
    "    * 새로운 데이터를 사용해 주기적으로 훈련시키지 않으면 데이터가 오래됨에 따라 모델도 함께 낙후되는 것이 일반적이다.\n",
    "    \n",
    "#### 유지보수; 시스템 성능 평가\n",
    "시스템의 성능을 평가하려면 시스템의 예측을 샘플링해서 평가해야 한다.\n",
    "* 일반적으로 이런 과정에는 사람의 분석이 필요\n",
    "* 이런 분석가는 해당 분야의 전문가이거나 크라우드 소싱 플랫폼에서 구한 인력일 수 있다.\n",
    "* 어느 쪽이든 사람의 분석 파이프라인과 시스템을 연결해야 한다.\n",
    "\n",
    "#### 유지보수; 입력 데이터 품질 평가\n",
    "시스템의 입력 데이터 품질 역시 평가해야 한다.\n",
    "* 가끔 품질 낮은 시그널(예. 오작동하는 센서가 예측 불허의 값을 보낸다거나 다른 팀의 출력이 멈춰 있는 경우) 때문에 성능이 조금 감소하지만 알람이 울릴 정도로 감소되기까지 다소 시간이 걸린다.\n",
    "* 시스템의 입력을 모니터링하면 이보다 일찍 알 수 있다.\n",
    "* 특히 온라인 학습 시스템에서는 입력을 모니터링하는 일이 중요하다.\n",
    " \n",
    "#### 유지보수; 정기적 모델 훈련\n",
    "마지막으로 새로운 데이터를 사용해 정기적으로 모델을 훈련시켜야 한다.\n",
    "* 가능하면 이 과정을 자동화할 것\n",
    "* 그렇지 않으면 (기껏해야) 6개월마다 모델을 갱신하게 될 것이고, 시스템의 성능이 시간에 따라 심하게 출렁일 것이다.\n",
    "* 온라인 학습 시스템이라면 일정 간격으로 시스템의 상태를 스냅샷으로 저장해서 이전 상태로 쉽게 되돌릴 수 있도록 해야한다."
   ]
  },
  {
   "cell_type": "markdown",
   "metadata": {},
   "source": [
    "# 추가 내용\n",
    "## p.s. 1. 전처리와 예측을 포함한 파이프라인"
   ]
  },
  {
   "cell_type": "code",
   "execution_count": 116,
   "metadata": {},
   "outputs": [
    {
     "data": {
      "text/plain": [
       "array([210644.60459286, 317768.80697211, 210956.43331178,  59218.98886849,\n",
       "       189747.55849879])"
      ]
     },
     "execution_count": 116,
     "metadata": {},
     "output_type": "execute_result"
    }
   ],
   "source": [
    "full_pipeline_with_predictor = Pipeline([\n",
    "    (\"preparation\", full_pipeline),\n",
    "    (\"linear\", LinearRegression())\n",
    "])\n",
    "full_pipeline_with_predictor.fit(housing, housing_labels)\n",
    "full_pipeline_with_predictor.predict(some_data)"
   ]
  },
  {
   "cell_type": "markdown",
   "metadata": {},
   "source": [
    "## p.s. 2. `joblib`을 사용한 모델 저장"
   ]
  },
  {
   "cell_type": "code",
   "execution_count": 119,
   "metadata": {},
   "outputs": [],
   "source": [
    "my_model = full_pipeline_with_predictor"
   ]
  },
  {
   "cell_type": "code",
   "execution_count": 120,
   "metadata": {},
   "outputs": [],
   "source": [
    "from sklearn.externals import joblib\n",
    "joblib.dump(my_model, \"my_model.pkl\") # DIFF\n",
    "#...\n",
    "my_model_loaded = joblib.load(\"my_model.pkl\") # DIFF"
   ]
  },
  {
   "cell_type": "markdown",
   "metadata": {},
   "source": [
    "## p.s. 3 RandomizedSearchCV을 위한 Scipy 분포 함수"
   ]
  },
  {
   "cell_type": "code",
   "execution_count": 117,
   "metadata": {},
   "outputs": [
    {
     "data": {
      "image/png": "[encoded data removed]",
      "text/plain": [
       "<Figure size 432x288 with 1 Axes>"
      ]
     },
     "metadata": {
      "needs_background": "light"
     },
     "output_type": "display_data"
    },
    {
     "data": {
      "image/png": "[encoded data removed]",
      "text/plain": [
       "<Figure size 432x288 with 1 Axes>"
      ]
     },
     "metadata": {
      "needs_background": "light"
     },
     "output_type": "display_data"
    }
   ],
   "source": [
    "from scipy.stats import geom, expon\n",
    "\n",
    "geom_distrib=geom(0.5).rvs(10000, random_state=42)\n",
    "expon_distrib=expon(scale=1).rvs(100000, random_state=42)\n",
    "plt.hist(geom_distrib, bins=50)\n",
    "plt.show()\n",
    "plt.hist(expon_distrib, bins=50)\n",
    "plt.show()"
   ]
  },
  {
   "cell_type": "markdown",
   "metadata": {},
   "source": [
    "# 연습 문제\n",
    "이 장에서 소개한 주택 가격 데이터셋을 사용해 문제를 푸세요.\n",
    "\n",
    "## 1.\n",
    "서포트 벡터 머신 회귀(`sklear.svm.SVR`)를 `kernel=\"linear\"`(하이퍼파라미터 `C`를 바꿔가며)나 `kernel=\"rbf\"`(하이퍼파라미터 `C`와 `gamma`를 바꿔가며) 등의 다양한 하이퍼파라미터 설정으로 시도해보세요. 지금은 이 하이퍼파라미터가 무엇을 의미하는지 너무 신경쓰지 마세요. 최상의 `SVR` 모델은 무엇인가요?"
   ]
  },
  {
   "cell_type": "markdown",
   "metadata": {},
   "source": [
    "## 2.\n",
    "`GridSearchCV`를 `RandomizedSearchCV`로 바꿔보세요."
   ]
  },
  {
   "cell_type": "markdown",
   "metadata": {},
   "source": [
    "## 3.\n",
    "가장 중요한 특성을 선택하는 변환기를 준비 파이프라인에 추가해보세요."
   ]
  },
  {
   "cell_type": "markdown",
   "metadata": {},
   "source": [
    "## 4.\n",
    "전체 데이터 준비 과정과 최종 예측을 하나의 파이프라인으로 만들어 보세요."
   ]
  },
  {
   "cell_type": "markdown",
   "metadata": {},
   "source": [
    "## 5.\n",
    "`GridSearchCV`를 사용해 준비 단계의 옵션을 자동으로 탐색해보세요."
   ]
  }
 ],
 "metadata": {
  "kernelspec": {
   "display_name": "Python 3",
   "language": "python",
   "name": "python3"
  },
  "language_info": {
   "codemirror_mode": {
    "name": "ipython",
    "version": 3
   },
   "file_extension": ".py",
   "mimetype": "text/x-python",
   "name": "python",
   "nbconvert_exporter": "python",
   "pygments_lexer": "ipython3",
   "version": "3.6.6"
  }
 },
 "nbformat": 4,
 "nbformat_minor": 2
}

{
 "cells": [
  {
   "cell_type": "markdown",
   "metadata": {},
   "source": [
    "# 지도학습\n",
    "## 1. 분류와 회귀"
   ]
  },
  {
   "cell_type": "markdown",
   "metadata": {},
   "source": [
    "### 1.1 분류 "
   ]
  },
  {
   "cell_type": "code",
   "execution_count": 2,
   "metadata": {},
   "outputs": [],
   "source": [
    "# 이진 분류(binary classification): 2개의 class로 분류\n",
    "# - 한 클래스를 양성(positive) 클래스, 다른 하나를 음성(negative) 클래스라고도 함\n",
    "# - positive class란 좋은 값이나 장점을 나타내는 것이 아니라 학습하고자 하는 대상 의미\n",
    "# 다중 분류(multiclass classification): 3개 이상의 class로 분류"
   ]
  },
  {
   "cell_type": "markdown",
   "metadata": {},
   "source": [
    "### 1.2 회귀"
   ]
  },
  {
   "cell_type": "code",
   "execution_count": 3,
   "metadata": {},
   "outputs": [],
   "source": [
    "# 회귀: 연속적인 숫자, 또는 부동소수점(실수)를 예측하는 것"
   ]
  },
  {
   "cell_type": "markdown",
   "metadata": {},
   "source": [
    "### 1.3 분류와 회귀"
   ]
  },
  {
   "cell_type": "code",
   "execution_count": 4,
   "metadata": {},
   "outputs": [],
   "source": [
    "# 출력값에 연속성이 있다면 회귀 문제\n",
    "# 없으면 분류"
   ]
  },
  {
   "cell_type": "markdown",
   "metadata": {},
   "source": [
    "## 2. 일반화, 과대적합, 과소적합"
   ]
  },
  {
   "cell_type": "markdown",
   "metadata": {},
   "source": [
    "### 일반화(generalization)"
   ]
  },
  {
   "cell_type": "code",
   "execution_count": 6,
   "metadata": {},
   "outputs": [],
   "source": [
    "# - 모델이 처음 보는 데이터에 대해 정확하게 예측할 수 있으면 training set에서 \n",
    "#   test set로 일반화되었다고 한다.\n",
    "# - 그래서 모델을 만들 때는 가능한 한 정확하게 일반화되도록 해야 한다."
   ]
  },
  {
   "cell_type": "markdown",
   "metadata": {},
   "source": [
    "### 과대적합(overfitting)"
   ]
  },
  {
   "cell_type": "code",
   "execution_count": 7,
   "metadata": {},
   "outputs": [],
   "source": [
    "# 가진 정보를 모두 사용해서 너무 복잡한 모델을 만드는 것\n",
    "# 모델이 training set의 각 sample에 너무 가깝게 맞춰져서\n",
    "# 새로운 데이터에 일반화되기 어려울 때 발생\n",
    "# ex) \"45세 이상이고, 자녀가 3명 미만이며, 이혼하지 않은 고객은 요트를 살 것이다\""
   ]
  },
  {
   "cell_type": "markdown",
   "metadata": {},
   "source": [
    "### 과소적합(underfitting)"
   ]
  },
  {
   "cell_type": "code",
   "execution_count": 8,
   "metadata": {},
   "outputs": [],
   "source": [
    "# 반대로 너무 간단한 모델이 선택되는 것\n",
    "# 이 경우 데이터의 면면과 다양성을 잡아내지 못할 것이고,\n",
    "# training set에도 잘 맞지 않을 것이다.\n",
    "# ex) \"집이 있는 사람은 모두 요트를 사려고 한다.\""
   ]
  },
  {
   "cell_type": "code",
   "execution_count": 9,
   "metadata": {},
   "outputs": [],
   "source": [
    "# 모델을 복잡하게 할수록 training data에 대해서는 더 정확히 예측 할 수 있지만\n",
    "# training set의 각 data point에 너무 민감해져 새로운 data에 잘 일반화되지 못한다.\n",
    "# 따라서 모델을 만들기 위해선 일반화 성능이 최대가 되는 최적점에 있는 모델을\n",
    "# 만들어야 한다."
   ]
  },
  {
   "cell_type": "markdown",
   "metadata": {},
   "source": [
    "### 2.1 모델 복잡도와 data set 크기의 관계"
   ]
  },
  {
   "cell_type": "code",
   "execution_count": 10,
   "metadata": {},
   "outputs": [],
   "source": [
    "# 모델의 복잡도는 training set에 담긴 입력 data의 다양성과 관련이 깊다.\n",
    "# data set에 다양한 data point가 많을수록 과대적합없이 더 복잡한 모델을 만들 수 있다. "
   ]
  }
 ],
 "metadata": {
  "kernelspec": {
   "display_name": "Python 3",
   "language": "python",
   "name": "python3"
  },
  "language_info": {
   "codemirror_mode": {
    "name": "ipython",
    "version": 3
   },
   "file_extension": ".py",
   "mimetype": "text/x-python",
   "name": "python",
   "nbconvert_exporter": "python",
   "pygments_lexer": "ipython3",
   "version": "3.6.5"
  }
 },
 "nbformat": 4,
 "nbformat_minor": 2
}

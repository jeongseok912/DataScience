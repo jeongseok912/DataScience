{
 "cells": [
  {
   "cell_type": "markdown",
   "metadata": {},
   "source": [
    "# 1. 과소적합, 과대적합"
   ]
  },
  {
   "cell_type": "code",
   "execution_count": 1,
   "metadata": {},
   "outputs": [],
   "source": [
    "# 과소적합: 훈련 데이터의 다양한 특징을 반영하지 못하는 모델\n",
    "# 과대적합: 훈련 데이터에 너무 맞춰져 있어서 새로운 데이터에 일반적이지 못한 모델"
   ]
  },
  {
   "cell_type": "markdown",
   "metadata": {},
   "source": [
    "# 2. 지도학습 모델 요약"
   ]
  },
  {
   "cell_type": "markdown",
   "metadata": {},
   "source": [
    "## 2-1. 최근접 이웃"
   ]
  },
  {
   "cell_type": "code",
   "execution_count": 2,
   "metadata": {},
   "outputs": [],
   "source": [
    "# 작은 데이터셋일 경우, 기본 모델로서 좋고 설명하기 쉬움"
   ]
  },
  {
   "cell_type": "markdown",
   "metadata": {},
   "source": [
    "## 2-2. 선형 모델"
   ]
  },
  {
   "cell_type": "code",
   "execution_count": 3,
   "metadata": {},
   "outputs": [],
   "source": [
    "# 첫 번째로 시도할 알고리즘\n",
    "# 대용량 데이터셋 가능\n",
    "# 고차원 데이터에 가능"
   ]
  },
  {
   "cell_type": "markdown",
   "metadata": {},
   "source": [
    "## 2-3. 나이브 베이즈"
   ]
  },
  {
   "cell_type": "code",
   "execution_count": 4,
   "metadata": {},
   "outputs": [],
   "source": [
    "# 분류만 가능\n",
    "# 선형 모델보다 훨씬 빠름\n",
    "# 대용량 데이터셋과 고차원 데이터에 가능\n",
    "# 선형 모델보다 덜 정확함"
   ]
  },
  {
   "cell_type": "markdown",
   "metadata": {},
   "source": [
    "## 2-4. 결정 트리"
   ]
  },
  {
   "cell_type": "code",
   "execution_count": 5,
   "metadata": {},
   "outputs": [],
   "source": [
    "# 매우 빠름\n",
    "# 데이터 스케일 조정이 필요 없음\n",
    "# 시각화하기 좋고 설명하기 쉬움"
   ]
  },
  {
   "cell_type": "markdown",
   "metadata": {},
   "source": [
    "## 2-5. 랜덤 포레스트"
   ]
  },
  {
   "cell_type": "code",
   "execution_count": 6,
   "metadata": {},
   "outputs": [],
   "source": [
    "# 결정 트리 하나보다 거의 항상 좋은 성능을 냄\n",
    "# 매우 안정적이고 강력함\n",
    "# 데이터 스케일 조정 필요 없음\n",
    "# 고차원 희소 데이터에는 잘 안 맞음"
   ]
  },
  {
   "cell_type": "markdown",
   "metadata": {},
   "source": [
    "## 2-6. 그래디언트 부스팅 결정 트리"
   ]
  },
  {
   "cell_type": "code",
   "execution_count": 7,
   "metadata": {},
   "outputs": [],
   "source": [
    "# 랜덤 포레스트보다 조금 더 성능이 좋음\n",
    "# 랜덤 포레스트보다 학습은 느리나, 예측은 빠르고 메모리를 조금 사용\n",
    "# 랜덤 포레스트보다 매개변수 튜닝이 많이 필요함"
   ]
  },
  {
   "cell_type": "markdown",
   "metadata": {},
   "source": [
    "## 2-7. 서포트 벡터 머신"
   ]
  },
  {
   "cell_type": "code",
   "execution_count": 8,
   "metadata": {},
   "outputs": [],
   "source": [
    "# 비슷한 의미의 특성으로 이뤄진 중간 규모 데이터셋에 잘 맞음\n",
    "# 데이터 스케일 조정 필요\n",
    "# 매개변수에 민감"
   ]
  },
  {
   "cell_type": "markdown",
   "metadata": {},
   "source": [
    "## 2-8. 신경망"
   ]
  },
  {
   "cell_type": "code",
   "execution_count": 9,
   "metadata": {},
   "outputs": [],
   "source": [
    "# 특별히 대용량 데이터셋에서 매우 복잡한 모델을 만들 수 있음\n",
    "# 매개변수 선택과 데이터 스케일에 민감\n",
    "# 큰 모델은 학습이 오래 걸림"
   ]
  },
  {
   "cell_type": "markdown",
   "metadata": {},
   "source": [
    "# 3. 알고리즘 적용법"
   ]
  },
  {
   "cell_type": "code",
   "execution_count": 10,
   "metadata": {},
   "outputs": [],
   "source": [
    "# 새로운 데이터셋으로 작업할 때\n",
    "# 1) 선형 모델/나이브 베이즈/최근접 이웃 분류기 같은 간단한 모델로 시작해서\n",
    "#    성능이 얼마나 나오는지 가늠해보는 것이 좋다.\n",
    "# 2) 데이터를 충분히 이해한 뒤 랜덤 포레스트/그래디언트 부스팅 결정 트리, SVM, 신경망\n",
    "#    같은 복잡한 모델을 만들 수 있는 알고리즘을 고려해볼 수 있다."
   ]
  },
  {
   "cell_type": "markdown",
   "metadata": {},
   "source": [
    "# 4. 알고리즘 익숙해지는 방법"
   ]
  },
  {
   "cell_type": "code",
   "execution_count": null,
   "metadata": {},
   "outputs": [],
   "source": [
    "# scikit-learn에 내장된 데이터셋에 적용해보기\n",
    "# boston_housing, diabetes: 회귀용 데이터셋\n",
    "# digits: 다중 분류용 데이터셋\n",
    "\n",
    "# 여러 데이터셋에 알고리즘을 적용해보면 학습시간이 얼마나 필요한지,\n",
    "# 모델을 해석하기가 쉬운지, 데이터 형태에 얼마나 민감하지 더 잘 이해할 수 있다."
   ]
  }
 ],
 "metadata": {
  "kernelspec": {
   "display_name": "Python 3",
   "language": "python",
   "name": "python3"
  },
  "language_info": {
   "codemirror_mode": {
    "name": "ipython",
    "version": 3
   },
   "file_extension": ".py",
   "mimetype": "text/x-python",
   "name": "python",
   "nbconvert_exporter": "python",
   "pygments_lexer": "ipython3",
   "version": "3.6.5"
  }
 },
 "nbformat": 4,
 "nbformat_minor": 2
}

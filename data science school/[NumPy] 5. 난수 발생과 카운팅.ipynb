{
 "cells": [
  {
   "cell_type": "code",
   "execution_count": 2,
   "metadata": {},
   "outputs": [],
   "source": [
    "import numpy as np"
   ]
  },
  {
   "cell_type": "markdown",
   "metadata": {},
   "source": [
    "# 1. 시드 설정\n",
    "시드(seed) : 난수처럼 보이는 수열의 시작 숫자\n",
    "   > 컴퓨터 프로그램의 난수는 엄격한 의미의 난수가 아니다. 특정 시작 숫자를 정해주면 정해진 알고리즘에 의해 마치 난수처럼 보이는 수열을 생성한다.\n",
    "\n",
    "* 생성된 난수는 다음번 난수 생성을 위한 시드값이 된다. 따라서 시드값은 한 번만 정해주면 된다.\n",
    "* 시드는 보통 현재 시각 등 이용하여 자동으로 정해지지만 수동 설정도 가능\n",
    "* 특정 시드값 사용 시 그 다음에 만들어지는 난수들은 모두 예측 가능"
   ]
  },
  {
   "cell_type": "markdown",
   "metadata": {},
   "source": [
    "##### seed\n",
    "시드를 설정한다.\n",
    "* 인수 : 0과 같거나 큰 정수"
   ]
  },
  {
   "cell_type": "code",
   "execution_count": 3,
   "metadata": {},
   "outputs": [],
   "source": [
    "np.random.seed(0)"
   ]
  },
  {
   "cell_type": "markdown",
   "metadata": {},
   "source": [
    "##### rand\n",
    "0 ~ 1 사이에 있는 값의 난수 생성\n",
    "* 인수 : 생성할 난수 개수"
   ]
  },
  {
   "cell_type": "code",
   "execution_count": 4,
   "metadata": {},
   "outputs": [
    {
     "data": {
      "text/plain": [
       "array([0.5488135 , 0.71518937, 0.60276338, 0.54488318, 0.4236548 ])"
      ]
     },
     "execution_count": 4,
     "metadata": {},
     "output_type": "execute_result"
    }
   ],
   "source": [
    "np.random.rand(5)"
   ]
  },
  {
   "cell_type": "code",
   "execution_count": 5,
   "metadata": {},
   "outputs": [
    {
     "data": {
      "text/plain": [
       "array([0.64589411, 0.43758721, 0.891773  , 0.96366276, 0.38344152,\n",
       "       0.79172504, 0.52889492, 0.56804456, 0.92559664, 0.07103606])"
      ]
     },
     "execution_count": 5,
     "metadata": {},
     "output_type": "execute_result"
    }
   ],
   "source": [
    "np.random.rand(10)"
   ]
  },
  {
   "cell_type": "code",
   "execution_count": 6,
   "metadata": {},
   "outputs": [
    {
     "data": {
      "text/plain": [
       "array([0.0871293 , 0.0202184 , 0.83261985, 0.77815675, 0.87001215,\n",
       "       0.97861834, 0.79915856, 0.46147936, 0.78052918, 0.11827443])"
      ]
     },
     "execution_count": 6,
     "metadata": {},
     "output_type": "execute_result"
    }
   ],
   "source": [
    "np.random.rand(10)"
   ]
  },
  {
   "cell_type": "markdown",
   "metadata": {},
   "source": [
    "seed를 0으로 재설정 후 다시 난수 발생\n",
    "* 아까와 동일한 숫자가 출력된다."
   ]
  },
  {
   "cell_type": "code",
   "execution_count": 7,
   "metadata": {},
   "outputs": [
    {
     "data": {
      "text/plain": [
       "array([0.5488135 , 0.71518937, 0.60276338, 0.54488318, 0.4236548 ])"
      ]
     },
     "execution_count": 7,
     "metadata": {},
     "output_type": "execute_result"
    }
   ],
   "source": [
    "np.random.seed(0)\n",
    "np.random.rand(5)"
   ]
  },
  {
   "cell_type": "code",
   "execution_count": 8,
   "metadata": {},
   "outputs": [
    {
     "data": {
      "text/plain": [
       "array([0.64589411, 0.43758721, 0.891773  , 0.96366276, 0.38344152,\n",
       "       0.79172504, 0.52889492, 0.56804456, 0.92559664, 0.07103606])"
      ]
     },
     "execution_count": 8,
     "metadata": {},
     "output_type": "execute_result"
    }
   ],
   "source": [
    "np.random.rand(10)"
   ]
  },
  {
   "cell_type": "code",
   "execution_count": 9,
   "metadata": {},
   "outputs": [
    {
     "data": {
      "text/plain": [
       "array([0.0871293 , 0.0202184 , 0.83261985, 0.77815675, 0.87001215,\n",
       "       0.97861834, 0.79915856, 0.46147936, 0.78052918, 0.11827443])"
      ]
     },
     "execution_count": 9,
     "metadata": {},
     "output_type": "execute_result"
    }
   ],
   "source": [
    "np.random.rand(10)"
   ]
  },
  {
   "cell_type": "markdown",
   "metadata": {},
   "source": [
    "# 2. 데이터 순서 바꾸기"
   ]
  },
  {
   "cell_type": "markdown",
   "metadata": {},
   "source": [
    "##### shuffle\n",
    "데이터 순서를 바꾼다."
   ]
  },
  {
   "cell_type": "code",
   "execution_count": 11,
   "metadata": {},
   "outputs": [
    {
     "data": {
      "text/plain": [
       "array([0, 1, 2, 3, 4, 5, 6, 7, 8, 9])"
      ]
     },
     "execution_count": 11,
     "metadata": {},
     "output_type": "execute_result"
    }
   ],
   "source": [
    "x = np.arange(10)\n",
    "x"
   ]
  },
  {
   "cell_type": "code",
   "execution_count": 13,
   "metadata": {},
   "outputs": [
    {
     "data": {
      "text/plain": [
       "array([4, 2, 1, 7, 3, 0, 6, 5, 8, 9])"
      ]
     },
     "execution_count": 13,
     "metadata": {},
     "output_type": "execute_result"
    }
   ],
   "source": [
    "np.random.shuffle(x)\n",
    "x"
   ]
  },
  {
   "cell_type": "markdown",
   "metadata": {},
   "source": [
    "# 3. 데이터 샘플링\n",
    "샘플링(sampling) : 이미 있는 데이터 집합에서 일부를 무작위로 선택하는 것"
   ]
  },
  {
   "cell_type": "markdown",
   "metadata": {},
   "source": [
    "##### choice\n",
    "샘플링을 한다.\n",
    "* 인수  \n",
    "`numpy.random.choice(a, size=None, replace=True, p=None)`\n",
    "    * a : 배열이면 원래의 데이터, 정수이면 `arange(a)`로 데이터 생성\n",
    "    * size : 샘플 숫자(정수)\n",
    "    * replace : True이면 한번 선택한 데이터 다시 선택 가능\n",
    "    * p : 각 데이터가 선택될 수 있는 확률(배열)"
   ]
  },
  {
   "cell_type": "code",
   "execution_count": 14,
   "metadata": {},
   "outputs": [
    {
     "data": {
      "text/plain": [
       "array([4, 1, 2, 0, 3])"
      ]
     },
     "execution_count": 14,
     "metadata": {},
     "output_type": "execute_result"
    }
   ],
   "source": [
    "np.random.choice(5, 5, replace=False) # shuffle 명령과 동일"
   ]
  },
  {
   "cell_type": "code",
   "execution_count": 15,
   "metadata": {},
   "outputs": [
    {
     "data": {
      "text/plain": [
       "array([3, 0, 2])"
      ]
     },
     "execution_count": 15,
     "metadata": {},
     "output_type": "execute_result"
    }
   ],
   "source": [
    "np.random.choice(5, 3, replace=False) # 3개만 선택"
   ]
  },
  {
   "cell_type": "code",
   "execution_count": 16,
   "metadata": {},
   "outputs": [
    {
     "data": {
      "text/plain": [
       "array([3, 4, 4, 4, 3, 4, 4, 4, 0, 4])"
      ]
     },
     "execution_count": 16,
     "metadata": {},
     "output_type": "execute_result"
    }
   ],
   "source": [
    "np.random.choice(5, 10) # 반복해서 10개 샘플 선택"
   ]
  },
  {
   "cell_type": "code",
   "execution_count": 17,
   "metadata": {},
   "outputs": [
    {
     "data": {
      "text/plain": [
       "array([2, 2, 2, 3, 2, 2, 2, 3, 0, 3], dtype=int64)"
      ]
     },
     "execution_count": 17,
     "metadata": {},
     "output_type": "execute_result"
    }
   ],
   "source": [
    "np.random.choice(5, 10, p=[0.1, 0, 0.3, 0.6, 0]) # 선택 확률 다르게 해서 10개 선택"
   ]
  },
  {
   "cell_type": "markdown",
   "metadata": {},
   "source": [
    "# 4. 난수 생성"
   ]
  },
  {
   "cell_type": "markdown",
   "metadata": {},
   "source": [
    "##### rand\n",
    "0 ~ 1 사이의 균일 분포(균일한 확률 분포)를 따르는 실수 난수 생성"
   ]
  },
  {
   "cell_type": "code",
   "execution_count": 18,
   "metadata": {},
   "outputs": [
    {
     "data": {
      "text/plain": [
       "array([0.09609841, 0.97645947, 0.4686512 , 0.97676109, 0.60484552,\n",
       "       0.73926358, 0.03918779, 0.28280696, 0.12019656, 0.2961402 ])"
      ]
     },
     "execution_count": 18,
     "metadata": {},
     "output_type": "execute_result"
    }
   ],
   "source": [
    "np.random.rand(10) # 10개 난수 생성"
   ]
  },
  {
   "cell_type": "code",
   "execution_count": 19,
   "metadata": {},
   "outputs": [
    {
     "data": {
      "text/plain": [
       "array([[0.11872772, 0.31798318, 0.41426299, 0.0641475 , 0.69247212],\n",
       "       [0.56660145, 0.26538949, 0.52324805, 0.09394051, 0.5759465 ],\n",
       "       [0.9292962 , 0.31856895, 0.66741038, 0.13179786, 0.7163272 ]])"
      ]
     },
     "execution_count": 19,
     "metadata": {},
     "output_type": "execute_result"
    }
   ],
   "source": [
    "np.random.rand(3, 5) # 2D 크기"
   ]
  },
  {
   "cell_type": "markdown",
   "metadata": {},
   "source": [
    "##### randn\n",
    "기댓값이 0, 표준편차 1인 가우시안 표준 정규 분포를 따르는 난수 생성"
   ]
  },
  {
   "cell_type": "code",
   "execution_count": 20,
   "metadata": {},
   "outputs": [
    {
     "data": {
      "text/plain": [
       "array([-0.87079715, -0.57884966, -0.31155253,  0.05616534, -1.16514984,\n",
       "        0.90082649,  0.46566244, -1.53624369,  1.48825219,  1.89588918])"
      ]
     },
     "execution_count": 20,
     "metadata": {},
     "output_type": "execute_result"
    }
   ],
   "source": [
    "np.random.randn(10)"
   ]
  },
  {
   "cell_type": "code",
   "execution_count": 21,
   "metadata": {},
   "outputs": [
    {
     "data": {
      "text/plain": [
       "array([[ 1.17877957, -0.17992484, -1.07075262,  1.05445173, -0.40317695],\n",
       "       [ 1.22244507,  0.20827498,  0.97663904,  0.3563664 ,  0.70657317],\n",
       "       [ 0.01050002,  1.78587049,  0.12691209,  0.40198936,  1.8831507 ]])"
      ]
     },
     "execution_count": 21,
     "metadata": {},
     "output_type": "execute_result"
    }
   ],
   "source": [
    "np.random.randn(3, 5)"
   ]
  },
  {
   "cell_type": "markdown",
   "metadata": {},
   "source": [
    "##### randint\n",
    "* 인수\n",
    "`numpy.random.randint(low, high=None, size=None)`\n",
    "    * `high` 미입력 시 `0 ~ low` 사이 숫자 출력\n",
    "    * `high` 입력 시 `low ~ high` 사이 숫자 출력\n",
    "    * `size` : 난수의 숫자"
   ]
  },
  {
   "cell_type": "code",
   "execution_count": 22,
   "metadata": {},
   "outputs": [
    {
     "data": {
      "text/plain": [
       "array([9, 6, 5, 7, 8, 8, 9, 2, 8, 6])"
      ]
     },
     "execution_count": 22,
     "metadata": {},
     "output_type": "execute_result"
    }
   ],
   "source": [
    "np.random.randint(10, size=10)"
   ]
  },
  {
   "cell_type": "code",
   "execution_count": 23,
   "metadata": {},
   "outputs": [
    {
     "data": {
      "text/plain": [
       "array([16, 19, 11, 16, 18, 18, 13, 12, 13, 16])"
      ]
     },
     "execution_count": 23,
     "metadata": {},
     "output_type": "execute_result"
    }
   ],
   "source": [
    "np.random.randint(10, 20, size=10)"
   ]
  },
  {
   "cell_type": "code",
   "execution_count": 24,
   "metadata": {},
   "outputs": [
    {
     "data": {
      "text/plain": [
       "array([[13, 16, 15, 17, 10],\n",
       "       [18, 14, 16, 15, 18],\n",
       "       [12, 13, 19, 17, 15]])"
      ]
     },
     "execution_count": 24,
     "metadata": {},
     "output_type": "execute_result"
    }
   ],
   "source": [
    "np.random.randint(10, 20, size=(3, 5))"
   ]
  },
  {
   "cell_type": "markdown",
   "metadata": {},
   "source": [
    "# 5. 정수 데이터 카운팅\n",
    "##### unique\n",
    "데이터에서 중복된 값 제거하고 중복되지 않는 값 리스트 출력\n",
    "* `return_counts` 인수 : True로 설정하면 각 값을 가진 데이터 갯수도 출력\n",
    "* 데이터에 존재하는 값에 대해서만 갯수를 세어 데이터가 하나도 없는 경우에는 정보를 주지 않는다.\n",
    "    * ex) 주사위 10번 던졌는데 6이 한 번도 나오지 않으면 이 값을 0으로 세어주지 않음"
   ]
  },
  {
   "cell_type": "code",
   "execution_count": 25,
   "metadata": {},
   "outputs": [
    {
     "data": {
      "text/plain": [
       "array([ 2, 11, 34])"
      ]
     },
     "execution_count": 25,
     "metadata": {},
     "output_type": "execute_result"
    }
   ],
   "source": [
    "np.unique([11, 11, 2, 2, 34, 34])"
   ]
  },
  {
   "cell_type": "code",
   "execution_count": 27,
   "metadata": {},
   "outputs": [
    {
     "data": {
      "text/plain": [
       "array(['a', 'b', 'c'], dtype='<U1')"
      ]
     },
     "execution_count": 27,
     "metadata": {},
     "output_type": "execute_result"
    }
   ],
   "source": [
    "a = np.array(['a', 'b', 'b', 'c', 'a'])\n",
    "index, count = np.unique(a, return_counts=True)\n",
    "index"
   ]
  },
  {
   "cell_type": "code",
   "execution_count": 28,
   "metadata": {},
   "outputs": [
    {
     "data": {
      "text/plain": [
       "array([2, 2, 1], dtype=int64)"
      ]
     },
     "execution_count": 28,
     "metadata": {},
     "output_type": "execute_result"
    }
   ],
   "source": [
    "count"
   ]
  },
  {
   "cell_type": "markdown",
   "metadata": {},
   "source": [
    "##### bincount\n",
    "특정 범위 안의 수인 경우 `minlength` 인수를 설정하여 쓰는 것이 더 편리\n",
    "* 이 때는 `minlength` - 1 까지의 숫자에 대해 각각 카운트 한다.\n",
    "* 데이터가 없을 경우 카운트 값 : 0"
   ]
  },
  {
   "cell_type": "code",
   "execution_count": 31,
   "metadata": {},
   "outputs": [
    {
     "data": {
      "text/plain": [
       "array([0, 2, 3, 1, 0, 0], dtype=int64)"
      ]
     },
     "execution_count": 31,
     "metadata": {},
     "output_type": "execute_result"
    }
   ],
   "source": [
    "np.bincount([1, 1, 2, 2, 2, 3,], minlength=6)"
   ]
  }
 ],
 "metadata": {
  "kernelspec": {
   "display_name": "Python 3",
   "language": "python",
   "name": "python3"
  },
  "language_info": {
   "codemirror_mode": {
    "name": "ipython",
    "version": 3
   },
   "file_extension": ".py",
   "mimetype": "text/x-python",
   "name": "python",
   "nbconvert_exporter": "python",
   "pygments_lexer": "ipython3",
   "version": "3.6.6"
  }
 },
 "nbformat": 4,
 "nbformat_minor": 2
}

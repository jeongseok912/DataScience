{
 "cells": [
  {
   "cell_type": "markdown",
   "metadata": {},
   "source": [
    "# 1. statsmodels 패키지\n",
    "* 아래와 같은 기능을 제공하는 파이썬 패키지\n",
    "    * 검정 및 추정 (test and estimation)\n",
    "    * 회귀 분석 (regression analysis)\n",
    "    * 시계열 분석 (time-series analysis)\n",
    "* 회귀분석의 경우 R-style 모형 기술을 가능하게 하는 patsy 패키지를 포함  \n",
    "→ 기존에 R에서만 가능했던 회귀 분석과 시계열 분석 방법론을 그대로 파이썬에서 이용할 수 있게 됨\n",
    "* statsmodels 패키지의 개발 목표 중 하나는 기존 R의 통계 분석 및 시계열 분석 지원"
   ]
  },
  {
   "cell_type": "code",
   "execution_count": 1,
   "metadata": {},
   "outputs": [],
   "source": [
    "# statsmodels 패키지를 사용할 때는 api 서브패키지를 import하여 사용한다.\n",
    "import statsmodels.api as sm"
   ]
  },
  {
   "cell_type": "markdown",
   "metadata": {},
   "source": [
    "# 2. statsmodels에서 제공하는 데이터셋\n",
    "* R에서 사용하던 1000개 이상의 표준 데이터셋을 사용할 수 있도록 지원한다.\n",
    "* 참조\n",
    "    * https://github.com/vincentarelbundock/Rdatasets\n",
    "* 위 프로젝트에서 제공하는 데이터셋 목록\n",
    "    * http://vincentarelbundock.github.io/Rdatasets/datasets.html\n",
    "* 이 목록에 있는 데이터 가져오는 방법\n",
    "    * \"Package\" 이름과 \"Item\"을 알아낸 뒤 `get_rdataset` 명령 이용\n",
    "    \n",
    "##### get_rdataset\n",
    "표준 데이터셋을 가져온다.\n",
    "* statsmodels의 datasets 서브패키지에 있는 함수\n",
    "* 이 함수는 인터넷에서 데이터를 다운로드 받으므로 인터넷에 연결되어 있어야 한다.\n",
    "\n",
    "`get_rdataset(item, [package=\"datasets\"])`  \n",
    "* `item` : 해당 데이터의 \"Item\"\n",
    "* `package` : 데이터를 제공하는 R 패키지 이름, 해당 데이터의 \"Package\"\n",
    "    * \"Package\" 이름이 `datasets`인 경우 생략 가능\n",
    "* `title` : 데이터 이름\n",
    "* `data` : 데이터를 담고 있는 데이터프레임\n",
    "* `__doc__` : 데이터에 대한 설명 문자열\n",
    "    * 이 설명은 R 패키지의 내용을 그대로 가져온 것. 즉 예제 코드가 R로 되어 있어 파이썬에서 바로 사용할 수 없다. "
   ]
  },
  {
   "cell_type": "markdown",
   "metadata": {},
   "source": [
    "# 3. 데이터셋 예1: 타이타닉 탑승자\n",
    "`datasets` 패키지의 `Titanic` 데이터"
   ]
  },
  {
   "cell_type": "code",
   "execution_count": 4,
   "metadata": {},
   "outputs": [
    {
     "data": {
      "text/html": [
       "<div>\n",
       "<style scoped>\n",
       "    .dataframe tbody tr th:only-of-type {\n",
       "        vertical-align: middle;\n",
       "    }\n",
       "\n",
       "    .dataframe tbody tr th {\n",
       "        vertical-align: top;\n",
       "    }\n",
       "\n",
       "    .dataframe thead th {\n",
       "        text-align: right;\n",
       "    }\n",
       "</style>\n",
       "<table border=\"1\" class=\"dataframe\">\n",
       "  <thead>\n",
       "    <tr style=\"text-align: right;\">\n",
       "      <th></th>\n",
       "      <th>Class</th>\n",
       "      <th>Sex</th>\n",
       "      <th>Age</th>\n",
       "      <th>Survived</th>\n",
       "      <th>Freq</th>\n",
       "    </tr>\n",
       "  </thead>\n",
       "  <tbody>\n",
       "    <tr>\n",
       "      <th>27</th>\n",
       "      <td>Crew</td>\n",
       "      <td>Male</td>\n",
       "      <td>Adult</td>\n",
       "      <td>Yes</td>\n",
       "      <td>192</td>\n",
       "    </tr>\n",
       "    <tr>\n",
       "      <th>28</th>\n",
       "      <td>1st</td>\n",
       "      <td>Female</td>\n",
       "      <td>Adult</td>\n",
       "      <td>Yes</td>\n",
       "      <td>140</td>\n",
       "    </tr>\n",
       "    <tr>\n",
       "      <th>29</th>\n",
       "      <td>2nd</td>\n",
       "      <td>Female</td>\n",
       "      <td>Adult</td>\n",
       "      <td>Yes</td>\n",
       "      <td>80</td>\n",
       "    </tr>\n",
       "    <tr>\n",
       "      <th>30</th>\n",
       "      <td>3rd</td>\n",
       "      <td>Female</td>\n",
       "      <td>Adult</td>\n",
       "      <td>Yes</td>\n",
       "      <td>76</td>\n",
       "    </tr>\n",
       "    <tr>\n",
       "      <th>31</th>\n",
       "      <td>Crew</td>\n",
       "      <td>Female</td>\n",
       "      <td>Adult</td>\n",
       "      <td>Yes</td>\n",
       "      <td>20</td>\n",
       "    </tr>\n",
       "  </tbody>\n",
       "</table>\n",
       "</div>"
      ],
      "text/plain": [
       "   Class     Sex    Age Survived  Freq\n",
       "27  Crew    Male  Adult      Yes   192\n",
       "28   1st  Female  Adult      Yes   140\n",
       "29   2nd  Female  Adult      Yes    80\n",
       "30   3rd  Female  Adult      Yes    76\n",
       "31  Crew  Female  Adult      Yes    20"
      ]
     },
     "execution_count": 4,
     "metadata": {},
     "output_type": "execute_result"
    }
   ],
   "source": [
    "data = sm.datasets.get_rdataset(\"Titanic\", package=\"datasets\") \n",
    "df = data.data\n",
    "df.tail()"
   ]
  },
  {
   "cell_type": "code",
   "execution_count": 6,
   "metadata": {},
   "outputs": [
    {
     "name": "stdout",
     "output_type": "stream",
     "text": [
      "+---------+-----------------+\n",
      "| Titanic | R Documentation |\n",
      "+---------+-----------------+\n",
      "\n",
      "Survival of passengers on the Titanic\n",
      "-------------------------------------\n",
      "\n",
      "Description\n",
      "~~~~~~~~~~~\n",
      "\n",
      "This data set provides information on the fate of passengers on the\n",
      "fatal maiden voyage of the ocean liner ‘Titanic’, summarized according\n",
      "to economic status (class), sex, age and survival.\n",
      "\n",
      "Usage\n",
      "~~~~~\n",
      "\n",
      "::\n",
      "\n",
      "   Titanic\n",
      "\n",
      "Format\n",
      "~~~~~~\n",
      "\n",
      "A 4-dimensional array resulting from cross-tabulating 2201 observations\n",
      "on 4 variables. The variables and their levels are as follows:\n",
      "\n",
      "+----+----------+---------------------+\n",
      "| No | Name     | Levels              |\n",
      "+----+----------+---------------------+\n",
      "| 1  | Class    | 1st, 2nd, 3rd, Crew |\n",
      "+----+----------+---------------------+\n",
      "| 2  | Sex      | Male, Female        |\n",
      "+----+----------+---------------------+\n",
      "| 3  | Age      | Child, Adult        |\n",
      "+----+----------+---------------------+\n",
      "| 4  | Survived | No, Yes             |\n",
      "+----+----------+---------------------+\n",
      "\n",
      "Details\n",
      "~~~~~~~\n",
      "\n",
      "The sinking of the Titanic is a famous event, and new books are still\n",
      "being published about it. Many well-known facts—from the proportions of\n",
      "first-class passengers to the ‘women and children first’ policy, and the\n",
      "fact that that policy was not entirely successful in saving the women\n",
      "and children in the third class—are reflected in the survival rates for\n",
      "various classes of passenger.\n",
      "\n",
      "These data were originally collected by the British Board of Trade in\n",
      "their investigation of the sinking. Note that there is not complete\n",
      "agreement among primary sources as to the exact numbers on board,\n",
      "rescued, or lost.\n",
      "\n",
      "Due in particular to the very successful film ‘Titanic’, the last years\n",
      "saw a rise in public interest in the Titanic. Very detailed data about\n",
      "the passengers is now available on the Internet, at sites such as\n",
      "*Encyclopedia Titanica* (https://www.encyclopedia-titanica.org/).\n",
      "\n",
      "Source\n",
      "~~~~~~\n",
      "\n",
      "Dawson, Robert J. MacG. (1995), The ‘Unusual Episode’ Data Revisited.\n",
      "*Journal of Statistics Education*, **3**.\n",
      "https://www.amstat.org/publications/jse/v3n3/datasets.dawson.html\n",
      "\n",
      "The source provides a data set recording class, sex, age, and survival\n",
      "status for each person on board of the Titanic, and is based on data\n",
      "originally collected by the British Board of Trade and reprinted in:\n",
      "\n",
      "British Board of Trade (1990), *Report on the Loss of the ‘Titanic’\n",
      "(S.S.)*. British Board of Trade Inquiry Report (reprint). Gloucester,\n",
      "UK: Allan Sutton Publishing.\n",
      "\n",
      "Examples\n",
      "~~~~~~~~\n",
      "\n",
      "::\n",
      "\n",
      "   require(graphics)\n",
      "   mosaicplot(Titanic, main = \"Survival on the Titanic\")\n",
      "   ## Higher survival rates in children?\n",
      "   apply(Titanic, c(3, 4), sum)\n",
      "   ## Higher survival rates in females?\n",
      "   apply(Titanic, c(2, 4), sum)\n",
      "   ## Use loglm() in package 'MASS' for further analysis ...\n",
      "\n"
     ]
    }
   ],
   "source": [
    "# 데이터에 포함된 설명\n",
    "print(data.__doc__)"
   ]
  },
  {
   "cell_type": "markdown",
   "metadata": {},
   "source": [
    "# 4. 데이터셋 예2: 미국 강수량\n",
    "`datasets` 패키지의 `precip` 데이터"
   ]
  },
  {
   "cell_type": "code",
   "execution_count": 10,
   "metadata": {},
   "outputs": [
    {
     "data": {
      "text/html": [
       "<div>\n",
       "<style scoped>\n",
       "    .dataframe tbody tr th:only-of-type {\n",
       "        vertical-align: middle;\n",
       "    }\n",
       "\n",
       "    .dataframe tbody tr th {\n",
       "        vertical-align: top;\n",
       "    }\n",
       "\n",
       "    .dataframe thead th {\n",
       "        text-align: right;\n",
       "    }\n",
       "</style>\n",
       "<table border=\"1\" class=\"dataframe\">\n",
       "  <thead>\n",
       "    <tr style=\"text-align: right;\">\n",
       "      <th></th>\n",
       "      <th>dat</th>\n",
       "    </tr>\n",
       "  </thead>\n",
       "  <tbody>\n",
       "    <tr>\n",
       "      <th>65</th>\n",
       "      <td>17.4</td>\n",
       "    </tr>\n",
       "    <tr>\n",
       "      <th>66</th>\n",
       "      <td>40.8</td>\n",
       "    </tr>\n",
       "    <tr>\n",
       "      <th>67</th>\n",
       "      <td>29.1</td>\n",
       "    </tr>\n",
       "    <tr>\n",
       "      <th>68</th>\n",
       "      <td>14.6</td>\n",
       "    </tr>\n",
       "    <tr>\n",
       "      <th>69</th>\n",
       "      <td>59.2</td>\n",
       "    </tr>\n",
       "  </tbody>\n",
       "</table>\n",
       "</div>"
      ],
      "text/plain": [
       "     dat\n",
       "65  17.4\n",
       "66  40.8\n",
       "67  29.1\n",
       "68  14.6\n",
       "69  59.2"
      ]
     },
     "execution_count": 10,
     "metadata": {},
     "output_type": "execute_result"
    }
   ],
   "source": [
    "data = sm.datasets.get_rdataset(\"precip\")\n",
    "df = data.data\n",
    "df.tail()"
   ]
  },
  {
   "cell_type": "code",
   "execution_count": 11,
   "metadata": {},
   "outputs": [
    {
     "name": "stdout",
     "output_type": "stream",
     "text": [
      "+--------+-----------------+\n",
      "| precip | R Documentation |\n",
      "+--------+-----------------+\n",
      "\n",
      "Annual Precipitation in US Cities\n",
      "---------------------------------\n",
      "\n",
      "Description\n",
      "~~~~~~~~~~~\n",
      "\n",
      "The average amount of precipitation (rainfall) in inches for each of 70\n",
      "United States (and Puerto Rico) cities.\n",
      "\n",
      "Usage\n",
      "~~~~~\n",
      "\n",
      "::\n",
      "\n",
      "   precip\n",
      "\n",
      "Format\n",
      "~~~~~~\n",
      "\n",
      "A named vector of length 70.\n",
      "\n",
      "Note\n",
      "~~~~\n",
      "\n",
      "The dataset version up to Nov.16, 2016 had a typo in ``\"Cincinnati\"``'s\n",
      "name. The examples show how to recreate that version.\n",
      "\n",
      "Source\n",
      "~~~~~~\n",
      "\n",
      "Statistical Abstracts of the United States, 1975.\n",
      "\n",
      "References\n",
      "~~~~~~~~~~\n",
      "\n",
      "McNeil, D. R. (1977) *Interactive Data Analysis*. New York: Wiley.\n",
      "\n",
      "Examples\n",
      "~~~~~~~~\n",
      "\n",
      "::\n",
      "\n",
      "   require(graphics)\n",
      "   dotchart(precip[order(precip)], main = \"precip data\")\n",
      "   title(sub = \"Average annual precipitation (in.)\")\n",
      "\n",
      "   ## Old (\"wrong\") version of dataset (just name change):\n",
      "   precip.O <- local({\n",
      "      p <- precip; names(p)[names(p) == \"Cincinnati\"] <- \"Cincinati\" ; p })\n",
      "   stopifnot(all(precip == precip.O),\n",
      "         match(\"Cincinnati\", names(precip)) == 46,\n",
      "         identical(names(precip)[-46], names(precip.O)[-46]))\n",
      "\n"
     ]
    }
   ],
   "source": [
    "print(data.__doc__)"
   ]
  },
  {
   "cell_type": "code",
   "execution_count": 15,
   "metadata": {},
   "outputs": [
    {
     "data": {
      "image/png": "[encoded data removed]",
      "text/plain": [
       "<Figure size 432x288 with 1 Axes>"
      ]
     },
     "metadata": {
      "needs_background": "light"
     },
     "output_type": "display_data"
    }
   ],
   "source": [
    "import matplotlib.pyplot as plt\n",
    "\n",
    "df.plot()\n",
    "plt.title(data.title)\n",
    "plt.grid()\n",
    "plt.show()"
   ]
  },
  {
   "cell_type": "markdown",
   "metadata": {},
   "source": [
    "# 5. 데이터셋 예3: 황체형성 호르몬(Luteinizing Hormone) 수치 시계열\n",
    "`dataset` 패키지의 `lh` 데이터"
   ]
  },
  {
   "cell_type": "code",
   "execution_count": 18,
   "metadata": {},
   "outputs": [
    {
     "data": {
      "text/html": [
       "<div>\n",
       "<style scoped>\n",
       "    .dataframe tbody tr th:only-of-type {\n",
       "        vertical-align: middle;\n",
       "    }\n",
       "\n",
       "    .dataframe tbody tr th {\n",
       "        vertical-align: top;\n",
       "    }\n",
       "\n",
       "    .dataframe thead th {\n",
       "        text-align: right;\n",
       "    }\n",
       "</style>\n",
       "<table border=\"1\" class=\"dataframe\">\n",
       "  <thead>\n",
       "    <tr style=\"text-align: right;\">\n",
       "      <th></th>\n",
       "      <th>time</th>\n",
       "      <th>value</th>\n",
       "    </tr>\n",
       "  </thead>\n",
       "  <tbody>\n",
       "    <tr>\n",
       "      <th>43</th>\n",
       "      <td>44</td>\n",
       "      <td>2.6</td>\n",
       "    </tr>\n",
       "    <tr>\n",
       "      <th>44</th>\n",
       "      <td>45</td>\n",
       "      <td>2.1</td>\n",
       "    </tr>\n",
       "    <tr>\n",
       "      <th>45</th>\n",
       "      <td>46</td>\n",
       "      <td>3.4</td>\n",
       "    </tr>\n",
       "    <tr>\n",
       "      <th>46</th>\n",
       "      <td>47</td>\n",
       "      <td>3.0</td>\n",
       "    </tr>\n",
       "    <tr>\n",
       "      <th>47</th>\n",
       "      <td>48</td>\n",
       "      <td>2.9</td>\n",
       "    </tr>\n",
       "  </tbody>\n",
       "</table>\n",
       "</div>"
      ],
      "text/plain": [
       "    time  value\n",
       "43    44    2.6\n",
       "44    45    2.1\n",
       "45    46    3.4\n",
       "46    47    3.0\n",
       "47    48    2.9"
      ]
     },
     "execution_count": 18,
     "metadata": {},
     "output_type": "execute_result"
    }
   ],
   "source": [
    "data = sm.datasets.get_rdataset(\"lh\")\n",
    "df = data.data\n",
    "df.tail()"
   ]
  },
  {
   "cell_type": "code",
   "execution_count": 19,
   "metadata": {},
   "outputs": [
    {
     "name": "stdout",
     "output_type": "stream",
     "text": [
      "+----+-----------------+\n",
      "| lh | R Documentation |\n",
      "+----+-----------------+\n",
      "\n",
      "Luteinizing Hormone in Blood Samples\n",
      "------------------------------------\n",
      "\n",
      "Description\n",
      "~~~~~~~~~~~\n",
      "\n",
      "A regular time series giving the luteinizing hormone in blood samples at\n",
      "10 mins intervals from a human female, 48 samples.\n",
      "\n",
      "Usage\n",
      "~~~~~\n",
      "\n",
      "::\n",
      "\n",
      "   lh\n",
      "\n",
      "Source\n",
      "~~~~~~\n",
      "\n",
      "P.J. Diggle (1990) *Time Series: A Biostatistical Introduction.* Oxford,\n",
      "table A.1, series 3\n",
      "\n"
     ]
    }
   ],
   "source": [
    "print(data.__doc__)"
   ]
  },
  {
   "cell_type": "code",
   "execution_count": 21,
   "metadata": {},
   "outputs": [
    {
     "data": {
      "image/png": "[encoded data removed]",
      "text/plain": [
       "<Figure size 432x288 with 1 Axes>"
      ]
     },
     "metadata": {
      "needs_background": "light"
     },
     "output_type": "display_data"
    }
   ],
   "source": [
    "df.plot(x=\"time\", y=\"value\")\n",
    "plt.title(data.title)\n",
    "plt.grid()\n",
    "plt.show()"
   ]
  },
  {
   "cell_type": "markdown",
   "metadata": {},
   "source": [
    "# 6. 데이터셋 예 4: 호흡기 질환 사망자수\n",
    "`MASS` 패키지의 `deaths` 데이터\n",
    "* 1974-1979년 사이의 영국의 호흡기 질환 사망자 수를 나타내는 시계열 데이터"
   ]
  },
  {
   "cell_type": "code",
   "execution_count": 22,
   "metadata": {},
   "outputs": [
    {
     "data": {
      "text/html": [
       "<div>\n",
       "<style scoped>\n",
       "    .dataframe tbody tr th:only-of-type {\n",
       "        vertical-align: middle;\n",
       "    }\n",
       "\n",
       "    .dataframe tbody tr th {\n",
       "        vertical-align: top;\n",
       "    }\n",
       "\n",
       "    .dataframe thead th {\n",
       "        text-align: right;\n",
       "    }\n",
       "</style>\n",
       "<table border=\"1\" class=\"dataframe\">\n",
       "  <thead>\n",
       "    <tr style=\"text-align: right;\">\n",
       "      <th></th>\n",
       "      <th>time</th>\n",
       "      <th>value</th>\n",
       "    </tr>\n",
       "  </thead>\n",
       "  <tbody>\n",
       "    <tr>\n",
       "      <th>67</th>\n",
       "      <td>1979.583333</td>\n",
       "      <td>1354</td>\n",
       "    </tr>\n",
       "    <tr>\n",
       "      <th>68</th>\n",
       "      <td>1979.666667</td>\n",
       "      <td>1333</td>\n",
       "    </tr>\n",
       "    <tr>\n",
       "      <th>69</th>\n",
       "      <td>1979.750000</td>\n",
       "      <td>1492</td>\n",
       "    </tr>\n",
       "    <tr>\n",
       "      <th>70</th>\n",
       "      <td>1979.833333</td>\n",
       "      <td>1781</td>\n",
       "    </tr>\n",
       "    <tr>\n",
       "      <th>71</th>\n",
       "      <td>1979.916667</td>\n",
       "      <td>1915</td>\n",
       "    </tr>\n",
       "  </tbody>\n",
       "</table>\n",
       "</div>"
      ],
      "text/plain": [
       "           time  value\n",
       "67  1979.583333   1354\n",
       "68  1979.666667   1333\n",
       "69  1979.750000   1492\n",
       "70  1979.833333   1781\n",
       "71  1979.916667   1915"
      ]
     },
     "execution_count": 22,
     "metadata": {},
     "output_type": "execute_result"
    }
   ],
   "source": [
    "data = sm.datasets.get_rdataset(\"deaths\", \"MASS\")\n",
    "df = data.data\n",
    "df.tail()"
   ]
  },
  {
   "cell_type": "code",
   "execution_count": 23,
   "metadata": {},
   "outputs": [
    {
     "name": "stdout",
     "output_type": "stream",
     "text": [
      "+--------+-----------------+\n",
      "| deaths | R Documentation |\n",
      "+--------+-----------------+\n",
      "\n",
      "Monthly Deaths from Lung Diseases in the UK\n",
      "-------------------------------------------\n",
      "\n",
      "Description\n",
      "~~~~~~~~~~~\n",
      "\n",
      "A time series giving the monthly deaths from bronchitis, emphysema and\n",
      "asthma in the UK, 1974-1979, both sexes (``deaths``),\n",
      "\n",
      "Usage\n",
      "~~~~~\n",
      "\n",
      "::\n",
      "\n",
      "   deaths\n",
      "\n",
      "Source\n",
      "~~~~~~\n",
      "\n",
      "P. J. Diggle (1990) *Time Series: A Biostatistical Introduction.*\n",
      "Oxford, table A.3\n",
      "\n",
      "References\n",
      "~~~~~~~~~~\n",
      "\n",
      "Venables, W. N. and Ripley, B. D. (2002) *Modern Applied Statistics with\n",
      "S.* Fourth edition. Springer.\n",
      "\n",
      "See Also\n",
      "~~~~~~~~\n",
      "\n",
      "This the same as dataset ``ldeaths`` in R's datasets package.\n",
      "\n"
     ]
    }
   ],
   "source": [
    "print(data.__doc__)"
   ]
  },
  {
   "cell_type": "markdown",
   "metadata": {},
   "source": [
    "* 이 시계열 데이터의 시간 인코딩\n",
    "    * 시간 - 1년을 1.0으로  \n",
    "      1개월 - 1/12로 하는 값 (year-fraction)  \n",
    "* 이 값을 파이썬의 datetime 포맷으로 변경할 필요가 있음"
   ]
  },
  {
   "cell_type": "code",
   "execution_count": 43,
   "metadata": {},
   "outputs": [],
   "source": [
    "# datatime 포맷으로 변경하는 함수\n",
    "def yearfraction2datetime(yearfraction, startyear=0):\n",
    "    import datetime\n",
    "    import dateutil\n",
    "    \n",
    "    year = int(yearfraction) + startyear\n",
    "    month = int(round(12 * (yearfraction - year)))\n",
    "    delta = dateutil.relativedelta.relativedelta(months=month)\n",
    "    date = datetime.datetime(year, 1, 1) + delta\n",
    "    \n",
    "    return date"
   ]
  },
  {
   "cell_type": "code",
   "execution_count": 44,
   "metadata": {},
   "outputs": [
    {
     "data": {
      "text/html": [
       "<div>\n",
       "<style scoped>\n",
       "    .dataframe tbody tr th:only-of-type {\n",
       "        vertical-align: middle;\n",
       "    }\n",
       "\n",
       "    .dataframe tbody tr th {\n",
       "        vertical-align: top;\n",
       "    }\n",
       "\n",
       "    .dataframe thead th {\n",
       "        text-align: right;\n",
       "    }\n",
       "</style>\n",
       "<table border=\"1\" class=\"dataframe\">\n",
       "  <thead>\n",
       "    <tr style=\"text-align: right;\">\n",
       "      <th></th>\n",
       "      <th>time</th>\n",
       "      <th>value</th>\n",
       "      <th>datetime</th>\n",
       "    </tr>\n",
       "  </thead>\n",
       "  <tbody>\n",
       "    <tr>\n",
       "      <th>67</th>\n",
       "      <td>1979.583333</td>\n",
       "      <td>1354</td>\n",
       "      <td>1979-08-01</td>\n",
       "    </tr>\n",
       "    <tr>\n",
       "      <th>68</th>\n",
       "      <td>1979.666667</td>\n",
       "      <td>1333</td>\n",
       "      <td>1979-09-01</td>\n",
       "    </tr>\n",
       "    <tr>\n",
       "      <th>69</th>\n",
       "      <td>1979.750000</td>\n",
       "      <td>1492</td>\n",
       "      <td>1979-10-01</td>\n",
       "    </tr>\n",
       "    <tr>\n",
       "      <th>70</th>\n",
       "      <td>1979.833333</td>\n",
       "      <td>1781</td>\n",
       "      <td>1979-11-01</td>\n",
       "    </tr>\n",
       "    <tr>\n",
       "      <th>71</th>\n",
       "      <td>1979.916667</td>\n",
       "      <td>1915</td>\n",
       "      <td>1979-12-01</td>\n",
       "    </tr>\n",
       "  </tbody>\n",
       "</table>\n",
       "</div>"
      ],
      "text/plain": [
       "           time  value   datetime\n",
       "67  1979.583333   1354 1979-08-01\n",
       "68  1979.666667   1333 1979-09-01\n",
       "69  1979.750000   1492 1979-10-01\n",
       "70  1979.833333   1781 1979-11-01\n",
       "71  1979.916667   1915 1979-12-01"
      ]
     },
     "execution_count": 44,
     "metadata": {},
     "output_type": "execute_result"
    }
   ],
   "source": [
    "df[\"datetime\"] = df.time.map(yearfraction2datetime)\n",
    "df.tail()"
   ]
  },
  {
   "cell_type": "markdown",
   "metadata": {},
   "source": [
    "이 데이터는 계절에 따른 패턴 즉, 계절성(seasonality)을 보이는 시계열이다."
   ]
  },
  {
   "cell_type": "code",
   "execution_count": 46,
   "metadata": {},
   "outputs": [
    {
     "data": {
      "image/png": "[encoded data removed]",
      "text/plain": [
       "<Figure size 432x288 with 1 Axes>"
      ]
     },
     "metadata": {
      "needs_background": "light"
     },
     "output_type": "display_data"
    }
   ],
   "source": [
    "df.plot(x=\"datetime\", y=\"value\")\n",
    "plt.title(data.title)\n",
    "plt.grid()\n",
    "plt.show()"
   ]
  },
  {
   "cell_type": "markdown",
   "metadata": {},
   "source": [
    "# 7. 데이터셋 예 5: 항공 운송인원\n",
    "`datasets` 패키지의 `deaths` 데이터\n",
    "* 1949-1960년 사이의 국제 항공 운송인원을 나타내는 시계열 데이터"
   ]
  },
  {
   "cell_type": "code",
   "execution_count": 47,
   "metadata": {},
   "outputs": [
    {
     "data": {
      "text/html": [
       "<div>\n",
       "<style scoped>\n",
       "    .dataframe tbody tr th:only-of-type {\n",
       "        vertical-align: middle;\n",
       "    }\n",
       "\n",
       "    .dataframe tbody tr th {\n",
       "        vertical-align: top;\n",
       "    }\n",
       "\n",
       "    .dataframe thead th {\n",
       "        text-align: right;\n",
       "    }\n",
       "</style>\n",
       "<table border=\"1\" class=\"dataframe\">\n",
       "  <thead>\n",
       "    <tr style=\"text-align: right;\">\n",
       "      <th></th>\n",
       "      <th>time</th>\n",
       "      <th>value</th>\n",
       "    </tr>\n",
       "  </thead>\n",
       "  <tbody>\n",
       "    <tr>\n",
       "      <th>139</th>\n",
       "      <td>1960.583333</td>\n",
       "      <td>606</td>\n",
       "    </tr>\n",
       "    <tr>\n",
       "      <th>140</th>\n",
       "      <td>1960.666667</td>\n",
       "      <td>508</td>\n",
       "    </tr>\n",
       "    <tr>\n",
       "      <th>141</th>\n",
       "      <td>1960.750000</td>\n",
       "      <td>461</td>\n",
       "    </tr>\n",
       "    <tr>\n",
       "      <th>142</th>\n",
       "      <td>1960.833333</td>\n",
       "      <td>390</td>\n",
       "    </tr>\n",
       "    <tr>\n",
       "      <th>143</th>\n",
       "      <td>1960.916667</td>\n",
       "      <td>432</td>\n",
       "    </tr>\n",
       "  </tbody>\n",
       "</table>\n",
       "</div>"
      ],
      "text/plain": [
       "            time  value\n",
       "139  1960.583333    606\n",
       "140  1960.666667    508\n",
       "141  1960.750000    461\n",
       "142  1960.833333    390\n",
       "143  1960.916667    432"
      ]
     },
     "execution_count": 47,
     "metadata": {},
     "output_type": "execute_result"
    }
   ],
   "source": [
    "data = sm.datasets.get_rdataset(\"AirPassengers\")\n",
    "df = data.data\n",
    "df.tail()"
   ]
  },
  {
   "cell_type": "code",
   "execution_count": 48,
   "metadata": {},
   "outputs": [
    {
     "name": "stdout",
     "output_type": "stream",
     "text": [
      "+---------------+-----------------+\n",
      "| AirPassengers | R Documentation |\n",
      "+---------------+-----------------+\n",
      "\n",
      "Monthly Airline Passenger Numbers 1949-1960\n",
      "-------------------------------------------\n",
      "\n",
      "Description\n",
      "~~~~~~~~~~~\n",
      "\n",
      "The classic Box & Jenkins airline data. Monthly totals of international\n",
      "airline passengers, 1949 to 1960.\n",
      "\n",
      "Usage\n",
      "~~~~~\n",
      "\n",
      "::\n",
      "\n",
      "   AirPassengers\n",
      "\n",
      "Format\n",
      "~~~~~~\n",
      "\n",
      "A monthly time series, in thousands.\n",
      "\n",
      "Source\n",
      "~~~~~~\n",
      "\n",
      "Box, G. E. P., Jenkins, G. M. and Reinsel, G. C. (1976) *Time Series\n",
      "Analysis, Forecasting and Control.* Third Edition. Holden-Day. Series G.\n",
      "\n",
      "Examples\n",
      "~~~~~~~~\n",
      "\n",
      "::\n",
      "\n",
      "   ## Not run: \n",
      "   ## These are quite slow and so not run by example(AirPassengers)\n",
      "\n",
      "   ## The classic 'airline model', by full ML\n",
      "   (fit <- arima(log10(AirPassengers), c(0, 1, 1),\n",
      "                 seasonal = list(order = c(0, 1, 1), period = 12)))\n",
      "   update(fit, method = \"CSS\")\n",
      "   update(fit, x = window(log10(AirPassengers), start = 1954))\n",
      "   pred <- predict(fit, n.ahead = 24)\n",
      "   tl <- pred$pred - 1.96 * pred$se\n",
      "   tu <- pred$pred + 1.96 * pred$se\n",
      "   ts.plot(AirPassengers, 10^tl, 10^tu, log = \"y\", lty = c(1, 2, 2))\n",
      "\n",
      "   ## full ML fit is the same if the series is reversed, CSS fit is not\n",
      "   ap0 <- rev(log10(AirPassengers))\n",
      "   attributes(ap0) <- attributes(AirPassengers)\n",
      "   arima(ap0, c(0, 1, 1), seasonal = list(order = c(0, 1, 1), period = 12))\n",
      "   arima(ap0, c(0, 1, 1), seasonal = list(order = c(0, 1, 1), period = 12),\n",
      "         method = \"CSS\")\n",
      "\n",
      "   ## Structural Time Series\n",
      "   ap <- log10(AirPassengers) - 2\n",
      "   (fit <- StructTS(ap, type = \"BSM\"))\n",
      "   par(mfrow = c(1, 2))\n",
      "   plot(cbind(ap, fitted(fit)), plot.type = \"single\")\n",
      "   plot(cbind(ap, tsSmooth(fit)), plot.type = \"single\")\n",
      "\n",
      "   ## End(Not run)\n",
      "\n"
     ]
    }
   ],
   "source": [
    "print(data.__doc__)"
   ]
  },
  {
   "cell_type": "code",
   "execution_count": 49,
   "metadata": {},
   "outputs": [
    {
     "data": {
      "text/html": [
       "<div>\n",
       "<style scoped>\n",
       "    .dataframe tbody tr th:only-of-type {\n",
       "        vertical-align: middle;\n",
       "    }\n",
       "\n",
       "    .dataframe tbody tr th {\n",
       "        vertical-align: top;\n",
       "    }\n",
       "\n",
       "    .dataframe thead th {\n",
       "        text-align: right;\n",
       "    }\n",
       "</style>\n",
       "<table border=\"1\" class=\"dataframe\">\n",
       "  <thead>\n",
       "    <tr style=\"text-align: right;\">\n",
       "      <th></th>\n",
       "      <th>time</th>\n",
       "      <th>value</th>\n",
       "      <th>datetime</th>\n",
       "    </tr>\n",
       "  </thead>\n",
       "  <tbody>\n",
       "    <tr>\n",
       "      <th>139</th>\n",
       "      <td>1960.583333</td>\n",
       "      <td>606</td>\n",
       "      <td>1960-08-01</td>\n",
       "    </tr>\n",
       "    <tr>\n",
       "      <th>140</th>\n",
       "      <td>1960.666667</td>\n",
       "      <td>508</td>\n",
       "      <td>1960-09-01</td>\n",
       "    </tr>\n",
       "    <tr>\n",
       "      <th>141</th>\n",
       "      <td>1960.750000</td>\n",
       "      <td>461</td>\n",
       "      <td>1960-10-01</td>\n",
       "    </tr>\n",
       "    <tr>\n",
       "      <th>142</th>\n",
       "      <td>1960.833333</td>\n",
       "      <td>390</td>\n",
       "      <td>1960-11-01</td>\n",
       "    </tr>\n",
       "    <tr>\n",
       "      <th>143</th>\n",
       "      <td>1960.916667</td>\n",
       "      <td>432</td>\n",
       "      <td>1960-12-01</td>\n",
       "    </tr>\n",
       "  </tbody>\n",
       "</table>\n",
       "</div>"
      ],
      "text/plain": [
       "            time  value   datetime\n",
       "139  1960.583333    606 1960-08-01\n",
       "140  1960.666667    508 1960-09-01\n",
       "141  1960.750000    461 1960-10-01\n",
       "142  1960.833333    390 1960-11-01\n",
       "143  1960.916667    432 1960-12-01"
      ]
     },
     "execution_count": 49,
     "metadata": {},
     "output_type": "execute_result"
    }
   ],
   "source": [
    "df[\"datetime\"] = df.time.map(yearfraction2datetime)\n",
    "df.tail()"
   ]
  },
  {
   "cell_type": "markdown",
   "metadata": {},
   "source": [
    "이 데이터는 계절성과 증가 추세(trend)를 동시에 보이고 있다."
   ]
  },
  {
   "cell_type": "code",
   "execution_count": 50,
   "metadata": {},
   "outputs": [
    {
     "data": {
      "image/png": "[encoded data removed]",
      "text/plain": [
       "<Figure size 432x288 with 1 Axes>"
      ]
     },
     "metadata": {
      "needs_background": "light"
     },
     "output_type": "display_data"
    }
   ],
   "source": [
    "df.plot(x=\"datetime\", y=\"value\")\n",
    "plt.title(data.title)\n",
    "plt.grid()\n",
    "plt.show()"
   ]
  }
 ],
 "metadata": {
  "kernelspec": {
   "display_name": "Python 3",
   "language": "python",
   "name": "python3"
  },
  "language_info": {
   "codemirror_mode": {
    "name": "ipython",
    "version": 3
   },
   "file_extension": ".py",
   "mimetype": "text/x-python",
   "name": "python",
   "nbconvert_exporter": "python",
   "pygments_lexer": "ipython3",
   "version": "3.6.6"
  }
 },
 "nbformat": 4,
 "nbformat_minor": 2
}

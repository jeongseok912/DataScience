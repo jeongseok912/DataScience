{
 "cells": [
  {
   "cell_type": "markdown",
   "metadata": {},
   "source": [
    "# 1. scikit-learn 패키지\n",
    "* 머신러닝 교육을 위한 패키지로, 다음과 같은 내용 포함\n",
    "    * 벤치마크용 데이터셋 예제\n",
    "    * 데이터 전처리 (preprocessing)\n",
    "    * 지도 학습 (Superviese learning)\n",
    "    * 비지도 학습 (Unsupervised learning)\n",
    "    * 모형 평가 및 선택 (evaluation and selection)\n",
    "* scikit-learn 패키지 장점\n",
    "    * 다양한 머신러닝 알고리즘을 하나의 패키지에서 모두 제공"
   ]
  },
  {
   "cell_type": "code",
   "execution_count": 1,
   "metadata": {},
   "outputs": [],
   "source": [
    "import sklearn as sk"
   ]
  },
  {
   "cell_type": "markdown",
   "metadata": {},
   "source": [
    "# 2. scikit-learn에서 제공하는 데이터셋\n",
    "* `sklearn.datasets` 서브패키지에서 다양한 예제 데이터셋 제공\n",
    "* 데이터를 불러오는 명령 구분\n",
    "    * load 계열 명령 : scikit-learn 설치 패키지에 같이 포함된 소량의 데이터\n",
    "    * fetch 계열 명령 : 인터넷에서 다운로드할 수 있는 대량의 데이터\n",
    "    * make 계열 명령 : 확률분포를 사용하여 가상의 데이터를 생성"
   ]
  },
  {
   "cell_type": "markdown",
   "metadata": {},
   "source": [
    "# 3. load 계열 명령\n",
    "설치 패키지에 처음부터 저장되어 있어서 별도로 다운로드 받지 않아도 바로 쓸 수 있는 데이터를 제공한다.\n",
    "* `load_boston` : 회귀 분석용 보스턴 집값 자료\n",
    "* `load_diabetes` : 회귀 분석용 당뇨병 자료\n",
    "* `load_linnerud` : 회귀 분석용 linnerud 자료\n",
    "* `load_irirs` : 분류용 붓꽃(iris) 자료\n",
    "* `load_digits` : 분류용 숫자(digit) 필기 이미지 자료\n",
    "* `load_wine` : 분류용 포도주(wine) 등급 자료\n",
    "* `load_breast_cancer` : 분류용 유방암(breast cancer) 진단 자료"
   ]
  },
  {
   "cell_type": "markdown",
   "metadata": {},
   "source": [
    "# 4. fetch 계열 명령\n",
    "데이터가 커서 처음부터 저장되어 있지 않고 인터넷에서 다운받아 홈 디렉토리 아래의 scikit_learn_data라는 서브 디렉토리에 저장 후 추후 불러들이는 데이터들\n",
    "* `fetch_california_housing` : 회귀분석용 캘리포니아 집값 자료\n",
    "* `fetch_covtype` : 회귀분석용 토지 조사 자료\n",
    "* `fetch_20newsgroups` : 뉴스 그룹 텍스트 자료\n",
    "* `fetch_olivetti_faces` : 얼굴 이미지 자료\n",
    "* `fetch_lfw_people` : 유명인 얼굴 이미지 자료\n",
    "* `fetch_lfw_pairs` : 유명일 얼굴 이미지 자료\n",
    "* `fetch_rvc1` : 로이터 뉴스 말뭉치\n",
    "* `fetch_rvc1` : Kddcup 99 Tcp dump 자료"
   ]
  },
  {
   "cell_type": "markdown",
   "metadata": {},
   "source": [
    "# 5. make 계열 명령\n",
    "모형을 시험하기 위해 원하는 특성을 가진 가상의 데이터가 필요할 때 이러한 가상 데이터를 생성하는 역할을 한다.\n",
    "* `make_regression` : 회귀 분석용 가상 데이터 생성\n",
    "* `make_classification` : 분류용 가상 데이터 생성\n",
    "* `make_blobs` : 클러스터링용 가상 데이터 생성  \n",
    "\n",
    "이 외 다양한 가상 데이터 생성 명령 존재"
   ]
  },
  {
   "cell_type": "markdown",
   "metadata": {},
   "source": [
    "# 6. 데이터 형식\n",
    "scikit-learn에서 제공하는 데이터셋은 `Bunch`라는 클래스 객체 형식으로 생성된다.  \n",
    "* 이 클래스 객체의 속성\n",
    "    * `data` : (필수) 독립 변수 `ndarray` 배열\n",
    "    * `target` : (필수) 종속 변수 `ndarray` 배열\n",
    "    * `feature_names` : (옵션) 독립 변수 이름 리스트\n",
    "    * `target_names` : (옵션) 종속 변수 이름 리스트\n",
    "    * `DESCR` : (옵션) 자료에 대한 설명"
   ]
  }
 ],
 "metadata": {
  "kernelspec": {
   "display_name": "Python 3",
   "language": "python",
   "name": "python3"
  },
  "language_info": {
   "codemirror_mode": {
    "name": "ipython",
    "version": 3
   },
   "file_extension": ".py",
   "mimetype": "text/x-python",
   "name": "python",
   "nbconvert_exporter": "python",
   "pygments_lexer": "ipython3",
   "version": "3.6.6"
  }
 },
 "nbformat": 4,
 "nbformat_minor": 2
}

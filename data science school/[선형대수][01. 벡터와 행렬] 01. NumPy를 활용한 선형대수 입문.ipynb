{
 "cells": [
  {
   "cell_type": "markdown",
   "metadata": {},
   "source": [
    "* 선형대수(linear algebra)는 데이터 분석에 필요한 각종 계산을 돕기 위한 학문이다.\n",
    "* 선형대수를 사용하면 대량의 데이터를 포함하는 복잡한 계산 과정을 간단한 수식으로 서술할 수 있다. 따라서 데이터를 다루는 과정을 정확하고 간단하게 서술할 수 있다."
   ]
  },
  {
   "cell_type": "markdown",
   "metadata": {},
   "source": [
    "# 1. 데이터의 유형\n",
    "* 선형대수에서 다루는 데이터\n",
    "    * 스칼라(scalar) : 숫자 하나로 이루어진 데이터\n",
    "    * 벡터(vector) : 여러 개 숫자로 이루어진 데이터 레코드(data record)\n",
    "    * 행렬(matrix) : 벡터(데이터 레코드)가 여러 개 있는 데이터 집합\n",
    "\n",
    " ## 1.1. 스칼라\n",
    " 숫자 하나로 이루어진 데이터  \n",
    " ex)  \n",
    " 어떤 붓꽃 한 송이의 꽃잎 길이를 측정하면 숫자가 하나 나온다. 이 데이터는 스칼라이다.\n",
    " \n",
    " \n",
    " * 보통 $x$와 같이 알파벳 소문자로 표기\n",
    " * 실수 중 하나이므로 실수 집합 $R$의 원소라는 의미에서 다음처럼 표기\n",
    " $$ x ∈ R $$\n",
    " \n",
    " ## 1.2. 벡터\n",
    " 여러 개의 숫자가 특정한 순서대로 모여 있는 것  \n",
    " 사실 대부분의 데이터 레코드는 여러 개의 숫자로 이루어진 경우가 많다.  \n",
    " ex)  \n",
    " 붓꽃의 종을 알아내기 위해 측정된 꽃잎의 길이 $x_1$, 꽃잎의 폭 $x_2$, 꽃받침의 길이 $x_3$, 꽃받침의 폭 $x_4$  \n",
    " 이 4개 숫자는 한 송이의 붓꽃에서 나온 데이터이므로 따로따로 다루기보다는 하나의 쌍(tuple)으로 묶어놓는 것이 좋다. (이 때 헷갈리지 않게 데이터의 순서를 유지하는 것이 중요)  \n",
    " 이런 데이터 묶음을 벡터라고 부른다.\n",
    " \n",
    " #### 선형대수기호로 표현\n",
    " 선형 대수 기호로는 쌍(tuple)으로 묶은 데이터는 하나의 문자로 표기한다. \n",
    " $$ x = \\begin{bmatrix} x_1 \\\\ x_2 \\\\ x_3 \\\\ x_4 \\end{bmatrix} $$\n",
    " \n",
    " #### N차원 벡터\n",
    " * 차원(dimension) : 하나의 벡터를 이루는 데이터의 개수\n",
    " * N개의 숫자가 모여 있는 경우 N차원 실수 벡터라고 하고 다음처럼 표기\n",
    " $$ x = \\begin{bmatrix} x_1 \\\\ x_2 \\\\ .\\\\ .\\\\ .\\\\ x_N \\end{bmatrix}, x ∈ R^N $$\n",
    " ex)  \n",
    " 붓꽃의 경우 $x$는 4개의 실수로 이루어져 있으므로 4차원 실수 벡터이고 다음처럼 표기\n",
    " $$ x ∈ R^4 $$    \n",
    " * 때로는 스칼라가 아닌 벡터라는 점 강조하기 위해 볼드체 기호 **$X$**를 사용하기도 한다.\n",
    " $$ X = \\begin{bmatrix} x_1 \\\\ x_2 \\\\ .\\\\ .\\\\ .\\\\ x_N \\end{bmatrix} $$"
   ]
  },
  {
   "cell_type": "markdown",
   "metadata": {},
   "source": [
    "# 2. 특징벡터\n",
    "* 예측 문제 관점에서 실제 데이터값을 가진 데이터 벡터를 **특징 벡터(feature vector)**라고 한다.  \n",
    "ex)  \n",
    "$$ x_n = \\begin{bmatrix} 꽃잎 길이\\\\ 꽃잎 폭\\\\ 꽃받침 길이\\\\ 꽃받침 폭 \\end{bmatrix} $$\n",
    "일 때\n",
    "$$ x_1 = \\begin{bmatrix} 5.1\\\\ 3.5\\\\ 1.4\\\\ 0.2 \\end{bmatrix} $$\n",
    "$$ x_2 = \\begin{bmatrix} 4.9\\\\ 3.0\\\\ 1.4\\\\ 0.2 \\end{bmatrix} $$\n",
    "\n",
    "NumPy로 벡터를 표현할 때는 열이 하나인 2차원 배열 객체로 표현하는 것이 올바르다."
   ]
  },
  {
   "cell_type": "code",
   "execution_count": 2,
   "metadata": {},
   "outputs": [
    {
     "data": {
      "text/plain": [
       "array([[5.1],\n",
       "       [3.5],\n",
       "       [1.4],\n",
       "       [0.2]])"
      ]
     },
     "execution_count": 2,
     "metadata": {},
     "output_type": "execute_result"
    }
   ],
   "source": [
    "import numpy as np\n",
    "\n",
    "x1 = np.array([[5.1], [3.5], [1.4], [0.2]])\n",
    "x1"
   ]
  },
  {
   "cell_type": "markdown",
   "metadata": {},
   "source": [
    "하지만 NumPy는 1차원 배열 객체도 대부분 벡터로 인정  \n",
    "이 때는 마치 하나의 행같지만 실제로는 열이라는 점 주의!"
   ]
  },
  {
   "cell_type": "code",
   "execution_count": 3,
   "metadata": {},
   "outputs": [
    {
     "data": {
      "text/plain": [
       "array([5.1, 3.5, 1.4, 0.2])"
      ]
     },
     "execution_count": 3,
     "metadata": {},
     "output_type": "execute_result"
    }
   ],
   "source": [
    "x1 = np.array([5.1, 3.5, 1.4, 0.2])\n",
    "x1"
   ]
  },
  {
   "cell_type": "markdown",
   "metadata": {},
   "source": [
    "## 연습 문제\n",
    "NumPy를 사용해서 붓꽃 데이터 $x_2$에 대한 벡터 변수 `x2`를 만든다."
   ]
  },
  {
   "cell_type": "code",
   "execution_count": 4,
   "metadata": {},
   "outputs": [
    {
     "data": {
      "text/plain": [
       "array([[4.9],\n",
       "       [3. ],\n",
       "       [1.4],\n",
       "       [0.2]])"
      ]
     },
     "execution_count": 4,
     "metadata": {},
     "output_type": "execute_result"
    }
   ],
   "source": [
    "x2 = np.array([[4.9], [3.0], [1.4], [0.2]])\n",
    "x2"
   ]
  },
  {
   "cell_type": "markdown",
   "metadata": {},
   "source": [
    "------\n",
    "예측 문제의 입력데이터는 대부분 벡터로 표시한다.  \n",
    "ex)  \n",
    "숫자 이미지를 입력받아 어떤 숫자인지 분류하는 문제에서 이미지는 원래 2차원 데이터지만 1차원 벡터로 변환할 수 있다."
   ]
  },
  {
   "cell_type": "code",
   "execution_count": 11,
   "metadata": {},
   "outputs": [
    {
     "data": {
      "image/png": "[encoded data removed]",
      "text/plain": [
       "<Figure size 576x144 with 8 Axes>"
      ]
     },
     "metadata": {},
     "output_type": "display_data"
    }
   ],
   "source": [
    "# 8 * 8차원의 숫자 0과 1 이미지 4개를 64차원 벡터로 펼친 것\n",
    "# 같은 숫자에 대한 벡터가 서로 닮았다는 점 주의!\n",
    "\n",
    "import matplotlib.pyplot as plt\n",
    "from sklearn.datasets import load_digits\n",
    "\n",
    "digits = load_digits()\n",
    "samples = [0, 10, 20, 30, 1, 11, 21, 31]\n",
    "d = []\n",
    "\n",
    "for i in range(8):\n",
    "    d.append(digits.images[samples[i]])\n",
    "    \n",
    "plt.figure(figsize=(8, 2))\n",
    "for i in range(8):\n",
    "    plt.subplot(1, 8, i+1)\n",
    "    plt.imshow(d[i], interpolation='nearest', cmap=plt.cm.bone_r)\n",
    "    plt.xticks([])\n",
    "    plt.yticks([])\n",
    "    plt.title(\"image {}\".format(i + 1))\n",
    "    \n",
    "plt.tight_layout()\n",
    "plt.show()"
   ]
  },
  {
   "cell_type": "code",
   "execution_count": 15,
   "metadata": {},
   "outputs": [
    {
     "data": {
      "image/png": "[encoded data removed]",
      "text/plain": [
       "<Figure size 576x576 with 8 Axes>"
      ]
     },
     "metadata": {},
     "output_type": "display_data"
    }
   ],
   "source": [
    "v = []\n",
    "for i in range(8):\n",
    "    v.append(d[i].reshape(64, 1))\n",
    "    \n",
    "plt.figure(figsize=(8, 8))\n",
    "for i in range(8):\n",
    "    plt.subplot(1, 8, i +1)\n",
    "    plt.imshow(v[i], aspect=0.4, interpolation='nearest', cmap=plt.cm.bone_r)\n",
    "    plt.xticks([]); plt.yticks([])\n",
    "    plt.title(\"vector {}\".format(i + 1))\n",
    "\n",
    "plt.tight_layout(w_pad=7)\n",
    "plt.show()"
   ]
  },
  {
   "cell_type": "markdown",
   "metadata": {},
   "source": [
    "# 3. 행렬\n",
    "복수의 차원을 가지는 데이터 레코드가 다시 여러 개 있는 경우의 데이터를 합쳐서 표기한 것. 보통 **$X$**와 같이 알파벳 대문자로 표기  \n",
    "ex)  \n",
    "6개 붓꽃의 크기를 측정하였다면 4차원 붓꽃 데이터가 6개 있다.  \n",
    "즉 4 * 6 = 24개 실수 숫자가 있는 것이다.  \n",
    "이 숫자 집합을 행렬로 나타내면 다음과 같다.\n",
    "$$ X = \\begin{bmatrix} \n",
    "    x_{1,1}& x_{1,2}& x_{1,3}& x_{1,4}\\\\\n",
    "    x_{2,1}& x_{2,2}& x_{2,3}& x_{2,4}\\\\\n",
    "    x_{3,1}& x_{3,2}& x_{3,3}& x_{3,4}\\\\\n",
    "    x_{4,1}& x_{4,2}& x_{4,3}& x_{4,4}\\\\\n",
    "    x_{5,1}& x_{5,2}& x_{5,3}& x_{5,4}\\\\\n",
    "    x_{6,1}& x_{6,2}& x_{6,3}& x_{6,4}\\\\\n",
    "    \\end{bmatrix}\n",
    "$$\n",
    "    * 첫 번째 아래첨자(sub-script) : 행\n",
    "    * 두 번째 아래첨자 : 열\n",
    "    * 행/열의 개수가 10보다 적을 때는 쉼표없이 $x_{23}$같이 표기하기도 함\n",
    "\n",
    "* 벡터 = 열 벡터(column vector)\n",
    "    * 벡터는 열이 한 개인 행렬이라고 볼 수 있으므로\n",
    "* 데이터를 행렬로 묶어서 표시할 때\n",
    "    * 하나의 벡터가 열이 아닌 행으로 표시한다.  \n",
    "    ex)  \n",
    "    붓꽃 하나에 대한 데이터 레코드\n",
    "\n",
    "#### 데이터 분석에서 쓰는 일반적인 관례\n",
    "하나의 데이터 레코드를 단독으로 벡터로 나타낼 때는 하나의 열(column)로 나타내고,  \n",
    "복수의 데이터 레코드 집합을 행렬로 나타낼 때는 하나의 데이터 레코드가 하나의 행(row)으로 표기한다.  \n",
    "(추후 다른 연산에 이런 모양이 필요하기 때문에)\n",
    "\n",
    " ## 3.1. 특징 행렬\n",
    " * 특징 행렬(feature matrix) : 예측 문제 관점에서의 행렬?\n",
    " * 붓꽃 행렬의 크기를 수식으로 표기하면\n",
    " $$ X ∈ R^{6×4} $$\n",
    " * 스칼라와 벡터도 수학적으로는 행렬에 속한다.\n",
    "     * 스칼라 : 열과 행의 수가 1인 행렬\n",
    "     * 벡터 : 열의 수가 1인 행렬\n",
    "     * 그래서 스칼라나 벡터 크기를 표시할 때 행렬 표기에 따라서 다음처럼 쓸 수 있다.\n",
    "     $$ a ∈ R^{1×1} $$\n",
    "     $$ x ∈ R^{4×1} $$\n",
    " * NumPy로 행렬을 표기할 때는 2차원 `ndarray` 객체를 사용한다.  \n",
    " ex)  \n",
    " $$ A = \\begin{bmatrix}\n",
    "     11& 12& 13\\\\\n",
    "     21& 22& 23\\\\\n",
    "     \\end{bmatrix}\n",
    " $$"
   ]
  },
  {
   "cell_type": "code",
   "execution_count": 16,
   "metadata": {},
   "outputs": [
    {
     "data": {
      "text/plain": [
       "array([[11, 12, 13],\n",
       "       [21, 22, 23]])"
      ]
     },
     "execution_count": 16,
     "metadata": {},
     "output_type": "execute_result"
    }
   ],
   "source": [
    "A = np.array([[11, 12, 13], [21, 22, 23]])\n",
    "A"
   ]
  },
  {
   "cell_type": "markdown",
   "metadata": {},
   "source": [
    "## 연습 문제\n",
    "NumPy를 사용해서 붓꽃 데이터 X에 대한 행렬 변수 `X`를 만든다."
   ]
  },
  {
   "cell_type": "code",
   "execution_count": 17,
   "metadata": {},
   "outputs": [
    {
     "data": {
      "text/plain": [
       "array([[5.1, 3.5, 1.4, 0.2],\n",
       "       [4.9, 3. , 1.4, 0.2]])"
      ]
     },
     "execution_count": 17,
     "metadata": {},
     "output_type": "execute_result"
    }
   ],
   "source": [
    "X = np.array([[5.1, 3.5, 1.4, 0.2],[4.9, 3.0, 1.4, 0.2]])\n",
    "X"
   ]
  },
  {
   "cell_type": "markdown",
   "metadata": {},
   "source": [
    "# 4. 전치 연산\n",
    "* 전치(transpose) 연산 : 행과 열을 바꾸는 연산\n",
    "* 벡터나 행렬에 위첨자(super-script)로 T나 프라임(prime) $'$을 붙여 표기\n",
    "$$ x → x^T 또는 x' $$\n",
    "ex)  \n",
    "$$ X = \\begin{bmatrix} \n",
    "    x_{1,1}& x_{1,2}& x_{1,3}& x_{1,4}\\\\\n",
    "    x_{2,1}& x_{2,2}& x_{2,3}& x_{2,4}\\\\\n",
    "    x_{3,1}& x_{3,2}& x_{3,3}& x_{3,4}\\\\\n",
    "    x_{4,1}& x_{4,2}& x_{4,3}& x_{4,4}\\\\\n",
    "    x_{5,1}& x_{5,2}& x_{5,3}& x_{5,4}\\\\\n",
    "    x_{6,1}& x_{6,2}& x_{6,3}& x_{6,4}\\\\\n",
    "    \\end{bmatrix} →\n",
    "    X^T = \\begin{bmatrix} \n",
    "    x_{1,1}& x_{2,1}& x_{3,1}& x_{4,1}& x_{5,1}& x_{6,1}\\\\\n",
    "    x_{1,2}& x_{2,2}& x_{3,2}& x_{4,2}& x_{5,2}& x_{6,2}\\\\\n",
    "    x_{1,3}& x_{2,3}& x_{3,3}& x_{4,3}& x_{5,3}& x_{6,3}\\\\\n",
    "    x_{1,4}& x_{2,4}& x_{3,4}& x_{4,4}& x_{5,4}& x_{6,4}\\\\\n",
    "    \\end{bmatrix}\n",
    "$$\n",
    "* 전치행렬 : 전치 연산으로 만든 행렬\n",
    "* 행 벡터(row vector) : (열)벡터 $x$의 전치 연산하여 만든 $x^T$. 행의 수가 1인 행렬\n",
    "$$ x = \\begin{bmatrix}\n",
    "    x_1\\\\ x_2\\\\ .\\\\ .\\\\ .\\\\ x_N\n",
    "    \\end{bmatrix} →\n",
    "   x^T = \\begin{bmatrix}\n",
    "   x_1& x_2& ...& x_N\n",
    "   \\end{bmatrix}\n",
    "$$  "
   ]
  },
  {
   "cell_type": "markdown",
   "metadata": {},
   "source": [
    "NumPy에서 `ndarray` 객체의 `T` 속성 이용\n",
    "* 1차원 `ndarray`는 전치 연산이 정의되지 않음"
   ]
  },
  {
   "cell_type": "code",
   "execution_count": 18,
   "metadata": {},
   "outputs": [
    {
     "data": {
      "text/plain": [
       "array([[11, 21],\n",
       "       [12, 22],\n",
       "       [13, 23]])"
      ]
     },
     "execution_count": 18,
     "metadata": {},
     "output_type": "execute_result"
    }
   ],
   "source": [
    "A.T"
   ]
  },
  {
   "cell_type": "code",
   "execution_count": 19,
   "metadata": {},
   "outputs": [
    {
     "data": {
      "text/plain": [
       "array([5.1, 3.5, 1.4, 0.2])"
      ]
     },
     "execution_count": 19,
     "metadata": {},
     "output_type": "execute_result"
    }
   ],
   "source": [
    "x1"
   ]
  },
  {
   "cell_type": "code",
   "execution_count": 21,
   "metadata": {},
   "outputs": [
    {
     "data": {
      "text/plain": [
       "array([5.1, 3.5, 1.4, 0.2])"
      ]
     },
     "execution_count": 21,
     "metadata": {},
     "output_type": "execute_result"
    }
   ],
   "source": [
    "x1.T # 전치 연산 미정의"
   ]
  },
  {
   "cell_type": "markdown",
   "metadata": {},
   "source": [
    "## 연습 문제\n",
    "1. NumPy를 사용해서 붓꽃 데이터 $X$의 전치행렬 $X^T$를 구한다."
   ]
  },
  {
   "cell_type": "code",
   "execution_count": 23,
   "metadata": {},
   "outputs": [
    {
     "data": {
      "text/plain": [
       "array([[5.1, 4.9],\n",
       "       [3.5, 3. ],\n",
       "       [1.4, 1.4],\n",
       "       [0.2, 0.2]])"
      ]
     },
     "execution_count": 23,
     "metadata": {},
     "output_type": "execute_result"
    }
   ],
   "source": [
    "X.T"
   ]
  },
  {
   "cell_type": "markdown",
   "metadata": {},
   "source": [
    "2. NumPy를 사용해서 위 전치행렬을 다시 전치한 행렬 $(X^T)^T$를 구한다. 이 행렬과 원래 행렬 X를 비교한다."
   ]
  },
  {
   "cell_type": "code",
   "execution_count": 24,
   "metadata": {},
   "outputs": [
    {
     "data": {
      "text/plain": [
       "array([[5.1, 3.5, 1.4, 0.2],\n",
       "       [4.9, 3. , 1.4, 0.2]])"
      ]
     },
     "execution_count": 24,
     "metadata": {},
     "output_type": "execute_result"
    }
   ],
   "source": [
    "X_T = X.T\n",
    "X_T.T"
   ]
  },
  {
   "cell_type": "code",
   "execution_count": 25,
   "metadata": {},
   "outputs": [
    {
     "data": {
      "text/plain": [
       "array([[5.1, 3.5, 1.4, 0.2],\n",
       "       [4.9, 3. , 1.4, 0.2]])"
      ]
     },
     "execution_count": 25,
     "metadata": {},
     "output_type": "execute_result"
    }
   ],
   "source": [
    "X"
   ]
  },
  {
   "cell_type": "markdown",
   "metadata": {},
   "source": [
    "# 5. 행렬의 행 표기법, 열 표기법\n",
    "행렬을 복수의 열 벡터 $c_i$, 또는 복수의 행 벡터 $r_j^T$을 합친(concatenated) 형태로 표기할 수 있다.\n",
    "$$ X = \\begin{bmatrix} c_1& c_2& ...& c_M \\end{bmatrix}\n",
    "     = \\begin{bmatrix} r_1^T\\\\ r_2^T\\\\ .\\\\.\\\\.\\\\ r_N^T \\end{bmatrix} $$\n",
    "* 모든 벡터는 기본적으로 열벡터이므로 $r_i$를 전치 연산\n",
    "* 위 식에서 행렬과 벡터의 크기\n",
    "$$ X ∈ R^{N×M} $$\n",
    "$$ c_i ∈ R^{N×1}(i=1, ..., M) $$\n",
    "$$ r_j^T ∈ R^{1×M}(j=1, ..., N) $$\n",
    "* 위 수식의 명제\n",
    "    * \"행렬 $X$의 각 열은 $c_1, c_2, ..., c_M$라고 이름 붙인다.\"\n",
    "    * \"행렬 $X$의 각 열은 $c_1, c_2, ..., c_M$으로 이루어져 있다.\"\n",
    "    * \"행렬 $X$의 각 행은 $r_1^T, r_2^T, ... r_N^T$라고 이름 붙인다.\"\n",
    "    * \"행렬 $X$의 각 행은 $r_1^T, r_2^T, ... r_N^T$으로 이루어져 있다.\""
   ]
  },
  {
   "cell_type": "markdown",
   "metadata": {},
   "source": [
    "# 6. 특수한 벡터와 행렬\n",
    " ## 6.1. 영벡터(zeros-vector)\n",
    " 모든 원소가 0인 $N$차원 벡터\n",
    " $$ 0_N = 0 = ０ = \\begin{bmatrix} ０\\\\ ０\\\\ .\\\\.\\\\.\\\\ ０ \\end{bmatrix} $$\n",
    " $$ ０ ∈ R^{N×1} $$\n",
    " * 문맥으로 벡터 크기를 알 수 있을 때는 아래 첨자 $N$ 생략 가능"
   ]
  },
  {
   "cell_type": "markdown",
   "metadata": {},
   "source": [
    " ## 6.2. 일벡터(ones-vector)\n",
    " 모든 원소가 1인 $N$차원 벡터\n",
    " $$ 1_N = 1 = １ = \\begin{bmatrix} １\\\\ １\\\\ .\\\\.\\\\.\\\\ １ \\end{bmatrix} $$\n",
    " $$ １ ∈ R^{N×1} $$\n",
    " * 문맥으로 벡터 크기를 알 수 있을 때는 아래 첨자 $N$ 생략 가능"
   ]
  },
  {
   "cell_type": "markdown",
   "metadata": {},
   "source": [
    " ## 6.3. 정방행렬(square matrix)\n",
    " 행, 열의 개수가 같은 행렬"
   ]
  },
  {
   "cell_type": "markdown",
   "metadata": {},
   "source": [
    " ## 6.4. 대각행렬(diagonal matrix)\n",
    " * 주 대각(main diagonal) 또는 대각(diagonal) : 행과 열이 같은 위치\n",
    " * 비대각(off-diagonal) : 대각 위치에 있지 않은 요소\n",
    " * 대각행렬(diagoanl matrix) : 모든 비대각 요소가 0인 행렬\n",
    " $$ D = \\begin{bmatrix} \n",
    "     d_1& 0& ...& 0\\\\\n",
    "     0& d_2& ...& 0\\\\\n",
    "     ...& ...& ...& ...&\\\\\n",
    "     0& 0& ...& d_N\n",
    "     \\end{bmatrix} $$\n",
    " $$ D ∈ R^{N×N} $$\n",
    " \n",
    " #### 대각행렬 조건\n",
    " * 비대각성분이 0이어야 함\n",
    " * 대각성분은 0이어도 상관없음\n",
    " * 반드시 정방행렬일 필요는 없음\n",
    " $$ D = \\begin{bmatrix} \n",
    "     d_1& 0& ...& 0\\\\\n",
    "     0& d_2& ...& 0\\\\\n",
    "     ...& ...& ...& ...&\\\\\n",
    "     0& 0& ...& d_M\\\\\n",
    "     0& 0& ...& 0\\\\\n",
    "     0& 0& ...& 0\\\\\n",
    "     0& 0& ...& 0\\\\\n",
    "     \\end{bmatrix} $$\n",
    " $$ D ∈ R^{N×M} $$\n",
    " 이 행렬도 대각행렬이다.\n",
    " \n",
    " ##### diag\n",
    " 대각 정방행렬을 만든다."
   ]
  },
  {
   "cell_type": "code",
   "execution_count": 27,
   "metadata": {},
   "outputs": [
    {
     "data": {
      "text/plain": [
       "array([[1, 0, 0],\n",
       "       [0, 2, 0],\n",
       "       [0, 0, 3]])"
      ]
     },
     "execution_count": 27,
     "metadata": {},
     "output_type": "execute_result"
    }
   ],
   "source": [
    "np.diag([1, 2, 3])"
   ]
  },
  {
   "cell_type": "markdown",
   "metadata": {},
   "source": [
    "# 7. 항등행렬(identity matrix)\n",
    "모든 대각성분이 1인 대각행렬  \n",
    "* 보통 대문자 $I$로 표기\n",
    "$$ I = \\begin{bmatrix} \n",
    "    1& 0& ...& 0\\\\\n",
    "    0& 1& ...& 0\\\\\n",
    "    ...& ...& ...& ...\\\\\n",
    "    0& 0& ...& 1\\\\\n",
    "    \\end{bmatrix} $$\n",
    "$$ I ∈R^{N×N} $$\n",
    "\n",
    "##### identity, eye\n",
    "항등행렬을 만든다."
   ]
  },
  {
   "cell_type": "code",
   "execution_count": 28,
   "metadata": {},
   "outputs": [
    {
     "data": {
      "text/plain": [
       "array([[1., 0., 0.],\n",
       "       [0., 1., 0.],\n",
       "       [0., 0., 1.]])"
      ]
     },
     "execution_count": 28,
     "metadata": {},
     "output_type": "execute_result"
    }
   ],
   "source": [
    "np.identity(3)"
   ]
  },
  {
   "cell_type": "code",
   "execution_count": 29,
   "metadata": {},
   "outputs": [
    {
     "data": {
      "text/plain": [
       "array([[1., 0., 0., 0.],\n",
       "       [0., 1., 0., 0.],\n",
       "       [0., 0., 1., 0.],\n",
       "       [0., 0., 0., 1.]])"
      ]
     },
     "execution_count": 29,
     "metadata": {},
     "output_type": "execute_result"
    }
   ],
   "source": [
    "np.eye(4)"
   ]
  },
  {
   "cell_type": "markdown",
   "metadata": {},
   "source": [
    "# 8. 대칭행렬(symmetric matrix)\n",
    "전치연산을 통해 얻은 전치행렬이 원래의 행렬이랑 같은 행렬  \n",
    "정방행렬만 대칭행렬이 될 수 있다.\n",
    "$$ S^T = S $$\n",
    "$$ S ∈ R^{N×N} $$"
   ]
  },
  {
   "cell_type": "markdown",
   "metadata": {},
   "source": [
    "## 연습 문제\n",
    "1. 영벡터, 일벡터, 정방행렬, 대각행렬, 항등행렬, 대칭행렬의 예를 하나씩 만들어본다.\n",
    "2. 위의 벡터와 행렬을 NumPy로 나타내 본다."
   ]
  },
  {
   "cell_type": "code",
   "execution_count": 30,
   "metadata": {},
   "outputs": [
    {
     "data": {
      "text/plain": [
       "array([0., 0., 0., 0.])"
      ]
     },
     "execution_count": 30,
     "metadata": {},
     "output_type": "execute_result"
    }
   ],
   "source": [
    "np.zeros(4)"
   ]
  },
  {
   "cell_type": "code",
   "execution_count": 31,
   "metadata": {},
   "outputs": [
    {
     "data": {
      "text/plain": [
       "array([1., 1., 1., 1.])"
      ]
     },
     "execution_count": 31,
     "metadata": {},
     "output_type": "execute_result"
    }
   ],
   "source": [
    "np.ones(4)"
   ]
  },
  {
   "cell_type": "code",
   "execution_count": 33,
   "metadata": {},
   "outputs": [
    {
     "data": {
      "text/plain": [
       "array([[2, 2],\n",
       "       [1, 3]])"
      ]
     },
     "execution_count": 33,
     "metadata": {},
     "output_type": "execute_result"
    }
   ],
   "source": [
    "np.array([[2, 2], [1, 3]])"
   ]
  },
  {
   "cell_type": "code",
   "execution_count": 36,
   "metadata": {},
   "outputs": [
    {
     "data": {
      "text/plain": [
       "array([[1., 0., 0.],\n",
       "       [0., 1., 0.],\n",
       "       [0., 0., 1.]])"
      ]
     },
     "execution_count": 36,
     "metadata": {},
     "output_type": "execute_result"
    }
   ],
   "source": [
    "np.identity(3)"
   ]
  },
  {
   "cell_type": "code",
   "execution_count": 37,
   "metadata": {},
   "outputs": [
    {
     "data": {
      "text/plain": [
       "array([[1., 0., 0.],\n",
       "       [0., 1., 0.],\n",
       "       [0., 0., 1.]])"
      ]
     },
     "execution_count": 37,
     "metadata": {},
     "output_type": "execute_result"
    }
   ],
   "source": [
    "np.eye(3)"
   ]
  },
  {
   "cell_type": "code",
   "execution_count": 43,
   "metadata": {},
   "outputs": [
    {
     "data": {
      "text/plain": [
       "array([[2, 3, 3],\n",
       "       [3, 1, 4],\n",
       "       [3, 4, 3]])"
      ]
     },
     "execution_count": 43,
     "metadata": {},
     "output_type": "execute_result"
    }
   ],
   "source": [
    "mat = np.array([[2, 3, 3], [3, 1, 4], [3, 4, 3]])\n",
    "mat"
   ]
  },
  {
   "cell_type": "code",
   "execution_count": 45,
   "metadata": {},
   "outputs": [
    {
     "data": {
      "text/plain": [
       "array([[2, 3, 3],\n",
       "       [3, 1, 4],\n",
       "       [3, 4, 3]])"
      ]
     },
     "execution_count": 45,
     "metadata": {},
     "output_type": "execute_result"
    }
   ],
   "source": [
    "mat.T"
   ]
  }
 ],
 "metadata": {
  "kernelspec": {
   "display_name": "Python 3",
   "language": "python",
   "name": "python3"
  },
  "language_info": {
   "codemirror_mode": {
    "name": "ipython",
    "version": 3
   },
   "file_extension": ".py",
   "mimetype": "text/x-python",
   "name": "python",
   "nbconvert_exporter": "python",
   "pygments_lexer": "ipython3",
   "version": "3.6.6"
  }
 },
 "nbformat": 4,
 "nbformat_minor": 2
}

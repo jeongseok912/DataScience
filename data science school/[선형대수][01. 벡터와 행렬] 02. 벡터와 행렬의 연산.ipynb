{
 "cells": [
  {
   "cell_type": "markdown",
   "metadata": {},
   "source": [
    "# 1. 벡터/행렬 덧셈/뺄셈\n",
    "* 요소별(element-wise) 연산 : 같은 크기를 가진 두 벡터와 행렬에서 같은 위치에 있는 원소끼리 덧셈/뺄셈하는 것  \n",
    "\n",
    "#### 벡터 덧셈/뺄셈\n",
    "$$ x = \\begin{bmatrix} 10\\\\ 11\\\\ 12 \\end{bmatrix},\n",
    "   y = \\begin{bmatrix} 0\\\\ 1\\\\ 2\\\\ \\end{bmatrix} $$\n",
    "의 덧셈 $x + y$, 뺄셈 $x - y$은\n",
    "$$ x + y = \\begin{bmatrix} 10\\\\ 11\\\\ 12 \\end{bmatrix}\n",
    "   + \\begin{bmatrix} 0\\\\ 1\\\\ 2\\\\ \\end{bmatrix}\n",
    "   = \\begin{bmatrix} 10\\\\ 12\\\\ 14\\\\ \\end{bmatrix} $$\n",
    "$$ x - y = \\begin{bmatrix} 10\\\\ 11\\\\ 12 \\end{bmatrix}\n",
    "   - \\begin{bmatrix} 0\\\\ 1\\\\ 2\\\\ \\end{bmatrix}\n",
    "   = \\begin{bmatrix} 10\\\\ 10\\\\ 10\\\\ \\end{bmatrix} $$"
   ]
  },
  {
   "cell_type": "code",
   "execution_count": 2,
   "metadata": {},
   "outputs": [
    {
     "data": {
      "text/plain": [
       "array([10, 12, 14, 16, 18])"
      ]
     },
     "execution_count": 2,
     "metadata": {},
     "output_type": "execute_result"
    }
   ],
   "source": [
    "# 편의상 1차원 배열로 벡터 표시\n",
    "import numpy as np\n",
    "\n",
    "x = np.array([10, 11, 12, 13, 14])\n",
    "y = np.array([0, 1, 2, 3, 4])\n",
    "x + y"
   ]
  },
  {
   "cell_type": "code",
   "execution_count": 3,
   "metadata": {},
   "outputs": [
    {
     "data": {
      "text/plain": [
       "array([10, 10, 10, 10, 10])"
      ]
     },
     "execution_count": 3,
     "metadata": {},
     "output_type": "execute_result"
    }
   ],
   "source": [
    "x - y"
   ]
  },
  {
   "cell_type": "markdown",
   "metadata": {},
   "source": [
    "#### 행렬 덧셈/뺄셈\n",
    "동일하게 요소별 연산\n",
    "\n",
    "$$ \\begin{bmatrix} 5& 6\\\\ 7& 8 \\end{bmatrix}\n",
    "    + \\begin{bmatrix} 10& 20\\\\ 30& 40 \\end{bmatrix}\n",
    "    - \\begin{bmatrix} 1& 2\\\\ 3& 4 \\end{bmatrix}\n",
    "    = \\begin{bmatrix} 14& 24\\\\ 34& 44 \\end{bmatrix} $$"
   ]
  },
  {
   "cell_type": "markdown",
   "metadata": {},
   "source": [
    "# 2. 스칼라, 벡터, 행렬의 곱셈\n",
    "벡터 $x$ 또는 행렬 $A$에 스칼라 값 $c$를 곱하는 것 = 벡터 $x$ 또는 행렬 $A$의 모든 원소에 스칼라 값 $c$ 곱하기\n",
    "$$ c\\begin{bmatrix}x_1\\\\ x_2 \\end{bmatrix} = \\begin{bmatrix}cx_1\\\\ cx_2 \\end{bmatrix} $$\n",
    "$$ c\\begin{bmatrix}a_{11}& a_{12}\\\\ a_{21}& a_{22} \\end{bmatrix} = \\begin{bmatrix}ca_{11}& ca_{12}\\\\ ca_{21}& ca_{22} \\end{bmatrix} $$"
   ]
  },
  {
   "cell_type": "markdown",
   "metadata": {},
   "source": [
    "# 3. 브로드캐스팅\n",
    "* 브로드캐스팅(broadcasting) : 덧셈/뺄셈은 크기(차원)이 같은 두 벡터에 대해서만 할 수 있는데, 벡터와 스칼라의 경우 관례적으로 1-벡터를 사용하여 스칼라를 벡터로 변환하여 연산을 혀용하는 것\n",
    "$$ \\begin{bmatrix} 10\\\\ 11\\\\ 12 \\end{bmatrix} - 10 = \\begin{bmatrix} 10\\\\ 11\\\\ 12 \\end{bmatrix} - 10 · 1 $$\n",
    "$$ = \\begin{bmatrix} 10\\\\ 11\\\\ 12 \\end{bmatrix} - \\begin{bmatrix} 10\\\\ 10\\\\ 10 \\end{bmatrix} $$\n",
    "* 데이터 분석에서는 평균 제거(mean removed) 벡터나 0-평균(zero-mean) 벡터를 사용하는 경우가 많다.\n",
    "    * 평균 제거 벡터 : 원래 데이터 벡터의 각 원소의 평균값을 뺀 벡터\n",
    "$$ x - m = \\begin{bmatrix} x_1 - m\\\\ x_2 - m\\\\ ...\\\\ x_N - m \\end{bmatrix} $$\n",
    "$$ m = \\frac{1}{N} \\sum_{i=0}^Nx_i (m : 샘플 평균)$$"
   ]
  },
  {
   "cell_type": "markdown",
   "metadata": {},
   "source": [
    "# 3. 선형조합\n",
    "* 선형조합(linear combination) : 벡터/행렬에 스칼라 값을 곱한 후 더하거나 뺀 것\n",
    "* 벡터/행렬은 선형조합해도 크기가 변하지 않는다.\n",
    "$$ c_1x_1 + c_2x_2 + ... + c_Lx_L = x $$\n",
    "$$ c_1A_1 + c_2A_2 + ... + c_LA_L = A $$\n",
    "$$ c_1, c_2, ..., c_L ∈ R $$\n",
    "$$ x_1, x_2, ..., x_L, x ∈ R^M $$\n",
    "$$ A_1, A_2, ..., A_L, A ∈ R^{M×N} $$ "
   ]
  },
  {
   "cell_type": "markdown",
   "metadata": {},
   "source": [
    "# 4. 벡터와 벡터 곱셈\n",
    "#### 내적(inner product)\n",
    "* 닷 프로덕트(dot product)라고도 부른다.\n",
    "* 벡터 $x$와 벡터 $y$의 내적 표기\n",
    "$$ x·y = <x, y> = x^Ty $$\n",
    "\n",
    "#### 두 벡터의 내적 조건\n",
    "1. 두 벡터의 길이가 같아야 한다.\n",
    "2. 앞의 벡터가 행 벡터, 뒤의 벡터가 열 벡터여야 한다.\n",
    "\n",
    "#### 내적 계산\n",
    "내적의 결과는 하나의 스칼라값이 된다.\n",
    "$$ x^Ty = \\begin{bmatrix}x_1& x_2& ...& x_N\\end{bmatrix}\\begin{bmatrix}y_1\\\\ y_2\\\\ ...\\\\ y_N\\end{bmatrix} $$\n",
    "$$ = x_1y_1 + ... + x_Ny_N $$\n",
    "\n",
    "$$ = \\sum_{i=1}^Nx_iy_i $$\n",
    "\n",
    "$$ x ∈ R^{N×1}, y ∈ R^{N×1} → x^Ty ∈ R $$\n",
    "\n",
    "ex)  \n",
    "$$ x = \\begin{bmatrix} 1\\\\ 2\\\\ 3 \\end{bmatrix}, y = \\begin{bmatrix} 4\\\\ 5\\\\ 6 \\end{bmatrix} $$\n",
    "\n",
    "$$ x^Ty = \\begin{bmatrix} 1& 2& 3 \\end{bmatrix}\\begin{bmatrix} 4\\\\ 5\\\\ 6 \\end{bmatrix} $$\n",
    "\n",
    "$$ = 1·4 + 2·5 + 3·6 = 32 $$\n",
    "\n",
    "##### dot\n",
    "벡터곱, 행렬곱을 한다.\n",
    "* 2차원 배열로 표시한 벡터 내적 시에는 스칼라가 아닌 2차원 배열 반환"
   ]
  },
  {
   "cell_type": "code",
   "execution_count": 4,
   "metadata": {},
   "outputs": [
    {
     "data": {
      "text/plain": [
       "array([[32]])"
      ]
     },
     "execution_count": 4,
     "metadata": {},
     "output_type": "execute_result"
    }
   ],
   "source": [
    "x = np.array([[1], [2], [3]])\n",
    "y = np.array([[4], [5], [6]])\n",
    "np.dot(x.T, y)"
   ]
  },
  {
   "cell_type": "markdown",
   "metadata": {},
   "source": [
    "1차원 배열 내적도 가능\n",
    "* 이 때 앞의 벡터는 행 벡터, 뒤의 벡터는 열 벡터라고 가정한다."
   ]
  },
  {
   "cell_type": "code",
   "execution_count": 5,
   "metadata": {},
   "outputs": [
    {
     "data": {
      "text/plain": [
       "32"
      ]
     },
     "execution_count": 5,
     "metadata": {},
     "output_type": "execute_result"
    }
   ],
   "source": [
    "x = np.array([1, 2, 3])\n",
    "y = np.array([4, 5, 6])\n",
    "np.dot(x, y)"
   ]
  },
  {
   "cell_type": "markdown",
   "metadata": {},
   "source": [
    " ## 4.1. 벡터와 벡터의 곱셈 예 1: 가중합\n",
    "* 벡터의 내적은 가중합을 계산할 때 쓰일 수 있다.\n",
    "* 가중합(weighted sum) : 복수의 데이터를 어떤 가중치 값을 곱한 후 합한 것\n",
    "* 데이터 벡터가 $x = \\begin{bmatrix} x_1, ..., x_N \\end{bmatrix}^T$이고,  \n",
    "가중치 벡터 $w = \\begin{bmatrix} w_1, ..., w_N \\end{bmatrix}^T$이면  \n",
    "가중합은\n",
    "$$ w_1x_1 + ... + w_Nx_N = \\sum_{i=1}^Nw_ix_i $$\n",
    "* 이 값을 벡터 $x$와 $w$의 곱으로 표현\n",
    "$$ \\sum_{i=1}^Nw_ix_i = \\begin{bmatrix}w_1& w_2& ...& w_N \\end{bmatrix}\\begin{bmatrix}x_1\\\\ x_2\\\\ ...\\\\ x_N \\end{bmatrix} = w^Tx $$\n",
    "\n",
    "$$ = \\begin{bmatrix}x_1& x_2& ...& x_N \\end{bmatrix}\\begin{bmatrix}w_1\\\\ w_2\\\\ ...\\\\ w_N \\end{bmatrix} = x^Tw $$\n",
    "ex)  \n",
    "쇼핑할 때 각 물건의 가격은 데이터 벡터, 각 물건의 수량은 가중치로 보고 내적을 구해 총 금액을 계산할 수 있다."
   ]
  },
  {
   "cell_type": "markdown",
   "metadata": {},
   "source": [
    "## 연습 문제\n",
    "A, B, C 세 회사의 주식은 각각 100만원, 80만원, 50만원이다. 이 주식을 각각 3주, 4주, 5주 매수할 때 필요한 금액을 구하고자 한다.\n",
    "1. 주식의 가격과 수량을 각각 p벡터, n벡터로 표시하고 NumPy로 코딩한다."
   ]
  },
  {
   "cell_type": "code",
   "execution_count": 9,
   "metadata": {},
   "outputs": [
    {
     "data": {
      "text/plain": [
       "array([[100],\n",
       "       [ 80],\n",
       "       [ 50]])"
      ]
     },
     "execution_count": 9,
     "metadata": {},
     "output_type": "execute_result"
    }
   ],
   "source": [
    "p = np.array([[100], [80], [50]])\n",
    "n = np.array([[3], [4], [5]])"
   ]
  },
  {
   "cell_type": "markdown",
   "metadata": {},
   "source": [
    "2. 주식을 매수할 때 필요한 금액을 곱셈으로 표시하고 NumPy 연산으로 그 값을 계산한다."
   ]
  },
  {
   "cell_type": "code",
   "execution_count": 10,
   "metadata": {},
   "outputs": [
    {
     "data": {
      "text/plain": [
       "array([[300, 400, 500],\n",
       "       [240, 320, 400],\n",
       "       [150, 200, 250]])"
      ]
     },
     "execution_count": 10,
     "metadata": {},
     "output_type": "execute_result"
    }
   ],
   "source": [
    "n.T * p"
   ]
  },
  {
   "cell_type": "markdown",
   "metadata": {},
   "source": [
    " ## 4.2. 벡터와 벡터의 곱셈 예 2: 가중평균\n",
    "* 가중평균(weighted average) : 가중합의 가중치값을 전체 가중치값의 합으로 나눈 것  \n",
    "ex)  \n",
    "1학점과 3학점 과목 각 점수가 100점, 60점일 때, 학점을 고려한 가중 평균 성적은\n",
    "$$ \\frac{학점과 점수의 가중합}{학점의 총합} = \\frac{1}{1 + 3} × 100 + \\frac{3}{1 + 3} × 60 = 70 $$\n",
    "* 단순평균 $\\bar x$(엑스바)\n",
    "$$ \\bar x = \\frac{1}{N}\\sum_{i=1}^Nx_i = \\frac{1}{N}1_N^Tx $$"
   ]
  },
  {
   "cell_type": "code",
   "execution_count": 11,
   "metadata": {},
   "outputs": [
    {
     "data": {
      "text/plain": [
       "4.5"
      ]
     },
     "execution_count": 11,
     "metadata": {},
     "output_type": "execute_result"
    }
   ],
   "source": [
    "# NumPy로 평균 계산\n",
    "x = np.arange(10)\n",
    "N = len(x)\n",
    "np.dot(np.ones(N), x) / N"
   ]
  },
  {
   "cell_type": "code",
   "execution_count": 12,
   "metadata": {},
   "outputs": [
    {
     "data": {
      "text/plain": [
       "4.5"
      ]
     },
     "execution_count": 12,
     "metadata": {},
     "output_type": "execute_result"
    }
   ],
   "source": [
    "x.mean()"
   ]
  },
  {
   "cell_type": "markdown",
   "metadata": {},
   "source": [
    "## 연습 문제\n",
    "벡터 $x$의 평균 제거 벡터는 다음과 같이 계산함을 증명하라.\n",
    "$$ x- \\frac{1}{N}1_N^Tx1 $$"
   ]
  },
  {
   "cell_type": "markdown",
   "metadata": {},
   "source": [
    " ## 4.3. 벡터와 벡터의 곱셈 예 3: 유사도\n",
    "* 벡터의 곱셈(내적)은 두 벡터 간의 유사도 계산에도 이용할 수 있다.\n",
    "* 유사도(similarity) : 두 벡터가 닮은 정도를 정량적으로 나타낸 값\n",
    "* 내적을 이용하면 코사인 유사도(cosine similarity)라는 유사도를 계산할 수 있다."
   ]
  },
  {
   "cell_type": "markdown",
   "metadata": {},
   "source": [
    "#### 0과 1을 나타내는 MNIST 이미지에 대해 내적 계산"
   ]
  },
  {
   "cell_type": "code",
   "execution_count": 26,
   "metadata": {},
   "outputs": [
    {
     "data": {
      "image/png": "[encoded data removed]",
      "text/plain": [
       "<Figure size 648x648 with 8 Axes>"
      ]
     },
     "metadata": {},
     "output_type": "display_data"
    }
   ],
   "source": [
    "import matplotlib.pyplot as plt\n",
    "from sklearn.datasets import load_digits\n",
    "import matplotlib.gridspec as gridspec\n",
    "\n",
    "digits = load_digits()\n",
    "d1 = digits.images[0]\n",
    "d2 = digits.images[10]\n",
    "d3 = digits.images[1]\n",
    "d4 = digits.images[11]\n",
    "v1 = d1.reshape(64, 1)\n",
    "v2 = d2.reshape(64, 1)\n",
    "v3 = d3.reshape(64, 1)\n",
    "v4 = d4.reshape(64, 1)\n",
    "\n",
    "plt.figure(figsize=(9, 9))\n",
    "gs = gridspec.GridSpec(1, 8, height_ratios=[1], width_ratios=[9, 1, 9, 1, 9, 1, 9, 1])\n",
    "\n",
    "for i in range(4):\n",
    "    plt.subplot(gs[2 * i])\n",
    "    plt.imshow(eval(\"d\" + str(i + 1)), aspect=1, interpolation='nearest', \n",
    "                    cmap=plt.cm.bone_r)\n",
    "    plt.xticks([])\n",
    "    plt.yticks([])\n",
    "    plt.title(\"image {}\".format(i + 1))\n",
    "    \n",
    "    plt.subplot(gs[2 * i + 1])\n",
    "    plt.imshow(eval(\"v\" + str(i + 1)), aspect=0.25, interpolation='nearest', \n",
    "                    cmap=plt.cm.bone_r)\n",
    "    plt.xticks([])\n",
    "    plt.yticks([])\n",
    "    plt.title(\"image {}\".format(i + 1))\n",
    "\n",
    "plt.tight_layout()\n",
    "plt.show()"
   ]
  },
  {
   "cell_type": "code",
   "execution_count": 32,
   "metadata": {},
   "outputs": [
    {
     "data": {
      "text/plain": [
       "(3064.0, 3661.0)"
      ]
     },
     "execution_count": 32,
     "metadata": {},
     "output_type": "execute_result"
    }
   ],
   "source": [
    "# 0 이미지와 0 이미지 또는 1 이미지와 1이미지의 내적값\n",
    "np.dot(v1.T, v2)[0][0], np.dot(v3.T, v4)[0][0]"
   ]
  },
  {
   "cell_type": "code",
   "execution_count": 34,
   "metadata": {},
   "outputs": [
    {
     "data": {
      "text/plain": [
       "(1866.0, 1883.0, 2421.0, 2479.0)"
      ]
     },
     "execution_count": 34,
     "metadata": {},
     "output_type": "execute_result"
    }
   ],
   "source": [
    "# 상대적으로 0 이미지와 1 이미지 또는 1 이미지와 0 이미지의 내적값은 작다.\n",
    "np.dot(v1.T, v3)[0][0], np.dot(v1.T, v4)[0][0], np.dot(v2.T, v3)[0][0], np.dot(\n",
    "    v2.T, v4)[0][0]"
   ]
  },
  {
   "cell_type": "markdown",
   "metadata": {},
   "source": [
    "## 연습 문제\n",
    "다음 코드를 실행하면 MNIST digit image 전체 데이터를 모두 벡터로 변환하여 하나의 NumPy 행렬 $X$를 만든다. 이 행렬을 이용하여 다음 문제를 풀어라.  \n",
    "```from sklearn.datasets import load_digits\n",
    " X = load_digits().data```\n",
    " 1. 내적을 이용하여 첫 번째 이미지와 10번째 이미지의 유사도를 구하라."
   ]
  },
  {
   "cell_type": "markdown",
   "metadata": {},
   "source": [
    "2. 내적을 이용하여 모든 이미지의 조합에 대해 유사도를 구하라. 어떻게 구현하는 것이 효율적일까? (힌트: 이 문제는 뒤에서 배울 행렬과 행렬의 곱셈을 이용한다.)"
   ]
  },
  {
   "cell_type": "markdown",
   "metadata": {},
   "source": [
    " ## 4.4. 벡터와 벡터의 곱셈 예 4: 선형회귀모형\n",
    "* 선형회귀모형(linear regression model) : 독리변수 $x$에서 종속변수 $y$를 예측하기 위한 방법의 하나\n",
    "* 독립변수 벡터 $x$와 가중치 벡터 $w$와의 가중합으로 $y$에 대한 예측값 $\\hat y$를 계산하는 수식이다.\n",
    "$$ \\hat y = w_1x_1 + ... + w_Nx_N $$\n",
    "* `^`는 \"캐럿(caret)\", $\\hat y$는 \"와이 햇(y hat)\"이라고 읽는다.\n",
    "* 수식을 벡터의 내적으로 나타내기\n",
    "$$ \\hat y = w^Tx $$\n",
    "\n",
    "ex)  \n",
    "아파트 가격 예측 모형  \n",
    "* $m^2$ : 면적 - $x_1$\n",
    "* 층수 - $x_2$\n",
    "* 한강이 보이는지 여부 - $x_3$\n",
    "    * 보이면 1, 안 보이면 0\n",
    "* 해당 아파트의 예측 가격 - $\\hat y$\n",
    "$$ \\hat y = 500x_1 + 200x_2 + 1000x_3 $$\n",
    "* 이 모형 해석\n",
    "    * 면적이 1$m^2$ 증가할수록 가격은 500만원 증가한다.\n",
    "    * 층수가 1층 높아질수록 200만원이 증가한다.\n",
    "    * 한강이 보이는 집은 1,000만원의 웃돈(프리미엄)이 존재한다.\n",
    "* 벡터 내적으로 나타내기\n",
    "$$ \\hat y = \\begin{bmatrix} 500& 200& 1000 \\end{bmatrix}\\begin{bmatrix} x_1\\\\ x_2\\\\ x_3 \\end{bmatrix} = w^Tx $$\n",
    "* 인공신경망(artificial neural network)으로 나타내기\n",
    "    * 데이터 : 노드(node) 혹은 뉴런(neuron)이라는 동그라미로 표시  \n",
    "    * 곱셈 : 선분(line) 위에 곱할 숫자를 써서 표시  \n",
    "    * 덧셈 : 여러 개의 선부이 만나는 것으로 표시\n",
    "    \n",
    "  ## 4.4.1. 선형회귀모형의 단점\n",
    " * 비선형적인 현실세계의 데이터를 잘 예측하지 못할 수 있다.  \n",
    " ex)  \n",
    " 집값은 면적에 단순 미례하지 않는다.  \n",
    " 소형 면적의 집과 대형 면적의 집은 단위 면적당 집값의 증가율이 다를 수 있다.  \n",
    " 또한 저층이 보통 고층보다 집값이 싸지만 층수가 올라갈수록 정확히 층수에 비례하여 가격이 증가하지도 않는다.\n",
    " * 이런 현실세계 데이터와 선형회귀모형의 괴리를 줄이기 위해 여러가지 기법으로 수정한 선형회귀모형을 사용하는 것이 일반적이다."
   ]
  },
  {
   "cell_type": "markdown",
   "metadata": {},
   "source": [
    " ## 4.5. 벡터와 벡터의 곱셈 예 5: 제곱합\n",
    "* 제곱합(sum of squares) : 분산(variance), 표준편차(standard deviation) 등을 구하는 경우 사용되는 각각의 데이터를 제곱한 뒤 모두 더한 값\n",
    "* 이 경우에도 벡터 내적을 사용해 $x^Tx$로 쓸 수 있다.\n",
    "$$ x^Tx = \\begin{bmatrix}x_1& x_2& ...& x_N\\end{bmatrix}\\begin{bmatrix}x_1\\\\ x_2\\\\ ...\\\\ x_N\\end{bmatrix} = \\sum_{i=1}^Nx_i^2 $$"
   ]
  },
  {
   "cell_type": "markdown",
   "metadata": {},
   "source": [
    "# 5. 행렬과 행렬의 곱셈\n",
    "* 행렬 × 행렬 = 행렬\n",
    "$$ C = AB → c_{ij} = a_i^Tb_j $$\n",
    "    * $A, B, C$ : 행렬\n",
    "    * $i$ : 행\n",
    "    * $j$ : 열\n",
    "* 행렬곱 조건\n",
    "    * 행렬 A의 열 수가 뒤의 행렬 B 행 수와 일치해야 한다.\n",
    "    $$ A ∈ R^{N×L}, B ∈ R^{L×M} → AB ∈ R^{N×M} $$\n",
    "\n",
    "ex)  \n",
    "$$ A = \\begin{bmatrix} 1& 2& 3\\\\ 4& 5& 6 \\end{bmatrix} $$\n",
    "$$ B = \\begin{bmatrix} 1& 2\\\\ 3& 4\\\\ 5& 6 \\end{bmatrix} $$\n",
    "$$ C = AB = \\begin{bmatrix} 1×1 + 1×3 + 3×5& 1×2 + 2×4 + 3×6\\\\ 4×1 + 5×3 + 6×5& 4×2 + 5×4 + 6×6 \\end{bmatrix} $$\n",
    "$$ = \\begin{bmatrix} 22& 28\\\\ 49& 64 \\end{bmatrix} $$\n",
    "\n",
    "행렬곱 할 때도 `dot` 명령 사용한다."
   ]
  },
  {
   "cell_type": "code",
   "execution_count": 38,
   "metadata": {},
   "outputs": [
    {
     "data": {
      "text/plain": [
       "array([[22, 28],\n",
       "       [49, 64]])"
      ]
     },
     "execution_count": 38,
     "metadata": {},
     "output_type": "execute_result"
    }
   ],
   "source": [
    "A = np.array([[1, 2, 3], [4, 5, 6]])\n",
    "B = np.array([[1, 2], [3, 4], [5, 6]])\n",
    "C = np.dot(A, B)\n",
    "C"
   ]
  },
  {
   "cell_type": "markdown",
   "metadata": {},
   "source": [
    "## 연습 문제\n",
    "1. $A$와 $B$가 위와 같을 때 $AB$를 연습장에 손으로 계산하고 NumPy의 계산결과와 맞는지 확인한다.\n",
    "2. 순서를 바꾸어 $BA$를 손으로 계산하고 NumPy의 계산결과와 맞는지 확인한다. $BA$가 $AB$와 같은가?"
   ]
  },
  {
   "cell_type": "code",
   "execution_count": 39,
   "metadata": {},
   "outputs": [
    {
     "data": {
      "text/plain": [
       "array([[ 9, 12, 15],\n",
       "       [19, 26, 33],\n",
       "       [29, 40, 51]])"
      ]
     },
     "execution_count": 39,
     "metadata": {},
     "output_type": "execute_result"
    }
   ],
   "source": [
    "np.dot(B, A)"
   ]
  },
  {
   "cell_type": "markdown",
   "metadata": {},
   "source": [
    "3. $A, B$가 다음과 같을 때, $AB, BA$를 (계산이 가능하다면) 손으로 계산하고 NumPy의 계산결과와 맞는지 확인하다. $AB, BA$ 모두 계산 가능한가?\n",
    "$$ A = \\begin{bmatrix}1& 2& 3 \\end{bmatrix} $$\n",
    "$$ B = \\begin{bmatrix}4& 7\\\\ 5& 8\\\\ 6& 9\\end{bmatrix} $$"
   ]
  },
  {
   "cell_type": "markdown",
   "metadata": {},
   "source": [
    "4. $A, B$가 다음과 같을 때, $AB, BA$를 (계산이 가능하다면) 손으로 계산하고 NumPy의 계산결과와 맞는지 확인한다. $AB, BA$ 모두 계산 가능한가? $BA$의 결과가 $AB$와 같은가?\n",
    "$$ A = \\begin{bmatrix}1& 2\\\\ 3& 4 \\end{bmatrix} $$\n",
    "$$ B = \\begin{bmatrix}5& 6\\\\ 7& 8 \\end{bmatrix} $$"
   ]
  },
  {
   "cell_type": "markdown",
   "metadata": {},
   "source": [
    "5. $A$가 다음과 같을 때 $AA^T$와 $A^TA$를 손으로 계산하고 NumPy의 계산결과와 맞는지 확인한다. $AA^T$와 $A^TA$의 크기는 어떠한가? 항상 정방행렬이 되는가?\n",
    "$$ A = \\begin{bmatrix}1& 2\\\\ 3& 4\\\\ 5& 6 \\end{bmatrix} $$"
   ]
  },
  {
   "cell_type": "markdown",
   "metadata": {},
   "source": [
    "6. $x$가 다음과 같을 때, $x^Tx$와 $xx^T$를 손으로 계산하고 NumPy의 계산결과와 맞는지 확인한다. $x^Tx$와 $xx^T$의 크기는 어떠한가? 어떤 것이 스칼라이고 어떤 것이 정방행렬인가?\n",
    "$$ x = \\begin{bmatrix}1\\\\ 2\\\\ 3 \\end{bmatrix} $$"
   ]
  },
  {
   "cell_type": "markdown",
   "metadata": {},
   "source": [
    "-----\n",
    "인공 신경망은 내부적으로 여러 개의 선형회귀 모형을 사용한다.  \n",
    "이 구조는 행렬과 벡터의 곱으로 나타낼 수 있다.\n",
    "$$ \\begin{bmatrix} \\hat y_1\\\\ \\hat y_2 \\end{bmatrix} = \\begin{bmatrix} w_{11}& w_{12}& w_{13}\\\\ w_{21}& w_{22}& w_{23} \\end{bmatrix}\\begin{bmatrix} x_1\\\\ x_2\\\\ x_3 \\end{bmatrix} $$\n",
    "$$ \\hat y = Wx $$"
   ]
  },
  {
   "cell_type": "markdown",
   "metadata": {},
   "source": [
    " ## 5.1. 행렬의 교환 법칙과 분배 법칙\n",
    "* 행렬의 곱셈은 교환 법칙이 성립하지 않는다.\n",
    "* 덧셈은 분배 법칙이 성립한다.\n",
    "$$ AB ≠ BA $$\n",
    "$$ A(B + C) = AB + AC $$\n",
    "$$ (A + B)C = AC + BC $$\n",
    "\n",
    "#### 교환법칙"
   ]
  },
  {
   "cell_type": "code",
   "execution_count": 40,
   "metadata": {},
   "outputs": [
    {
     "data": {
      "text/plain": [
       "array([[19, 22],\n",
       "       [43, 50]])"
      ]
     },
     "execution_count": 40,
     "metadata": {},
     "output_type": "execute_result"
    }
   ],
   "source": [
    "A = np.array([[1, 2], [3, 4]])\n",
    "B = np.array([[5, 6], [7, 8]])\n",
    "C = np.array([[9, 8], [7, 6]])\n",
    "np.dot(A, B)"
   ]
  },
  {
   "cell_type": "code",
   "execution_count": 41,
   "metadata": {},
   "outputs": [
    {
     "data": {
      "text/plain": [
       "array([[23, 34],\n",
       "       [31, 46]])"
      ]
     },
     "execution_count": 41,
     "metadata": {},
     "output_type": "execute_result"
    }
   ],
   "source": [
    "np.dot(B, A)"
   ]
  },
  {
   "cell_type": "markdown",
   "metadata": {},
   "source": [
    "성립하지 않는다.\n",
    "\n",
    "#### 분배법칙"
   ]
  },
  {
   "cell_type": "code",
   "execution_count": 43,
   "metadata": {},
   "outputs": [
    {
     "data": {
      "text/plain": [
       "array([[42, 42],\n",
       "       [98, 98]])"
      ]
     },
     "execution_count": 43,
     "metadata": {},
     "output_type": "execute_result"
    }
   ],
   "source": [
    "np.dot(A, B + C)"
   ]
  },
  {
   "cell_type": "code",
   "execution_count": 44,
   "metadata": {},
   "outputs": [
    {
     "data": {
      "text/plain": [
       "array([[42, 42],\n",
       "       [98, 98]])"
      ]
     },
     "execution_count": 44,
     "metadata": {},
     "output_type": "execute_result"
    }
   ],
   "source": [
    "np.dot(A, B) + np.dot(A, C)"
   ]
  },
  {
   "cell_type": "markdown",
   "metadata": {},
   "source": [
    "성립한다."
   ]
  },
  {
   "cell_type": "markdown",
   "metadata": {},
   "source": [
    "* 전치 연산도 덧셈/뺄셈 분배 법칙이 성립한다.\n",
    "$$ (A + B)^T = A^T + B^T $$\n",
    "* 전치 연산 곱셈의 분배 법칙은 성립하지만, 곱셈의 순서가 바뀐다.\n",
    "$$ (AB)^T = B^TA^T $$\n",
    "$$ (ABC)^T = C^TB^TA^T $$\n",
    "\n",
    "#### 전치연산 덧셈 분배법칙"
   ]
  },
  {
   "cell_type": "code",
   "execution_count": 45,
   "metadata": {},
   "outputs": [
    {
     "data": {
      "text/plain": [
       "array([[ 6, 10],\n",
       "       [ 8, 12]])"
      ]
     },
     "execution_count": 45,
     "metadata": {},
     "output_type": "execute_result"
    }
   ],
   "source": [
    "(A + B).T"
   ]
  },
  {
   "cell_type": "code",
   "execution_count": 46,
   "metadata": {},
   "outputs": [
    {
     "data": {
      "text/plain": [
       "array([[ 6, 10],\n",
       "       [ 8, 12]])"
      ]
     },
     "execution_count": 46,
     "metadata": {},
     "output_type": "execute_result"
    }
   ],
   "source": [
    "A.T + B.T"
   ]
  },
  {
   "cell_type": "markdown",
   "metadata": {},
   "source": [
    "성립한다.\n",
    "\n",
    "#### 전치연산 곱셈 분배법칙"
   ]
  },
  {
   "cell_type": "code",
   "execution_count": 47,
   "metadata": {},
   "outputs": [
    {
     "data": {
      "text/plain": [
       "array([[19, 43],\n",
       "       [22, 50]])"
      ]
     },
     "execution_count": 47,
     "metadata": {},
     "output_type": "execute_result"
    }
   ],
   "source": [
    "(np.dot(A, B)).T"
   ]
  },
  {
   "cell_type": "code",
   "execution_count": 48,
   "metadata": {},
   "outputs": [
    {
     "data": {
      "text/plain": [
       "array([[19, 43],\n",
       "       [22, 50]])"
      ]
     },
     "execution_count": 48,
     "metadata": {},
     "output_type": "execute_result"
    }
   ],
   "source": [
    "np.dot(B.T, A.T)"
   ]
  },
  {
   "cell_type": "markdown",
   "metadata": {},
   "source": [
    "곱셈 순서를 바꿔야 성립"
   ]
  },
  {
   "cell_type": "markdown",
   "metadata": {},
   "source": [
    "## 연습 문제\n",
    "(1) 행렬 $X (X ∈ R^{N×M})$가 있을 때, 이 행렬의 각 열의 평균으로 이루어진 벡터 $\\bar x (\\bar x ∈ R^M)$가 다음과 같음을 보여라.\n",
    "$$ \\bar x = \\frac{1}{N}X^T1_N $$"
   ]
  },
  {
   "cell_type": "markdown",
   "metadata": {},
   "source": [
    "(2) 행렬 $\\bar X (\\bar X ∈ R^{N×M})$는 동일한 벡터 $\\bar x^T$를 $N$개 누적하여 만든 행렬이다. 즉 각 열의 모든 값이 그 열의 평균으로 이루어진 행렬이다.\n",
    "$$ \\bar X = \\begin{bmatrix} \\bar x^T\\\\ \\bar x^T\\\\ ...\\\\ \\bar x^T \\end{bmatrix} $$\n",
    "$\\bar X$가 다음과 같음을 보여라.\n",
    "$$ \\bar X = \\frac{1}{N}1_N1_N^TX $$"
   ]
  },
  {
   "cell_type": "markdown",
   "metadata": {},
   "source": [
    "(3) 다음 코드를 실행하면 붓꽃 전체 데이터를 모두 벡터로 변환하여 하나의 NumPy 행렬 $X$를 만든다.  \n",
    "``` from sklearn.datasets import load_iris\n",
    "X = load_iris().data```  \n",
    "이 데이터로 행렬 $\\bar X$의 값을 계산하라."
   ]
  },
  {
   "cell_type": "markdown",
   "metadata": {},
   "source": [
    " ## 5.2. 행렬 곱셈의 연결\n",
    "연속된 행렬의 곱셈은 계산 순서를 임의의 순서로 해도 상관없다.\n",
    "$$ ABC = (AB)C = A(BC) $$\n",
    "$$ ABCD = ((AB)C)D = (AB)(CD) = A(BCD) = A(BC)D $$"
   ]
  },
  {
   "cell_type": "markdown",
   "metadata": {},
   "source": [
    "## 연습 문제\n",
    "다음 행렬의 곱셈을 순서를 바꾸어 두 가지 방법으로 해본다.\n",
    "$$ \\begin{bmatrix} 1& 2 \\end{bmatrix}\\begin{bmatrix} 1& 2\\\\ 3& 4 \\end{bmatrix}\\begin{bmatrix} 5\\\\ 6 \\end{bmatrix} $$"
   ]
  },
  {
   "cell_type": "markdown",
   "metadata": {},
   "source": [
    " ## 5.3. 항등행렬의 곱셈\n",
    "어떤 정방행렬이든 항등행렬을 곱하면 그 행렬의 값이 변하지 않는다.\n",
    "$$ AI = IA = A $$"
   ]
  },
  {
   "cell_type": "code",
   "execution_count": 49,
   "metadata": {},
   "outputs": [
    {
     "data": {
      "text/plain": [
       "array([[1., 2.],\n",
       "       [3., 4.]])"
      ]
     },
     "execution_count": 49,
     "metadata": {},
     "output_type": "execute_result"
    }
   ],
   "source": [
    "A = np.array([[1, 2], [3, 4]])\n",
    "I = np.eye(2)\n",
    "\n",
    "np.dot(A, I)"
   ]
  },
  {
   "cell_type": "code",
   "execution_count": 50,
   "metadata": {},
   "outputs": [
    {
     "data": {
      "text/plain": [
       "array([[1., 2.],\n",
       "       [3., 4.]])"
      ]
     },
     "execution_count": 50,
     "metadata": {},
     "output_type": "execute_result"
    }
   ],
   "source": [
    "np.dot(I, A)"
   ]
  },
  {
   "cell_type": "markdown",
   "metadata": {},
   "source": [
    "# 6. 행렬과 벡터의 곱\n",
    "* 데이터 분석에서 행렬 $M$과 벡터 $v$의 곱셈이 널리 쓰인다.\n",
    "$$ Mv $$"
   ]
  },
  {
   "cell_type": "markdown",
   "metadata": {},
   "source": [
    " ## 6.1. 행렬과 벡터의 곱 예 1: 열 벡터의 선형조합\n",
    " * 행렬 $X$와 벡터 $w$의 곱 = 행렬 $X$를 이루는 열벡터 $c_1, c_2, ..., c_M$을 뒤에 곱해지는 벡터 $w$의 각 성분 $w_1, w_2, ..., w_M$으로 선형조합(linear combination) 한 결과 벡터\n",
    " $$ X_w = \\begin{bmatrix} c_1& c_2& ...& c_M \\end{bmatrix}\\begin{bmatrix} w_1\\\\ w_2\\\\ ...\\\\ w_M \\end{bmatrix} = w_1c_1 + w_2c_2 + ... + w_Mc_M $$"
   ]
  },
  {
   "cell_type": "markdown",
   "metadata": {},
   "source": [
    "## 연습 문제\n",
    "다음 행렬 $X$와 벡터 $w$에 대해 곱 $Xw$가 열벡터 $c_1, c_2, c_3$의 선형조합 $w_1c_1 + w_2c_2 + w_3c_3$가 됨을 실제 계산으로 증명하라.\n",
    "$$ X = \\begin{bmatrix} 1& 2& 3\\\\ 4& 5& 6 \\end{bmatrix}, w = \\begin{bmatrix} 2\\\\ 3\\\\ 4 \\end{bmatrix} $$"
   ]
  },
  {
   "cell_type": "code",
   "execution_count": 52,
   "metadata": {},
   "outputs": [
    {
     "data": {
      "text/plain": [
       "array([[20],\n",
       "       [47]])"
      ]
     },
     "execution_count": 52,
     "metadata": {},
     "output_type": "execute_result"
    }
   ],
   "source": [
    "X = np.array([[1, 2, 3], [4, 5, 6]])\n",
    "w = np.array([[2], [3], [4]])\n",
    "np.dot(X, w)"
   ]
  },
  {
   "cell_type": "code",
   "execution_count": 66,
   "metadata": {},
   "outputs": [
    {
     "data": {
      "text/plain": [
       "array([[20],\n",
       "       [47]])"
      ]
     },
     "execution_count": 66,
     "metadata": {},
     "output_type": "execute_result"
    }
   ],
   "source": [
    "c1 = np.array([[1], [4]])\n",
    "c2 = np.array([[2], [5]])\n",
    "c3 = np.array([[3], [6]])\n",
    "np.dot(w[0][0], c1) + np.dot(w[1][0], c2) + np.dot(w[2][0], c3)"
   ]
  },
  {
   "cell_type": "markdown",
   "metadata": {},
   "source": [
    "## 연습 문제\n",
    "다음 행렬 $V$와 벡터 $\\lambda$에 대해 다음 식이 성립함을 증명하라. 이 식에서 $\\lambda_1$는 스칼라이다.\n",
    "$$ V\\lambda = \\begin{bmatrix} v_1& v_2& v_3 \\end{bmatrix}\\begin{bmatrix} \\lambda_1\\\\ 0\\\\ 0\\\\ \\end{bmatrix} = \\lambda_1v_1$$"
   ]
  },
  {
   "cell_type": "markdown",
   "metadata": {},
   "source": [
    "# 7. 벡터의 선형조합 응용\n",
    "ex)  \n",
    "두 이미지 벡터의 선형조합은 두 이미지를 섞어놓은 모핑(morphing) 효과를 얻는데 사용할 수 있다."
   ]
  },
  {
   "cell_type": "code",
   "execution_count": 77,
   "metadata": {},
   "outputs": [
    {
     "data": {
      "image/png": "[encoded data removed]",
      "text/plain": [
       "<Figure size 432x288 with 3 Axes>"
      ]
     },
     "metadata": {},
     "output_type": "display_data"
    }
   ],
   "source": [
    "from sklearn.datasets import fetch_olivetti_faces\n",
    "faces = fetch_olivetti_faces()\n",
    "\n",
    "f, ax = plt.subplots(1, 3)\n",
    "\n",
    "ax[0].imshow(faces.images[0])\n",
    "ax[0].set_xticks([])\n",
    "ax[0].set_yticks([])\n",
    "ax[0].set_title(\"image 1: x1\")\n",
    "\n",
    "ax[1].imshow(faces.images[10])\n",
    "ax[1].set_xticks([])\n",
    "ax[1].set_yticks([])\n",
    "ax[1].set_title(\"image 2: x2\")\n",
    "\n",
    "ax[2].imshow(0.6 * faces.images[0] + 0.4 * faces.images[10])\n",
    "ax[2].set_xticks([])\n",
    "ax[2].set_yticks([])\n",
    "ax[2].set_title(\"image 3: 0.6x1 + 0.4x2\")\n",
    "\n",
    "plt.tight_layout()\n",
    "plt.show()"
   ]
  },
  {
   "cell_type": "markdown",
   "metadata": {},
   "source": [
    "# 8. 여러 개의 벡터에 대한 가중합 동시 계산\n",
    "선형 회귀 모형을 사용하여 여러 개의 데이터 $x_1, x_2, ..., x_N$ 개의 데이터 모두에 대해 예측값 $y_1, y_2, ..., y_N$을 한꺼번에 계산하고 싶다면 $\\hat y = Xw$ 수식으로 간단히 표시 할 수 있다.\n",
    "$$ \\hat y = \\begin{bmatrix} \\hat y_1\\\\ \\hat y_2\\\\ ...\\\\ \\hat y_M \\end{bmatrix} = \\begin{bmatrix} w_1x_{1,1} + w_2x_{1,2} + ... + w_Nx_{1,N}\\\\ w_1x_{2,1} + w_2x_{2,2} + ... + w_Nx_{2,N}\\\\ ...\\\\ w_1x_{M,1} + w_2x_{M,2} + ... + w_Nx_{M,N}\\\\ \\end{bmatrix} $$\n",
    "\n",
    "$$ = \\begin{bmatrix} x_{1,1}& x_{1,2}& ...& x_{1,N}\\\\ x_{2,1}& x_{2,2}& ...& x_{2,N}\\\\ ...\\\\ x_{M,1}& x_{M,2}& ...& x_{M,N}\\\\ \\end{bmatrix}\\begin{bmatrix} w_1\\\\ w_2\\\\ ...\\\\ w_N \\end{bmatrix} $$\n",
    "\n",
    "$$ = \\begin{bmatrix} x_1^T\\\\ x_2^T\\\\ ...\\\\ x_M^T \\end{bmatrix}\\begin{bmatrix} w_1\\\\ w_2\\\\ ...\\\\ w_N \\end{bmatrix} $$\n",
    "\n",
    "$$ = Xw $$\n",
    "즉,\n",
    "$$ \\hat y = Xw $$"
   ]
  },
  {
   "cell_type": "markdown",
   "metadata": {},
   "source": [
    "## 연습 문제\n",
    "$x_1, x_2$가 다음과 같을 때,\n",
    "$$ x_1 = \\begin{bmatrix} x_{11}\\\\ x_{21}\\\\ x_{31} \\end{bmatrix},  x_2 = \\begin{bmatrix} x_{12}\\\\ x_{22}\\\\ x_{32} \\end{bmatrix} $$\n",
    "다음 등식이 성립함을 보인다.\n",
    "$$ Xw = \\begin{bmatrix} x_1^T\\\\ x_2^T\\\\ \\end{bmatrix}\\begin{bmatrix} w_1\\\\ w_2\\\\ w_3 \\end{bmatrix} = \\begin{bmatrix} x_1^Tw\\\\ x_2^Tw\\\\ \\end{bmatrix} $$"
   ]
  },
  {
   "cell_type": "markdown",
   "metadata": {},
   "source": [
    "# 9. 잔차\n",
    "* 오차(error) 혹은 잔차(residual) $e_i$ : 예측치와 실제값(target) $y_i$의 차이\n",
    "$$ e_i = y_i - \\hat y_i = y_i - w^Tx_i $$\n",
    "* 잔차 벡터는 $y - Xw$로 간단히 표기할 수 있다.\n",
    "$$ e = \\begin{bmatrix} e_1\\\\ e_2\\\\ ...\\\\ e_M \\end{bmatrix} $$\n",
    "\n",
    "$$ = \\begin{bmatrix} y_1\\\\ y_2\\\\ ...\\\\ y_M \\end{bmatrix} - \\begin{bmatrix} x_1^Tw\\\\ x_2^Tw\\\\ ...\\\\ x_M^Tw \\end{bmatrix} $$\n",
    "\n",
    "$$ = y - Xw $$\n",
    "\n",
    " ## 9.1. 잔차 제곱합\n",
    " 잔차의 크기는 잔차 제곱합(RSS: Residual Sum of Squares)으로 구한다.  \n",
    " 이 값은 $e^Te$로 쓸 수 있고 다음처럼 계산한다.\n",
    " $$ \\sum_{i=1}^Ne_i^2 = \\sum_{i=1}^N(y_i - w^Tx_i)^2 = e^Te = (y - Xw)^T(y - Xw) $$"
   ]
  },
  {
   "cell_type": "markdown",
   "metadata": {},
   "source": [
    "## 연습 문제\n",
    "분배 법칙을 사용하여 위 식 $(y - Xw)^T(y - Xw)$을 풀어쓰면 다음과 같아짐을 보인다.\n",
    "\n",
    "$$ (y - Xw)^T(y - Xw) = y^Ty - w^TX^Ty - y^TXw + w^TX^TXw $$"
   ]
  },
  {
   "cell_type": "markdown",
   "metadata": {},
   "source": [
    "# 10. 이차 형식\n",
    "* 이차 형식(Quadratic Form) : 어떤 벡터와 정방 행렬이 $행벡터 × 정방행렬 × 열벡터$ 형식으로 되어 있는 것  \n",
    "ex)  \n",
    "위의 마지막 항 $w^TX^TXw$에서 $X^TX$는 정방행렬이므로 $w^TAw$와 같은 형태가 된다.\n",
    "* 이 수식을 풀면 $i = 1, ..., N$, $j = 1, ..., N$에 대해 가능한 모든 $i, j$ 쌍의 조합을 구한 다음, $i, j$에 해당하는 원소 $x_i, x_j$를 가중치 $a_{ij}$와 같이 곱한 값 $a_{i,j}x_ix_j$의 총합이 된다.\n",
    "$$ x^TAx = \\begin{bmatrix} x_1& x_2& ...& x_N \\end{bmatrix}\\begin{bmatrix} a_{1,1}& a_{1,2}& ...& a_{1,N}\\\\ a_{2,1}& a_{2,2}& ...& a_{2,N}\\\\ ...\\\\ a_{N,1}& a_{N,2}& ...& a_{N,N}\\\\ \\end{bmatrix}\\begin{bmatrix} x_1\\\\ x_2\\\\ ...\\\\ x_N \\end{bmatrix} $$\n",
    "\n",
    "$$ = \\sum_{i=1}^N\\sum_{j=1}^Na_{i,j}x_ix_j $$"
   ]
  },
  {
   "cell_type": "markdown",
   "metadata": {},
   "source": [
    "## 연습 문제\n",
    "다음 3차원 벡터와 행렬에 대해 이차형식을 쓰고 값을 계산하라.\n",
    "$$ x = \\begin{bmatrix} x_1\\\\ x_2\\\\ x_3 \\end{bmatrix} $$\n",
    "\n",
    "$$ A = \\begin{bmatrix} a_{11}& a_{12}& a_{13}\\\\ a_{21}& a_{22}& a_{23}\\\\ a_{31}& a_{32}& a_{33} \\end{bmatrix} $$"
   ]
  },
  {
   "cell_type": "markdown",
   "metadata": {},
   "source": [
    "-----\n",
    "ex)  \n",
    "$x = \\begin{bmatrix} 1, 2, 3 \\end{bmatrix}^T$이고, $A$가 다음과 같을 때 이차형식은\n",
    "$$ A = \\begin{bmatrix} 1& 2& 3\\\\ 4& 5& 6\\\\ 7& 8& 9 \\end{bmatrix} $$"
   ]
  },
  {
   "cell_type": "code",
   "execution_count": 78,
   "metadata": {},
   "outputs": [
    {
     "data": {
      "text/plain": [
       "array([1, 2, 3])"
      ]
     },
     "execution_count": 78,
     "metadata": {},
     "output_type": "execute_result"
    }
   ],
   "source": [
    "x = np.array([1, 2, 3])\n",
    "x"
   ]
  },
  {
   "cell_type": "code",
   "execution_count": 79,
   "metadata": {},
   "outputs": [
    {
     "data": {
      "text/plain": [
       "array([[1, 2, 3],\n",
       "       [4, 5, 6],\n",
       "       [7, 8, 9]])"
      ]
     },
     "execution_count": 79,
     "metadata": {},
     "output_type": "execute_result"
    }
   ],
   "source": [
    "A = np.arange(1, 10).reshape(3, 3)\n",
    "A"
   ]
  },
  {
   "cell_type": "code",
   "execution_count": 80,
   "metadata": {},
   "outputs": [
    {
     "data": {
      "text/plain": [
       "228"
      ]
     },
     "execution_count": 80,
     "metadata": {},
     "output_type": "execute_result"
    }
   ],
   "source": [
    "np.dot(np.dot(x, A), x)"
   ]
  },
  {
   "cell_type": "markdown",
   "metadata": {},
   "source": [
    "## 연습 문제\n",
    "다음 식이 성립합을 증명하라.\n",
    "$$ x^TAx = \\frac{1}{2}x^T(A + A^T)x $$"
   ]
  },
  {
   "cell_type": "markdown",
   "metadata": {},
   "source": [
    "# 11. 부분행렬로 계산하기\n",
    "* 2차원 정방행렬 $A, B$가 있을 때 두 행렬의 곱 $AB$는 $A, B$의 부분행렬(submatrix)을 이용해 여러가지 방법으로 계산할 수 있다.\n",
    "\n",
    "$$ A = \\begin{bmatrix} a_{11}& a_{12}\\\\ a_{21}& a_{22} \\end{bmatrix}, B = \\begin{bmatrix} b_{11}& b_{12}\\\\ b_{21}& b_{22} \\end{bmatrix} $$\n",
    "\n",
    "* N차원 행렬에서도 아래 관계들이 성립한다.\n",
    "\n",
    " ## 11.1. 앞에 곱해지는 행렬을 행벡터로 나누어 계산\n",
    "$$ A = \\begin{bmatrix} a_1^T\\\\ a_2^T \\end{bmatrix} $$\n",
    "즉,\n",
    "$$ a_1^T = \\begin{bmatrix} a_{11}& a_{12} \\end{bmatrix}, a_2^T = \\begin{bmatrix} a_{21}& a_{22} \\end{bmatrix} $$\n",
    "이\n",
    "$$ AB = \\begin{bmatrix} a_1^T\\\\ a_2^T \\end{bmatrix}B = \\begin{bmatrix} a_1^TB\\\\ a_2^TB \\end{bmatrix} $$\n",
    "\n",
    " ## 11.2. 뒤에 곱해지는 행렬을 열벡터로 나누어 계산\n",
    "$$ B = \\begin{bmatrix} b_1\\\\ b_2 \\end{bmatrix} $$\n",
    "즉,\n",
    "$$ b_1 = \\begin{bmatrix} b_{11}\\\\ b_{21} \\end{bmatrix}, b_2 = \\begin{bmatrix} b_{21}\\\\ b_{22} \\end{bmatrix} $$\n",
    "이면\n",
    "$$ AB = A\\begin{bmatrix} b_1& b_2 \\end{bmatrix} = \\begin{bmatrix} Ab_1& Ab_2 \\end{bmatrix} $$\n",
    "\n",
    " ## 11.3. 앞에 곱해지는 행렬을 열벡로, 뒤에 곱해지는 행렬을 행벡터로 나누어 스칼라처럼 계산\n",
    " $$ AB = A\\begin{bmatrix} a_1& a_2 \\end{bmatrix} \\begin{bmatrix} b_1^T\\\\ b_2^T \\end{bmatrix} = a_1b_1^T + a_2b_2^T $$"
   ]
  },
  {
   "cell_type": "markdown",
   "metadata": {},
   "source": [
    "## 연습 문제\n",
    "행렬 $V$는 열벡터 $v_i (i=1, ..., N)$로 이루어진 정방행렬이다. 또 다른 정방행렬 $A, Λ$가 있을 때 다음 식이 성립한다.\n",
    "$$ AV = A\\begin{bmatrix} v_1 ... v_N \\end{bmatrix} = \\begin{bmatrix} Av_1 ... Av_N \\end{bmatrix} $$\n",
    "\n",
    "$$ VΛ = \\begin{bmatrix} v_1 ... v_N \\end{bmatrix}\\begin{bmatrix} \\lambda_1& 0& ...& 0\\\\ 0& \\lambda_2& ...& 0\\\\ ...\\\\ 0& 0& ...& \\lambda_N \\end{bmatrix} = \\begin{bmatrix} \\lambda_1v_1 ... \\lambda_Nv_N \\end{bmatrix} $$\n",
    "\n",
    "$N = 3$인 경우에 위 식이 성립함을 보여라."
   ]
  },
  {
   "cell_type": "markdown",
   "metadata": {},
   "source": [
    "## 연습 문제\n",
    "$A$가 행벡터 $a_i^T (i = 1, ..., N)$로 이루어진 $N$차 정방행렬일 때\n",
    "$$ A = \\begin{bmatrix} a_1^T\\\\ a_2^T\\\\ ...\\\\ a_N^T \\end{bmatrix} $$\n",
    "다음 관계가 성립한다.\n",
    "$$ A^TA = \\begin{bmatrix} a_1& a_2& ...& a_N \\end{bmatrix}\\begin{bmatrix} a_1^T\\\\ a_2^T\\\\ ...\\\\ a_N^T \\end{bmatrix} = \\sum_{i=1}^Na_ia_i^T $$\n",
    "\n",
    "$N = 3$인 경우에 위 식이 성립함을 보여라."
   ]
  }
 ],
 "metadata": {
  "kernelspec": {
   "display_name": "Python 3",
   "language": "python",
   "name": "python3"
  },
  "language_info": {
   "codemirror_mode": {
    "name": "ipython",
    "version": 3
   },
   "file_extension": ".py",
   "mimetype": "text/x-python",
   "name": "python",
   "nbconvert_exporter": "python",
   "pygments_lexer": "ipython3",
   "version": "3.6.6"
  }
 },
 "nbformat": 4,
 "nbformat_minor": 2
}

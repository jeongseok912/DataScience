{
 "cells": [
  {
   "cell_type": "markdown",
   "metadata": {},
   "source": [
    "# 집합\n",
    "파이썬에서 집합을 나타내는 자료형 :  `set`, `frozenset`"
   ]
  },
  {
   "cell_type": "markdown",
   "metadata": {},
   "source": [
    "# 1. 집합과 원소\n",
    "* 집합(set) : 구별 가능한 객체의 모임\n",
    "    * 보통 알파벳 대문자로 표시\n",
    "* 원소(element) : 집합에 포함된 구별 가능한 객체\n",
    "    * 알파벳 소문자로 표시  "
   ]
  },
  {
   "cell_type": "markdown",
   "metadata": {},
   "source": [
    "원소 x와 그 원소를 포함하는 집합 A의 관계\n",
    "$$x ∈ A$$"
   ]
  },
  {
   "cell_type": "markdown",
   "metadata": {},
   "source": [
    "A = {1, 2, 3} 일 때 관계\n",
    "$$ 1 ∈ A $$\n",
    "$$ 4 /∈ A $$"
   ]
  },
  {
   "cell_type": "markdown",
   "metadata": {},
   "source": [
    "집합을 이루는 객체는 숫자가 아닌 어떠한 원소도 포함 가능\n",
    "$$ B = {H, T} $$\n",
    "$$ C = {◆, ♥, ♠, ♣} $$"
   ]
  },
  {
   "cell_type": "markdown",
   "metadata": {},
   "source": [
    "##### set\n",
    "집합을 나타내는 자료형으로 뮤터블(mutable, 변할 수 있는) 자료형\n",
    "> 뮤터블 자료형\n",
    "* 딕셔너리 자료형의 key나 set 자료형의 원소가 될 수 없다.\n",
    "\n",
    "##### frozenset\n",
    "집합을 나타내는 자료형으로 임뮤터블(immutable, 불변의) 자료형\n",
    "> 임뮤터블 자료형\n",
    "* 딕셔너리 자료형의 key나 set 자료형의 원소가 될 수 있다."
   ]
  },
  {
   "cell_type": "code",
   "execution_count": 4,
   "metadata": {},
   "outputs": [
    {
     "data": {
      "text/plain": [
       "{1, 2, 3}"
      ]
     },
     "execution_count": 4,
     "metadata": {},
     "output_type": "execute_result"
    }
   ],
   "source": [
    "A = set([1, 2, 3, 3, 2]) # 중복은 사라진다.\n",
    "A"
   ]
  },
  {
   "cell_type": "code",
   "execution_count": 5,
   "metadata": {},
   "outputs": [
    {
     "data": {
      "text/plain": [
       "frozenset({'H', 'T'})"
      ]
     },
     "execution_count": 5,
     "metadata": {},
     "output_type": "execute_result"
    }
   ],
   "source": [
    "B = frozenset(['H', 'T'])\n",
    "B"
   ]
  },
  {
   "cell_type": "markdown",
   "metadata": {},
   "source": [
    "`set` 자료형은 `{` `}` 기호로 생성도 가능"
   ]
  },
  {
   "cell_type": "code",
   "execution_count": 6,
   "metadata": {},
   "outputs": [
    {
     "data": {
      "text/plain": [
       "{'♠', '♣', '♥', '♦'}"
      ]
     },
     "execution_count": 6,
     "metadata": {},
     "output_type": "execute_result"
    }
   ],
   "source": [
    "C = {\"\\u2660\", \"\\u2663\", \"\\u2665\", \"\\u2666\"}\n",
    "C"
   ]
  },
  {
   "cell_type": "code",
   "execution_count": 7,
   "metadata": {},
   "outputs": [
    {
     "data": {
      "text/plain": [
       "set"
      ]
     },
     "execution_count": 7,
     "metadata": {},
     "output_type": "execute_result"
    }
   ],
   "source": [
    "type(C)"
   ]
  },
  {
   "cell_type": "markdown",
   "metadata": {},
   "source": [
    "# 2. 집합의 크기(cardinality, 카디널리티)\n",
    "집합이 가지는 원소 갯수\n",
    "* |A| 기호나 card 기호로 표시"
   ]
  },
  {
   "cell_type": "markdown",
   "metadata": {},
   "source": [
    "A = {1, 2, 3}이면, \n",
    "$$ |A| = card(A) = 3 $$"
   ]
  },
  {
   "cell_type": "markdown",
   "metadata": {},
   "source": [
    "##### len\n",
    "집합의 원소 갯수를 구한다."
   ]
  },
  {
   "cell_type": "code",
   "execution_count": 8,
   "metadata": {},
   "outputs": [
    {
     "data": {
      "text/plain": [
       "(3, 2, 4)"
      ]
     },
     "execution_count": 8,
     "metadata": {},
     "output_type": "execute_result"
    }
   ],
   "source": [
    "len(A), len(B), len(C)"
   ]
  },
  {
   "cell_type": "markdown",
   "metadata": {},
   "source": [
    "실수 구간 집합은 무한개의 원소를 가진 집합이다.\n",
    "예를 들어 집합이 0보다 크고 1보다 같거나 작은 모든 실수로 이루어진 집합이며, 원소 갯수는 무한히 많다.\n",
    "$$ D = {x:0 < x ≤ 1} $$\n",
    "이런 집합은 `set`, `frozenset` 자료형으로 표현 불가"
   ]
  },
  {
   "cell_type": "markdown",
   "metadata": {},
   "source": [
    "# 3. 합집합과 교집합\n",
    "* 합집합(union) : 각 집합의 원소를 모두 포함하는 집합, ∪ 기호로 표시\n",
    "$$ A ∪ B $$\n",
    "* 교집합(intersection) : 두 사건 모두에 속하는 원소로만 이루어진 집합, ∩로 표시\n",
    "$$ A ∩ B $$"
   ]
  },
  {
   "cell_type": "markdown",
   "metadata": {},
   "source": [
    "##### union, |\n",
    "합집합을 구한다."
   ]
  },
  {
   "cell_type": "code",
   "execution_count": 9,
   "metadata": {},
   "outputs": [],
   "source": [
    "A1 = set([1, 2, 3, 4])\n",
    "A2 = set([2, 4, 6])\n",
    "A3 = set([1, 2, 3])\n",
    "A4 = set([2, 3, 4, 5, 6])"
   ]
  },
  {
   "cell_type": "code",
   "execution_count": 10,
   "metadata": {},
   "outputs": [
    {
     "data": {
      "text/plain": [
       "{1, 2, 3, 4, 6}"
      ]
     },
     "execution_count": 10,
     "metadata": {},
     "output_type": "execute_result"
    }
   ],
   "source": [
    "A1.union(A2)"
   ]
  },
  {
   "cell_type": "code",
   "execution_count": 11,
   "metadata": {},
   "outputs": [
    {
     "data": {
      "text/plain": [
       "{1, 2, 3, 4, 6}"
      ]
     },
     "execution_count": 11,
     "metadata": {},
     "output_type": "execute_result"
    }
   ],
   "source": [
    "A2 | A1"
   ]
  },
  {
   "cell_type": "markdown",
   "metadata": {},
   "source": [
    "##### intersection, &\n",
    "교집합을 구한다."
   ]
  },
  {
   "cell_type": "code",
   "execution_count": 12,
   "metadata": {},
   "outputs": [
    {
     "data": {
      "text/plain": [
       "{2, 3}"
      ]
     },
     "execution_count": 12,
     "metadata": {},
     "output_type": "execute_result"
    }
   ],
   "source": [
    "A3.intersection(A4)"
   ]
  },
  {
   "cell_type": "code",
   "execution_count": 16,
   "metadata": {},
   "outputs": [
    {
     "data": {
      "text/plain": [
       "{2, 3}"
      ]
     },
     "execution_count": 16,
     "metadata": {},
     "output_type": "execute_result"
    }
   ],
   "source": [
    "A4 & A3"
   ]
  },
  {
   "cell_type": "markdown",
   "metadata": {},
   "source": [
    "# 4. 전체집합, 부분집합, 여집합\n",
    "* 부분집합(subset) : 어떤 집합의 원소 중 일부만 포함하는 집합\n",
    "* 전체집합 : 원래의 집합"
   ]
  },
  {
   "cell_type": "markdown",
   "metadata": {},
   "source": [
    "집합 A가 집합 Ω의 부분집합이면\n",
    "$$ A ⊂ Ω $$"
   ]
  },
  {
   "cell_type": "markdown",
   "metadata": {},
   "source": [
    "* 진부분집합(proper subset) : 원소의 크기가 더 작은 부분집합(모든 집합은 자기 자신의 부분집합이다.)"
   ]
  },
  {
   "cell_type": "markdown",
   "metadata": {},
   "source": [
    "##### issubset\n",
    "부분집합인지 알아본다.\n",
    "* 객체가 인수의 부분집합이면 `True` 반환\n",
    "* 등호를 포함하는 부등식 연산자로도 같은 결과를 구할 수 있다. 더 작은 쪽이 부분집합\n",
    "* 등호가 없는 부등식 연산자는 진부분집합 관계를 구한다."
   ]
  },
  {
   "cell_type": "code",
   "execution_count": 17,
   "metadata": {},
   "outputs": [
    {
     "data": {
      "text/plain": [
       "True"
      ]
     },
     "execution_count": 17,
     "metadata": {},
     "output_type": "execute_result"
    }
   ],
   "source": [
    "A3.issubset(A1)"
   ]
  },
  {
   "cell_type": "code",
   "execution_count": 18,
   "metadata": {
    "scrolled": true
   },
   "outputs": [
    {
     "data": {
      "text/plain": [
       "True"
      ]
     },
     "execution_count": 18,
     "metadata": {},
     "output_type": "execute_result"
    }
   ],
   "source": [
    "A3 <= A1"
   ]
  },
  {
   "cell_type": "code",
   "execution_count": 19,
   "metadata": {},
   "outputs": [
    {
     "data": {
      "text/plain": [
       "False"
      ]
     },
     "execution_count": 19,
     "metadata": {},
     "output_type": "execute_result"
    }
   ],
   "source": [
    "A3.issubset(A2)"
   ]
  },
  {
   "cell_type": "code",
   "execution_count": 20,
   "metadata": {},
   "outputs": [
    {
     "data": {
      "text/plain": [
       "False"
      ]
     },
     "execution_count": 20,
     "metadata": {},
     "output_type": "execute_result"
    }
   ],
   "source": [
    "A3 <= A2"
   ]
  },
  {
   "cell_type": "code",
   "execution_count": 21,
   "metadata": {},
   "outputs": [
    {
     "data": {
      "text/plain": [
       "True"
      ]
     },
     "execution_count": 21,
     "metadata": {},
     "output_type": "execute_result"
    }
   ],
   "source": [
    "A3 <= A3 # 모든 집합은 자기 자신의 부분집합"
   ]
  },
  {
   "cell_type": "code",
   "execution_count": 22,
   "metadata": {},
   "outputs": [
    {
     "data": {
      "text/plain": [
       "False"
      ]
     },
     "execution_count": 22,
     "metadata": {},
     "output_type": "execute_result"
    }
   ],
   "source": [
    "A3 < A3 # 모든 집합은 자기 자신의 진부분집합이 아니다."
   ]
  },
  {
   "cell_type": "markdown",
   "metadata": {},
   "source": [
    "# 5. 차집합, 여집합\n",
    "* 차집합(difference) : 어떤 집합 A에 속하면서 다른 집합 B에는 속하지 않는 원소로 이루어진 A의 부분집합\n",
    "$$ A - B $$\n",
    "* 여집합 : 전체집합 Ω 중에서 부분집합 A에 속하지 않은 원소로만 이루어진 부분집합\n",
    "    * 윗첨자 C(complement)를 사용한다.\n",
    "$$ A^C $$\n",
    "$$ A^C = Ω - A $$"
   ]
  },
  {
   "cell_type": "markdown",
   "metadata": {},
   "source": [
    "##### difference, -\n",
    "차집합을 구한다."
   ]
  },
  {
   "cell_type": "code",
   "execution_count": 23,
   "metadata": {},
   "outputs": [
    {
     "data": {
      "text/plain": [
       "{1, 3}"
      ]
     },
     "execution_count": 23,
     "metadata": {},
     "output_type": "execute_result"
    }
   ],
   "source": [
    "A1.difference(A2)"
   ]
  },
  {
   "cell_type": "code",
   "execution_count": 24,
   "metadata": {},
   "outputs": [
    {
     "data": {
      "text/plain": [
       "{1, 3}"
      ]
     },
     "execution_count": 24,
     "metadata": {},
     "output_type": "execute_result"
    }
   ],
   "source": [
    "A1 - A2"
   ]
  },
  {
   "cell_type": "markdown",
   "metadata": {},
   "source": [
    "# 6. 공집합(null set)\n",
    "아무런 원소도 포함하지 않는 집합, /0로 표시\n",
    "* 공집합은 모든 집합의 부분집합이다.\n",
    "$$ /0 ⊂ A, for all A $$\n",
    "* 임의의 집합과 공집합의 교집합은 공집합\n",
    "$$ A ∩ /0 = /0 $$\n",
    "* 임의의 집합과 공집합의 합집합은 그 집합 자신\n",
    "$$ A ∪ /0 = A $$\n",
    "* 여집합과 원래 집합의 교집합은 공집합\n",
    "$$ A ∩ A^C = /0 $$"
   ]
  },
  {
   "cell_type": "code",
   "execution_count": 25,
   "metadata": {},
   "outputs": [
    {
     "data": {
      "text/plain": [
       "set()"
      ]
     },
     "execution_count": 25,
     "metadata": {},
     "output_type": "execute_result"
    }
   ],
   "source": [
    "empty_set = set([])\n",
    "empty_set"
   ]
  },
  {
   "cell_type": "code",
   "execution_count": 26,
   "metadata": {},
   "outputs": [
    {
     "data": {
      "text/plain": [
       "True"
      ]
     },
     "execution_count": 26,
     "metadata": {},
     "output_type": "execute_result"
    }
   ],
   "source": [
    "empty_set < A1"
   ]
  },
  {
   "cell_type": "code",
   "execution_count": 27,
   "metadata": {},
   "outputs": [
    {
     "data": {
      "text/plain": [
       "set()"
      ]
     },
     "execution_count": 27,
     "metadata": {},
     "output_type": "execute_result"
    }
   ],
   "source": [
    "empty_set.intersection(A1)"
   ]
  },
  {
   "cell_type": "code",
   "execution_count": 28,
   "metadata": {},
   "outputs": [
    {
     "data": {
      "text/plain": [
       "{1, 2, 3, 4}"
      ]
     },
     "execution_count": 28,
     "metadata": {},
     "output_type": "execute_result"
    }
   ],
   "source": [
    "empty_set.union(A1)"
   ]
  },
  {
   "cell_type": "markdown",
   "metadata": {},
   "source": [
    "# 7. 부분집합의 수\n",
    "원소의 갯수가 N개인 집합의 부분집합 수 : 2^N\n",
    "* N개 원소에 대한 부분집합의 갯수 2^N은 의사결정의 가짓수이다.\n",
    "* 공집합과 자기 자신인 집합도 부분집합이다.\n",
    "* 집합 A = {1, 2}는 4개의 부분집합을 가진다.  \n",
    "$$ A_1 = /0 $$\n",
    "$$ A_2 = {1} $$\n",
    "$$ A_3 = {2} $$\n",
    "$$ A_4 = {1, 2} $$"
   ]
  },
  {
   "cell_type": "markdown",
   "metadata": {},
   "source": [
    "# 연습 문제\n",
    "$$ Ω  = \\{HH, HT, TH, TT\\} $$\n",
    "1. 이 집합의 부분집합 갯수는? 16개\n",
    "2. 이 집합의 모든 부분집합을 `frozenset` 자료형 객체로 만들고 이 부분집합들을 원소로 가지는 하나의 `set` 객체를 만든다. 이 집합은 일종의 \"부분집합의 집합\"이 된다."
   ]
  },
  {
   "cell_type": "code",
   "execution_count": 29,
   "metadata": {},
   "outputs": [
    {
     "data": {
      "text/plain": [
       "{frozenset(),\n",
       " frozenset({'HH', 'TH'}),\n",
       " frozenset({'HT', 'TT'}),\n",
       " frozenset({'HT', 'TH'}),\n",
       " frozenset({'TH', 'TT'}),\n",
       " frozenset({'HH'}),\n",
       " frozenset({'TT'}),\n",
       " frozenset({'HH', 'TT'}),\n",
       " frozenset({'HT'}),\n",
       " frozenset({'HH', 'HT'}),\n",
       " frozenset({'HH', 'HT', 'TT'}),\n",
       " frozenset({'TH'}),\n",
       " frozenset({'HH', 'HT', 'TH'}),\n",
       " frozenset({'HH', 'TH', 'TT'}),\n",
       " frozenset({'HT', 'TH', 'TT'}),\n",
       " frozenset({'HH', 'HT', 'TH', 'TT'})}"
      ]
     },
     "execution_count": 29,
     "metadata": {},
     "output_type": "execute_result"
    }
   ],
   "source": [
    "s0 = frozenset([])\n",
    "s1 = frozenset([\"HH\"])\n",
    "s2 = frozenset([\"HT\"])\n",
    "s3 = frozenset([\"TH\"]) \n",
    "s4 = frozenset([\"TT\"])\n",
    "s5 = frozenset([\"HH\", \"HT\"])\n",
    "s6 = frozenset([\"HH\", \"TH\"])\n",
    "s7 = frozenset([\"HH\", \"TT\"])\n",
    "s8 = frozenset([\"HT\", \"TH\"])\n",
    "s9 = frozenset([\"HT\", \"TT\"])\n",
    "s10 = frozenset([\"TH\", \"TT\"])\n",
    "s11 = frozenset([\"HH\", \"HT\", \"TH\"])\n",
    "s12 = frozenset([\"HH\", \"HT\", \"TT\"])\n",
    "s13 = frozenset([\"HH\", \"TH\", \"TT\"])\n",
    "s14 = frozenset([\"HT\", \"TH\", \"TT\"])\n",
    "s15 = frozenset([\"HH\", \"HT\", \"TH\", \"TT\"])\n",
    "\n",
    "s = set([s0, s1, s2, s3, s4, s5, s6, s7, s8, s9, s10, s11, s12, s13, s14, s15])\n",
    "s"
   ]
  },
  {
   "cell_type": "markdown",
   "metadata": {},
   "source": [
    "---------------------"
   ]
  },
  {
   "cell_type": "markdown",
   "metadata": {},
   "source": [
    "# 8. 합집합과 교집합의 분배 법칙\n",
    "$$ A ∪ (B ∩ C) = (A ∪ B) ∩ (A ∪ C) $$\n",
    "$$ A ∩ (B ∪ C) = (A ∩ B) ∪ (A ∩ C) $$"
   ]
  },
  {
   "cell_type": "markdown",
   "metadata": {},
   "source": [
    "# 연습 문제\n",
    "다음 세 집합 A, B, C에 대해 위에서 말한 두가지 분배법칙이 성립하는지 파이썬 코드로 증명하라.\n",
    "$$ A = \\{1, 3, 5\\} $$\n",
    "$$ B = \\{1, 2, 3\\} $$\n",
    "$$ C = \\{2, 4, 6\\} $$"
   ]
  },
  {
   "cell_type": "code",
   "execution_count": 33,
   "metadata": {},
   "outputs": [
    {
     "data": {
      "text/plain": [
       "{1, 2, 3, 5}"
      ]
     },
     "execution_count": 33,
     "metadata": {},
     "output_type": "execute_result"
    }
   ],
   "source": [
    "# A ∪ (B ∩ C)\n",
    "A = set([1, 3, 5])\n",
    "B = set([1, 2, 3])\n",
    "C = set([2, 4, 6])\n",
    "\n",
    "A.union(B.intersection(C))"
   ]
  },
  {
   "cell_type": "code",
   "execution_count": 34,
   "metadata": {},
   "outputs": [
    {
     "data": {
      "text/plain": [
       "{1, 2, 3, 5}"
      ]
     },
     "execution_count": 34,
     "metadata": {},
     "output_type": "execute_result"
    }
   ],
   "source": [
    "# (A ∪ B) ∩ (A ∪ C)\n",
    "A.union(B).intersection(A.union(C))"
   ]
  },
  {
   "cell_type": "code",
   "execution_count": 35,
   "metadata": {},
   "outputs": [
    {
     "data": {
      "text/plain": [
       "{1, 3}"
      ]
     },
     "execution_count": 35,
     "metadata": {},
     "output_type": "execute_result"
    }
   ],
   "source": [
    "# A ∩ (B ∪ C)\n",
    "A.intersection(B.union(C))"
   ]
  },
  {
   "cell_type": "code",
   "execution_count": 36,
   "metadata": {},
   "outputs": [
    {
     "data": {
      "text/plain": [
       "{1, 3}"
      ]
     },
     "execution_count": 36,
     "metadata": {},
     "output_type": "execute_result"
    }
   ],
   "source": [
    "# (A ∩ B) ∪ (A ∩ C)\n",
    "A.intersection(B).union(A.intersection(C))"
   ]
  }
 ],
 "metadata": {
  "kernelspec": {
   "display_name": "Python 3",
   "language": "python",
   "name": "python3"
  },
  "language_info": {
   "codemirror_mode": {
    "name": "ipython",
    "version": 3
   },
   "file_extension": ".py",
   "mimetype": "text/x-python",
   "name": "python",
   "nbconvert_exporter": "python",
   "pygments_lexer": "ipython3",
   "version": "3.6.6"
  }
 },
 "nbformat": 4,
 "nbformat_minor": 2
}

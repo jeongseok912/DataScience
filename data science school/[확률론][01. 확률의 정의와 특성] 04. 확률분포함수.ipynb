{
 "cells": [
  {
   "cell_type": "markdown",
   "metadata": {},
   "source": [
    "# 1. 확률분포\n",
    "* 확률 : 사건(event)이라는 표본의 집합에 대해 할당된 숫자\n",
    "* 확률분포(probability distribution) : 어떤 사건에 어느 정도의 확률이 할당되었는지 묘사한 정보\n",
    "\n",
    "# 2. 단순사건과 확률질량함수\n",
    "* 콜로고로프의 정리를 사용하면 어떤 사건의 확률값을 이용하여 다른 사건의 확률값을 계산할 수 있다.\n",
    "* 단순사건(elementary event, atomic event) : 표본을 1개만 가지는 사건\n",
    "* 단순사건끼리는 서로 교집합을 가지지 않으므로 유한개의 사건만 있는 경우, 모든 단순사건의 확률값을 알면 콜모고로프의 세번째 공리에 의해 다른 모든 사건의 확률값을 계산할 수 있다. (단 모든 단순사건의 확률의 합은 1이어야 한다.)\n",
    "--------------------------------\n",
    "플레잉카드 무늬 문제의 단순사건과 그 확률이 다음과 같을 때\n",
    "$$ P(\\{◆\\}) = 0.1, P(\\{♥\\}) = 0.2, P(\\{♠\\}) = 0.3, P(\\{♣\\}) = 0.4 $$\n",
    "모든 사건에 대한 확률은\n",
    "$$ P(\\{♥, ♠\\}) = 0.2 + 0.3 = 0.5 $$"
   ]
  },
  {
   "cell_type": "markdown",
   "metadata": {},
   "source": [
    "* 확률질량함수(probability mass function) : 유한개의 사건이 존재하는 경우 각 단순사건에 대한 확률만 정의하는 함수, 소문자 p로 표시\n",
    "* 확률과 확률질량함수는 다른 개념\n",
    "$$ 확률 : P(\\{1\\}) = 0.2 $$\n",
    "$$ 확률질량함수 : p(1) = 0.2 $$\n",
    "$$ 확률 : P(\\{1, 2\\}) = 0.3 $$\n",
    "$$ 확률질량함수 :p(1, 2) → 정의되지 않는다! $$"
   ]
  },
  {
   "cell_type": "code",
   "execution_count": 6,
   "metadata": {},
   "outputs": [
    {
     "data": {
      "image/png": "[encoded data removed]",
      "text/plain": [
       "<Figure size 432x288 with 1 Axes>"
      ]
     },
     "metadata": {
      "needs_background": "light"
     },
     "output_type": "display_data"
    }
   ],
   "source": [
    "# 확률질량함수는 주사위 눈금 6이 비정상적으로 많이 나오게 만든 조작된 주사위(unfair\n",
    "# dice)를 묘사\n",
    "import numpy as np\n",
    "import matplotlib.pyplot as plt\n",
    "\n",
    "x = np.arange(1, 7)\n",
    "y = np.array([0.1, 0.1, 0.1, 0.1, 0.1, 0.5])\n",
    "\n",
    "plt.stem(x, y)\n",
    "plt.title(\"조작된 주사위의 확률질량함수\")\n",
    "plt.xlabel(\"숫자면\")\n",
    "plt.ylabel(\"확률\")\n",
    "plt.xlim(0, 7)\n",
    "plt.ylim(-0.01, 0.6)\n",
    "plt.xticks(np.arange(6) + 1)\n",
    "plt.show()"
   ]
  },
  {
   "cell_type": "markdown",
   "metadata": {},
   "source": [
    "# 3. 표본 수가 무한한 경우\n",
    "* 확률 정의 시 입력을 표본이 아닌 사건으로 정의한 이유는 표본의 수가 무한한 경우를 다루기 위해서  \n",
    "ex)  \n",
    "회전하는 원반에 화살을 쏴서 박힌 위치의 각도가 정확하게 0˚가 될 확률은?  \n",
    "만약 모든 각도에 대해 가능성이 똑같으면 각도가 정확하게 0이 될 확률은 0이다.\n",
    "$$ P(\\{θ\\}) = 0 $$\n",
    "다른 각도도 마찬가지로 확률은 0이다.\n",
    "#### 이유\n",
    "모든 각도에 대해 가능성이 똑같으므로 그 확률을 x라는 값이라고 하자.  \n",
    "각도가 나올 수 있는 경우는 무한대의 경우가 있으므로 만약 x가 0이 아니라면 x * ∞ = ∞로 전체 표본 집합의 확률이 무한대가 된다. 즉, 1이 아니다.  \n",
    "따라서 표본의 수가 무한이고 모든 표본에 대해 표본 하나만을 가진 사건의 확률이 동일하다면, 표본 하나에 대한 사건의 확률은 언제나 0  \n",
    "----\n",
    "* 각도가 0˚보다 같거나 크고 30˚보다 작은 경우\n",
    "$$ P(\\{0˚ ≤ θ ＜ 30˚\\}) = ? $$\n",
    "이 경우 동일한 가능성을 지닌 사건이 12개 있으므로 주어진 사건에 대한 확률은 1/12\n",
    "$$ P(\\{0˚ ≤ θ ＜ 30˚\\}) = 1/12 $$\n",
    "일부 사건에 대해 확률을 할당한 예\n",
    "$$ P(\\{0˚ ≤ θ ＜ 30˚\\}) = 1/12 $$\n",
    "$$ P(\\{30˚ ≤ θ ＜ 60˚\\}) = 1/12 $$\n",
    "$$ P(\\{0˚ ≤ θ ＜ 60˚ or 0˚ ≤ θ ＜ 60˚\\}) = 1/3 $$\n",
    "* 이렇게 원소의 수가 무한대인 표본 집합의 경우에는 사건(부분집합)의 수도 무한대이므로 확률 할당도 어렵고 어떻게 확률을 할당했는지 다른 사람에게 설명하기도 어렵다.  \n",
    "이 경우에는 확률밀도함수(probability density function)을 사용한다."
   ]
  },
  {
   "cell_type": "markdown",
   "metadata": {},
   "source": [
    "# 연습 문제\n",
    "위 원반을 이용하여 복권 번호를 결정하는 경우를 생각하자. 결과를 조작하기 위해 0˚에서 180˚사이에 화살이 2배 더 잘 박히도록 원반을 조작하였다. 이 결과를 확률을 사용하여 공범에게 전달해야 한다. 어떻게 해야 간결하고 정확하게 확률 할당 결과를 전달할 수 있겠는가?"
   ]
  },
  {
   "cell_type": "markdown",
   "metadata": {},
   "source": [
    "# 4. 단순구간사건\n",
    "* 단순구간(simple interval) : 표본공간이 실수의 집합일 때 대부분의 사건은 시작점과 끝점이라는 두 개의 숫자로 이루어진다. 시작점과 끝점으로 이루어진 구간\n",
    "* 단순구간사건(simple interval event) : 단순구간 내의 실수로 이루어진 집합\n",
    "$$ A = \\{a ≤ x ＜ b\\} (a : 구간의 시작점, b : 구간의 끝점) $$\n",
    "\n",
    "#### 단순구간사건을 입력받아 확률값을 출력하는 함수의 표현\n",
    "이차원 함수 P(a, b)로 표현한다.\n",
    "$$ A = \\{a ≤ x ＜ b\\} → P(A) = P(\\{a ≤ x ＜ b\\}) = P(a, b) $$\n",
    "단순구간 사건의 확률만 표현할 수 있다면 여러 개의 단순구간으로 이루어진 복잡한 사건은 콜모고로프의 공리에 따라 각 단순구간의 확률값의 연산으로 표현할 수 있다.\n",
    "* ex)\n",
    "$$ B = \\{-2 ≤ x ＜ 1 또는 2 ≤ x ＜ 3\\} $$\n",
    "의 확률 P(B)는 다음 두 단순구간의 확률의 합\n",
    "$$ P(B) = P(\\{-2 ≤ x ＜ 1\\}) + P(\\{2 ≤ x ＜ 3\\}) = P(-2, 1) + P(2, 3) $$\n",
    "또는 다음 두 단순구간의 확률의 차이이다.\n",
    "$$ P(B) = P(\\{-2 ≤ x ＜ 3\\}) - P(\\{1 ≤ x ＜ 2\\}) = P(-2, 3) - P(1, 2) $$"
   ]
  },
  {
   "cell_type": "markdown",
   "metadata": {},
   "source": [
    "# 연습 문제\n",
    "0˚에서 180˚ 사이에 화살이 2배 더 잘박히도록 조작된 원반을 이용하여 복권 번호를 결정하는 문제에서 구간의 시작점과 끝점을 입력받아서 확률을 출력하는 함수 P(a, b)를 구하고 이를 파이썬으로 구현하라."
   ]
  },
  {
   "cell_type": "code",
   "execution_count": 8,
   "metadata": {},
   "outputs": [],
   "source": [
    "deg = float()\n",
    "\n",
    "if deg >= 0 and deg <= 180:\n",
    "    # 0 ~ 180도 확률\n",
    "    P1 = 2/3\n",
    "elif deg > 180 and deg <= 360:\n",
    "    # 180 ~ 360 확률\n",
    "    P2 = 1/3"
   ]
  },
  {
   "cell_type": "markdown",
   "metadata": {},
   "source": [
    "# 5. 누적분포함수\n",
    "시작점을 음의 무한대(-∞)로 통일한 특수한 단순구간사건 S_x을 사용하여 사건(event) 즉, 구간(interval)을 숫자 하나만으로 정의한 방법\n",
    "$$ S＿_1 = \\{-∞ ≤ X ＜ -1\\} $$\n",
    "$$ S_0 = \\{-∞ ≤ X ＜ 0\\} $$\n",
    "$$ S_1 = \\{-∞ ≤ X ＜ 1\\} $$\n",
    "$$ S_2 = \\{-∞ ≤ X ＜ 2\\} $$\n",
    "$$ ... $$\n",
    "$$ S_x = = \\{-∞ ≤ X ＜ x\\} $$\n",
    "콜모고로프의 공리를 이용하면 이러한 사건 S_x의 확률값으로부터 모든 종류의 구간사건에 대한 확률값 계산 가능\n",
    "* ex)  \n",
    "{a ≤ x ＜ b}라는 구간사건의 확률은 다음처럼 구할 수 있다.\n",
    "$$ P(a, b) = P(-∞, b) - P(-∞, a) $$\n",
    "\n",
    "#### 누적분포함수(cdf, cumulative distribution function)\n",
    "위 같은 방법으로 확률분포를 묘사하는 함수, F(x)로 표시\n",
    "* 독립변수 x는 구간의 끝점\n",
    "$$ F(x) = P(S_x) = P(\\{X < x\\}) (모든 실수는 당연히 -∞보다 크므로 생략) $$\n",
    "\n",
    "#### 누적분포함수 cdf 특징\n",
    "* 음의 무한대에 대한 누적분포함수값은 0이다.\n",
    "$$ F(-∞) = 0 $$\n",
    "* 양의 무한대에 대한 누적분포함수값은 1이다.\n",
    "$$ F(∞) = 1 $$\n",
    "* 입력이 크면 누적분포함수값은 커진다. (단조증가)\n",
    "$$ x ＞ y → F(x) ≥ F(y) $$\n",
    "\n",
    "-----------\n",
    "원반 각도 문제의 누적분포함수\n",
    "$$ F(-10) = P(\\{-∞˚ ≤ θ ＜ -10˚\\}) = 0 $$\n",
    "$$ F(0) = P(\\{-∞˚ ≤ θ ＜ 0˚\\}) = 0 $$\n",
    "$$ F(10) = P(\\{-∞˚ ≤ θ ＜ 10˚\\}) = 1/36 $$\n",
    "$$ F(10) = P(\\{-∞˚ ≤ θ ＜ 20˚\\}) = 2/36 $$\n",
    "$$ ... $$\n",
    "$$ F(350) = P(\\{-∞˚ ≤ θ ＜ 350˚\\}) = 35/36 $$\n",
    "$$ F(360) = P(\\{-∞˚ ≤ θ ＜ 360˚\\}) = 1 $$\n",
    "$$ F(370) = P(\\{-∞˚ ≤ θ ＜ 370˚\\}) = 1 $$\n",
    "$$ ... $$"
   ]
  },
  {
   "cell_type": "code",
   "execution_count": 10,
   "metadata": {},
   "outputs": [
    {
     "data": {
      "image/png": "[encoded data removed]",
      "text/plain": [
       "<Figure size 432x288 with 1 Axes>"
      ]
     },
     "metadata": {
      "needs_background": "light"
     },
     "output_type": "display_data"
    }
   ],
   "source": [
    "# 원반 각도 문제 NumPy와 matplotlib으로 그리기\n",
    "import numpy as np\n",
    "import matplotlib.pyplot as plt\n",
    "\n",
    "t = np.linspace(-100, 500, 100) # 각도\n",
    "F = t / 360 # cdf\n",
    "\n",
    "F[t < 0] = 0\n",
    "F[t > 360] = 1\n",
    "\n",
    "plt.plot(t, F)\n",
    "plt.ylim(-0.1, 1.1)\n",
    "plt.xticks([0, 180, 360])\n",
    "plt.title(\"누적분포함수\")\n",
    "plt.xlabel(\"$x$ (deg.)\")\n",
    "plt.ylabel(\"$F(x)$\")\n",
    "plt.grid()\n",
    "plt.show()"
   ]
  },
  {
   "cell_type": "markdown",
   "metadata": {},
   "source": [
    "# 연습 문제\n",
    "0˚에서 180˚ 사이에 화살이 2배 더 잘 박히도록 조작된 원반을 이용하여 복권 번호를 결정하는 문제에서 누적분포함수 F(x)를 구하라."
   ]
  },
  {
   "cell_type": "markdown",
   "metadata": {},
   "source": [
    "# 6. 확률밀도함수\n",
    "누적분포함수는 어떤 확률변수 값이 더 자주 나오는지에 대한 정보를 알기 힘들다.  \n",
    "이를 알기 위해 확률 변수가 나올 수 있는 전체 구간(-∞ ~ ∞)을 아주 작은 폭 dx를 가지는 구간들로 나눠 각 구간의 확률을 살펴보는 것이 편함\n",
    "* x_1 근처에서 폭 dx를 가지는 구간의 확률\n",
    "$$ P(x_1, x_1 + dx) = F(x_1 + dx) - F(x_1) $$\n",
    "* 단위 구간 길이당 확률값 = 누적분포함수의 기울기\n",
    "$$ lim(dx→0)P(x_1, x_1 + dx)/dx = lim(dx→0)(F(x_1 + dx) - F(x_1))/dx = p(x) $$\n",
    "    * 구간의 길이에 따라 달라지므로 구간 길이 dx를 아주 작게 줄였을 때 값을 알아야 한다. 단순히 dx를 0으로 줄이면 확률은 당연히 0으로 수렴한다."
   ]
  },
  {
   "cell_type": "markdown",
   "metadata": {},
   "source": [
    "#### 확률밀도함수(probability density function)\n",
    "누적분포함수를 미분하여 구한 도함수\n",
    "* 누적분포함수의 기울기를 출력하는 함수를 만들면 어떤 x_1값 근처의 확률이 다른 x_2값 근처보다 더 확률이 높은지/낮은지 쉽게 파악할 수 있다.\n",
    "$$ p(x) = dF(x)/dx $$\n",
    "이를 적분\n",
    "$$ F(x) = ∫＿_∞^xp(u)du $$\n",
    "pdf는 특정 구간의 확률이 다른 구간에 비해 상대적으로 얼마나 높은가를 나타내는 것이며 그 값 자체가 확률은 아니다."
   ]
  },
  {
   "cell_type": "markdown",
   "metadata": {},
   "source": [
    "x = x_1부터 x = x_2 사이에서 도함수인 확률밀도함수의 면적(정적분)은 적분함수인 누적분포함의 값을 이용하여 구할 수 있다.\n",
    "$$ F(x_2) - F(x_1) = ∫(x_1～x_2)p(x)dx $$"
   ]
  },
  {
   "cell_type": "markdown",
   "metadata": {},
   "source": [
    "#### 확률밀도함수 특징\n",
    "* 적분함수인 누적분포함수의 기울기가 음수가 될 수 없기 때문에 확률밀도함수는 0보다 같거나 크다.\n",
    "$$ p(x) ≥ 0 $$\n",
    "* -∞부터 ∞까지 적분하면 표본공간(-∞, ∞)의 확률이 되므로 값은 1이다.\n",
    "$$ ∫＿_∞^∞p(u)du = F(∞) - F(-∞) = 1 $$"
   ]
  },
  {
   "cell_type": "code",
   "execution_count": 12,
   "metadata": {},
   "outputs": [
    {
     "data": {
      "image/png": "[encoded data removed]",
      "text/plain": [
       "<Figure size 432x288 with 1 Axes>"
      ]
     },
     "metadata": {
      "needs_background": "light"
     },
     "output_type": "display_data"
    }
   ],
   "source": [
    "# 시계 바늘 문제에서 확률밀도 함수\n",
    "t = np.linspace(-100, 500, 1000)\n",
    "F = t / 360\n",
    "F[t < 0] = 0\n",
    "F[t > 360] = 1\n",
    "p = np.gradient(F, 600/1000) # 수치미분, 두 번째 인수 : 샘플 간격(dx)\n",
    "\n",
    "plt.plot(t, p)\n",
    "plt.ylim(-0.0001, p.max()*1.1)\n",
    "plt.xticks([0, 180, 360])\n",
    "plt.title(\"확률밀도함수\")\n",
    "plt.xlabel(\"$x$ (deg.)\")\n",
    "plt.ylabel(\"$p(x)$\")\n",
    "plt.show()"
   ]
  },
  {
   "cell_type": "markdown",
   "metadata": {},
   "source": [
    "# 연습문제\n",
    "0˚에서 180˚ 사이에 더 화살이 2배 더 잘 박히도록 조작된 원반을 이요하여 복권 번호를 결정하는 문제에서 확률밀도함수 p(x)를 구하라."
   ]
  },
  {
   "cell_type": "markdown",
   "metadata": {},
   "source": [
    "# 7. 확률분포함수\n",
    "확률분포함수(probability distribution function) : 확률질량함수, 누적분포함수, 확률밀도함수 등"
   ]
  }
 ],
 "metadata": {
  "kernelspec": {
   "display_name": "Python 3",
   "language": "python",
   "name": "python3"
  },
  "language_info": {
   "codemirror_mode": {
    "name": "ipython",
    "version": 3
   },
   "file_extension": ".py",
   "mimetype": "text/x-python",
   "name": "python",
   "nbconvert_exporter": "python",
   "pygments_lexer": "ipython3",
   "version": "3.6.6"
  }
 },
 "nbformat": 4,
 "nbformat_minor": 2
}

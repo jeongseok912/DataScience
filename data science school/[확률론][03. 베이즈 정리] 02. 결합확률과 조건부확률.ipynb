{
 "cells": [
  {
   "cell_type": "markdown",
   "metadata": {},
   "source": [
    "# 1. 범인 찾기 문제\n",
    "* 경찰이 살인 사건의 전체 용의자 목록을 가지고 있다.  \n",
    "베이지안 확률론 관점에서 전체 용의자 목록은 표본 공간이다.  \n",
    "우리가 알고 싶은 것은 전체 용의자 목록(표본 공간)에서 누가 범인(선택된 표본)인가 하는 점이다.  \n",
    "* 현재 표본 공간은 20명의 용의자로 구성되어 있으며 이 중 남자가 12명, 여자가 8명이라고 가정\n",
    "* 담당 형사가 범인은 남자라고 생각한다면, \"범인이 남자다.\"라는 주장은 확률론적 관점에서 남성인 용의자(표본)로만 이루어진 사건(표본 공간의 부분집합)이 된다. 이를 사건 A라고 하자.\n",
    "* \"범인이 남자\"라는 사건 A의 신뢰도 즉, 사건 A의 확률은 P(A)이다.\n",
    "* 아무런 추가 정보가 없다면 모든 사람이 범인일 가능성이 같기 때문에 범인이 남자일 확률 P(A)는 전체 용의자의 수로 남자 용의자의 수를 나눈 값이 된다.\n",
    "$$ P(A) = 12/20 = 0.6 $$\n",
    "* 이 때 새로운 사건 B가 발생하여 긴 머리카락이 발견됐다. \n",
    "* 이 새로운 사건 B는 확률론적으로 새로운 용의자 목록, 즉 머리카락이 긴 사람의 목록이라는 표본 공간의 새로운 부분 집합을 의미한다. 그리고 사건 B가 발생했다는 것은 이 용의자 목록에 진짜로 범인이 포함되었다는 뜻이다.\n",
    "* 현재 표본 공간(전체 용의자 목록)에는 머리가 긴 사람이 10명이 있다.\n",
    "* 만약 이 사건이 진실이라는 보장이 없다면, 사건 B에 대한 확률 P(B), 즉 머리가 긴 사람이 범인이라는 주장의 신뢰도는\n",
    "$$ P(B) = 10/20 = 0.5 $$\n",
    "\n",
    "#### 요약\n",
    "* 살인 사건 발생, 용의자는 20명\n",
    "    * 남자 12명, 여자 8명\n",
    "    * 머리가 긴사람 10명, 짧은 사람 10명\n",
    "* 범인이 남자일 확률\n",
    "    * 남자의 집합(사건) A에 범인(선택된 표본)이 속해 있다는 주장의 신뢰도\n",
    "    $$ P(A) = 0.6 $$\n",
    "* 범인이 머리가 길 확률\n",
    "    * 머리가 긴 사람의 집합(사건) B에 범인(선택된 표본)이 속해 있다는 주장의 신뢰도\n",
    "    $$ P(B) = 0.5 $$\n"
   ]
  },
  {
   "cell_type": "markdown",
   "metadata": {},
   "source": [
    "# 2. 결합확률과 조건부확률\n",
    "* 베이지안 확률은 두 사건 A와 B의 관계를 알고 있다면 사건 B가 발생했다는 사실로부터 기존에 알고 있는 사건 A에 대한 확률 P(A)를 좀 더 정확한 확률로 바꿀 수 있는 방법을 알려준다. 이를 위해 결합확률과 조건부확률을 정의해야 한다.\n",
    "* 결합확률(joint probability) : 사건 A와 B가 동시에 발생할 확률\n",
    "즉, 사건(명제/주장) A도 진실이고 사건 B도 진실이므로 사건 A와 B의 교집합의 확률을 계산하는 것과 같다.\n",
    "$$ P(A ∩ B) 또는 P(A, B) $$\n",
    "* 주변확률(marginal probability) : 결합확률과 대비되는 개념으로 결합되지 않는 개별 사건의 확률 P(A) 또는 P(B)\n",
    "* 조건부확률(conditional probability) : B가 사실일 경우의 사건 A에 대한 확률. 사건 B에 대한 사건 A의 조건부 확률이라고 한다.\n",
    "$$ P(A|B) = P(A, B) / P(B) $$\n",
    "\n",
    "* 조건부 확률이 위와 같이 정의된 근거\n",
    "    1. 사건 B가 사실이므로 모든 가능한 표본은 사건 B에 포함되어야 한다.  \n",
    "    즉, 표본 공간 Ω → B가 된다.\n",
    "    2. 사건 A의 원소는 모두 사건 B의 원소도 되므로 사실상 사건 A ∩ B의 원소가 된다.  \n",
    "    즉, A → A ∩ B가 된다.\n",
    "    3. 따라서 사건 A의 확률 즉, 신뢰도는 원래의 신뢰도(결합확률)를 새로운 표본 공간의 신뢰도(확률)로 정규화(normalize)한 값이라고 할 수 있다.\n",
    "\n",
    "> **요약**\n",
    "  * 조건부확률 P(A|B)\n",
    "    * 사건 B가 발생한 경우의 사건 A의 확률\n",
    "    * 표본이 사건 B에 속한다는 새로운 사실을 알게 되었을 때\n",
    "    * 이 표본이 사건 A에 속한다는 사실의 정확성(신뢰도)이 어떻게 변하는지를 알려준다.\n",
    "  * 예) 범인 찾기에서\n",
    "    * P(A) : 범인이 남자일 확률\n",
    "    * P(B) : 범인이 머리가 길 확률\n",
    "    * P(A|B) : 범인이 머리가 길다는 사실을 알게 되었을 때, 달라진(갱신된) \"범인이 남자일 확률\"\n",
    "  * 조건부확률 값\n",
    "  $$ P(A|B) = P(A, B) / P(B) $$"
   ]
  },
  {
   "cell_type": "markdown",
   "metadata": {},
   "source": [
    "* 주의할 점\n",
    "    * 사건 A와 사건 B의 결합확률의 값 P(A, B)은 기존의 사건 A의 확률 P(A)나 사건 B의 확률 P(B)와는 전혀 무관한 별개의 정보이다.  \n",
    "    즉, 수학적으로 계산하여 구할 수 있는 값이 아니라 외부에서 주어지지 않으면 안되는 정보인 것이다.\n",
    "    \n",
    "#### 머리가 긴 남자가 3명 일 때와 6명 일때의 조건부확률 P(A|B)\n",
    "* 머리가 긴 남자가 3명일 때\n",
    "$$ P(A|B) = P(A, B) / P(B) = (3/20) / (10/20) = 3/10 $$\n",
    "원래 사건 A의 확률 P(A)가 0.6 즉 60% 였으므로 범인이 머리카락이 길다는 정보로 인해 남자가 범인일 확률은 절반으로 뚝 떨어졌다.\n",
    "* 머리가 긴 남자가 6명일 때\n",
    "$$ P(A|B) = P(A, B) / P(B) = (6/20) / (10/20) = 6/10 $$\n",
    "새로운 정보(사건 B)가 주어지든 주어지지 않았든 남자가 범인일 확률은 변함없다. 이러한 경우에는 사건 A가 사건 B와 서로 독립(independent)이라고 한다."
   ]
  },
  {
   "cell_type": "markdown",
   "metadata": {},
   "source": [
    "# 3. 독립\n",
    "수학적으로 사건 A와 사건 B의 결합확률의 값이 다음과 같은 관계가 성립하면 두 사건 A와 B는 서로 독립(independent)라고 정의한다.\n",
    "$$ P(A, B) = P(A)P(B) $$\n",
    "* 독립인 경우 조건부확률과 원래 확률이 같아지면서 B라는 사건이 발생해도 사건 A에는 전혀 영향을 주지 않는다.\n",
    "$$ P(A|B) = P(A, B) / P(B) $$\n",
    "$$ = P(A)P(B) / P(B) $$\n",
    "$$ = P(A) $$\n",
    "* 두 확률변수 X, Y가 가질 수 있는 모든 사건의 조합에 대해 독립이 성립하면 두 확률변수 X, Y가 독립이라고 한다."
   ]
  },
  {
   "cell_type": "markdown",
   "metadata": {},
   "source": [
    "# 4. 원인과 결과, 근거와 추론, 가정과 조건부 결론\n",
    "조건부확률 P(A|B)에서 사건(주장/명제) B, A는 각각 다음과 같이 생각할 수도 있다.\n",
    "    * \"가정과 그 가정에 따른 조건부 결론\"\n",
    "    * \"원인과 결과\"\n",
    "    * \"근거와 추론\"\n",
    "또 결합확률의 정의를 바꿔쓰면 다음과 같다.\n",
    "$$ P(A, B) = P(A|B)P(B) $$\n",
    "이 식은 \"A, B가 모두 발생할 확률은 B라는 사건이 발생할 확률과 그 사건이 발생한 경우 다시 A가 발생할 경우의 곱\"이라는 관점에서 볼 수 있다."
   ]
  },
  {
   "cell_type": "markdown",
   "metadata": {},
   "source": [
    "# 5. 사슬 법칙\n",
    "* 사슬 법칙(chain rule) : 조건부확률과 결합확률의 관계를 확장하여 복수의 사건 X_1, X_2, ..., X_N에 대한 조건부 확률로 나타낼 수 있는 것\n",
    "$$ P(X_1, X_2) = P(X_2|X_1)P(X_1) $$\n",
    "$$ P(X_1, X_2, X_3) = P(X_3|X_1, X_2)P(X_1, X_2) $$\n",
    "$$ = P(X_1)P(X_2|X_1)P(X_3|X_1, X_2) $$\n",
    "$$ P(X_1, X_2, X_3, X_4) = P(X_4|X_1, X_2, X_3)P(X_1, X_2, X_3) $$\n",
    "$$ = P(X_1)P(X_2|X_1)P(X_3|X_1, X_2)P(X_4|X_1, X_2, X_3) $$\n",
    "$$ ... $$\n",
    "$$ P(X_1, ..., X_N) = P(X_1)∏(i=2～N)P(X_i|X_1, ..., X_(i-1)) $$"
   ]
  },
  {
   "cell_type": "markdown",
   "metadata": {},
   "source": [
    "# 6. 확률변수의 확률\n",
    "* 확률변수의 확률 P(X) : 확률변수 X의 모든 이벤트들에 대한 확률\n",
    "\n",
    "#### 유한한 갯수의 사건만 있는 확률변수의 확률\n",
    "각 사건에 대한 확률값을 정리한 표라고 할 수 있다.  \n",
    "만약 확률변수 X가 4개의 사건 A, B, C, D만 가질 수 있다면 다음표는 확률변수 X의 확률이다.\n",
    "* 표  \n",
    "사건, 확률    \n",
    "A, P(A)  \n",
    "B, P(B)  \n",
    "C, P(C)  \n",
    "D, P(D)  \n",
    "\n",
    "#### 이산확률변수의 경우  \n",
    "단순사건(simple event)만 알고 있어도 모든 사건에 대한 확률을 알 수 있기 때문에 단순사건들이 확률을 표로 나타낸 것  \n",
    "즉, 확률질량함수 표(pmf table)를 아는 것이 곧 확률변수의 확률을 아는 것이다.\n",
    "#### 연속확률변수의 경우  \n",
    "확률밀도함수를 알고 있을 때 그 확률변수의 확률을 안다고 말한다.\n"
   ]
  },
  {
   "cell_type": "markdown",
   "metadata": {},
   "source": [
    "# 7. pgmpy 패키지\n",
    "#### pgmpy(Probabilistic Graphical Models in Python) 패키지\n",
    "이산확률모형을 쉽게 구현할 수 있는 패키지\n",
    "\n",
    "#### JointProbabilityDistribution 클래스\n",
    "결합확률 모형을 만들기 위한 클래스  \n",
    "* `JointProbabilityDistribution(variables, cardinality, values)`\n",
    "    * `variables` : 확률변수의 이름 문자열 리스트\n",
    "    * `cardinality` : 각 확률변수의 배타적 사건의 수의 리스트\n",
    "    * `values` : 각 확률변수의 모든 사건의 조합에 대한 확률 값의 리스트\n",
    "* `variables`의 값은 사건의 이름이 아닌 확률변수의 이름\n",
    "* pgmpy에서는 사건의 이름을 명시적으로 지정 불가, 입력한 사건의 수가 K일 때 0, 1, ..., K-1 같이 숫자로 지정\n",
    "* 범인 찾기 문제에서 두 개의 확률변수 X, Y 정의 (X는 성별, Y는 머리가 긴지 짧은지)\n",
    "    * X = 0인 경우가 사건 A (남자인 사건)\n",
    "    * X = 1인 경우가 사건 A^C (여자인 사건)\n",
    "    * Y = 0인 경우가 사건 B (머리가 긴 사건)\n",
    "    * Y = 1인 경우가 사건 B^C (머리가 짧은 사건)"
   ]
  },
  {
   "cell_type": "code",
   "execution_count": 2,
   "metadata": {},
   "outputs": [
    {
     "name": "stdout",
     "output_type": "stream",
     "text": [
      "╒═════╤═════╤══════════╕\n",
      "│ X   │ Y   │   P(X,Y) │\n",
      "╞═════╪═════╪══════════╡\n",
      "│ X_0 │ Y_0 │   0.1500 │\n",
      "├─────┼─────┼──────────┤\n",
      "│ X_0 │ Y_1 │   0.4500 │\n",
      "├─────┼─────┼──────────┤\n",
      "│ X_1 │ Y_0 │   0.3500 │\n",
      "├─────┼─────┼──────────┤\n",
      "│ X_1 │ Y_1 │   0.0500 │\n",
      "╘═════╧═════╧══════════╛\n"
     ]
    }
   ],
   "source": [
    "from pgmpy.factors.discrete import JointProbabilityDistribution as JPD\n",
    "import numpy as np\n",
    "\n",
    "pxy = JPD(['X', 'Y'], [2, 2], np.array([3, 9, 7, 1]) / 20)\n",
    "print(pxy)\n",
    "\n",
    "# 머리가 긴 남자일 확률 : 15%\n",
    "# 머리가 짧은 남자일 확률 : 45%\n",
    "# 머리가 긴 여자일 확률 : 35%\n",
    "# 머리가 짧은 여자일 확률 : 15%"
   ]
  },
  {
   "cell_type": "markdown",
   "metadata": {},
   "source": [
    "# 연습 문제\n",
    "위의 범인 찾기 문제의 예에서 12명의 남자 중 머리가 긴 사람이 6명인 경우의 결합확률 모형을 `JointProbabilityDistribution` 클래스 객체 `prx2`로 구현하라."
   ]
  },
  {
   "cell_type": "code",
   "execution_count": 3,
   "metadata": {},
   "outputs": [
    {
     "name": "stdout",
     "output_type": "stream",
     "text": [
      "╒═════╤═════╤══════════╕\n",
      "│ X   │ Y   │   P(X,Y) │\n",
      "╞═════╪═════╪══════════╡\n",
      "│ X_0 │ Y_0 │   0.3000 │\n",
      "├─────┼─────┼──────────┤\n",
      "│ X_0 │ Y_1 │   0.2000 │\n",
      "├─────┼─────┼──────────┤\n",
      "│ X_1 │ Y_0 │   0.2500 │\n",
      "├─────┼─────┼──────────┤\n",
      "│ X_1 │ Y_1 │   0.2500 │\n",
      "╘═════╧═════╧══════════╛\n"
     ]
    }
   ],
   "source": [
    "# 머리가 긴 남자일 확률 P(A, B) = 6/20 = 0.3 = 30%\n",
    "pxy2 = JPD(['X', 'Y'], [2, 2], np.array([6, 4, 5, 5]) / 20)\n",
    "print(pxy2)"
   ]
  },
  {
   "cell_type": "markdown",
   "metadata": {},
   "source": [
    "##### marginal_distribution\n",
    "결합확률로부터 주변확률을 계산한다.\n",
    "* 인수로 받은 확률변수에 대한 주변확률분포를 구한다.\n",
    "* `marginal_distribution(values, inplace=True)`\n",
    "    * `values` : 주변확률을 구할 변수 이름 문자열 리스트\n",
    "    * `inplace`\n",
    "        * `True` - 객체 자신을 주변확률 모형으로 변화시킨다. \n",
    "        * `False` - 주변확률 모형 객체를 반환\n"
   ]
  },
  {
   "cell_type": "code",
   "execution_count": 10,
   "metadata": {},
   "outputs": [
    {
     "name": "stdout",
     "output_type": "stream",
     "text": [
      "╒═════╤════════╕\n",
      "│ X   │   P(X) │\n",
      "╞═════╪════════╡\n",
      "│ X_0 │ 0.6000 │\n",
      "├─────┼────────┤\n",
      "│ X_1 │ 0.4000 │\n",
      "╘═════╧════════╛\n"
     ]
    }
   ],
   "source": [
    "# 결합확률로부터 주변확률 P(A), P(A^C)를 계산한다.\n",
    "px = pxy.marginal_distribution(['X'], inplace=False)\n",
    "print(px)\n",
    "\n",
    "# 남자일 확률 12/20 = 0.6\n",
    "# 여자일 확률 8/20 = 0.4"
   ]
  },
  {
   "cell_type": "markdown",
   "metadata": {},
   "source": [
    "##### marginalize\n",
    "인수로 받은 확률변수를 주변화(marginalize)하여 나머지 확률변수에 대한 주변확률분포를 구한다.\n",
    "* `marginal_distribution`과 차이는 인수로 받은 확률 변수로 원하는 확률변수의 개별 확률값을 구하는 듯"
   ]
  },
  {
   "cell_type": "code",
   "execution_count": 8,
   "metadata": {},
   "outputs": [
    {
     "name": "stdout",
     "output_type": "stream",
     "text": [
      "╒═════╤════════╕\n",
      "│ X   │   P(X) │\n",
      "╞═════╪════════╡\n",
      "│ X_0 │ 0.6000 │\n",
      "├─────┼────────┤\n",
      "│ X_1 │ 0.4000 │\n",
      "╘═════╧════════╛\n"
     ]
    }
   ],
   "source": [
    "# 마찬가지로 결합확률로부터 주변확률 P(A), P(A^C)를 계산한다.\n",
    "px = pxy.marginalize(['Y'], inplace=False)\n",
    "print(px)\n",
    "\n",
    "# 남자일 확률 12/20 = 0.6\n",
    "# 여자일 확률 8/20 = 0.4"
   ]
  },
  {
   "cell_type": "code",
   "execution_count": 11,
   "metadata": {},
   "outputs": [
    {
     "name": "stdout",
     "output_type": "stream",
     "text": [
      "╒═════╤════════╕\n",
      "│ Y   │   P(Y) │\n",
      "╞═════╪════════╡\n",
      "│ Y_0 │ 0.5000 │\n",
      "├─────┼────────┤\n",
      "│ Y_1 │ 0.5000 │\n",
      "╘═════╧════════╛\n"
     ]
    }
   ],
   "source": [
    "# 결합확률로부터 주변확률 P(B), P(B^C)를 계산한다.\n",
    "py = pxy.marginal_distribution(['Y'], inplace=False)\n",
    "print(py)\n",
    "\n",
    "# 머리가 길 확률 10/20 = 0.5\n",
    "# 머리가 짧을 확률 10/20 = 0.5"
   ]
  },
  {
   "cell_type": "markdown",
   "metadata": {},
   "source": [
    "##### conditional_distribution\n",
    "조건부확률을 계산한다.\n",
    "* `conditional_distribution(values, inplace=True)`\n",
    "    * `values` : 주변확률을 구할 변수 이름 문자열과 값을 묶은 튜플의 리스트\n",
    "    * `inplace`\n",
    "        * `True` : 객체 자신을 조건부확률 모형으로 변화시킨다.\n",
    "        * `False` : 조건부확률 모형 객체를 반환한다."
   ]
  },
  {
   "cell_type": "code",
   "execution_count": 10,
   "metadata": {},
   "outputs": [
    {
     "name": "stdout",
     "output_type": "stream",
     "text": [
      "╒═════╤════════╕\n",
      "│ Y   │   P(Y) │\n",
      "╞═════╪════════╡\n",
      "│ Y_0 │ 0.2500 │\n",
      "├─────┼────────┤\n",
      "│ Y_1 │ 0.7500 │\n",
      "╘═════╧════════╛\n"
     ]
    }
   ],
   "source": [
    "# 결합확률로부터 조건부확률 P(B|A), P(B^C|A)를 계산한다.\n",
    "py_on_x0 = pxy.conditional_distribution([('X', 0)], \n",
    "                                        inplace=False) # 사건 A에 대한 조건부확률\n",
    "print(py_on_x0)\n",
    "\n",
    "# P(Y=0|X=0) = P(Y=0, X=0)/P(X=0) = 0.15/0.6 = 0.25\n",
    "# P(Y=1|X=0) = P(Y=1, X=0)/P(X=0) = 0.45/0.6 = 0.75"
   ]
  },
  {
   "cell_type": "code",
   "execution_count": 11,
   "metadata": {},
   "outputs": [
    {
     "name": "stdout",
     "output_type": "stream",
     "text": [
      "╒═════╤════════╕\n",
      "│ Y   │   P(Y) │\n",
      "╞═════╪════════╡\n",
      "│ Y_0 │ 0.8750 │\n",
      "├─────┼────────┤\n",
      "│ Y_1 │ 0.1250 │\n",
      "╘═════╧════════╛\n"
     ]
    }
   ],
   "source": [
    "# 결합확률로부터 P(B|A^C), P(B^C|A^C)를 계산한다.\n",
    "py_on_x1 = pxy.conditional_distribution([('X', 1)], inplace=False)\n",
    "print(py_on_x1)\n",
    "\n",
    "# P(Y=0|X=1) = P(Y=0, X=1)/P(X=1) = 0.35/0.4 = 0.875 \n",
    "# P(Y=1|X=1) = P(Y=1, X=1)/P(X=1) = 0.05/0.4 = 0.125"
   ]
  },
  {
   "cell_type": "code",
   "execution_count": 12,
   "metadata": {},
   "outputs": [
    {
     "name": "stdout",
     "output_type": "stream",
     "text": [
      "╒═════╤════════╕\n",
      "│ X   │   P(X) │\n",
      "╞═════╪════════╡\n",
      "│ X_0 │ 0.3000 │\n",
      "├─────┼────────┤\n",
      "│ X_1 │ 0.7000 │\n",
      "╘═════╧════════╛\n"
     ]
    }
   ],
   "source": [
    "# 결합확률로부터 P(A|B), P(A^C|B)를 계산한다.\n",
    "px_on_y0 = pxy.conditional_distribution([('Y', 0)], \n",
    "                                        inplace=False) # 사건 B에 대한 조건부확률\n",
    "print(px_on_y0)\n",
    "\n",
    "# P(X=0|Y=0) = P(X=0, Y=0)/P(Y=0) = 0.15/0.5 = 0.30\n",
    "# P(X=1|Y=0) = P(X=1, Y=0)/P(Y=0) = 0.35/0.5 = 0.70"
   ]
  },
  {
   "cell_type": "code",
   "execution_count": 13,
   "metadata": {},
   "outputs": [
    {
     "name": "stdout",
     "output_type": "stream",
     "text": [
      "╒═════╤════════╕\n",
      "│ X   │   P(X) │\n",
      "╞═════╪════════╡\n",
      "│ X_0 │ 0.9000 │\n",
      "├─────┼────────┤\n",
      "│ X_1 │ 0.1000 │\n",
      "╘═════╧════════╛\n"
     ]
    }
   ],
   "source": [
    "# 결합확률로부터 조건부확률 P(A|B^C), P(A^C|B^C)를 계산한다.\n",
    "px_on_y1 = pxy.conditional_distribution([('Y', 1)], inplace=False)\n",
    "print(px_on_y1)\n",
    "\n",
    "# P(X=0|Y=1) = P(X=0, Y=1)/P(Y=1) = 0.45/0.5 = 0.90\n",
    "# P(X=1|Y=1) = P(X=1, Y=1)/P(Y=1) = 0.05/0.5 = 0.10"
   ]
  },
  {
   "cell_type": "markdown",
   "metadata": {},
   "source": [
    "##### check_independence\n",
    "두 확률변수 같의 독립을 확인한다."
   ]
  },
  {
   "cell_type": "code",
   "execution_count": 18,
   "metadata": {},
   "outputs": [
    {
     "data": {
      "text/plain": [
       "False"
      ]
     },
     "execution_count": 18,
     "metadata": {},
     "output_type": "execute_result"
    }
   ],
   "source": [
    "pxy.check_independence(['X'], ['Y'])"
   ]
  },
  {
   "cell_type": "markdown",
   "metadata": {},
   "source": [
    "## 7.1. 연산\n",
    "두 개의 `JointProbabilityDistribution` 객체끼리 곱하면 두 분포가 독립이라는 가정하에 결합확률을 구한다.  \n",
    "* 이 값과 원래의 결합확률을 비교하면 독립이 아니라는 것을 알 수 있다."
   ]
  },
  {
   "cell_type": "code",
   "execution_count": 19,
   "metadata": {},
   "outputs": [
    {
     "name": "stdout",
     "output_type": "stream",
     "text": [
      "╒═════╤═════╤══════════╕\n",
      "│ X   │ Y   │   P(X,Y) │\n",
      "╞═════╪═════╪══════════╡\n",
      "│ X_0 │ Y_0 │   0.3000 │\n",
      "├─────┼─────┼──────────┤\n",
      "│ X_0 │ Y_1 │   0.3000 │\n",
      "├─────┼─────┼──────────┤\n",
      "│ X_1 │ Y_0 │   0.2000 │\n",
      "├─────┼─────┼──────────┤\n",
      "│ X_1 │ Y_1 │   0.2000 │\n",
      "╘═════╧═════╧══════════╛\n",
      "╒═════╤═════╤══════════╕\n",
      "│ X   │ Y   │   P(X,Y) │\n",
      "╞═════╪═════╪══════════╡\n",
      "│ X_0 │ Y_0 │   0.1500 │\n",
      "├─────┼─────┼──────────┤\n",
      "│ X_0 │ Y_1 │   0.4500 │\n",
      "├─────┼─────┼──────────┤\n",
      "│ X_1 │ Y_0 │   0.3500 │\n",
      "├─────┼─────┼──────────┤\n",
      "│ X_1 │ Y_1 │   0.0500 │\n",
      "╘═════╧═════╧══════════╛\n"
     ]
    }
   ],
   "source": [
    "print(px * py)\n",
    "print(pxy)"
   ]
  },
  {
   "cell_type": "markdown",
   "metadata": {},
   "source": [
    "# 연습 문제\n",
    "위에서 구현한 `JointProbabilityDistribution` 클래스 객체 `pxy2`로부터 주변확률 모형 및 조건부 확률 모형을 구하라. 또 `check_independence` 메서드를 이용하여 사건 A, B의 독립을 확인하라."
   ]
  },
  {
   "cell_type": "code",
   "execution_count": 13,
   "metadata": {},
   "outputs": [
    {
     "name": "stdout",
     "output_type": "stream",
     "text": [
      "╒═════╤═════╤══════════╕\n",
      "│ X   │ Y   │   P(X,Y) │\n",
      "╞═════╪═════╪══════════╡\n",
      "│ X_0 │ Y_0 │   0.3000 │\n",
      "├─────┼─────┼──────────┤\n",
      "│ X_0 │ Y_1 │   0.2000 │\n",
      "├─────┼─────┼──────────┤\n",
      "│ X_1 │ Y_0 │   0.2500 │\n",
      "├─────┼─────┼──────────┤\n",
      "│ X_1 │ Y_1 │   0.2500 │\n",
      "╘═════╧═════╧══════════╛\n"
     ]
    }
   ],
   "source": [
    "# 12명의 남자\n",
    "# 머리가 긴 남자일 확률 P(A, B) = 6/20 = 0.3 = 30%\n",
    "pxy2 = JPD(['X', 'Y'], [2, 2], np.array([6, 4, 5, 5]) / 20)\n",
    "print(pxy2)"
   ]
  },
  {
   "cell_type": "code",
   "execution_count": 15,
   "metadata": {},
   "outputs": [
    {
     "name": "stdout",
     "output_type": "stream",
     "text": [
      "╒═════╤════════╕\n",
      "│ X   │   P(X) │\n",
      "╞═════╪════════╡\n",
      "│ X_0 │ 0.5000 │\n",
      "├─────┼────────┤\n",
      "│ X_1 │ 0.5000 │\n",
      "╘═════╧════════╛\n"
     ]
    }
   ],
   "source": [
    "# 주변확률\n",
    "px2 = pxy2.marginal_distribution(['X'], inplace=False)\n",
    "print(px2)"
   ]
  },
  {
   "cell_type": "code",
   "execution_count": 17,
   "metadata": {},
   "outputs": [
    {
     "name": "stdout",
     "output_type": "stream",
     "text": [
      "╒═════╤════════╕\n",
      "│ Y   │   P(Y) │\n",
      "╞═════╪════════╡\n",
      "│ Y_0 │ 0.5500 │\n",
      "├─────┼────────┤\n",
      "│ Y_1 │ 0.4500 │\n",
      "╘═════╧════════╛\n"
     ]
    }
   ],
   "source": [
    "# 주변확률\n",
    "py2 = pxy2.marginal_distribution(['Y'], inplace=False)\n",
    "print(py2)"
   ]
  },
  {
   "cell_type": "code",
   "execution_count": 20,
   "metadata": {},
   "outputs": [
    {
     "name": "stdout",
     "output_type": "stream",
     "text": [
      "╒═════╤════════╕\n",
      "│ X   │   P(X) │\n",
      "╞═════╪════════╡\n",
      "│ X_0 │ 0.5455 │\n",
      "├─────┼────────┤\n",
      "│ X_1 │ 0.4545 │\n",
      "╘═════╧════════╛\n"
     ]
    }
   ],
   "source": [
    "# Y=0에 대한 조건부확률\n",
    "px2_on_y0 = pxy2.conditional_distribution([('Y', 0)], inplace=False)\n",
    "print(px2_on_y0)"
   ]
  },
  {
   "cell_type": "code",
   "execution_count": 24,
   "metadata": {},
   "outputs": [
    {
     "name": "stdout",
     "output_type": "stream",
     "text": [
      "╒═════╤════════╕\n",
      "│ X   │   P(X) │\n",
      "╞═════╪════════╡\n",
      "│ X_0 │ 0.4444 │\n",
      "├─────┼────────┤\n",
      "│ X_1 │ 0.5556 │\n",
      "╘═════╧════════╛\n"
     ]
    }
   ],
   "source": [
    "# Y=1에 대한 조건부확률\n",
    "px2_on_y1 = pxy2.conditional_distribution([('Y', 1)], inplace=False)\n",
    "print(px2_on_y1)"
   ]
  }
 ],
 "metadata": {
  "kernelspec": {
   "display_name": "Python 3",
   "language": "python",
   "name": "python3"
  },
  "language_info": {
   "codemirror_mode": {
    "name": "ipython",
    "version": 3
   },
   "file_extension": ".py",
   "mimetype": "text/x-python",
   "name": "python",
   "nbconvert_exporter": "python",
   "pygments_lexer": "ipython3",
   "version": "3.6.6"
  }
 },
 "nbformat": 4,
 "nbformat_minor": 2
}

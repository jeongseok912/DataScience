{
 "cells": [
  {
   "cell_type": "markdown",
   "metadata": {},
   "source": [
    "# 1. 베이즈 정리\n",
    "* 베이즈 정리(Bayesian rule) : 사건 B가 발생함으로써(사건 B가 진실이라는 것을 알게 됨으로써 즉 사건 B의 확률 P(B) = 1이라는 것을 알게 됨으로써) 사건 A의 확률이 어떻게 변화하는지를 표현한 정리\n",
    "* 새로운 정보가 기존의 추론에 어떻게 영향을 미치는지를 나타낸다.\n",
    "$$ P(A|B) = P(B|A)P(A) / P(B) $$\n",
    "#### 증명\n",
    "    $$ P(A|B) = P(A, B)/P(B) → P(A, B) = P(A|B)P(B) $$\n",
    "    $$ P(B|A) = P(A, B)/P(A) → P(A, B) = P(B|A)P(A) $$\n",
    "    $$ P(A, B) = P(A|B)P(B) = P(B|A)P(A) $$\n",
    "    $$ P(A|B) = P(B|A)P(A)/P(B) $$\n",
    "    \n",
    "#### 용어 정리\n",
    "* 사전 확률(prior) : 사건 B가 발생하기 전에 가지고 있던 사건 A의 확률, P(A)\n",
    "* 사후 확률(posterior) :  사건 B 발생 후 갱신된 사건 A의 확률, P(A|B)\n",
    "* 가능도(likelihood) : 사건 A가 발생한 경우 사건 B의 확률, P(B|A)\n",
    "* 정규화 상수(normalizing constant) : 확률의 크기 조정, P(B)"
   ]
  },
  {
   "cell_type": "markdown",
   "metadata": {},
   "source": [
    "# 2. 베이즈 정리의 확장 1\n",
    "사건 A_i가 다음 조건을 만족하는 경우,\n",
    "    * 서로 교집합이 없고\n",
    "$$ A_i ∩ A_j = /0 $$\n",
    "    * 모두 합쳤을 때 (합집합) 전체 표본 공간이면\n",
    "$$ A_1 ∪ A_2 ∪ ... = Ω $$\n",
    "\n",
    "전체 확률의 법칙을 이용하여 베이즈 정리를 확장할 수 있다.\n",
    "$$ P(A_1|B) = P(B|A_1)P(A_1) / P(B) $$\n",
    "$$ = P(B|A_1)P(A_1) / ∑_iP(A_i, B) $$\n",
    "$$ = P(B|A_1)P(A_1) / ∑_iP(B|A_i)P(A_i) $$\n",
    "\n",
    "A_1 = A, A_2 = A^C인 경우\n",
    "$$ P(A|B) = P(B|A)P(A)/P(B) $$\n",
    "$$ = P(B|A)P(A) / \\{P(B, A) + P(B, A^C)\\}$$\n",
    "$$ = P(B|A)P(A) / \\{P(B|A)P(A) + P(B|A^C)P(A^C)\\} $$\n",
    "$$ = P(B|A)P(A) / \\{P(B|A)P(A) + P(B|A^C)(1 - P(A))\\} $$"
   ]
  },
  {
   "cell_type": "markdown",
   "metadata": {},
   "source": [
    "# 3. 검사 시약 문제\n",
    "#### 문제\n",
    "* 제약사에서 환자가 특정한 병에 걸린지 확인할 수 있는 시약을 만들었다. 그 병에 걸린 환자에게 시약을 테스트한 결과 99% 확률로 양성 반응을 보였다. 병에 걸린지 확인 되지 않은 어떤 환자가 이 시약을 테스트한 결과 양성 반응을 보였다면 이 환자가 그 병에 걸려 있을 확률은 얼마인가? 99% 일까?\n",
    "\n",
    "#### 확률론의 용어로 정리\n",
    "* 사건\n",
    "    * 환자가 실제로 병에 걸린 경우 : 사건 D\n",
    "    * 병에 걸려있지 않은 경우 : 사건 D^C\n",
    "    * 시약 테스트에서 양성 반응을 보이는 경우 : 사건 S\n",
    "    * 음성 반응을 보이는 경우 : 사건 S^C\n",
    "    * 현재 주어진 확률 값  \n",
    "    병에 걸린 환자에게 시약을 테스트하였을 때 양성 반응을 보이는 확률\n",
    "        * 병에 걸렸다는 것은 추가된 조건 혹은 정보이므로 이 확률은 : P(S|D)\n",
    "    * 구해야 하는 값  \n",
    "    반대로 양성 반응을 보이는 환자가 병에 걸려있을 확률\n",
    "        * 이 때는 양성 반응을 보인다라는 것이 추가된 정보이므로 이 확률은 : P(D|S)\n",
    "* 문제\n",
    "    * P(S|D) = 0.99가 주어졌을 때, P(D|S)를 구하라.\n",
    "    \n",
    "#### 베이즈 정리로 정리\n",
    "$$ P(D|S) = P(S|D)P(D)/P(S) $$\n",
    "이 식에서 알고 있는 것은 P(S|D) 뿐이고 P(D), P(S)는 모르기 때문에 현재로서는 P(D|S)를 구할 수 없다. 즉, 99%라고 간단히 말할 수 없다.\n",
    "\n",
    "#### 추가정보 입수\n",
    "추가 조사를 통해 필요한 정보를 다음과 같이 입수하였다고 하자.\n",
    "* 이 병은 전체 인구 중 걸린 사람이 0.2%인 희귀병이다.\n",
    "* 이 병에 걸리지 않은 사람에게 시약 검사를 했을 때, 양성 반응, 즉 잘못된 결과(False Positive)가 나타난 확률이 5%이다.\n",
    "\n",
    "#### 확률로전 용어로 재 정리\n",
    "$$ P(D) = 0.002 $$\n",
    "$$ P(S|D^C) = 0.05 $$ \n",
    "\n",
    "#### 베이즈 정리 확장 사용\n",
    "$$ P(D|S) = P(S|D)P(D)/P(S) $$\n",
    "$$ = P(S|D)P(D) / (P(S, D) + P(S, D^C)) $$\n",
    "$$ = P(S|D)P(D) / (P(S|D)P(D) + P(S|D^C)P(D^C)) $$\n",
    "$$ = P(S|D)P(D) / (P(S|D)P(D) + P(S|D^C)(1 - P(D))) $$\n",
    "$$ = 0.99 * 0.002 / (0.99 * 0.002 + 0.05 * (1 - 0.002)) $$\n",
    "$$ = 0.038 $$\n",
    "즉, 시약 반응에서 양성 반응을 보이는 사람이 실제로 병에 걸려 있을 확률은 약 3.8%에 불과하다."
   ]
  },
  {
   "cell_type": "markdown",
   "metadata": {},
   "source": [
    "# 4. pgmpy을 사용한 베이즈 정리 적용\n",
    "* 베이즈 정리를 적용하려면 `TabularCPD` 클래스를 사용하여 사전확률과 가능도를 구현해야 한다.\n",
    "\n",
    "#### TabularCPD 클래스\n",
    "조건부 확률을 구현하기 위한 클래스\n",
    "* `TabularCPD(variable, variable_card, value, evidence=None, evidence_card=None)`\n",
    "    * `variable` : 확률변수의 이름 문자열\n",
    "    * `variable_card` : 확률변수가 가질 수 있는 경우의 수\n",
    "    * `value` : 조건부 확률 배열, 하나의 열(column)이 동일 조건을 뜻하므로 하나의 열의 확률 합은 1이어야 한다.\n",
    "    * `evidence` : 조건이 되는 확률변수의 이름 문자열 리스트\n",
    "    * `evidence_card` : 조건이 되는 확률변수가 가질 수 있는 경우의 수의 리스트\n",
    "* `evidence=None`, `evidence_card=None`으로 인수를 주면 조건부확률이 아닌 일반적인 확률도 구현할 수 있다.    "
   ]
  },
  {
   "cell_type": "code",
   "execution_count": 2,
   "metadata": {},
   "outputs": [
    {
     "name": "stdout",
     "output_type": "stream",
     "text": [
      "╒═════╤═══════╕\n",
      "│ X_0 │ 0.998 │\n",
      "├─────┼───────┤\n",
      "│ X_1 │ 0.002 │\n",
      "╘═════╧═══════╛\n"
     ]
    }
   ],
   "source": [
    "# 확률변수 X 정의\n",
    "# - 병에 걸렸을 사전확률 P(D) = P(X = 1)\n",
    "# - 병에 걸리지 않았을 사전확률 P(D^C) = P(X = 0)\n",
    "from pgmpy.factors.discrete import TabularCPD\n",
    "\n",
    "cpd_X = TabularCPD('X', 2, [[1 - 0.002, 0.002]])\n",
    "print(cpd_X)"
   ]
  },
  {
   "cell_type": "code",
   "execution_count": 3,
   "metadata": {},
   "outputs": [
    {
     "name": "stdout",
     "output_type": "stream",
     "text": [
      "╒═════╤══════╤══════╕\n",
      "│ X   │ X_0  │ X_1  │\n",
      "├─────┼──────┼──────┤\n",
      "│ Y_0 │ 0.95 │ 0.01 │\n",
      "├─────┼──────┼──────┤\n",
      "│ Y_1 │ 0.05 │ 0.99 │\n",
      "╘═════╧══════╧══════╛\n"
     ]
    }
   ],
   "source": [
    "# 확률변수 Y 정의\n",
    "# - 양성 반응이 나올 확률 P(S) = P(Y = 1)\n",
    "# - 음성 반응이 나올 확률 P(S^C) = P(Y = 0)\n",
    "# - 병에 걸렸는가 걸리지 않았는가를 나타내는 확률변수 X를 조건으로 가지는 확률변수\n",
    "\n",
    "# 조건부확률 P(Y|X)\n",
    "import numpy as np\n",
    "\n",
    "cpd_Y_on_X = TabularCPD('Y', 2, np.array([[0.95, 0.01], [0.05, 0.99]]),\n",
    "                       evidence=['X'], evidence_card=[2])\n",
    "print(cpd_Y_on_X)"
   ]
  },
  {
   "cell_type": "markdown",
   "metadata": {},
   "source": [
    "#### BaysianModel 클래스\n",
    "베이즈 정리를 적용할 수 있게 해주는 클래스\n",
    "* 확률변수들이 어떻게 결합되어 있는지를 나타내는 확률모형\n",
    "* `BaysianModel(variables)`\n",
    "    * `variables` : 확률모형이 포함하는 확률변수 이름 문자열의 리스트\n",
    "    \n",
    "#####  add_cpds\n",
    "조건부확률을 추가\n",
    "\n",
    "##### check_model\n",
    "모형이 정상적인지 확인\n",
    "* `True`면 정상적인 모형"
   ]
  },
  {
   "cell_type": "code",
   "execution_count": 4,
   "metadata": {},
   "outputs": [
    {
     "data": {
      "text/plain": [
       "True"
      ]
     },
     "execution_count": 4,
     "metadata": {},
     "output_type": "execute_result"
    }
   ],
   "source": [
    "# 확률모형 확인하기\n",
    "from pgmpy.models import BayesianModel\n",
    "\n",
    "model = BayesianModel([('X', 'Y')])\n",
    "model.add_cpds(cpd_X, cpd_Y_on_X)\n",
    "model.check_model()"
   ]
  },
  {
   "cell_type": "markdown",
   "metadata": {},
   "source": [
    "#### 추정(inference)\n",
    "`BaysianModel` 클래스는 변수 제거법(VariableElimination)을 사용한 추정을 제공한다.\n",
    "\n",
    "#### VariableElimination 클래스\n",
    "추정(inference) 객체를 만든다.\n",
    "\n",
    "##### query\n",
    "사후확률을 계산한다.\n",
    "* `query(variables, evidence)`\n",
    "    * `variables` : 사후확률을 계산한 확률변수의 이름 리스트\n",
    "    * `evidences` : 조건이 되는 확률변수의 값을 나타내는 딕셔너리"
   ]
  },
  {
   "cell_type": "code",
   "execution_count": 5,
   "metadata": {},
   "outputs": [
    {
     "name": "stdout",
     "output_type": "stream",
     "text": [
      "╒═════╤══════════╕\n",
      "│ X   │   phi(X) │\n",
      "╞═════╪══════════╡\n",
      "│ X_0 │   0.9618 │\n",
      "├─────┼──────────┤\n",
      "│ X_1 │   0.0382 │\n",
      "╘═════╧══════════╛\n"
     ]
    }
   ],
   "source": [
    "from pgmpy.inference import VariableElimination\n",
    "\n",
    "inference = VariableElimination(model)\n",
    "posterior = inference.query(['X'], evidence={'Y':1})\n",
    "print(posterior['X'])"
   ]
  },
  {
   "cell_type": "markdown",
   "metadata": {},
   "source": [
    "# 연습문제\n",
    "몬티 홀 문제(Monty Hall problem)는 다음과 같은 확률문제이다.\n",
    "> 세 개의 문 중에 하나를 선택하여 문 뒤에 있는 선물을 가질 수 있는 게임쇼에 참가했다. 한 문 뒤에는 자동차가 있고, 나머지 두 문 뒤에는 염소가 있다. 이 때 어떤 사람이 예를 들어 1번 문을 선택했을 때, 게임쇼 진행자는 3번 문을 열어 문 뒤에 염소가 있음을 보여주면서 1번 대신 2번을 선택하겠냐고 물었다. 참가자가 자동차를 가지려할 때 원래 선택했던 번호를 바꾸는 것이 유리할까?\n",
    "\n",
    "문의 위치를 0, 1, 2라는 숫자로 표현하면 다음과 같은 확률변수를 사용하여 이 문제를 풀 수 있다.\n",
    "1. 자동차가 있는 문을 나타내는 확률변수 X. 값은 0, 1, 2를 가질 수 있다.\n",
    "2. 참가자가 선택한 문을 나타내는 확률변수 Y. 값은 0, 1, 2를 가질 수 있다.\n",
    "3. 진행자가 열어준 문을 나타내는 확률변수 Z. 값은 0, 1, 2를 가질 수 있다.  \n",
    "\n",
    "이 세 확률변수들의 조건부확률 P(Z|X, Y)를 pgmpy 패키지의 `TabularCPD` 클래스로 구현하라."
   ]
  },
  {
   "cell_type": "markdown",
   "metadata": {},
   "source": [
    "# 5. 베이즈 정리의 확장 2\n",
    "* 베이즈 정리는 사건 A의 확률이 사건 B에 의해 갱신된 확률을 계산한다.  \n",
    "이 상태에서 또 추가적인 사건 C가 발생했을 때의 베이즈 정리\n",
    "$$ P(A|B, C) = P(C|A, B)P(A|B) / P(C|B) $$\n",
    "    * P(A|B, C) : B와 C가 조건인 A의 확률.  \n",
    "    즉 P(A|(B ∩ C))\n",
    "* 사건 A와 C만 있는 경우와 비교해 보면 위 공식을 쉽게 외울 수 있다.\n",
    "$$ P(A|C) = P(C|A)P(A)/P(C) $$ \n",
    "    * 뒤에 B가 붙음\n",
    "\n",
    "#### 증명\n",
    "$$ P(A, B, C) = P(A|B, C)P(B, C) = P(A|B, C)P(C|B)P(B) $$\n",
    "$$ P(A, B, C) = P(C|A, B)P(A, B) = P(C|A, B)P(A|B)P(B) $$\n",
    "$$ P(A|B, C)P(C|B)P(B) = P(C|A, B)P(A|B)P(B) $$\n",
    "$$ P(A|B, C) = P(C|A, B)P(A|B)/P(C|B) $$"
   ]
  },
  {
   "cell_type": "markdown",
   "metadata": {},
   "source": [
    "# 연습 문제\n",
    "다음 식을 증명하라.\n",
    "$$ P(A|B, C) = P(B|A, C)P(A|C)/P(B|C) $$"
   ]
  }
 ],
 "metadata": {
  "kernelspec": {
   "display_name": "Python 3",
   "language": "python",
   "name": "python3"
  },
  "language_info": {
   "codemirror_mode": {
    "name": "ipython",
    "version": 3
   },
   "file_extension": ".py",
   "mimetype": "text/x-python",
   "name": "python",
   "nbconvert_exporter": "python",
   "pygments_lexer": "ipython3",
   "version": "3.6.6"
  }
 },
 "nbformat": 4,
 "nbformat_minor": 2
}

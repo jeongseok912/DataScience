{
 "cells": [
  {
   "cell_type": "markdown",
   "metadata": {},
   "source": [
    "* 베이즈 정리는 머신러닝 분류(classification) 문제를 해결하는데 사용될 수 있다.\n",
    "\n",
    "# 1. 과일 선택 문제\n",
    "어떤 과일 가게에서 사과와 오렌지를 팔고 있다. 사과와 오렌지는 Red 농장과 Blue 농장에서 공급받는다.  \n",
    "어느 날 Red 농장에서 붉은 상자에 사과 2개, 오렌지 6개를 담아서 보냈다.  \n",
    "Blue 농장에서는 푸른 상자에 사과 3개, 오렌지 1개를 담아서 공급했다.  \n",
    "손님이 와서 오렌지 하나를 선택했다.(X = 오렌지)  \n",
    "이 오렌지는 Red 농장에서 온 것일까(Y = Red), 아니면 Blue 농장에서 온 것일까(Y = Blue)?  \n",
    "만약 Red 농장과 Blue 농장 중 어느 농장을 선택하겠는가?\n",
    "\n",
    "------------\n",
    "답은 오렌지가 더 많은 상자를 공급한 Red 농장일 가능성이 높은 것이다.  \n",
    "그 가능성 즉, 확률을 수치화보면\n",
    "\n",
    "#### 용어 정리\n",
    "* 손님이 선택한 과일이 사과인 사건 X = A\n",
    "* 손님이 선택한 과일이 오렌지인 사건 X = O\n",
    "* 손님이 선택한 과일이 Red 농장에서 왔을 사건 Y = R\n",
    "* 손님이 선택한 과일이 Blue 농장에서 왔을 사건 Y = B\n",
    "\n",
    "#### 우리가 원하는 확률\n",
    "\"손님이 오렌지를 선택한 경우에 원산지가 Red 농장일 확률\"이므로 조건부 확률이다.\n",
    "$$ P(Y = R|X = O) $$\n",
    "\n",
    "#### 위 조건부 확률값을 구하기 위해 구할 확률\n",
    "* 전체 샘플 12개 중 Red 농장에서 온 샘플이 8개 이므로\n",
    "$$ P(Y = R) = 8/(8 + 4) = 8/12 $$\n",
    "* Red 농장의 샘플 8개 중 오렌지가 6개 이므로\n",
    "$$ P(X = O|Y = R) = 6/(2 + 6) = 6/8 $$\n",
    "\n",
    "#### 조건부 확률 계산\n",
    "$$ P(Y = R|X = O) = P(X = O|Y = R)P(Y = R)/P(X = O) $$\n",
    "$$ = P(X = O|Y = R)P(Y = R)/\\{P(X = O|Y = R)P(Y = R) + P(X = O|Y = B)P(Y = B)\\} $$\n",
    "$$ = (6/8 * 8/12)/(6/8 * 8/12 + 1/4*4/12) $$\n",
    "$$ = (1/2)/(1/2 + 1/12) = 6/7 $$\n",
    "\n",
    "#### Blue 농장인 확률\n",
    "농장이 두 개 뿐이므로 원상지가 Blue 농장인 확률은 1 - P(Y = R|X = O)이다.\n",
    "$$ P(Y = B|X = O) = 1 - P(Y = R|X = O) = 1/7 $$\n",
    "\n",
    "#### 답 (최종 확률)\n",
    "* Red 농장일 확률 : 6/7\n",
    "* Blue 농장일 확률 : 1/7\n",
    "* 예측 결과는 Red 농장이다.\n",
    "\n",
    "------\n",
    "이런 방식으로 분류 문제를 풀기 위해서는 각각의 출력 카테고리 Y에 대한 특징값 X의 분포, 즉 likehood를 알고 있어야 한다.  \n",
    "#### 생성론적 방법(generative method)\n",
    "이렇게 베이즈 정리와 likehood를 이용하여 각각의 Y값에 대한 확률 값을 모두 구한 다음, 가장 확률 값이 높은 Y값을 선택하여 분류 문제를 푸는 방법\n",
    "\n",
    "#### pgmpy를 사용한 문제 풀이"
   ]
  },
  {
   "cell_type": "code",
   "execution_count": 1,
   "metadata": {},
   "outputs": [
    {
     "name": "stdout",
     "output_type": "stream",
     "text": [
      "╒═════╤══════════╕\n",
      "│ Y_0 │ 0.666667 │\n",
      "├─────┼──────────┤\n",
      "│ Y_1 │ 0.333333 │\n",
      "╘═════╧══════════╛\n"
     ]
    }
   ],
   "source": [
    "from pgmpy.factors.discrete import TabularCPD\n",
    "\n",
    "# 확률 변수 Y = 0인 경우 : Red 농장\n",
    "# Y = 1인 경우 : Blue 농장\n",
    "cpd_Y = TabularCPD('Y', 2, [[8/12, 4/12]])\n",
    "print(cpd_Y)"
   ]
  },
  {
   "cell_type": "code",
   "execution_count": 3,
   "metadata": {},
   "outputs": [
    {
     "name": "stdout",
     "output_type": "stream",
     "text": [
      "╒═════╤══════╤══════╕\n",
      "│ Y   │ Y_0  │ Y_1  │\n",
      "├─────┼──────┼──────┤\n",
      "│ X_0 │ 0.75 │ 0.25 │\n",
      "├─────┼──────┼──────┤\n",
      "│ X_1 │ 0.25 │ 0.75 │\n",
      "╘═════╧══════╧══════╛\n"
     ]
    }
   ],
   "source": [
    "# 확률 변수 X = 0인 경우 : 오렌지\n",
    "# X = 1인 경우 : 사과\n",
    "import numpy as np\n",
    "\n",
    "cpd_XY = TabularCPD('X', 2, np.array([[6/8, 1/4], [2/8, 3/4]]),\n",
    "                   evidence=['Y'], evidence_card=[2])\n",
    "print(cpd_XY)"
   ]
  },
  {
   "cell_type": "code",
   "execution_count": 4,
   "metadata": {},
   "outputs": [
    {
     "data": {
      "text/plain": [
       "True"
      ]
     },
     "execution_count": 4,
     "metadata": {},
     "output_type": "execute_result"
    }
   ],
   "source": [
    "# 베이지안 네트워크 모형으로 사후확률을 계산하면 0.1429 = 1/7이 나온다.\n",
    "from pgmpy.models import BayesianModel\n",
    "\n",
    "model = BayesianModel([('Y', 'X')])\n",
    "model.add_cpds(cpd_Y, cpd_XY)\n",
    "model.check_model()"
   ]
  },
  {
   "cell_type": "code",
   "execution_count": 5,
   "metadata": {},
   "outputs": [
    {
     "name": "stdout",
     "output_type": "stream",
     "text": [
      "╒═════╤══════════╕\n",
      "│ Y   │   phi(Y) │\n",
      "╞═════╪══════════╡\n",
      "│ Y_0 │   0.8571 │\n",
      "├─────┼──────────┤\n",
      "│ Y_1 │   0.1429 │\n",
      "╘═════╧══════════╛\n"
     ]
    }
   ],
   "source": [
    "from pgmpy.inference import VariableElimination\n",
    "\n",
    "infer = VariableElimination(model)\n",
    "posterior = infer.query(['Y'], evidence={'X': 0})\n",
    "print(posterior['Y'])"
   ]
  }
 ],
 "metadata": {
  "kernelspec": {
   "display_name": "Python 3",
   "language": "python",
   "name": "python3"
  },
  "language_info": {
   "codemirror_mode": {
    "name": "ipython",
    "version": 3
   },
   "file_extension": ".py",
   "mimetype": "text/x-python",
   "name": "python",
   "nbconvert_exporter": "python",
   "pygments_lexer": "ipython3",
   "version": "3.6.6"
  }
 },
 "nbformat": 4,
 "nbformat_minor": 2
}

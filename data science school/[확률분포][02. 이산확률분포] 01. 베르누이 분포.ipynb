{
 "cells": [
  {
   "cell_type": "markdown",
   "metadata": {},
   "source": [
    "# 1. 베르누이 시도\n",
    "* 베르누이 시도(Bernoulli trial) : 결과가 두 가지 중 하나로만 나오는 실험이나 시도  \n",
    "ex)  \n",
    "동전을 한 번 던져 앞면(H:Head) 또는 뒷면(T:Tail)이 나오는 시도"
   ]
  },
  {
   "cell_type": "markdown",
   "metadata": {},
   "source": [
    "# 2. 베르누이 확률변수\n",
    "* 베르누이 확률변수(Bernoulli random variable) : 베르누이 확률변수의 결과를 실수 0 또는 1로 바꾼 것\n",
    "* 베르누이 확률변수의 표본값은 정수 1과 0 또는 정수 1과 -1로 표현한다.\n",
    "* 베르누이 확률변수의 확률질량함수\n",
    "$$ Bern(x;\\mu) = \\begin{cases} \\mu & \\text{if } x = 1,\\\\ 1 - \\mu & \\text{if } x = 0 \\end{cases}$$\n",
    "    * 모수(parameter) $\\mu$ : 1이 나올 확률\n",
    "    * $1 - \\mu$ : 0이 나올 확률\n",
    "    * 괄호 안은 변수;모수를 뜻함\n",
    "* 위 식 하나의 수식으로 표시\n",
    "$$ Bern(x;\\mu) = \\mu^x(1-\\mu)^{(1-x)} $$"
   ]
  },
  {
   "cell_type": "markdown",
   "metadata": {},
   "source": [
    "## 연습 문제\n",
    "위 식에서 $x = 1$과 $x = 0$을 각각 대입하여 원래의 확률 질량 함수 수식이 나오는 것을 확인한다."
   ]
  },
  {
   "cell_type": "markdown",
   "metadata": {},
   "source": [
    "$$ Bern(1;\\mu) = \\mu $$\n",
    "$$ Bern(0;\\mu) = 1 - \\mu $$"
   ]
  },
  {
   "cell_type": "markdown",
   "metadata": {},
   "source": [
    "#### 베르누이 확률변수가 1, 0이 아닌 1, -1일 때의 수식\n",
    "$$ Bern(x;\\mu) = \\mu^{\\frac{1+x}{2}}(1 - \\mu)^{\\frac{1-x}{2}} $$\n",
    "\n",
    "만약 어떤 확률변수 X가 베르누이 분포에 의해 발생된다면  \n",
    "**\"확률변수 $X$가 베르누이 분포를 따른다\"**라고 말하고 다음과 같은 수식으로 쓴다.\n",
    "$$ X ∼ Bern(x;\\mu) $$"
   ]
  },
  {
   "cell_type": "markdown",
   "metadata": {},
   "source": [
    "# 2. SciPy를 사용한 베르누이 확률변수 시뮬레이션\n",
    "#### bernoulli 클래스\n",
    "베르누이 확률변수를 구현한다.  \n",
    "* `bernoulli(p)`  \n",
    "    * `p` : 분포의 모수 $\\mu$ 설정"
   ]
  },
  {
   "cell_type": "code",
   "execution_count": 6,
   "metadata": {},
   "outputs": [
    {
     "data": {
      "text/plain": [
       "scipy.stats._distn_infrastructure.rv_frozen"
      ]
     },
     "execution_count": 6,
     "metadata": {},
     "output_type": "execute_result"
    }
   ],
   "source": [
    "# 동전 앞면이 나올 확률이 0.6인 확률 생성기\n",
    "import scipy as sp\n",
    "\n",
    "mu = 0.6\n",
    "rv = sp.stats.bernoulli(mu)\n",
    "type(rv)"
   ]
  },
  {
   "cell_type": "markdown",
   "metadata": {},
   "source": [
    "##### pmf 메서드\n",
    "확률질량함수를 나타낸다."
   ]
  },
  {
   "cell_type": "code",
   "execution_count": 11,
   "metadata": {},
   "outputs": [
    {
     "data": {
      "image/png": "[encoded data removed]",
      "text/plain": [
       "<Figure size 432x288 with 1 Axes>"
      ]
     },
     "metadata": {
      "needs_background": "light"
     },
     "output_type": "display_data"
    }
   ],
   "source": [
    "import matplotlib.pyplot as plt\n",
    "\n",
    "xx = [0, 1]\n",
    "\n",
    "plt.bar(xx, rv.pmf(xx))\n",
    "plt.xlim(-1, 2)\n",
    "plt.ylim(0, 1)\n",
    "plt.xticks([0, 1], [\"x=0\", \"x=1\"])\n",
    "plt.xlabel(\"표본값\")\n",
    "plt.ylabel(\"P(x)\")\n",
    "plt.title(\"베르누이 확률변수의 pmf\")\n",
    "plt.grid()\n",
    "plt.show()"
   ]
  },
  {
   "cell_type": "markdown",
   "metadata": {},
   "source": [
    "#### 시뮬레이션(simulation) \n",
    "확률변수의 표본을 생성하는 작업  \n",
    "ex)  \n",
    "위에서 만든 동전을 100개 표본을 생성하여 100번 던져 나올 결과를 나타낼 수 있다.\n",
    "\n",
    "##### rvs 메서드\n",
    "표본값을 무작위로 생성한다."
   ]
  },
  {
   "cell_type": "code",
   "execution_count": 12,
   "metadata": {},
   "outputs": [
    {
     "data": {
      "text/plain": [
       "array([1, 0, 0, 1, 1, 0, 1, 0, 0, 1, 0, 1, 1, 0, 1, 1, 1, 0, 0, 0, 0, 0,\n",
       "       1, 0, 1, 0, 1, 0, 1, 1, 1, 0, 1, 1, 1, 0, 0, 0, 0, 0, 1, 1, 0, 1,\n",
       "       0, 0, 1, 1, 1, 1, 1, 1, 0, 1, 1, 1, 0, 1, 1, 1, 1, 1, 0, 1, 1, 1,\n",
       "       0, 1, 0, 1, 0, 1, 0, 0, 0, 1, 1, 1, 1, 1, 1, 1, 1, 0, 1, 1, 1, 1,\n",
       "       1, 0, 1, 0, 1, 0, 1, 1, 1, 1, 0, 1])"
      ]
     },
     "execution_count": 12,
     "metadata": {},
     "output_type": "execute_result"
    }
   ],
   "source": [
    "# 100개 표본 생성\n",
    "x = rv.rvs(100, random_state=0)\n",
    "x"
   ]
  },
  {
   "cell_type": "code",
   "execution_count": 16,
   "metadata": {
    "scrolled": true
   },
   "outputs": [
    {
     "data": {
      "image/png": "[encoded data removed]",
      "text/plain": [
       "<Figure size 432x288 with 1 Axes>"
      ]
     },
     "metadata": {
      "needs_background": "light"
     },
     "output_type": "display_data"
    }
   ],
   "source": [
    "# 시뮬레이션 결과 시각화\n",
    "import seaborn as sns\n",
    "\n",
    "sns.countplot(x)\n",
    "plt.title(\"베르누이 확률변수의 시뮬레이션 결과\")\n",
    "plt.xlabel(\"표본값\")\n",
    "plt.grid()\n",
    "plt.show()"
   ]
  },
  {
   "cell_type": "code",
   "execution_count": 21,
   "metadata": {},
   "outputs": [
    {
     "data": {
      "text/html": [
       "<div>\n",
       "<style scoped>\n",
       "    .dataframe tbody tr th:only-of-type {\n",
       "        vertical-align: middle;\n",
       "    }\n",
       "\n",
       "    .dataframe tbody tr th {\n",
       "        vertical-align: top;\n",
       "    }\n",
       "\n",
       "    .dataframe thead th {\n",
       "        text-align: right;\n",
       "    }\n",
       "</style>\n",
       "<table border=\"1\" class=\"dataframe\">\n",
       "  <thead>\n",
       "    <tr style=\"text-align: right;\">\n",
       "      <th></th>\n",
       "      <th>이론</th>\n",
       "      <th>시뮬레이션</th>\n",
       "    </tr>\n",
       "  </thead>\n",
       "  <tbody>\n",
       "    <tr>\n",
       "      <th>0</th>\n",
       "      <td>0.4</td>\n",
       "      <td>0.38</td>\n",
       "    </tr>\n",
       "    <tr>\n",
       "      <th>1</th>\n",
       "      <td>0.6</td>\n",
       "      <td>0.62</td>\n",
       "    </tr>\n",
       "  </tbody>\n",
       "</table>\n",
       "</div>"
      ],
      "text/plain": [
       "    이론  시뮬레이션\n",
       "0  0.4   0.38\n",
       "1  0.6   0.62"
      ]
     },
     "execution_count": 21,
     "metadata": {},
     "output_type": "execute_result"
    }
   ],
   "source": [
    "# 이론적인 확률분포와 표본의 확률분포 나타내기\n",
    "import numpy as np\n",
    "import pandas as pd\n",
    "\n",
    "y = np.bincount(x, minlength=2) / float(len(x))\n",
    "df = pd.DataFrame({\"이론\": rv.pmf(xx), \"시뮬레이션\": y})\n",
    "df.index = [0, 1]\n",
    "df"
   ]
  },
  {
   "cell_type": "code",
   "execution_count": 24,
   "metadata": {},
   "outputs": [
    {
     "data": {
      "text/html": [
       "<div>\n",
       "<style scoped>\n",
       "    .dataframe tbody tr th:only-of-type {\n",
       "        vertical-align: middle;\n",
       "    }\n",
       "\n",
       "    .dataframe tbody tr th {\n",
       "        vertical-align: top;\n",
       "    }\n",
       "\n",
       "    .dataframe thead th {\n",
       "        text-align: right;\n",
       "    }\n",
       "</style>\n",
       "<table border=\"1\" class=\"dataframe\">\n",
       "  <thead>\n",
       "    <tr style=\"text-align: right;\">\n",
       "      <th></th>\n",
       "      <th>표본값</th>\n",
       "      <th>유형</th>\n",
       "      <th>비율</th>\n",
       "    </tr>\n",
       "  </thead>\n",
       "  <tbody>\n",
       "    <tr>\n",
       "      <th>0</th>\n",
       "      <td>0</td>\n",
       "      <td>이론</td>\n",
       "      <td>0.40</td>\n",
       "    </tr>\n",
       "    <tr>\n",
       "      <th>1</th>\n",
       "      <td>0</td>\n",
       "      <td>시뮬레이션</td>\n",
       "      <td>0.38</td>\n",
       "    </tr>\n",
       "    <tr>\n",
       "      <th>2</th>\n",
       "      <td>1</td>\n",
       "      <td>이론</td>\n",
       "      <td>0.60</td>\n",
       "    </tr>\n",
       "    <tr>\n",
       "      <th>3</th>\n",
       "      <td>1</td>\n",
       "      <td>시뮬레이션</td>\n",
       "      <td>0.62</td>\n",
       "    </tr>\n",
       "  </tbody>\n",
       "</table>\n",
       "</div>"
      ],
      "text/plain": [
       "   표본값     유형    비율\n",
       "0    0     이론  0.40\n",
       "1    0  시뮬레이션  0.38\n",
       "2    1     이론  0.60\n",
       "3    1  시뮬레이션  0.62"
      ]
     },
     "execution_count": 24,
     "metadata": {},
     "output_type": "execute_result"
    }
   ],
   "source": [
    "# barplot으로 시각화\n",
    "df2 = df.stack().reset_index()\n",
    "df2.columns = [\"표본값\", \"유형\", \"비율\"]\n",
    "df2"
   ]
  },
  {
   "cell_type": "code",
   "execution_count": 27,
   "metadata": {},
   "outputs": [
    {
     "data": {
      "image/png": "[encoded data removed]",
      "text/plain": [
       "<Figure size 432x288 with 1 Axes>"
      ]
     },
     "metadata": {
      "needs_background": "light"
     },
     "output_type": "display_data"
    }
   ],
   "source": [
    "sns.barplot(x=\"표본값\", y=\"비율\", hue=\"유형\", data=df2)\n",
    "plt.title(\"베르누이 분포의 이론적 분포와 시뮬레이션 분포\")\n",
    "plt.grid()\n",
    "plt.show()"
   ]
  },
  {
   "cell_type": "markdown",
   "metadata": {},
   "source": [
    "## 연습 문제\n",
    "베르누이 확률분포의 모수가 다음과 같은 경우에 각각 표본을 생성한 후 기댓값과 분산을 구하고 앞의 예제와 같이 확률밀도함수와 비교한 바 플롯을 그린다. 표본의 갯수가 10개인 경우와 1000개인 경우에 대해 각각 위의 계산을 한다.  \n",
    "1. $\\mu = 0.5$"
   ]
  },
  {
   "cell_type": "code",
   "execution_count": 30,
   "metadata": {},
   "outputs": [
    {
     "data": {
      "text/plain": [
       "(0.5, 0.25)"
      ]
     },
     "execution_count": 30,
     "metadata": {},
     "output_type": "execute_result"
    }
   ],
   "source": [
    "mu05 = 0.5\n",
    "rv05 = sp.stats.bernoulli(mu05)\n",
    "rv05.mean(), rv05.var()"
   ]
  },
  {
   "cell_type": "code",
   "execution_count": 56,
   "metadata": {},
   "outputs": [
    {
     "data": {
      "text/html": [
       "<div>\n",
       "<style scoped>\n",
       "    .dataframe tbody tr th:only-of-type {\n",
       "        vertical-align: middle;\n",
       "    }\n",
       "\n",
       "    .dataframe tbody tr th {\n",
       "        vertical-align: top;\n",
       "    }\n",
       "\n",
       "    .dataframe thead th {\n",
       "        text-align: right;\n",
       "    }\n",
       "</style>\n",
       "<table border=\"1\" class=\"dataframe\">\n",
       "  <thead>\n",
       "    <tr style=\"text-align: right;\">\n",
       "      <th></th>\n",
       "      <th>이론값</th>\n",
       "      <th>10개 시뮬레이션</th>\n",
       "      <th>1000개 시뮬레이션</th>\n",
       "    </tr>\n",
       "  </thead>\n",
       "  <tbody>\n",
       "    <tr>\n",
       "      <th>0</th>\n",
       "      <td>0.5</td>\n",
       "      <td>0.5</td>\n",
       "      <td>0.481</td>\n",
       "    </tr>\n",
       "    <tr>\n",
       "      <th>1</th>\n",
       "      <td>0.5</td>\n",
       "      <td>0.5</td>\n",
       "      <td>0.519</td>\n",
       "    </tr>\n",
       "  </tbody>\n",
       "</table>\n",
       "</div>"
      ],
      "text/plain": [
       "   이론값  10개 시뮬레이션  1000개 시뮬레이션\n",
       "0  0.5        0.5        0.481\n",
       "1  0.5        0.5        0.519"
      ]
     },
     "execution_count": 56,
     "metadata": {},
     "output_type": "execute_result"
    }
   ],
   "source": [
    "# 표본 10개\n",
    "sample10 = rv05.rvs(10, random_state=3)\n",
    "y10 = np.bincount(sample10, minlength=2) / float(len(sample10))\n",
    "# 표본 1000개\n",
    "sample1000 = rv05.rvs(1000, random_state=4)\n",
    "y1000 = np.bincount(sample1000, minlength=2) / float(len(sample1000))\n",
    "\n",
    "df3 = pd.DataFrame({\"이론값\": rv05.pmf([0, 1]), \"10개 시뮬레이션\": y10, \n",
    "              \"1000개 시뮬레이션\": y1000})\n",
    "df3"
   ]
  },
  {
   "cell_type": "code",
   "execution_count": 57,
   "metadata": {},
   "outputs": [
    {
     "data": {
      "text/html": [
       "<div>\n",
       "<style scoped>\n",
       "    .dataframe tbody tr th:only-of-type {\n",
       "        vertical-align: middle;\n",
       "    }\n",
       "\n",
       "    .dataframe tbody tr th {\n",
       "        vertical-align: top;\n",
       "    }\n",
       "\n",
       "    .dataframe thead th {\n",
       "        text-align: right;\n",
       "    }\n",
       "</style>\n",
       "<table border=\"1\" class=\"dataframe\">\n",
       "  <thead>\n",
       "    <tr style=\"text-align: right;\">\n",
       "      <th></th>\n",
       "      <th>표본값</th>\n",
       "      <th>유형</th>\n",
       "      <th>비율</th>\n",
       "    </tr>\n",
       "  </thead>\n",
       "  <tbody>\n",
       "    <tr>\n",
       "      <th>0</th>\n",
       "      <td>0</td>\n",
       "      <td>이론값</td>\n",
       "      <td>0.500</td>\n",
       "    </tr>\n",
       "    <tr>\n",
       "      <th>1</th>\n",
       "      <td>0</td>\n",
       "      <td>10개 시뮬레이션</td>\n",
       "      <td>0.500</td>\n",
       "    </tr>\n",
       "    <tr>\n",
       "      <th>2</th>\n",
       "      <td>0</td>\n",
       "      <td>1000개 시뮬레이션</td>\n",
       "      <td>0.481</td>\n",
       "    </tr>\n",
       "    <tr>\n",
       "      <th>3</th>\n",
       "      <td>1</td>\n",
       "      <td>이론값</td>\n",
       "      <td>0.500</td>\n",
       "    </tr>\n",
       "    <tr>\n",
       "      <th>4</th>\n",
       "      <td>1</td>\n",
       "      <td>10개 시뮬레이션</td>\n",
       "      <td>0.500</td>\n",
       "    </tr>\n",
       "    <tr>\n",
       "      <th>5</th>\n",
       "      <td>1</td>\n",
       "      <td>1000개 시뮬레이션</td>\n",
       "      <td>0.519</td>\n",
       "    </tr>\n",
       "  </tbody>\n",
       "</table>\n",
       "</div>"
      ],
      "text/plain": [
       "   표본값           유형     비율\n",
       "0    0          이론값  0.500\n",
       "1    0    10개 시뮬레이션  0.500\n",
       "2    0  1000개 시뮬레이션  0.481\n",
       "3    1          이론값  0.500\n",
       "4    1    10개 시뮬레이션  0.500\n",
       "5    1  1000개 시뮬레이션  0.519"
      ]
     },
     "execution_count": 57,
     "metadata": {},
     "output_type": "execute_result"
    }
   ],
   "source": [
    "df4 = df3.stack().reset_index()\n",
    "df4.columns = [\"표본값\", \"유형\", \"비율\"]\n",
    "df4"
   ]
  },
  {
   "cell_type": "code",
   "execution_count": 58,
   "metadata": {},
   "outputs": [
    {
     "data": {
      "text/plain": [
       "<matplotlib.axes._subplots.AxesSubplot at 0x2693e637a20>"
      ]
     },
     "execution_count": 58,
     "metadata": {},
     "output_type": "execute_result"
    },
    {
     "data": {
      "image/png": "[encoded data removed]",
      "text/plain": [
       "<Figure size 432x288 with 1 Axes>"
      ]
     },
     "metadata": {
      "needs_background": "light"
     },
     "output_type": "display_data"
    }
   ],
   "source": [
    "sns.barplot(x=\"표본값\", y=\"비율\", hue=\"유형\", data=df4)"
   ]
  },
  {
   "cell_type": "markdown",
   "metadata": {},
   "source": [
    "2. $mu = 0.9$"
   ]
  },
  {
   "cell_type": "markdown",
   "metadata": {},
   "source": [
    "# 3. 베르누이 분포의 모멘트\n",
    " ## 3.1. 기댓값\n",
    " $$ E[X] = \\mu $$\n",
    " > **증명**  \n",
    " $$ E[X] = \\sum x_iP(x_i) = 1·\\mu + 0·(1 - \\mu) = \\mu $$"
   ]
  },
  {
   "cell_type": "markdown",
   "metadata": {},
   "source": [
    " ## 3.2. 분산\n",
    " $$ Var[X] = \\mu(1 - \\mu) $$\n",
    " > **증명**  \n",
    " $$ Var[X] = \\sum(x_i - \\mu)^2P(x_i) = (1 - \\mu)^2·\\mu + (0 - \\mu)^2·(1 - \\mu) $$\n",
    " $$ = \\mu(1 - \\mu) $$"
   ]
  },
  {
   "cell_type": "markdown",
   "metadata": {},
   "source": [
    "앞의 예 이론적인 기댓값, 분산  \n",
    "$\\mu = 0.6$이므로,\n",
    "$$ E[X] = 0.6 $$\n",
    "$$ Var[X] = 0.6·(1 - 0.6) = 0.24 $$"
   ]
  },
  {
   "cell_type": "code",
   "execution_count": 59,
   "metadata": {},
   "outputs": [
    {
     "data": {
      "text/plain": [
       "0.62"
      ]
     },
     "execution_count": 59,
     "metadata": {},
     "output_type": "execute_result"
    }
   ],
   "source": [
    "np.mean(x)"
   ]
  },
  {
   "cell_type": "code",
   "execution_count": 60,
   "metadata": {},
   "outputs": [
    {
     "data": {
      "text/plain": [
       "0.23797979797979804"
      ]
     },
     "execution_count": 60,
     "metadata": {},
     "output_type": "execute_result"
    }
   ],
   "source": [
    "np.var(x, ddof=1)"
   ]
  },
  {
   "cell_type": "code",
   "execution_count": 66,
   "metadata": {},
   "outputs": [
    {
     "data": {
      "text/plain": [
       "(0.62, 0.23797979797979804)"
      ]
     },
     "execution_count": 66,
     "metadata": {},
     "output_type": "execute_result"
    }
   ],
   "source": [
    "s = sp.stats.describe(x)\n",
    "s[2], s[3]"
   ]
  },
  {
   "cell_type": "markdown",
   "metadata": {},
   "source": [
    "# 4. 베르누이 분포의 모수추정\n",
    "베르누이 분포 모수 $\\mu$를 추정한 $\\hat \\mu$는 다음처럼 계산한다.\n",
    "$$ \\hat \\mu = \\frac{\\sum_{i=1}^Nx_i}{N} = \\frac{N_1}{N} $$\n",
    "* $N$ : 전체 데이터 수\n",
    "* $N_1$ : 1이 나온 횟수"
   ]
  },
  {
   "cell_type": "markdown",
   "metadata": {},
   "source": [
    "# 5. 베르누이 분포의 활용\n",
    "* 활용 경우\n",
    "    1. 빈도주의적 관점  \n",
    "    입력 데이터가 0/1 혹은 참/거짓같이 2개의 값으로 구분되는 카테고리 값인 경우,    \n",
    "    두 종류의 값이 나타나는 비율을 표현하기 위해 사용\n",
    "    2. 베이지안 관점  \n",
    "    분류 예측문제의 출력 데이터가 2개의 값으로 구분되는 카테고리 값인 경우,  \n",
    "    두 값 중 어느 값이 가능성이 높은지 표현하기 위해 사용\n",
    "------------------\n",
    "ex)  \n",
    "스팸 메일(spam mail)과 정상메일을 구분하는 스팸 메일 필터  \n",
    "메일 10통 중 6통이 스팸 메일이라면 이 메일 계정으로 들어온 메일이 스팸 메일일 가능성은 60%이다.  \n",
    "이러한 상황은 $\\mu = 0.6$인 베르누이 분포로 나타낼 수 있다.\n",
    "$$ P_Y = Bern(y;\\mu = 0.6) $$\n",
    "* 확률변수 $Y$ : 스팸 메일인지 아닌지를 나타냄  \n",
    "$Y = 1$이면 스팸 메일\n",
    "* 또한 스팸 메일은 특정한 단어(키워드)를 가지고 있을 확률이 높다.  \n",
    "스팸 메일을 구분하기 위한 키워드가 여러 개라면 BOW(Bag of Words) 인코딩된 벡터로 나타낼 수 있다.\n",
    "$$ x = \\begin{bmatrix} 1\\\\ 0\\\\ 1\\\\ 0 \\end{bmatrix} $$\n",
    "    * 4개의 키워드\n",
    "    * 어떤 메일이 첫 번째, 세 번째 키워드를 포함하고 있는 특징 벡터\n",
    "* 여러 개 메일에 대한 키워드를 나타내는 특징 행렬\n",
    "$$ X = \\begin{bmatrix}\n",
    "    1 & 0 & 1 & 0 \\\\\n",
    "    1 & 1 & 1 & 0 \\\\\n",
    "    1 & 1 & 0 & 1 \\\\\n",
    "    0 & 0 & 1 & 1 \\\\\n",
    "    1 & 1 & 0 & 0 \\\\\n",
    "    1 & 1 & 0 & 1 \\\\\n",
    "    \\end{bmatrix} $$\n",
    "    * 행 벡터 : 메일\n",
    "    * 열 벡터 : 키워드\n",
    "* 4개의 베르누이 확률분포의 튜플$(X_1, X_2, X_3, X_4)$로 나타내기\n",
    "$$ X_1 ∼ Bern(x_1;\\mu_1) : 스팸 메일이 첫 번째 키워드를 포함하고 있을 확률 $$\n",
    "$$ X_2 ∼ Bern(x_2;\\mu_2) : 스팸 메일이 두 번째 키워드를 포함하고 있을 확률 $$\n",
    "$$ X_3 ∼ Bern(x_3;\\mu_3) : 스팸 메일이 세 번째 키워드를 포함하고 있을 확률 $$\n",
    "$$ X_4 ∼ Bern(x_4;\\mu_4) : 스팸 메일이 네 번째 키워드를 포함하고 있을 확률 $$\n",
    "* 특징 행렬의 각 열로부터 각 베르누이 확률분포의 모수의 추정값\n",
    "$$ \\hat \\mu_1 = \\frac{5}{6}, \\text{ }\\hat \\mu_2 = \\frac{4}{6}, \\text{ }\\hat \\mu_3 = \\frac{3}{6}, \\text{ }\\hat \\mu_4 = \\frac{3}{6} $$"
   ]
  },
  {
   "cell_type": "markdown",
   "metadata": {},
   "source": [
    "## 연습 문제\n",
    "1. 스팸 메일이 아닌 정상 메일의 데이터가 다음과 같은 특징 행렬로 표시되면 정상 메일의 특성은 어떻게 나타낼 수 있는가?\n",
    "$$ \\begin{bmatrix}\n",
    "    0 & 0 & 1 & 1 \\\\\n",
    "    0 & 1 & 1 & 1 \\\\\n",
    "    0 & 0 & 1 & 1 \\\\\n",
    "    1 & 0 & 0 & 1\n",
    "    \\end{bmatrix} $$"
   ]
  },
  {
   "cell_type": "markdown",
   "metadata": {},
   "source": [
    "$$ X_1 ∼ Bern(x_1=0;\\mu_1) → \\hat \\mu_1 = \\frac{3}{4} $$\n",
    "\n",
    "$$ X_2 ∼ Bern(x_2=0;\\mu_1) → \\hat \\mu_2 = \\frac{3}{4} $$\n",
    "\n",
    "$$ X_3 ∼ Bern(x_3=0;\\mu_1) → \\hat \\mu_3 = \\frac{1}{4} $$\n",
    "\n",
    "$$ X_4 ∼ Bern(x_4=0;\\mu_1) → \\hat \\mu_4 = 0 $$"
   ]
  },
  {
   "cell_type": "markdown",
   "metadata": {},
   "source": [
    "2. 스팸 메일과 정상 메일의 특성을 모두 모형화하려면 몇 개의 베르누이 확률변수가 필요한가?"
   ]
  }
 ],
 "metadata": {
  "kernelspec": {
   "display_name": "Python 3",
   "language": "python",
   "name": "python3"
  },
  "language_info": {
   "codemirror_mode": {
    "name": "ipython",
    "version": 3
   },
   "file_extension": ".py",
   "mimetype": "text/x-python",
   "name": "python",
   "nbconvert_exporter": "python",
   "pygments_lexer": "ipython3",
   "version": "3.6.6"
  }
 },
 "nbformat": 4,
 "nbformat_minor": 2
}

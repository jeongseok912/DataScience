{
 "cells": [
  {
   "cell_type": "markdown",
   "metadata": {},
   "source": [
    "# 1. 이항 분포\n",
    "* 이항 분포(binomial distribution) : 성공확률이 $\\mu$인 베르누이 시도를 $N$번 반복하는 경우 $N$번 중 성공한 횟수를 확률변수 $X$라고 한다면 $X$의 값은 $0 ∼ N$까지의 정수 중 하나를 나타내는 확률변수\n",
    "$$ X ∼ Bin(x;N, \\mu) $$\n",
    "* 이항 분포 확률변수 $X$의 확률질량함수\n",
    "    * 우선 베르누이 확률분포를 따르는 확률변수 $Y$ 가정\n",
    "    $$ Y ∼ Bern(y;\\mu) $$\n",
    "    * 이 확률변수의 $N$개의 표본을 $y_1, y_2, ..., y_N$라고 하면, 이 값은 모두 0(실패) 아니면 1(성공)을 가지기 때문에 $N$번 중 성공한 횟수는 $N$개의 표본 값의 합이다.\n",
    "    $$ x = \\sum_{i=1}^Ny_i $$\n",
    "    * 베르누이 분포를 따르는 확률변수 $Y$의 확률질량함수를 대입하여 정리하면 이항 분포 확률변수 $X$의 확률질량함수는\n",
    "    $$ Bin(x;N,\\mu) = \\begin{pmatrix}N\\\\ x \\end{pmatrix}\\mu^x(1 - \\mu)^{N - x} $$\n",
    "        * $\\begin{pmatrix} N\\\\ x \\end{pmatrix}$ : 조합(combination)\n",
    "            * $N$개의 원소 중에 $x$개의 원소를 순서와 상관없이 선택할 수 있는 경우의 수\n",
    "        * 조합 공식\n",
    "        $$ \\begin{pmatrix} N\\\\ x \\end{pmatrix} = \\frac{N!}{x!(N - x)!} $$"
   ]
  },
  {
   "cell_type": "markdown",
   "metadata": {},
   "source": [
    "# 2. SciPy를 사용한 이항 분포의 시뮬레이션\n",
    "##### binom 클래스\n",
    "이항 분포를 구현한다.\n",
    "* `binom(n, p)`    \n",
    "    * `n` : 전체 시도 횟수 $N$  \n",
    "    * `p` : 베르누이 확률 분포의 기댓값 $\\mu$"
   ]
  },
  {
   "cell_type": "code",
   "execution_count": 11,
   "metadata": {},
   "outputs": [],
   "source": [
    "import scipy as sp\n",
    "\n",
    "N = 10\n",
    "mu = 0.6\n",
    "rv = sp.stats.binom(N, mu)"
   ]
  },
  {
   "cell_type": "code",
   "execution_count": 16,
   "metadata": {},
   "outputs": [
    {
     "data": {
      "image/png": "[encoded data removed]",
      "text/plain": [
       "<Figure size 432x288 with 1 Axes>"
      ]
     },
     "metadata": {
      "needs_background": "light"
     },
     "output_type": "display_data"
    }
   ],
   "source": [
    "# 확률질량함수\n",
    "import numpy as np\n",
    "import matplotlib.pyplot as plt\n",
    "\n",
    "xx = np.arange(N + 1)\n",
    "plt.bar(xx, rv.pmf(xx))\n",
    "plt.xlabel(\"표본값\")\n",
    "plt.ylabel(\"$P(x)$\")\n",
    "plt.title(\"이항 분포의 pmf\")\n",
    "plt.grid()\n",
    "plt.show()"
   ]
  },
  {
   "cell_type": "code",
   "execution_count": 17,
   "metadata": {},
   "outputs": [
    {
     "data": {
      "text/plain": [
       "array([ 6,  5,  6,  6,  6,  5,  6,  4,  3,  6,  5,  6,  6,  4,  8,  8,  9,\n",
       "        5,  5,  4,  3,  5,  6,  5,  8,  5,  8,  4,  6,  6,  7,  5,  6,  6,\n",
       "        9,  6,  6,  6,  4,  5,  7,  6,  5,  8,  5,  5,  7,  8,  7,  7,  6,\n",
       "        6,  2,  8,  7,  8,  5,  7,  6,  7,  8,  8,  5,  8,  7,  7,  5,  8,\n",
       "        4,  8,  3,  6,  3,  6,  5,  9,  7,  8,  7,  8,  7,  6,  8,  5,  6,\n",
       "        7,  6,  8,  6,  4,  7,  5,  8,  5,  7,  7,  6,  9,  5, 10])"
      ]
     },
     "execution_count": 17,
     "metadata": {},
     "output_type": "execute_result"
    }
   ],
   "source": [
    "# 시뮬레이션\n",
    "np.random.seed(0)\n",
    "x = rv.rvs(100)\n",
    "x"
   ]
  },
  {
   "cell_type": "code",
   "execution_count": 20,
   "metadata": {},
   "outputs": [
    {
     "data": {
      "image/png": "[encoded data removed]",
      "text/plain": [
       "<Figure size 432x288 with 1 Axes>"
      ]
     },
     "metadata": {
      "needs_background": "light"
     },
     "output_type": "display_data"
    }
   ],
   "source": [
    "import seaborn as sns\n",
    "\n",
    "sns.countplot(x)\n",
    "plt.title(\"이항 분포의 시뮬레이션 결과\")\n",
    "plt.xlabel(\"표본값\")\n",
    "plt.grid()\n",
    "plt.show()"
   ]
  },
  {
   "cell_type": "code",
   "execution_count": 28,
   "metadata": {},
   "outputs": [
    {
     "data": {
      "text/html": [
       "<div>\n",
       "<style scoped>\n",
       "    .dataframe tbody tr th:only-of-type {\n",
       "        vertical-align: middle;\n",
       "    }\n",
       "\n",
       "    .dataframe tbody tr th {\n",
       "        vertical-align: top;\n",
       "    }\n",
       "\n",
       "    .dataframe thead th {\n",
       "        text-align: right;\n",
       "    }\n",
       "</style>\n",
       "<table border=\"1\" class=\"dataframe\">\n",
       "  <thead>\n",
       "    <tr style=\"text-align: right;\">\n",
       "      <th></th>\n",
       "      <th>표본값</th>\n",
       "      <th>유형</th>\n",
       "      <th>비율</th>\n",
       "    </tr>\n",
       "  </thead>\n",
       "  <tbody>\n",
       "    <tr>\n",
       "      <th>0</th>\n",
       "      <td>0</td>\n",
       "      <td>이론</td>\n",
       "      <td>0.000105</td>\n",
       "    </tr>\n",
       "    <tr>\n",
       "      <th>1</th>\n",
       "      <td>0</td>\n",
       "      <td>시뮬레이션</td>\n",
       "      <td>0.000000</td>\n",
       "    </tr>\n",
       "    <tr>\n",
       "      <th>2</th>\n",
       "      <td>1</td>\n",
       "      <td>이론</td>\n",
       "      <td>0.001573</td>\n",
       "    </tr>\n",
       "    <tr>\n",
       "      <th>3</th>\n",
       "      <td>1</td>\n",
       "      <td>시뮬레이션</td>\n",
       "      <td>0.000000</td>\n",
       "    </tr>\n",
       "    <tr>\n",
       "      <th>4</th>\n",
       "      <td>2</td>\n",
       "      <td>이론</td>\n",
       "      <td>0.010617</td>\n",
       "    </tr>\n",
       "    <tr>\n",
       "      <th>5</th>\n",
       "      <td>2</td>\n",
       "      <td>시뮬레이션</td>\n",
       "      <td>0.010000</td>\n",
       "    </tr>\n",
       "    <tr>\n",
       "      <th>6</th>\n",
       "      <td>3</td>\n",
       "      <td>이론</td>\n",
       "      <td>0.042467</td>\n",
       "    </tr>\n",
       "    <tr>\n",
       "      <th>7</th>\n",
       "      <td>3</td>\n",
       "      <td>시뮬레이션</td>\n",
       "      <td>0.040000</td>\n",
       "    </tr>\n",
       "    <tr>\n",
       "      <th>8</th>\n",
       "      <td>4</td>\n",
       "      <td>이론</td>\n",
       "      <td>0.111477</td>\n",
       "    </tr>\n",
       "    <tr>\n",
       "      <th>9</th>\n",
       "      <td>4</td>\n",
       "      <td>시뮬레이션</td>\n",
       "      <td>0.070000</td>\n",
       "    </tr>\n",
       "    <tr>\n",
       "      <th>10</th>\n",
       "      <td>5</td>\n",
       "      <td>이론</td>\n",
       "      <td>0.200658</td>\n",
       "    </tr>\n",
       "    <tr>\n",
       "      <th>11</th>\n",
       "      <td>5</td>\n",
       "      <td>시뮬레이션</td>\n",
       "      <td>0.210000</td>\n",
       "    </tr>\n",
       "    <tr>\n",
       "      <th>12</th>\n",
       "      <td>6</td>\n",
       "      <td>이론</td>\n",
       "      <td>0.250823</td>\n",
       "    </tr>\n",
       "    <tr>\n",
       "      <th>13</th>\n",
       "      <td>6</td>\n",
       "      <td>시뮬레이션</td>\n",
       "      <td>0.270000</td>\n",
       "    </tr>\n",
       "    <tr>\n",
       "      <th>14</th>\n",
       "      <td>7</td>\n",
       "      <td>이론</td>\n",
       "      <td>0.214991</td>\n",
       "    </tr>\n",
       "    <tr>\n",
       "      <th>15</th>\n",
       "      <td>7</td>\n",
       "      <td>시뮬레이션</td>\n",
       "      <td>0.170000</td>\n",
       "    </tr>\n",
       "    <tr>\n",
       "      <th>16</th>\n",
       "      <td>8</td>\n",
       "      <td>이론</td>\n",
       "      <td>0.120932</td>\n",
       "    </tr>\n",
       "    <tr>\n",
       "      <th>17</th>\n",
       "      <td>8</td>\n",
       "      <td>시뮬레이션</td>\n",
       "      <td>0.180000</td>\n",
       "    </tr>\n",
       "    <tr>\n",
       "      <th>18</th>\n",
       "      <td>9</td>\n",
       "      <td>이론</td>\n",
       "      <td>0.040311</td>\n",
       "    </tr>\n",
       "    <tr>\n",
       "      <th>19</th>\n",
       "      <td>9</td>\n",
       "      <td>시뮬레이션</td>\n",
       "      <td>0.040000</td>\n",
       "    </tr>\n",
       "    <tr>\n",
       "      <th>20</th>\n",
       "      <td>10</td>\n",
       "      <td>이론</td>\n",
       "      <td>0.006047</td>\n",
       "    </tr>\n",
       "    <tr>\n",
       "      <th>21</th>\n",
       "      <td>10</td>\n",
       "      <td>시뮬레이션</td>\n",
       "      <td>0.010000</td>\n",
       "    </tr>\n",
       "  </tbody>\n",
       "</table>\n",
       "</div>"
      ],
      "text/plain": [
       "    표본값     유형        비율\n",
       "0     0     이론  0.000105\n",
       "1     0  시뮬레이션  0.000000\n",
       "2     1     이론  0.001573\n",
       "3     1  시뮬레이션  0.000000\n",
       "4     2     이론  0.010617\n",
       "5     2  시뮬레이션  0.010000\n",
       "6     3     이론  0.042467\n",
       "7     3  시뮬레이션  0.040000\n",
       "8     4     이론  0.111477\n",
       "9     4  시뮬레이션  0.070000\n",
       "10    5     이론  0.200658\n",
       "11    5  시뮬레이션  0.210000\n",
       "12    6     이론  0.250823\n",
       "13    6  시뮬레이션  0.270000\n",
       "14    7     이론  0.214991\n",
       "15    7  시뮬레이션  0.170000\n",
       "16    8     이론  0.120932\n",
       "17    8  시뮬레이션  0.180000\n",
       "18    9     이론  0.040311\n",
       "19    9  시뮬레이션  0.040000\n",
       "20   10     이론  0.006047\n",
       "21   10  시뮬레이션  0.010000"
      ]
     },
     "execution_count": 28,
     "metadata": {},
     "output_type": "execute_result"
    }
   ],
   "source": [
    "# 이론적인 확률분포와 표본의 확률분포 나타내기\n",
    "import pandas as pd\n",
    "\n",
    "y = np.bincount(x, minlength=N+1) / float(len(x))\n",
    "df = pd.DataFrame({\"이론\": rv.pmf(xx), \"시뮬레이션\": y}).stack()\n",
    "df = df.reset_index()\n",
    "df.columns = [\"표본값\", \"유형\", \"비율\"]\n",
    "df.pivot(\"표본값\", \"유형\", \"비율\")\n",
    "df"
   ]
  },
  {
   "cell_type": "code",
   "execution_count": 29,
   "metadata": {},
   "outputs": [
    {
     "data": {
      "image/png": "[encoded data removed]",
      "text/plain": [
       "<Figure size 432x288 with 1 Axes>"
      ]
     },
     "metadata": {
      "needs_background": "light"
     },
     "output_type": "display_data"
    }
   ],
   "source": [
    "sns.barplot(x=\"표본값\", y=\"비율\", hue=\"유형\", data=df)\n",
    "plt.title(\"이항 분포의 이론적 분포와 시뮬레이션 분포\")\n",
    "plt.grid()\n",
    "plt.show()"
   ]
  },
  {
   "cell_type": "markdown",
   "metadata": {},
   "source": [
    "# 3. 이항 분포의 모멘트\n",
    " ## 3.1. 기댓값\n",
    " $$ E[X] = N\\mu $$\n",
    " > **증명**  \n",
    " $$ E[X] = E[\\sum_{i=1}^NY_i] = \\sum_{i=1}^NE[Y_i] = N\\mu $$\n",
    " * $Y_i$ : 서로 독립적인 베르누이 분포"
   ]
  },
  {
   "cell_type": "markdown",
   "metadata": {},
   "source": [
    " ## 3.2. 분산\n",
    " $$ Var[X] = N\\mu(1 - \\mu) $$\n",
    " > **증명**  \n",
    " $$ Var[X] = Var[\\sum_{i=1}^NY_i] = \\sum_{i=1}^NVar[Y_i] = N\\mu(1 - \\mu) $$"
   ]
  },
  {
   "cell_type": "markdown",
   "metadata": {},
   "source": [
    "## 연습 문제\n",
    "이항 확률분포의 모수가 다음과 같을 경우에 각각 표본을 생성한 후 기댓값과 분산을 구하고 앞의 예제와 같이 확률밀도함수와 비교한 바 플롯을 그린다.  \n",
    "표본의 갯수가 10개인 경우와 1000개인 경우에 대해 각각 위의 계산을 한다.\n",
    "1. $\\mu = 0.5, N = 5$\n",
    "2. $\\mu = 0.9, N = 20$"
   ]
  }
 ],
 "metadata": {
  "kernelspec": {
   "display_name": "Python 3",
   "language": "python",
   "name": "python3"
  },
  "language_info": {
   "codemirror_mode": {
    "name": "ipython",
    "version": 3
   },
   "file_extension": ".py",
   "mimetype": "text/x-python",
   "name": "python",
   "nbconvert_exporter": "python",
   "pygments_lexer": "ipython3",
   "version": "3.6.6"
  }
 },
 "nbformat": 4,
 "nbformat_minor": 2
}

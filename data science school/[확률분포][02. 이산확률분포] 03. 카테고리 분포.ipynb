{
 "cells": [
  {
   "cell_type": "code",
   "execution_count": 26,
   "metadata": {},
   "outputs": [],
   "source": [
    "from matplotlib import font_manager, rc\n",
    "font_name = font_manager.FontProperties(fname=\"c:/Windows/Fonts/malgun.ttf\").get_name()\n",
    "rc('font', family=font_name)"
   ]
  },
  {
   "cell_type": "markdown",
   "metadata": {},
   "source": [
    "# 1. 카테고리 분포\n",
    "* 카테고리 분포(Categorical distribution) : $1 ∼ K$까지의 $K$개의 정수 값 중 하나가 나오는 확률변수의 분포  \n",
    "ex)  \n",
    "주사위를 던져 나오는 눈금의 수는 $K = 6$인 카테고리 분포이다. \n",
    "* 카테고리 분포를 가진 확률변수는 1과 0으로 이루어진 다차원 벡터로 변형하여 사용한다.  \n",
    "즉 **원-핫-인코딩(One-Hot-Encoding)** 방식을 사용한다.\n",
    "$$ x = 1 → x = (1, 0, 0, 0, 0, 0) $$\n",
    "$$ x = 2 → x = (0, 1, 0, 0, 0, 0) $$\n",
    "$$ x = 3 → x = (0, 0, 1, 0, 0, 0) $$\n",
    "$$ x = 4 → x = (0, 0, 0, 1, 0, 0) $$\n",
    "$$ x = 5 → x = (0, 0, 0, 0, 1, 0) $$\n",
    "$$ x = 6 → x = (0, 0, 0, 0, 0, 1) $$\n",
    "* 즉 확률변수의 값 $x$는 다음과 같은 벡터이다.\n",
    "$$ x = (x_1, x_2, x_3, x_4, x_5, x_6) $$\n",
    "* 이 벡터를 구성하는 원소 $x_1, x_2, x_3, x_4, x_5, x_6$의 제한 조건\n",
    "$$ x_i = \\begin{cases} 0 \\\\ 1 \\end{cases} $$\n",
    "$$ \\sum_{k=1}^Kx_k = 1 $$\n",
    "    * 첫 번째 제한 조건 : $x_k$의 값은 0 또는 1만 가능하다.\n",
    "    * 두 번째 제한 조건 : 여러 개의 $x_k$ 중 단 하나만 1이다.\n",
    "* 각각의 원소 값 $x_k$는 일종의 베르누이 확률분포로 볼 수 있기 때문에 각각 1이 나올 확률을 나타내는 모수 $u_k$를 가진다.  \n",
    "전체 카테고리 분포의 모수는\n",
    "$$ \\mu = (\\mu_1, \\dots, \\mu_k) $$\n",
    "* 이 모수 벡터의 제한 조건\n",
    "$$ 0 ≤ \\mu_i ≤ 1 $$\n",
    "$$ \\sum_{k=1}^K\\mu_k = 1 $$\n",
    "    * 첫 번째 제한 조건 : 모수 $\\mu_k$가 0 ~ 1 사이 값만 가진다.\n",
    "    * 두 번째 제한 조건 : $\\mu_k$의 합은 1이다.\n",
    "        * 단, 0 아니면 1만 되어야 하는 $x_k$와 달리 $\\mu_k$는 0 ~ 1 사이의 어떤 실수 값이든 가질 수 있다.\n",
    "* 카테고리 분포의 표기 \n",
    "$$ Cat(x_1, \\dots, x_K;\\mu_1, \\dots, \\mu_k) $$\n",
    "또는 출력 벡터 $x = (x_1, \\dots, x_K)$, 모수 벡터 $\\mu = (\\mu_1, \\dots, \\mu_K)$를 사용하여 표기\n",
    "$$ Cat(x;\\mu) $$\n",
    "* 확률질량함수\n",
    "$$ Cat(x;\\mu) = \\begin{cases} \n",
    "    \\mu_1 & \\text{ if } x = (1,0,0,\\dots,0) \\\\ \n",
    "    \\mu_2 & \\text{ if } x = (0,1,0,\\dots,0) \\\\ \n",
    "    \\dots & \\dots \\\\ \n",
    "    \\mu_K & \\text{ if } x = (0,0,0,\\dots,1) \n",
    "    \\end{cases} $$\n",
    "* 확률질량함수의 간단 표기\n",
    "$$ Cat(x;\\mu) = \\mu_1^{x_1}\\mu_2^{x_2}\\dots\\mu_K^{x_K} = \\prod_{k=1}^K\\mu_k^{x_k} $$"
   ]
  },
  {
   "cell_type": "markdown",
   "metadata": {},
   "source": [
    "## 연습 문제\n",
    "$K = 2$인 카테고리 분포의 확률질량함수가 이항 확률분포의 확률질량함수와 같음을 보여라."
   ]
  },
  {
   "cell_type": "markdown",
   "metadata": {},
   "source": [
    "# 2. 카테고리 분포의 모멘트\n",
    "카테고리 분포는 표본값이 벡터이므로 기댓값과 분산도 벡터이다.\n",
    "* 기댓값\n",
    "$$ E[x_k] = \\mu_k $$\n",
    "* 분산\n",
    "$$ Var[x_k] = \\mu_k(1 - \\mu_k) $$"
   ]
  },
  {
   "cell_type": "markdown",
   "metadata": {},
   "source": [
    "# 3. SciPy를 이용한 카테고리 분포의 시뮬레이션\n",
    "SciPy는 카테고리 분포를 위한 클래스를 제공하지 않기 때문에 다항 분포를 위한 `multinomial` 클래스에서 시행 횟수를 1로 설정하여 사용한다."
   ]
  },
  {
   "cell_type": "code",
   "execution_count": 27,
   "metadata": {},
   "outputs": [],
   "source": [
    "import numpy as np\n",
    "import scipy as sp\n",
    "\n",
    "mu = np.array([1/6]*6)\n",
    "rv = sp.stats.multinomial(1, mu)"
   ]
  },
  {
   "cell_type": "code",
   "execution_count": 28,
   "metadata": {},
   "outputs": [
    {
     "data": {
      "text/html": [
       "<div>\n",
       "<style scoped>\n",
       "    .dataframe tbody tr th:only-of-type {\n",
       "        vertical-align: middle;\n",
       "    }\n",
       "\n",
       "    .dataframe tbody tr th {\n",
       "        vertical-align: top;\n",
       "    }\n",
       "\n",
       "    .dataframe thead th {\n",
       "        text-align: right;\n",
       "    }\n",
       "</style>\n",
       "<table border=\"1\" class=\"dataframe\">\n",
       "  <thead>\n",
       "    <tr style=\"text-align: right;\">\n",
       "      <th></th>\n",
       "      <th>1</th>\n",
       "      <th>2</th>\n",
       "      <th>3</th>\n",
       "      <th>4</th>\n",
       "      <th>5</th>\n",
       "      <th>6</th>\n",
       "    </tr>\n",
       "  </thead>\n",
       "  <tbody>\n",
       "    <tr>\n",
       "      <th>0</th>\n",
       "      <td>1</td>\n",
       "      <td>0</td>\n",
       "      <td>0</td>\n",
       "      <td>0</td>\n",
       "      <td>0</td>\n",
       "      <td>0</td>\n",
       "    </tr>\n",
       "    <tr>\n",
       "      <th>1</th>\n",
       "      <td>0</td>\n",
       "      <td>1</td>\n",
       "      <td>0</td>\n",
       "      <td>0</td>\n",
       "      <td>0</td>\n",
       "      <td>0</td>\n",
       "    </tr>\n",
       "    <tr>\n",
       "      <th>2</th>\n",
       "      <td>0</td>\n",
       "      <td>0</td>\n",
       "      <td>1</td>\n",
       "      <td>0</td>\n",
       "      <td>0</td>\n",
       "      <td>0</td>\n",
       "    </tr>\n",
       "    <tr>\n",
       "      <th>3</th>\n",
       "      <td>0</td>\n",
       "      <td>0</td>\n",
       "      <td>0</td>\n",
       "      <td>1</td>\n",
       "      <td>0</td>\n",
       "      <td>0</td>\n",
       "    </tr>\n",
       "    <tr>\n",
       "      <th>4</th>\n",
       "      <td>0</td>\n",
       "      <td>0</td>\n",
       "      <td>0</td>\n",
       "      <td>0</td>\n",
       "      <td>1</td>\n",
       "      <td>0</td>\n",
       "    </tr>\n",
       "    <tr>\n",
       "      <th>5</th>\n",
       "      <td>0</td>\n",
       "      <td>0</td>\n",
       "      <td>0</td>\n",
       "      <td>0</td>\n",
       "      <td>0</td>\n",
       "      <td>1</td>\n",
       "    </tr>\n",
       "  </tbody>\n",
       "</table>\n",
       "</div>"
      ],
      "text/plain": [
       "   1  2  3  4  5  6\n",
       "0  1  0  0  0  0  0\n",
       "1  0  1  0  0  0  0\n",
       "2  0  0  1  0  0  0\n",
       "3  0  0  0  1  0  0\n",
       "4  0  0  0  0  1  0\n",
       "5  0  0  0  0  0  1"
      ]
     },
     "execution_count": 28,
     "metadata": {},
     "output_type": "execute_result"
    }
   ],
   "source": [
    "# 카테고리 분포에서 나올 수 있는 벡터값들\n",
    "import pandas as pd\n",
    "\n",
    "xx = np.arange(1, 7)\n",
    "xx_ohe = pd.get_dummies(xx)\n",
    "xx_ohe"
   ]
  },
  {
   "cell_type": "code",
   "execution_count": 29,
   "metadata": {},
   "outputs": [
    {
     "data": {
      "image/png": "[encoded data removed]",
      "text/plain": [
       "<Figure size 432x288 with 1 Axes>"
      ]
     },
     "metadata": {
      "needs_background": "light"
     },
     "output_type": "display_data"
    }
   ],
   "source": [
    "# pmf 메서드의 인수로도 벡터를 넣어야 한다.\n",
    "import matplotlib.pyplot as plt\n",
    "\n",
    "plt.bar(xx, rv.pmf(xx_ohe.values))\n",
    "plt.xlabel(\"표본값\")\n",
    "plt.ylabel(\"P(x)\")\n",
    "plt.title(\"카테고리 분포의 pmf\")\n",
    "plt.show()"
   ]
  },
  {
   "cell_type": "code",
   "execution_count": 30,
   "metadata": {},
   "outputs": [
    {
     "data": {
      "text/plain": [
       "array([[0, 0, 0, 0, 0, 1],\n",
       "       [0, 0, 0, 0, 1, 0],\n",
       "       [0, 0, 0, 1, 0, 0],\n",
       "       [0, 0, 0, 0, 0, 1],\n",
       "       [0, 1, 0, 0, 0, 0]])"
      ]
     },
     "execution_count": 30,
     "metadata": {},
     "output_type": "execute_result"
    }
   ],
   "source": [
    "# 시뮬레이션으로 생성한 값도 벡터이다.\n",
    "np.random.seed(1)\n",
    "X = rv.rvs(100)\n",
    "X[:5]"
   ]
  },
  {
   "cell_type": "code",
   "execution_count": 31,
   "metadata": {},
   "outputs": [
    {
     "data": {
      "image/png": "[encoded data removed]",
      "text/plain": [
       "<Figure size 432x288 with 1 Axes>"
      ]
     },
     "metadata": {
      "needs_background": "light"
     },
     "output_type": "display_data"
    }
   ],
   "source": [
    "# 시뮬레이션 결과\n",
    "y = X.sum(axis=0) / float(len(X))\n",
    "plt.bar(np.arange(1, 7), y)\n",
    "plt.title(\"카테고리 분포의 시뮬레이션 결과\")\n",
    "plt.xlabel(\"표본값\")\n",
    "plt.ylabel(\"비율\")\n",
    "plt.show()"
   ]
  },
  {
   "cell_type": "code",
   "execution_count": 32,
   "metadata": {},
   "outputs": [
    {
     "data": {
      "text/html": [
       "<div>\n",
       "<style scoped>\n",
       "    .dataframe tbody tr th:only-of-type {\n",
       "        vertical-align: middle;\n",
       "    }\n",
       "\n",
       "    .dataframe tbody tr th {\n",
       "        vertical-align: top;\n",
       "    }\n",
       "\n",
       "    .dataframe thead th {\n",
       "        text-align: right;\n",
       "    }\n",
       "</style>\n",
       "<table border=\"1\" class=\"dataframe\">\n",
       "  <thead>\n",
       "    <tr style=\"text-align: right;\">\n",
       "      <th></th>\n",
       "      <th>표본값</th>\n",
       "      <th>유형</th>\n",
       "      <th>비율</th>\n",
       "    </tr>\n",
       "  </thead>\n",
       "  <tbody>\n",
       "    <tr>\n",
       "      <th>0</th>\n",
       "      <td>1</td>\n",
       "      <td>이론</td>\n",
       "      <td>0.166667</td>\n",
       "    </tr>\n",
       "    <tr>\n",
       "      <th>1</th>\n",
       "      <td>1</td>\n",
       "      <td>시뮬레이션</td>\n",
       "      <td>0.180000</td>\n",
       "    </tr>\n",
       "    <tr>\n",
       "      <th>2</th>\n",
       "      <td>2</td>\n",
       "      <td>이론</td>\n",
       "      <td>0.166667</td>\n",
       "    </tr>\n",
       "    <tr>\n",
       "      <th>3</th>\n",
       "      <td>2</td>\n",
       "      <td>시뮬레이션</td>\n",
       "      <td>0.210000</td>\n",
       "    </tr>\n",
       "    <tr>\n",
       "      <th>4</th>\n",
       "      <td>3</td>\n",
       "      <td>이론</td>\n",
       "      <td>0.166667</td>\n",
       "    </tr>\n",
       "    <tr>\n",
       "      <th>5</th>\n",
       "      <td>3</td>\n",
       "      <td>시뮬레이션</td>\n",
       "      <td>0.180000</td>\n",
       "    </tr>\n",
       "    <tr>\n",
       "      <th>6</th>\n",
       "      <td>4</td>\n",
       "      <td>이론</td>\n",
       "      <td>0.166667</td>\n",
       "    </tr>\n",
       "    <tr>\n",
       "      <th>7</th>\n",
       "      <td>4</td>\n",
       "      <td>시뮬레이션</td>\n",
       "      <td>0.180000</td>\n",
       "    </tr>\n",
       "    <tr>\n",
       "      <th>8</th>\n",
       "      <td>5</td>\n",
       "      <td>이론</td>\n",
       "      <td>0.166667</td>\n",
       "    </tr>\n",
       "    <tr>\n",
       "      <th>9</th>\n",
       "      <td>5</td>\n",
       "      <td>시뮬레이션</td>\n",
       "      <td>0.150000</td>\n",
       "    </tr>\n",
       "    <tr>\n",
       "      <th>10</th>\n",
       "      <td>6</td>\n",
       "      <td>이론</td>\n",
       "      <td>0.166667</td>\n",
       "    </tr>\n",
       "    <tr>\n",
       "      <th>11</th>\n",
       "      <td>6</td>\n",
       "      <td>시뮬레이션</td>\n",
       "      <td>0.100000</td>\n",
       "    </tr>\n",
       "  </tbody>\n",
       "</table>\n",
       "</div>"
      ],
      "text/plain": [
       "    표본값     유형        비율\n",
       "0     1     이론  0.166667\n",
       "1     1  시뮬레이션  0.180000\n",
       "2     2     이론  0.166667\n",
       "3     2  시뮬레이션  0.210000\n",
       "4     3     이론  0.166667\n",
       "5     3  시뮬레이션  0.180000\n",
       "6     4     이론  0.166667\n",
       "7     4  시뮬레이션  0.180000\n",
       "8     5     이론  0.166667\n",
       "9     5  시뮬레이션  0.150000\n",
       "10    6     이론  0.166667\n",
       "11    6  시뮬레이션  0.100000"
      ]
     },
     "execution_count": 32,
     "metadata": {},
     "output_type": "execute_result"
    }
   ],
   "source": [
    "# 이론적인 확률분포와 시뮬레이션 결과 비교\n",
    "df = pd.DataFrame({\"이론\": rv.pmf(xx_ohe.values), \"시뮬레이션\":y},\n",
    "                 index=np.arange(1, 7)).stack()\n",
    "df = df.reset_index()\n",
    "df.columns = [\"표본값\", \"유형\", \"비율\"]\n",
    "df.pivot(\"표본값\", \"유형\", \"비율\")\n",
    "df"
   ]
  },
  {
   "cell_type": "code",
   "execution_count": 33,
   "metadata": {},
   "outputs": [
    {
     "data": {
      "image/png": "[encoded data removed]",
      "text/plain": [
       "<Figure size 432x288 with 1 Axes>"
      ]
     },
     "metadata": {
      "needs_background": "light"
     },
     "output_type": "display_data"
    }
   ],
   "source": [
    "import seaborn as sns\n",
    "\n",
    "sns.barplot(x=\"표본값\", y=\"비율\", hue=\"유형\", data=df)\n",
    "plt.title(\"카테고리 분포의 이론적 분포와 시뮬레이션 분포\")\n",
    "plt.show()"
   ]
  },
  {
   "cell_type": "markdown",
   "metadata": {},
   "source": [
    "## 연습 문제\n",
    "카테고리 확률분포의 모수가 다음과 같을 경우에 각각 표본을 생성한 후 기댓값과 분산을 구하고 앞의 예제와 같이 확률밀도함수와 비교한 바 플롯을 그린다.  \n",
    "표본의 갯수가 10개인 경우와 1000개인 경우에 대해 각각 위의 계산을 한다.\n",
    "1. $\\mu = (0.25, 0.25, 0.25, 0.25)$\n",
    "2. $\\mu = (0.3, 0.3, 0.2, 0.2)$"
   ]
  }
 ],
 "metadata": {
  "kernelspec": {
   "display_name": "Python 3",
   "language": "python",
   "name": "python3"
  },
  "language_info": {
   "codemirror_mode": {
    "name": "ipython",
    "version": 3
   },
   "file_extension": ".py",
   "mimetype": "text/x-python",
   "name": "python",
   "nbconvert_exporter": "python",
   "pygments_lexer": "ipython3",
   "version": "3.6.6"
  }
 },
 "nbformat": 4,
 "nbformat_minor": 2
}

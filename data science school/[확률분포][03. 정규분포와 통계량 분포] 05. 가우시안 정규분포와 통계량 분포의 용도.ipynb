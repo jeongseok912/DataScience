{
 "cells": [
  {
   "cell_type": "code",
   "execution_count": 1,
   "metadata": {},
   "outputs": [],
   "source": [
    "from matplotlib import font_manager, rc\n",
    "font_name = font_manager.FontProperties(fname=\"c:/Windows/Fonts/malgun.ttf\").get_name()\n",
    "rc('font', family=font_name)"
   ]
  },
  {
   "cell_type": "markdown",
   "metadata": {},
   "source": [
    "# 1. 가우시안 정규분포의 용도\n",
    "* 가우시안 정규분포는 선형회귀모형에서 잡음(disturbance)을 모형화하는데 사용\n",
    "* 잡음 $\\epsilon$ : 우리가 값을 측정할 수 없는 입력변수\n",
    "* 잡음은 선형회귀모형을 만들 때 하나하나의 영향력이 작거나, 일일히 측정하기 힘들어서 무시하는 수많은 변수들의 영향을 하나로 합친 것  \n",
    "즉, 원래 $y$ 값은 $x_1, \\dots, x_N, \\dots$의 거의 무한한 갯수의 입력변수의 영향을 받는다.\n",
    "$$ y = w_1x_1 + \\dots + w_Nx_N + w_{N+1}x_{N+1} + w_{N+2}x_{N+2} + \\dots $$\n",
    "하지만 이 중에서 입력변수 $x_1, \\dots, x_N$만이 영향력이 크거나 측정이 쉽다면  \n",
    "다른 변수의 영향은 하나의 확률변수라고 합쳐서 표현할 수 있다.\n",
    "\n",
    "$$ \\epsilon = w_{N+1}x_{N+1} + w_{N+2}x_{N+2} + \\dots $$\n",
    "\n",
    "* 중심극한정리에 의해 임의의 확률변수의 합은 가우시안 정규분포와 비슷한 형태가 된다.  \n",
    "또한 $\\epsilon$의 기댓값이 0이 아니라면 다음처럼 상수항 $w_0 = E[\\epsilon]$을 추가하는 대신 $\\epsilon$의 기댓값이 0이라고 할 수 있기 때문에\n",
    "$$ y = w_0 + w_1x_1 + \\dots + w_Nx_N + \\epsilon $$\n",
    "\n",
    "* 잡음 $\\epsilon$이 기댓값이 0인 가우시안 정규분포라고 가정하는 것은 합리적이다.\n",
    "$$ \\epsilon ∼ Ν(0,\\sigma^2) $$\n",
    "\n",
    "<img src=\"./dsschool_img/disturbance.png\">"
   ]
  },
  {
   "cell_type": "markdown",
   "metadata": {},
   "source": [
    "# 2. 통계량 분포의 용도\n",
    "스튜던트 t 분포, 카이 제곱 분포, F 분포는 모두 가우시안 정규 분포의 통계량 분포(statistics distribution)의 일종이다.\n",
    "\n",
    "<img src=\"./dsschool_img/statistics_distribution.png\">\n",
    "\n",
    "#### 선형회귀분석에서 이 통계량 분포의 사용\n",
    "* 스튜던트 t 분포 : 추정된 계수 $w$에 대한 확률분포\n",
    "* 카이 제곱 분포 : 오차 제곱합(residual sum of square)에 대한 확률분포\n",
    "* F 분포 : 비교 대상이 되는 선형모형의 오차 제곱합에 대한 비율의 확률분포"
   ]
  }
 ],
 "metadata": {
  "kernelspec": {
   "display_name": "Python 3",
   "language": "python",
   "name": "python3"
  },
  "language_info": {
   "codemirror_mode": {
    "name": "ipython",
    "version": 3
   },
   "file_extension": ".py",
   "mimetype": "text/x-python",
   "name": "python",
   "nbconvert_exporter": "python",
   "pygments_lexer": "ipython3",
   "version": "3.6.6"
  }
 },
 "nbformat": 4,
 "nbformat_minor": 2
}

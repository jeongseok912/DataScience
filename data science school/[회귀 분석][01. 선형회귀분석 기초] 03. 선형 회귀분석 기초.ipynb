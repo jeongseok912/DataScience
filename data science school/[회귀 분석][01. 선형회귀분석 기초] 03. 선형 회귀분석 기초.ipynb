{
 "cells": [
  {
   "cell_type": "markdown",
   "metadata": {},
   "source": [
    "# 1. 회귀분석(regression analysis)\n",
    "$D$차원 벡터 독립변수 $x$와 이에 대응하는 스칼라 종속변수 $y$간의 관계를 정량적으로 찾아내는 작업\n",
    "* 회귀분석 모형 종류\n",
    "    * 결정론적 모형(deterministic Model)\n",
    "    * 확률적 모형(probabilistic Model)\n",
    "\n",
    "## 1.2. 결정론적 모형\n",
    "독립변수 $x$에 대응하는 종속변수 $y$와 가장 비슷한 값 $\\hat y$를 출력하는 함수 $f(x)$를 찾는 과정\n",
    "$$ \\hat y = f(x) ≒ y $$\n",
    "\n",
    "#### 선형 회귀분석(linear regression analysis)\n",
    "독립변수 $x$와 이에 대응하는 종속변수 $y$ 간의 관계가 다음과 같은 선형 함수 $f(x)$를 만족하는 것\n",
    "$$ \\hat y = w_0 + w_1x_1 + w_2x_2 + ... + w_Dx_D $$\n",
    "$$ = w_0 + w^Tx $$\n",
    "* $w$ : 함수 $f(x)$의 계수(coefficient), 이 선형회귀모형의 모수(parameter)"
   ]
  },
  {
   "cell_type": "markdown",
   "metadata": {},
   "source": [
    "# 2. 상수항 결합\n",
    "* 상수항 결합(bias augmentation) : 상수항이 0이 아닌 회귀분석모형인 경우 수식을 간단하게 만들기 위해 상수항을 독립변수에 추가하는 작업\n",
    "\n",
    "$$ x_i = \\begin{bmatrix} x_{i1} \\\\ x_{i2} \\\\ \\dots \\\\ x_{iD} \\end{bmatrix} → x_{i,a} = \\begin{bmatrix} 1 \\\\ x_{i1} \\\\ x_{i2} \\\\ \\dots \\\\ x_{iD} \\end{bmatrix} $$ \n",
    "\n",
    "* 결합하면 모든 원소가 1인 벡터가 입력 데이터 행렬에 추가된다.\n",
    "\n",
    "$$ X = \\begin{bmatrix} \n",
    "    x_{11} & x_{12} & \\dots &  x_{1D} \\\\\n",
    "    x_{21} & x_{22} & \\dots &  x_{2D} \\\\\n",
    "    \\dots & \\dots & \\dots & \\dots \\\\\n",
    "    x_{N1} & x_{N2} & \\dots &  x_{nD}\n",
    "    \\end{bmatrix}\n",
    " → X_a = \\begin{bmatrix} \n",
    "    1 & x_{11} & x_{12} & \\dots &  x_{1D} \\\\\n",
    "    1 & x_{21} & x_{22} & \\dots &  x_{2D} \\\\\n",
    "    \\dots & \\dots & \\dots & \\dots & \\dots \\\\\n",
    "    1 & x_{N1} & x_{N2} & \\dots &  x_{ND}\n",
    "    \\end{bmatrix} $$\n",
    "    \n",
    "* 이렇게 되면 전체 수식이 상수항이 추가된 가중치 벡터 $w$와 상수항이 추가된 입력 데이터 벡터 $x$의 내적으로 간단히 표시된다.\n",
    "$$ f(x) = w_0 + w_1x_1 + w_2x_2 + \\dots + w_Dx_D $$\n",
    "\n",
    "$$ = \\begin{bmatrix} 1 & x_1 & x_2 & \\dots & x_D \\end{bmatrix} \\begin{bmatrix} w_0 \\\\ w_1 \\\\ w_2 \\\\ \\dots \\\\ w_D \\end{bmatrix} $$\n",
    "$$ = x_a^Tw_a = w_a^Tx_a $$\n",
    "* 상수항이 0이 아닌 경우 항상 상수항 결합을 하기 때문에 특별히 벡터 기호를 $x_a$ 또는 $w_a$라고 표시하지 않아도 상수항 결합이 되어 있는 경우가 많다."
   ]
  },
  {
   "cell_type": "markdown",
   "metadata": {},
   "source": [
    " ## 2.1. 상수항 결합 방법 1: NumPy 이용"
   ]
  },
  {
   "cell_type": "code",
   "execution_count": 1,
   "metadata": {},
   "outputs": [
    {
     "data": {
      "text/plain": [
       "array([[ 0.0465673 ,  0.80186103],\n",
       "       [-2.02220122,  0.31563495],\n",
       "       [-0.38405435, -0.3224172 ],\n",
       "       [-1.31228341,  0.35054598],\n",
       "       [-0.88762896, -0.19183555]])"
      ]
     },
     "execution_count": 1,
     "metadata": {},
     "output_type": "execute_result"
    }
   ],
   "source": [
    "# 상수항 결합 시키기\n",
    "from sklearn.datasets import make_regression\n",
    "\n",
    "X0, y, coef = make_regression(n_samples=100, n_features=2, bias=100, noise=10,\n",
    "                             coef=True, random_state=1)\n",
    "# 원래 데이터\n",
    "X0[:5]"
   ]
  },
  {
   "cell_type": "code",
   "execution_count": 3,
   "metadata": {},
   "outputs": [
    {
     "data": {
      "text/plain": [
       "array([[ 1.        ,  0.0465673 ,  0.80186103],\n",
       "       [ 1.        , -2.02220122,  0.31563495],\n",
       "       [ 1.        , -0.38405435, -0.3224172 ],\n",
       "       [ 1.        , -1.31228341,  0.35054598],\n",
       "       [ 1.        , -0.88762896, -0.19183555]])"
      ]
     },
     "execution_count": 3,
     "metadata": {},
     "output_type": "execute_result"
    }
   ],
   "source": [
    "# 상수항 결합된 데이터\n",
    "import numpy as np\n",
    "\n",
    "X = np.hstack([np.ones((X0.shape[0], 1)), X0])\n",
    "X[:5]"
   ]
  },
  {
   "cell_type": "markdown",
   "metadata": {},
   "source": [
    " ## 2.2. 상수항 결합 방법 2: Statsmodels 이용\n",
    "##### add_constant 함수\n",
    "상수항을 결합시킨다."
   ]
  },
  {
   "cell_type": "code",
   "execution_count": 9,
   "metadata": {},
   "outputs": [
    {
     "data": {
      "text/plain": [
       "array([[ 1.        ,  0.0465673 ,  0.80186103],\n",
       "       [ 1.        , -2.02220122,  0.31563495],\n",
       "       [ 1.        , -0.38405435, -0.3224172 ],\n",
       "       [ 1.        , -1.31228341,  0.35054598],\n",
       "       [ 1.        , -0.88762896, -0.19183555]])"
      ]
     },
     "execution_count": 9,
     "metadata": {},
     "output_type": "execute_result"
    }
   ],
   "source": [
    "import statsmodels.api as sm\n",
    "\n",
    "X = sm.add_constant(X0)\n",
    "X[:5]"
   ]
  },
  {
   "cell_type": "markdown",
   "metadata": {},
   "source": [
    "# 3. OLS\n",
    "* OLS(Ordinary Least Squares) : 잔차제곱합(RSS : Residual Sum of Squares)을 최소화하는 가중치 벡터를 행렬 미분으로 구하는 방법\n",
    "    * 가장 기본적인 결정론적 선형 회귀 방법\n",
    "* 만약 $X^TX$ 행렬이 역행렬이 존재한다면, 최적 가중치 벡터 $w^*$를 구할 수 있다.\n",
    "$$ w^* = (X^TX)^{-1}X^Ty $$\n",
    "> **증명**  \n",
    "우리가 사용하는 예측 모형은 상수항이 결합된 선형 모형이다.\n",
    "$$ \\hat y = Xw $$\n",
    "    * 이 때 잔차 벡터(residual vector) $e$\n",
    "    $$ e = y - \\hat y $$\n",
    "    $$ = y - Xw $$\n",
    "    * 잔차제곱합 RSS\n",
    "    $$ RSS = e^Te $$\n",
    "    $$ = (y - Xw)^T(y-Xw) $$\n",
    "    $$ = y^Ty - 2y^TXw + w^TX^TXw $$  \n",
    "    * 잔차의 크기  \n",
    "즉, 잔차제곱합을 가장 작게 하는 가중치 벡터를 구하기 위한 잔차제곱합의 그레디언트(gradient) 벡터\n",
    "$$ \\frac{dRSS}{dw} = -2X^Ty + 2X^TXw $$\n",
    "잔차가 최소가 되는 최적화 조건은 그레디언트(gradient) 벡터가 0벡터이어야 하므로 다음 식이 성립한다.\n",
    "$$ \\frac{dRSS}{dw} = 0$$\n",
    "$$ X^TXw^* = X^Ty $$\n",
    "$$ w^* = (X^TX)^{-1}X^Ty $$\n",
    "\n",
    "* $X^TX$ 행렬의 역행렬이 존재하고, 위에서 구한 값이 $f(w)$의 최저값이 되려면 $X^TX$가 양의 정부호(positive definite) 행렬이어야 한다.  \n",
    "* 만약 $X$가 풀랭크가 아니면 즉, $X$의 각 행렬이 서로 독립이 아니면 $X^TX$가 양의 정부호가 아니고 역행렬이 존재하지 않으므로 위와 같은 해를 구할 수 없다."
   ]
  },
  {
   "cell_type": "markdown",
   "metadata": {},
   "source": [
    "# 4. 직교 방정식\n",
    "* 직교 방정식(normal equation) : 그레디언트(gradient)가 0벡터가 되는 관계를 나타내는 식\n",
    "$$ X^Ty - X^TXw = 0$$\n",
    "\n",
    "#### 특징 행렬의 열벡터 $c_d$는 잔차 벡터 $e$와 수직이다.\n",
    "* 직교 방정식을 인수분해하면\n",
    "$$ X^T(y - Xw) = 0 $$\n",
    "$$ X^Te = 0 $$\n",
    "즉, $c_d$가 모든 데이터의 $d$번째 차원의 원소로 이루어진 데이터 벡터(특징 행렬의 열벡터)라고 할 때,  \n",
    "모든 차원 $d (d = 0, ..., D)$에 대해 $c_d$는 잔차 벡터 $e$와 수직을 이룬다.\n",
    "$$ c_d^T = 0 \\text{ } (d = 0, ..., D) $$\n",
    "또는\n",
    "$$ c_d ⊥ e \\text{ } (d = 0, ..., D) $$\n",
    "\n",
    "#### 직교 방정식으로부터 알 수 있는 성질\n",
    "1. $X$가 1-벡터를 가지고 상수항이 결합된 경우 잔차 벡터의 원소의 합은 0이다. 즉 잔차의 평균은 0이다.\n",
    "$$ \\sum_{i=0}^Ne_i = 0 $$\n",
    "> **증명**  \n",
    "$X$의 첫 번째 열이 1-벡터라는 것을 이용하면\n",
    "$$ c_0^Te = 1^Te = \\sum_{i=0}^Ne_i = 0 $$\n",
    "\n",
    "2. $x$ 데이터의 평균값 $\\bar x$에 대한 예측값은 $y$ 데이터의 평균값 $\\bar y$이다.\n",
    "> **증명**  \n",
    "$$ \\bar y = \\frac{1}{N}1^Ty$$\n",
    "$$ = \\frac{1}{N}1^T(Xw + e) $$\n",
    "$$ = \\frac{1}{N}1^TXw + \\frac{1}{N}1^Te $$\n",
    "$$ = \\frac{1}{N}1^TXw (y는 에러가 없어서 사라지는 듯)$$\n",
    "$$ = \\frac{1}{N}1^T \\begin{bmatrix} c_1 & \\dots & c_M \\end{bmatrix}w $$\n",
    "$$ = \\begin{bmatrix}\\frac{1}{N}1^Tc_1 & \\dots & \\frac{1}{N}1^Tc_D \\end{bmatrix}w $$\n",
    "$$ = \\begin{bmatrix}\\bar c_1 & \\dots & \\bar c_D \\end{bmatrix}w $$\n",
    "$$ = \\bar x^Tw $$\n",
    "\n",
    "#### 원래 데이터의 회귀분석 결과 = 평균이 0이 되게 평균 이동한 데이터의 회귀분석 결과\n",
    "* 두 번째 성질을 사용하면 원래 데이터를 사용한 회귀분석 결과와 원래 데이터에서 평균이 0이 되게 평균 이동한 데이터를 사용한 회귀분석 결과가 같다는 것을 보일 수 있다.\n",
    "$$ \\hat y = Xw $$\n",
    "$$ \\hat y - \\bar y = Xw - \\bar y $$\n",
    "$$ \\hat y - \\bar y = Xw - \\bar Xw $$\n",
    "$$ (\\hat y - \\bar y) = (X - \\bar X)w $$\n",
    "    * $\\bar y$ : $y$의 평균으로만 이루어진 상수 벡터\n",
    "    * $\\bar X$ : 특징 행렬의 각 열의 평균을 열로 가지는 행렬"
   ]
  },
  {
   "cell_type": "markdown",
   "metadata": {},
   "source": [
    "# 5. 선형 회귀분석 방법1 : NumPy 이용\n",
    "## 5.1. NumPy의 선형대수 기능을 사용하여 OLS 방법으로 선형 회귀분석 하기"
   ]
  },
  {
   "cell_type": "code",
   "execution_count": 42,
   "metadata": {},
   "outputs": [],
   "source": [
    "from sklearn.datasets import make_regression\n",
    "\n",
    "bias = 100\n",
    "X0, y, coef = make_regression(n_samples=100, n_features=1, bias=bias, noise=10,\n",
    "                             coef=True, random_state=1)\n",
    "X = sm.add_constant(X0)\n",
    "y = y.reshape(len(y), 1) # 행 벡터를 열 벡터로 변경"
   ]
  },
  {
   "cell_type": "code",
   "execution_count": 11,
   "metadata": {},
   "outputs": [
    {
     "data": {
      "text/plain": [
       "array(80.71051956)"
      ]
     },
     "execution_count": 11,
     "metadata": {},
     "output_type": "execute_result"
    }
   ],
   "source": [
    "# make_regression 명령이 생성한 모수 값\n",
    "coef"
   ]
  },
  {
   "cell_type": "markdown",
   "metadata": {},
   "source": [
    "따라서\n",
    "$$ y = 100 + 80.71051956x + ε $$\n",
    "\n",
    "### 5.1.1. 구한 수식을 이용한 선형회귀 계수 추정\n",
    "#### OLS 해를 직접 이용하는 방법"
   ]
  },
  {
   "cell_type": "code",
   "execution_count": 12,
   "metadata": {},
   "outputs": [
    {
     "data": {
      "text/plain": [
       "array([[102.02701439],\n",
       "       [ 81.59750943]])"
      ]
     },
     "execution_count": 12,
     "metadata": {},
     "output_type": "execute_result"
    }
   ],
   "source": [
    "w = np.dot(np.dot(np.linalg.inv(np.dot(X.T, X)), X.T), y)\n",
    "w"
   ]
  },
  {
   "cell_type": "markdown",
   "metadata": {},
   "source": [
    "즉, 다음 방정식을 이용하여 $y$ 예측\n",
    "$$ \\hat y = 102.0270 + 81.5975x $$\n",
    "이 결과에서 알 수 있는 것  \n",
    "→ 선형 회귀를 통해 구한 결과는 실제(자연 법칙)와 비슷하지만 정확하지는 않다."
   ]
  },
  {
   "cell_type": "markdown",
   "metadata": {},
   "source": [
    "#### lstsq 명령을 이용하는 방법"
   ]
  },
  {
   "cell_type": "code",
   "execution_count": 13,
   "metadata": {},
   "outputs": [
    {
     "name": "stderr",
     "output_type": "stream",
     "text": [
      "C:\\Anaconda3\\lib\\site-packages\\ipykernel_launcher.py:1: FutureWarning: `rcond` parameter will change to the default of machine precision times ``max(M, N)`` where M and N are the input matrix dimensions.\n",
      "To use the future default and silence this warning we advise to pass `rcond=None`, to keep using the old, explicitly pass `rcond=-1`.\n",
      "  \"\"\"Entry point for launching an IPython kernel.\n"
     ]
    },
    {
     "data": {
      "text/plain": [
       "array([[102.02701439],\n",
       "       [ 81.59750943]])"
      ]
     },
     "execution_count": 13,
     "metadata": {},
     "output_type": "execute_result"
    }
   ],
   "source": [
    "w = np.linalg.lstsq(X, y)[0]\n",
    "w"
   ]
  },
  {
   "cell_type": "markdown",
   "metadata": {},
   "source": [
    "### 5.1.2. 새로운 $x$값에 대해 $\\hat y$을 구해본 결과를 원래 데이터와 비교"
   ]
  },
  {
   "cell_type": "code",
   "execution_count": 17,
   "metadata": {},
   "outputs": [
    {
     "data": {
      "image/png": "[encoded data removed]",
      "text/plain": [
       "<Figure size 432x288 with 1 Axes>"
      ]
     },
     "metadata": {
      "needs_background": "light"
     },
     "output_type": "display_data"
    }
   ],
   "source": [
    "import matplotlib.pyplot as plt\n",
    "\n",
    "x_new = np.linspace(np.min(X0), np.max(X0), 100)\n",
    "X_new = sm.add_constant(x_new) # 상수항 결합\n",
    "y_new = np.dot(X_new, w)\n",
    "\n",
    "plt.scatter(X0, y, label=\"data\")\n",
    "plt.plot(x_new, y_new, 'r-', label=\"회귀분석결과\")\n",
    "plt.xlabel(\"x\")\n",
    "plt.ylabel(\"y\")\n",
    "plt.title(\"선형 회귀분석의 예\")\n",
    "plt.grid()\n",
    "plt.legend()\n",
    "plt.show()"
   ]
  },
  {
   "cell_type": "markdown",
   "metadata": {},
   "source": [
    "# 6. 선형 회귀분석 방법2 : scikit-learn 이용\n",
    "`linear_model` 서브패키지의 `LinearRegression` 클래스 사용\n",
    "\n",
    "## 6.1. 사용법\n",
    "1. `LinearRegression` 클래스 객체 생성  \n",
    "`model = LinearRegression(fit_intercept=True)`\n",
    "    * `fit_intercept` : 모형에 상수항이 있는가 없는가를 결정한다. (디폴트 `True`)\n",
    "\n",
    "2. `fit` 메서드로 모형 추정  \n",
    "    * 상수항 결합을 자동으로 해주므로 사용자가 직접 상수항 결합을 할 필요는 없다.\n",
    "    * `fit` 메서드는 객체 자신을 반환한다.  \n",
    "`model = model.fit(X, y)`  \n",
    "\n",
    "> 회귀분석을 하고 나면 모형 객체는 다음의 속성을 가진다.  \n",
    "* `coef_` : 추정된 가중치 벡터  \n",
    "* `intercept_` : 추정된 상수항  \n",
    "\n",
    "3. `predict` 메서드로 새로운 입력 데이터에 대한 출력 데이터 예측  \n",
    "`y_new = model_predict(x_new)`"
   ]
  },
  {
   "cell_type": "markdown",
   "metadata": {},
   "source": [
    "## 6.2. 보스턴 집값 데이터 회귀분석"
   ]
  },
  {
   "cell_type": "code",
   "execution_count": 18,
   "metadata": {},
   "outputs": [],
   "source": [
    "from sklearn.datasets import load_boston\n",
    "from sklearn.linear_model import LinearRegression\n",
    "\n",
    "boston = load_boston()\n",
    "model_boston = LinearRegression().fit(boston.data, boston.target)"
   ]
  },
  {
   "cell_type": "markdown",
   "metadata": {},
   "source": [
    "특징 벡터의 이름과 비교하면 각각의 가중치가 가지는 의미를 알 수 있다.  \n",
    "ex)  \n",
    "방(RM) 하나가 증가하면 가격 예측치는 약 3,810 달러 정도 증가한다."
   ]
  },
  {
   "cell_type": "code",
   "execution_count": 19,
   "metadata": {},
   "outputs": [
    {
     "data": {
      "text/plain": [
       "array([-1.08011358e-01,  4.64204584e-02,  2.05586264e-02,  2.68673382e+00,\n",
       "       -1.77666112e+01,  3.80986521e+00,  6.92224640e-04, -1.47556685e+00,\n",
       "        3.06049479e-01, -1.23345939e-02, -9.52747232e-01,  9.31168327e-03,\n",
       "       -5.24758378e-01])"
      ]
     },
     "execution_count": 19,
     "metadata": {},
     "output_type": "execute_result"
    }
   ],
   "source": [
    "# 추정한 가중치 값\n",
    "model_boston.coef_"
   ]
  },
  {
   "cell_type": "code",
   "execution_count": 20,
   "metadata": {},
   "outputs": [
    {
     "data": {
      "text/plain": [
       "array(['CRIM', 'ZN', 'INDUS', 'CHAS', 'NOX', 'RM', 'AGE', 'DIS', 'RAD',\n",
       "       'TAX', 'PTRATIO', 'B', 'LSTAT'], dtype='<U7')"
      ]
     },
     "execution_count": 20,
     "metadata": {},
     "output_type": "execute_result"
    }
   ],
   "source": [
    "boston.feature_names"
   ]
  },
  {
   "cell_type": "code",
   "execution_count": 21,
   "metadata": {},
   "outputs": [
    {
     "data": {
      "text/plain": [
       "36.459488385089855"
      ]
     },
     "execution_count": 21,
     "metadata": {},
     "output_type": "execute_result"
    }
   ],
   "source": [
    "model_boston.intercept_"
   ]
  },
  {
   "cell_type": "code",
   "execution_count": 23,
   "metadata": {},
   "outputs": [
    {
     "data": {
      "image/png": "[encoded data removed]",
      "text/plain": [
       "<Figure size 432x288 with 1 Axes>"
      ]
     },
     "metadata": {
      "needs_background": "light"
     },
     "output_type": "display_data"
    }
   ],
   "source": [
    "predictions = model_boston.predict(boston.data)\n",
    "\n",
    "plt.scatter(boston.target, predictions)\n",
    "plt.xlabel(u\"실제 집값\")\n",
    "plt.ylabel(u\"집값 예측치\")\n",
    "plt.grid()\n",
    "plt.show()"
   ]
  },
  {
   "cell_type": "markdown",
   "metadata": {},
   "source": [
    "## 연습 문제\n",
    "1. `LinearRegression` 클래스를 사용하여 위에서 만들어낸 1차원 가상 데이터 `X`, `y`를 회귀분석한다."
   ]
  },
  {
   "cell_type": "code",
   "execution_count": 45,
   "metadata": {},
   "outputs": [
    {
     "data": {
      "text/plain": [
       "(array([[81.59750943]]), array([102.02701439]))"
      ]
     },
     "execution_count": 45,
     "metadata": {},
     "output_type": "execute_result"
    }
   ],
   "source": [
    "lin = LinearRegression()\n",
    "lin.fit(X0, y)\n",
    "lin.coef_, lin.intercept_"
   ]
  },
  {
   "cell_type": "markdown",
   "metadata": {},
   "source": [
    "2. 시드값을 다르게 하여 새로운 가상 데이터 `X`, `y`를 만들고 회귀분석을 한다. 이번에는 가중치 계수의 오차가 어떻게 달라졌는가? 가중치 계수의 오차는 어느 정도의 크기를 가지는가?"
   ]
  },
  {
   "cell_type": "markdown",
   "metadata": {},
   "source": [
    "# 7. 선형 회귀분석 방법3 : statsmodels 이용\n",
    "* `OLS` 클래스를 사용하여 선형 회귀분석을 실시한다.\n",
    "\n",
    "## 7.1. 사용법\n",
    "1. `OLS` 클래스 객체 생성\n",
    "    * 이 때 scikit-learn 패키지와 달리 데이터를 미리 주어야 하며, 상수항을 만들어주지 않아 `add_constant` 명령으로 상수항을 추가해야 한다.\n",
    "    * 인수의 순서가 scikit-learn과 달리 출력 데이터를 먼저 넣어야 한다.  \n",
    "`model = OLS(y, X)`\n",
    "\n",
    "2. `fit` 메서드로 모형 추정\n",
    "    * scikit-learn 패키지와 달리 추정 결과는 별도의 `RegressionResults` 클래스 객체로 출력된다.  \n",
    "`result = model.fit()`\n",
    "\n",
    "3. `RegressionResults` 클래스 객체 제공 메서드\n",
    "    * `summary` : 결과 리포트용 메서드  \n",
    "`print(result.summary())`\n",
    "    * `prediction` : 예측 메서드\n",
    "        * 예측을 위한 데이터는 추정 시와 동일하게 결합(augmentation) 해 주어야 한다.  \n",
    "`y_new = result.predict(x_new)`"
   ]
  },
  {
   "cell_type": "code",
   "execution_count": 26,
   "metadata": {
    "scrolled": false
   },
   "outputs": [
    {
     "name": "stdout",
     "output_type": "stream",
     "text": [
      "                            OLS Regression Results                            \n",
      "==============================================================================\n",
      "Dep. Variable:                   MEDV   R-squared:                       0.741\n",
      "Model:                            OLS   Adj. R-squared:                  0.734\n",
      "Method:                 Least Squares   F-statistic:                     108.1\n",
      "Date:                Thu, 01 Nov 2018   Prob (F-statistic):          6.72e-135\n",
      "Time:                        00:30:52   Log-Likelihood:                -1498.8\n",
      "No. Observations:                 506   AIC:                             3026.\n",
      "Df Residuals:                     492   BIC:                             3085.\n",
      "Df Model:                          13                                         \n",
      "Covariance Type:            nonrobust                                         \n",
      "==============================================================================\n",
      "                 coef    std err          t      P>|t|      [0.025      0.975]\n",
      "------------------------------------------------------------------------------\n",
      "const         36.4595      5.103      7.144      0.000      26.432      46.487\n",
      "CRIM          -0.1080      0.033     -3.287      0.001      -0.173      -0.043\n",
      "ZN             0.0464      0.014      3.382      0.001       0.019       0.073\n",
      "INDUS          0.0206      0.061      0.334      0.738      -0.100       0.141\n",
      "CHAS           2.6867      0.862      3.118      0.002       0.994       4.380\n",
      "NOX          -17.7666      3.820     -4.651      0.000     -25.272     -10.262\n",
      "RM             3.8099      0.418      9.116      0.000       2.989       4.631\n",
      "AGE            0.0007      0.013      0.052      0.958      -0.025       0.027\n",
      "DIS           -1.4756      0.199     -7.398      0.000      -1.867      -1.084\n",
      "RAD            0.3060      0.066      4.613      0.000       0.176       0.436\n",
      "TAX           -0.0123      0.004     -3.280      0.001      -0.020      -0.005\n",
      "PTRATIO       -0.9527      0.131     -7.283      0.000      -1.210      -0.696\n",
      "B              0.0093      0.003      3.467      0.001       0.004       0.015\n",
      "LSTAT         -0.5248      0.051    -10.347      0.000      -0.624      -0.425\n",
      "==============================================================================\n",
      "Omnibus:                      178.041   Durbin-Watson:                   1.078\n",
      "Prob(Omnibus):                  0.000   Jarque-Bera (JB):              783.126\n",
      "Skew:                           1.521   Prob(JB):                    8.84e-171\n",
      "Kurtosis:                       8.281   Cond. No.                     1.51e+04\n",
      "==============================================================================\n",
      "\n",
      "Warnings:\n",
      "[1] Standard Errors assume that the covariance matrix of the errors is correctly specified.\n",
      "[2] The condition number is large, 1.51e+04. This might indicate that there are\n",
      "strong multicollinearity or other numerical problems.\n"
     ]
    }
   ],
   "source": [
    "import pandas as pd\n",
    "\n",
    "dfX0 = pd.DataFrame(boston.data, columns=boston.feature_names)\n",
    "dfX = sm.add_constant(dfX0)\n",
    "dfy = pd.DataFrame(boston.target, columns=[\"MEDV\"])\n",
    "\n",
    "model_boston2 = sm.OLS(dfy, dfX)\n",
    "result_boston2 = model_boston2.fit()\n",
    "print(result_boston2.summary())"
   ]
  },
  {
   "cell_type": "markdown",
   "metadata": {},
   "source": [
    "예측할 때는 입력 데이터가 추정모형과 동일한 형태가 돼야 한다.  \n",
    "\n",
    "#### 직교방정식을 통해 얻은 $\\hat y = \\bar x^Tw$ 로 예시"
   ]
  },
  {
   "cell_type": "code",
   "execution_count": 31,
   "metadata": {},
   "outputs": [
    {
     "data": {
      "text/plain": [
       "array([3.61352356e+00, 1.13636364e+01, 1.11367787e+01, 6.91699605e-02,\n",
       "       5.54695059e-01, 6.28463439e+00, 6.85749012e+01, 3.79504269e+00,\n",
       "       9.54940711e+00, 4.08237154e+02, 1.84555336e+01, 3.56674032e+02,\n",
       "       1.26530632e+01])"
      ]
     },
     "execution_count": 31,
     "metadata": {},
     "output_type": "execute_result"
    }
   ],
   "source": [
    "# 원래 입력데이터의 평균값\n",
    "x_new = dfX0.mean().values\n",
    "x_new"
   ]
  },
  {
   "cell_type": "markdown",
   "metadata": {},
   "source": [
    "`prediction` 명령의 인수로는 회귀분석에 사용했던 원래 $X$데이터와 동일한 형태의 데이터프레임을 만들어야 한다.  \n",
    "여기에서 데이터 행이 하나인 경우 `add_constant`에 `has_constant=\"add\"` 인수를 추가해야 한다."
   ]
  },
  {
   "cell_type": "code",
   "execution_count": 35,
   "metadata": {},
   "outputs": [
    {
     "data": {
      "text/html": [
       "<div>\n",
       "<style scoped>\n",
       "    .dataframe tbody tr th:only-of-type {\n",
       "        vertical-align: middle;\n",
       "    }\n",
       "\n",
       "    .dataframe tbody tr th {\n",
       "        vertical-align: top;\n",
       "    }\n",
       "\n",
       "    .dataframe thead th {\n",
       "        text-align: right;\n",
       "    }\n",
       "</style>\n",
       "<table border=\"1\" class=\"dataframe\">\n",
       "  <thead>\n",
       "    <tr style=\"text-align: right;\">\n",
       "      <th></th>\n",
       "      <th>const</th>\n",
       "      <th>CRIM</th>\n",
       "      <th>ZN</th>\n",
       "      <th>INDUS</th>\n",
       "      <th>CHAS</th>\n",
       "      <th>NOX</th>\n",
       "      <th>RM</th>\n",
       "      <th>AGE</th>\n",
       "      <th>DIS</th>\n",
       "      <th>RAD</th>\n",
       "      <th>TAX</th>\n",
       "      <th>PTRATIO</th>\n",
       "      <th>B</th>\n",
       "      <th>LSTAT</th>\n",
       "    </tr>\n",
       "  </thead>\n",
       "  <tbody>\n",
       "    <tr>\n",
       "      <th>0</th>\n",
       "      <td>1.0</td>\n",
       "      <td>3.613524</td>\n",
       "      <td>11.363636</td>\n",
       "      <td>11.136779</td>\n",
       "      <td>0.06917</td>\n",
       "      <td>0.554695</td>\n",
       "      <td>6.284634</td>\n",
       "      <td>68.574901</td>\n",
       "      <td>3.795043</td>\n",
       "      <td>9.549407</td>\n",
       "      <td>408.237154</td>\n",
       "      <td>18.455534</td>\n",
       "      <td>356.674032</td>\n",
       "      <td>12.653063</td>\n",
       "    </tr>\n",
       "  </tbody>\n",
       "</table>\n",
       "</div>"
      ],
      "text/plain": [
       "   const      CRIM         ZN      INDUS     CHAS       NOX        RM  \\\n",
       "0    1.0  3.613524  11.363636  11.136779  0.06917  0.554695  6.284634   \n",
       "\n",
       "         AGE       DIS       RAD         TAX    PTRATIO           B      LSTAT  \n",
       "0  68.574901  3.795043  9.549407  408.237154  18.455534  356.674032  12.653063  "
      ]
     },
     "execution_count": 35,
     "metadata": {},
     "output_type": "execute_result"
    }
   ],
   "source": [
    "dfx_new = sm.add_constant(pd.DataFrame(np.array(x_new)[:, np.newaxis].T, \n",
    "                                      columns=boston.feature_names),\n",
    "                         has_constant=\"add\")\n",
    "dfx_new"
   ]
  },
  {
   "cell_type": "code",
   "execution_count": 36,
   "metadata": {},
   "outputs": [
    {
     "data": {
      "text/plain": [
       "0    22.532806\n",
       "dtype: float64"
      ]
     },
     "execution_count": 36,
     "metadata": {},
     "output_type": "execute_result"
    }
   ],
   "source": [
    "result_boston2.predict(dfx_new)"
   ]
  },
  {
   "cell_type": "markdown",
   "metadata": {},
   "source": [
    "직교 방정식에서 증명했던 것처럼 이 예측값은 $y$ 데이터의 평균과 같다."
   ]
  },
  {
   "cell_type": "code",
   "execution_count": 53,
   "metadata": {},
   "outputs": [
    {
     "data": {
      "text/plain": [
       "MEDV    22.532806\n",
       "dtype: float64"
      ]
     },
     "execution_count": 53,
     "metadata": {},
     "output_type": "execute_result"
    }
   ],
   "source": [
    "dfy.mean()"
   ]
  },
  {
   "cell_type": "markdown",
   "metadata": {},
   "source": [
    "## 연습 문제\n",
    "1. `OLS` 클래스를 사용하여 위에서 구한 1차원 가상 데이터 `X`, `y`를 회귀분석한다."
   ]
  },
  {
   "cell_type": "code",
   "execution_count": 59,
   "metadata": {},
   "outputs": [
    {
     "name": "stdout",
     "output_type": "stream",
     "text": [
      "                            OLS Regression Results                            \n",
      "==============================================================================\n",
      "Dep. Variable:                      y   R-squared:                       0.984\n",
      "Model:                            OLS   Adj. R-squared:                  0.984\n",
      "Method:                 Least Squares   F-statistic:                     6149.\n",
      "Date:                Mon, 05 Nov 2018   Prob (F-statistic):           3.10e-90\n",
      "Time:                        15:16:14   Log-Likelihood:                -362.92\n",
      "No. Observations:                 100   AIC:                             729.8\n",
      "Df Residuals:                      98   BIC:                             735.1\n",
      "Df Model:                           1                                         \n",
      "Covariance Type:            nonrobust                                         \n",
      "==============================================================================\n",
      "                 coef    std err          t      P>|t|      [0.025      0.975]\n",
      "------------------------------------------------------------------------------\n",
      "const        102.0270      0.923    110.510      0.000     100.195     103.859\n",
      "x1            81.5975      1.041     78.415      0.000      79.533      83.663\n",
      "==============================================================================\n",
      "Omnibus:                        1.063   Durbin-Watson:                   2.189\n",
      "Prob(Omnibus):                  0.588   Jarque-Bera (JB):                0.599\n",
      "Skew:                           0.138   Prob(JB):                        0.741\n",
      "Kurtosis:                       3.260   Cond. No.                         1.15\n",
      "==============================================================================\n",
      "\n",
      "Warnings:\n",
      "[1] Standard Errors assume that the covariance matrix of the errors is correctly specified.\n"
     ]
    }
   ],
   "source": [
    "virtual_ols = sm.OLS(y, X)\n",
    "virtual_ols_result = virtual_ols.fit()\n",
    "print(virtual_ols_result.summary())"
   ]
  },
  {
   "cell_type": "markdown",
   "metadata": {},
   "source": [
    "2. 임의의 값 `x_new=1.0`를 지정하여 이 값에 대한 모형 예측치 `y_new`를 구하라."
   ]
  },
  {
   "cell_type": "code",
   "execution_count": 90,
   "metadata": {},
   "outputs": [
    {
     "data": {
      "text/html": [
       "<div>\n",
       "<style scoped>\n",
       "    .dataframe tbody tr th:only-of-type {\n",
       "        vertical-align: middle;\n",
       "    }\n",
       "\n",
       "    .dataframe tbody tr th {\n",
       "        vertical-align: top;\n",
       "    }\n",
       "\n",
       "    .dataframe thead th {\n",
       "        text-align: right;\n",
       "    }\n",
       "</style>\n",
       "<table border=\"1\" class=\"dataframe\">\n",
       "  <thead>\n",
       "    <tr style=\"text-align: right;\">\n",
       "      <th></th>\n",
       "      <th>const</th>\n",
       "      <th>X1</th>\n",
       "    </tr>\n",
       "  </thead>\n",
       "  <tbody>\n",
       "    <tr>\n",
       "      <th>0</th>\n",
       "      <td>1.0</td>\n",
       "      <td>1.0</td>\n",
       "    </tr>\n",
       "  </tbody>\n",
       "</table>\n",
       "</div>"
      ],
      "text/plain": [
       "   const   X1\n",
       "0    1.0  1.0"
      ]
     },
     "execution_count": 90,
     "metadata": {},
     "output_type": "execute_result"
    }
   ],
   "source": [
    "ols_x_new = np.array([[1.0]])\n",
    "df_ols_x_new = sm.add_constant(pd.DataFrame(ols_x_new, columns=[\"X1\"]),\n",
    "                              has_constant=\"add\")\n",
    "df_ols_x_new"
   ]
  },
  {
   "cell_type": "code",
   "execution_count": 91,
   "metadata": {},
   "outputs": [
    {
     "data": {
      "text/plain": [
       "0    183.624524\n",
       "dtype: float64"
      ]
     },
     "execution_count": 91,
     "metadata": {},
     "output_type": "execute_result"
    }
   ],
   "source": [
    "virtual_ols_result.predict(df_ols_x_new)"
   ]
  },
  {
   "cell_type": "code",
   "execution_count": 92,
   "metadata": {},
   "outputs": [
    {
     "data": {
      "text/plain": [
       "106.97042423219284"
      ]
     },
     "execution_count": 92,
     "metadata": {},
     "output_type": "execute_result"
    }
   ],
   "source": [
    "y.mean()"
   ]
  },
  {
   "cell_type": "markdown",
   "metadata": {},
   "source": [
    "----\n",
    "##### RegressionResults 클래스\n",
    "분석 결과를 다양한 속성에 저장해준다.\n",
    "* 자주 사용되는 속성\n",
    "    * `resid` : 잔차 벡터\n",
    "    * `params` : 모수 벡터"
   ]
  },
  {
   "cell_type": "code",
   "execution_count": 93,
   "metadata": {},
   "outputs": [
    {
     "data": {
      "text/plain": [
       "0   -6.003843\n",
       "1   -3.425562\n",
       "2    4.132403\n",
       "3    4.792964\n",
       "4    8.256476\n",
       "dtype: float64"
      ]
     },
     "execution_count": 93,
     "metadata": {},
     "output_type": "execute_result"
    }
   ],
   "source": [
    "result_boston2.resid.head()"
   ]
  },
  {
   "cell_type": "code",
   "execution_count": 94,
   "metadata": {},
   "outputs": [
    {
     "data": {
      "text/plain": [
       "const      36.459488\n",
       "CRIM       -0.108011\n",
       "ZN          0.046420\n",
       "INDUS       0.020559\n",
       "CHAS        2.686734\n",
       "NOX       -17.766611\n",
       "RM          3.809865\n",
       "AGE         0.000692\n",
       "DIS        -1.475567\n",
       "RAD         0.306049\n",
       "TAX        -0.012335\n",
       "PTRATIO    -0.952747\n",
       "B           0.009312\n",
       "LSTAT      -0.524758\n",
       "dtype: float64"
      ]
     },
     "execution_count": 94,
     "metadata": {},
     "output_type": "execute_result"
    }
   ],
   "source": [
    "result_boston2.params"
   ]
  }
 ],
 "metadata": {
  "kernelspec": {
   "display_name": "Python 3",
   "language": "python",
   "name": "python3"
  },
  "language_info": {
   "codemirror_mode": {
    "name": "ipython",
    "version": 3
   },
   "file_extension": ".py",
   "mimetype": "text/x-python",
   "name": "python",
   "nbconvert_exporter": "python",
   "pygments_lexer": "ipython3",
   "version": "3.6.6"
  }
 },
 "nbformat": 4,
 "nbformat_minor": 2
}

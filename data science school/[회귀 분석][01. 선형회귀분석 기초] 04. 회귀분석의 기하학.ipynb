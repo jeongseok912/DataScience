{
 "cells": [
  {
   "cell_type": "markdown",
   "metadata": {},
   "source": [
    "# 1. 회귀 벡터 공간\n",
    "* 예측값 $\\hat y$는 $X$의 각 열 $c_1, \\dots, c_M$의 선형 조합으로 표현된다.  \n",
    "모든 열이 선형 독립이면, $\\hat y$는 $X$의 각 열 $c_1, \\dots, c_M$을 기저 벡터(basis vector)로 하는 벡터 공간(vector space) 위에 존재한다는 것을 알 수 있다.\n",
    "$$ \\hat y = Xw $$\n",
    "$$ = \\begin{bmatrix} c_1 & \\dots & c_M \\end{bmatrix} \\begin{bmatrix} w_1 \\\\ \\dots \\\\ w_M \\end{bmatrix} $$\n",
    "\n",
    "$$ = w_1c_1 + \\dots + w_Mc_M $$\n",
    "\n",
    "* 잔차 벡터 $e$의 크기를 가장 작게 만드는 최적의 예측값 $\\hat y$는 벡터 공간 내에 존재하면서 $y$와 가장 가까운 벡터이다.  \n",
    "이 때 잔차 벡터 $e$는 벡터 공간에 직교한다.  \n",
    "* 따라서 예측값 벡터 $\\hat y$는 $y$를 $X$의 각 열 $c_1, \\dots, c_M$을 기저 벡터로 하는 벡터 공간에 투영(projection)한 벡터이고, 잔차 벡터 $e$는 투영하고 남은 직교 벡터이다.\n",
    "<img src=\"./dsschool_img/vector_space.png\"/>"
   ]
  },
  {
   "cell_type": "markdown",
   "metadata": {},
   "source": [
    "# 2. 잔차 행렬과 투영 행렬\n",
    "선형 벡터 공간에서 벡터 $a$에서 다른 벡터 $b$를 변형하는 과정은 변형 행렬(transforma matrix) $T$를 곱하는 연산으로 나타낼 수 있다.\n",
    "$$ b = Ta $$\n",
    "\n",
    " ## 2.1. 잔차 행렬(residual matrix)\n",
    "타겟 벡터 $y$ 벡터를 잔차 벡터 $e$로 변형하는 변환 행렬 $M$\n",
    "\n",
    "$$ M = I - X(X^TX)^{-1}X^T $$\n",
    "> **증명**\n",
    "$$ e = y - \\hat y $$\n",
    "$$ = y - Xw $$\n",
    "$$ = y - X(X^TX)^{-1}X^Ty $$\n",
    "$$ = (I - X(X^TX)^{-1}X^T)y $$\n",
    "$$ = My $$\n",
    "$$ → M = I - X(X^TX)^{-1}X^T $$\n",
    "\n",
    " ## 2.2. 투영 행렬(projection matrix)\n",
    "타겟 벡터 $y$ 벡터를 예측값 벡터 $\\hat y$로 변형하는 변환 행렬 $H$\n",
    "* hat 행렬($y$에서 $\\hat y$를 계산한다해서), 영향도 행렬(influence matrix)이라고도 부른다.\n",
    "\n",
    "$$ H = X(X^TX)^{-1}X^T $$\n",
    "\n",
    "\n",
    "> **증명**\n",
    "$$ \\hat y = y - e $$\n",
    "$$ y - My $$\n",
    "$$ (I - M)y $$\n",
    "$$ X(X^TX)^{-1}X^Ty $$\n",
    "$$ = Hy $$\n",
    "$$ → H = X(X^TX)^{-1}X^T $$\n"
   ]
  },
  {
   "cell_type": "markdown",
   "metadata": {},
   "source": [
    "## 2.3. 잔차 행렬과 투영 행렬의 성질\n",
    "1. 대칭행렬이다.\n",
    "$$ M^T = M $$\n",
    "$$ H^T = H $$\n",
    "> **증명**\n",
    "$$ M^T = (I - X(X^TX)^{-1}X^T)^T $$\n",
    "$$ = I - X(X^TX)^{-T}X^T $$\n",
    "$$ = I - X((X^TX)^T)^{-1}X^T $$\n",
    "$$ = I - X(X^TX)^{-1}X^T $$\n",
    "$$ = M $$\n",
    "\n",
    "2. 곱해도 자기 자신이 되는 행렬(멱등(idempotent) 행렬)이다.  \n",
    "멱등 행렬은 몇 번을 곱해도 자기 자신이 된다.\n",
    "$$ M^2 = M $$\n",
    "$$ H^2 = H $$\n",
    "> **증명**\n",
    "$$ M^2 = (I - X(X^TX)^{-1}X^T)(I - X(X^TX)^{-1}X^T) $$\n",
    "$$ = I - 2X(X^TX)^{-T}X^T + X(X^TX)^{-1}X^TX(X^TX)^{-1}X^T $$\n",
    "$$ = I - X((X^TX)^T)^{-1}X^T $$\n",
    "$$ = M $$\n",
    "\n",
    "3. $M$과 $H$는 서로 직교한다.\n",
    "$$ MH = HM = 0 $$\n",
    "> **증명**\n",
    "$$ MH = (I - X(X^TX)^{-1}X^T)X(X^TX)^{-1}X^T $$\n",
    "$$ = X(X^TX)^{-T}X^T - X(X^TX)^{-1}X^TX(X^TX)^{-1}X^T $$\n",
    "$$ = X(X^TX)^{-T}X^T - X(X^TX)^{-1}X^T $$\n",
    "$$ = 0 $$\n",
    "\n",
    "4. $M$은 $X$와 직교한다.\n",
    "$$ MX = 0 $$\n",
    "> **증명**\n",
    "$$ MX = (I - X(X^TX)^{-1}X^T)X $$\n",
    "$$ = X - X(X^TX)^{-1}X^TX $$\n",
    "$$ = X - X $$\n",
    "$$ = 0 $$\n",
    "\n",
    "5. $X$에 $H$를 곱해도 변하지 않는다.\n",
    "$$ HX = X $$"
   ]
  },
  {
   "cell_type": "markdown",
   "metadata": {},
   "source": [
    " ## 2.4. $y$ 벡터의 제곱합\n",
    " 위 성질을 이용하면 $y$ 벡터의 제곱합은  \n",
    " 잔차 벡터 $e$의 제곱합과 추정치 벡터 $\\hat y$의 제곱합의 합이 된다.\n",
    " $$ y = \\hat y + e = Hy + My = (H + M)y $$\n",
    " \n",
    " $$ y^Ty = ((H + M)y)^T((H + M)y) $$\n",
    " $$ = y^T(H + M)^T(H + M)y $$\n",
    " $$ = y^T(H + M)(H + M)y $$\n",
    " $$ = y^T(H^2 + MH + HM + M^2)y $$\n",
    " $$ = y^T(H + M)y $$\n",
    " $$ = y^THy + y^TMy $$\n",
    " $$ = y^TH^2y + y^TM^2y $$\n",
    " $$ = y^TH^THy + y^TM^TMy $$\n",
    " $$ = (Hy)^T(Hy) + (My)^T(My) $$\n",
    " $$ = \\hat y^T\\hat y + e^Te $$\n",
    " \n",
    " 이 관계식은 추후 분산분석(ANOVA)에 사용된다."
   ]
  }
 ],
 "metadata": {
  "kernelspec": {
   "display_name": "Python 3",
   "language": "python",
   "name": "python3"
  },
  "language_info": {
   "codemirror_mode": {
    "name": "ipython",
    "version": 3
   },
   "file_extension": ".py",
   "mimetype": "text/x-python",
   "name": "python",
   "nbconvert_exporter": "python",
   "pygments_lexer": "ipython3",
   "version": "3.6.6"
  }
 },
 "nbformat": 4,
 "nbformat_minor": 2
}

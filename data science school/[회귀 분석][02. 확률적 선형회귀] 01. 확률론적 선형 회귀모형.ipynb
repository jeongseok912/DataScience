{
 "cells": [
  {
   "cell_type": "code",
   "execution_count": 54,
   "metadata": {},
   "outputs": [],
   "source": [
    "from matplotlib import font_manager, rc\n",
    "font_name = font_manager.FontProperties(fname=\"c:/Windows/Fonts/malgun.ttf\").get_name()\n",
    "rc('font', family=font_name)"
   ]
  },
  {
   "cell_type": "markdown",
   "metadata": {},
   "source": [
    "# 1. 부트스트래핑\n",
    "* 부트스트래핑(bootstrapping) : 데이터를 재표본화(re-sampling)하여 여러가지 다양한 표본 데이터 집합을 만든다.\n",
    "    * 재표본화 시 기존의 $N$개 데이터에서 다시 $N$개 선택하되 중복 선택도 가능하게 한다.(unordered resamplling with replacement)\n",
    "* 회귀분석에 사용한 표본 데이터가 달라질 때 회귀분석의 결과는 어느 정도 영향을 받는지를 알기 위한 방법\n",
    "* 가중치의 오차 범위 혹은 신뢰 구간을 계산하기 위한 방법\n",
    "\n",
    "#### 100개 가상 데이터에 대한 일반적인 확률론적 선형 회귀 모형\n",
    "$$ y = w_0 + w_1x + ε$$\n",
    "\n",
    "* 모형에 사용된 모수의 상수항 $w_0 = 0$ \n",
    "* 기울기 $w_1 = 42.3855$"
   ]
  },
  {
   "cell_type": "code",
   "execution_count": 55,
   "metadata": {},
   "outputs": [
    {
     "data": {
      "text/plain": [
       "array(42.38550486)"
      ]
     },
     "execution_count": 55,
     "metadata": {},
     "output_type": "execute_result"
    }
   ],
   "source": [
    "from sklearn.datasets import make_regression\n",
    "\n",
    "X0, y, coef = make_regression(n_samples=100, n_features=1, noise=20, coef=True,\n",
    "                             random_state=0)\n",
    "coef"
   ]
  },
  {
   "cell_type": "code",
   "execution_count": 56,
   "metadata": {},
   "outputs": [],
   "source": [
    "import pandas as pd\n",
    "import statsmodels.api as sm\n",
    "\n",
    "dfX0 = pd.DataFrame(X0, columns=[\"X1\"])\n",
    "dfX = sm.add_constant(dfX0)\n",
    "dfy = pd.DataFrame(y, columns=[\"y\"])\n",
    "\n",
    "model = sm.OLS(dfy, dfX)\n",
    "result = model.fit()"
   ]
  },
  {
   "cell_type": "markdown",
   "metadata": {},
   "source": [
    "##### params\n",
    "추정된 가중치와 상수항이 저장되어 있다."
   ]
  },
  {
   "cell_type": "code",
   "execution_count": 57,
   "metadata": {},
   "outputs": [
    {
     "data": {
      "text/plain": [
       "const    -1.628364\n",
       "X1       42.853356\n",
       "dtype: float64"
      ]
     },
     "execution_count": 57,
     "metadata": {},
     "output_type": "execute_result"
    }
   ],
   "source": [
    "result.params"
   ]
  },
  {
   "cell_type": "markdown",
   "metadata": {},
   "source": [
    "* 상수항 추정치 $\\hat w_0 = -1.628364$  \n",
    "* 기울기 추정치 $\\hat w_1 = 42.853356$  \n",
    "\n",
    "실제 모수와 다르다."
   ]
  },
  {
   "cell_type": "markdown",
   "metadata": {},
   "source": [
    "#### 이 데이터를 재표본화(부트스트래핑)한 다른 데이터 집합으로 1,000번 회귀분석 반복"
   ]
  },
  {
   "cell_type": "code",
   "execution_count": 58,
   "metadata": {},
   "outputs": [
    {
     "name": "stdout",
     "output_type": "stream",
     "text": [
      "Wall time: 2.65 s\n"
     ]
    }
   ],
   "source": [
    "%%time\n",
    "import numpy as np\n",
    "\n",
    "N = 1000\n",
    "params_w0 = np.zeros(N)\n",
    "params_w1 = np.zeros(N)\n",
    "\n",
    "for i in range(N):\n",
    "    idx = np.random.choice(len(dfy), len(dfy), replace=True)\n",
    "    dfX2 = dfX.iloc[idx, :]\n",
    "    dfy2 = dfy.iloc[idx]\n",
    "    r = sm.OLS(dfy2, dfX2).fit()\n",
    "    params_w0[i] = r.params.const\n",
    "    params_w1[i] = r.params.X1"
   ]
  },
  {
   "cell_type": "markdown",
   "metadata": {},
   "source": [
    "#### 전체 가중치, 상수항 추정값 집합 히스토그램으로 나타내기"
   ]
  },
  {
   "cell_type": "code",
   "execution_count": 59,
   "metadata": {},
   "outputs": [
    {
     "data": {
      "image/png": "[encoded data removed]",
      "text/plain": [
       "<Figure size 576x216 with 2 Axes>"
      ]
     },
     "metadata": {
      "needs_background": "light"
     },
     "output_type": "display_data"
    }
   ],
   "source": [
    "import matplotlib.pyplot as plt\n",
    "import seaborn as sns\n",
    "\n",
    "plt.figure(figsize=(8, 3))\n",
    "\n",
    "ax1 = plt.subplot(121)\n",
    "sns.distplot(params_w1, ax=ax1)\n",
    "plt.axvline(params_w1.mean(), c='r')\n",
    "plt.title(\"$\\hat{w}_1$ 추정치 분포\")\n",
    "plt.grid()\n",
    "\n",
    "ax2 = plt.subplot(122)\n",
    "sns.distplot(params_w0, ax=ax2)\n",
    "plt.axvline(params_w0.mean(), c='r')\n",
    "plt.title(\"$\\hat{w}_0$ 추정치 분포\")\n",
    "plt.grid()\n",
    "\n",
    "plt.show()"
   ]
  },
  {
   "cell_type": "markdown",
   "metadata": {},
   "source": [
    "#### 기울기의 추정치 분포 평균, 표준편차"
   ]
  },
  {
   "cell_type": "code",
   "execution_count": 60,
   "metadata": {},
   "outputs": [
    {
     "data": {
      "text/plain": [
       "(42.92194788965001, 1.8968420262550838)"
      ]
     },
     "execution_count": 60,
     "metadata": {},
     "output_type": "execute_result"
    }
   ],
   "source": [
    "params_w1.mean(), params_w1.std()"
   ]
  },
  {
   "cell_type": "markdown",
   "metadata": {},
   "source": [
    "* 평균 : $42.72$\n",
    "* 표준편차 : $1.93$    \n",
    "\n",
    "대부분의 데이터가 $42.72 ± 3.86(\\bar x ± 2s)$ 사이에 있다.  \n",
    "따라서 오차가 큰 경우에도 0이나 음수가 될 가능성은 적다."
   ]
  },
  {
   "cell_type": "markdown",
   "metadata": {},
   "source": [
    "#### 상수항의 추정치 분포 평균, 표준편차"
   ]
  },
  {
   "cell_type": "code",
   "execution_count": 61,
   "metadata": {},
   "outputs": [
    {
     "data": {
      "text/plain": [
       "(-1.640556066699144, 2.1891194088314228)"
      ]
     },
     "execution_count": 61,
     "metadata": {},
     "output_type": "execute_result"
    }
   ],
   "source": [
    "params_w0.mean(), params_w0.std()"
   ]
  },
  {
   "cell_type": "markdown",
   "metadata": {},
   "source": [
    "* 평균 : $-1.59$\n",
    "* 표준편차 : $2.23$\n",
    "\n",
    "대부분의 데이터가 $-1.59 ± 4.46(-6.05 ∼ 2.87)$ 사이에 있어 0일 수도 음수일 수도 있다."
   ]
  },
  {
   "cell_type": "markdown",
   "metadata": {},
   "source": [
    "##### summary\n",
    "모델의 추정치 정보를 보여준다."
   ]
  },
  {
   "cell_type": "code",
   "execution_count": 62,
   "metadata": {},
   "outputs": [
    {
     "name": "stdout",
     "output_type": "stream",
     "text": [
      "                            OLS Regression Results                            \n",
      "==============================================================================\n",
      "Dep. Variable:                      y   R-squared:                       0.803\n",
      "Model:                            OLS   Adj. R-squared:                  0.801\n",
      "Method:                 Least Squares   F-statistic:                     400.3\n",
      "Date:                Thu, 08 Nov 2018   Prob (F-statistic):           2.21e-36\n",
      "Time:                        14:10:14   Log-Likelihood:                -448.09\n",
      "No. Observations:                 100   AIC:                             900.2\n",
      "Df Residuals:                      98   BIC:                             905.4\n",
      "Df Model:                           1                                         \n",
      "Covariance Type:            nonrobust                                         \n",
      "==============================================================================\n",
      "                 coef    std err          t      P>|t|      [0.025      0.975]\n",
      "------------------------------------------------------------------------------\n",
      "const         -1.6284      2.163     -0.753      0.453      -5.920       2.663\n",
      "X1            42.8534      2.142     20.008      0.000      38.603      47.104\n",
      "==============================================================================\n",
      "Omnibus:                        3.523   Durbin-Watson:                   1.984\n",
      "Prob(Omnibus):                  0.172   Jarque-Bera (JB):                2.059\n",
      "Skew:                          -0.073   Prob(JB):                        0.357\n",
      "Kurtosis:                       2.312   Cond. No.                         1.06\n",
      "==============================================================================\n",
      "\n",
      "Warnings:\n",
      "[1] Standard Errors assume that the covariance matrix of the errors is correctly specified.\n"
     ]
    }
   ],
   "source": [
    "print(result.summary())"
   ]
  },
  {
   "cell_type": "markdown",
   "metadata": {},
   "source": [
    "부트스트래핑한 회귀분석과 일반 회귀분석의 평균과 표준편차를 비교해보면 비슷하다.\n",
    "* 부트스트래핑 평균 : 가중치 42.72, 상수항 -1.59  \n",
    "확률론적 선형 회귀모형 평균 : 가중치 42.85 (`X1`의 `coef`), 상수항 -1.62 (`const`의 `coef`)\n",
    "* 부트스트래핑 표준편차 : 가중치 1.93, 상수항 2.23  \n",
    "확률론적 선형 회귀모형 표준편차 : 가중치 2.14(`X1`의 `std err`), 상수항 2.16 (`const`의 `std err`)\n",
    "* 부트스트래핑 $\\bar x ± 2s$로 추정한 구간 : 가중치 38.86 ~ 46.58, 상수항 -6.05 ~ 2.87  \n",
    "확률론적 선형 회귀모형 구간 `[0.025 0.975]` : 가중치 38.60 ~ 47.10, 상수항 -5.92 ~ 2.66\n",
    "\n",
    "`summary` 보고서와 같이 확률론적 선형 회귀모형을 쓰면 부트스트래핑처럼 많은 계산을 하지 않아도 빠르고 안정적으로 가중치 추정값의 오차를 구할 수 있다."
   ]
  },
  {
   "cell_type": "markdown",
   "metadata": {},
   "source": [
    "# 2. 확률론적 선형 회귀모형\n",
    "확률론적 선형 회귀모형에서는 데이터가 확률 변수로부터 생성된 표본이라고 가정한다.\n",
    "\n",
    " ## 2.1. 가정 1. 오차의 분포에 대한 가정\n",
    "  ### 2.1.1. 선형 정규 분포 가정\n",
    "  * 선형 회귀분석의 기본가정 : 종속 변수 $y$가 독립 변수 $x$의 선형 조합으로 결정되는 기댓값과 고정된 분산 $\\sigma^2$을 가지는 가우시안 정규 분포이다.\n",
    "  $$ y ∼ Ν(w^Tx, \\sigma^2) $$\n",
    "  * $y$의 확률밀도함수  \n",
    "  $$ p(y|x, \\theta) = Ν(y|w^Tx, \\sigma^2) $$\n",
    "  \n",
    "  이 식에서 모수 벡터 $\\theta = (w, \\sigma^2)$이다.\n",
    "  * 잡음(disturbance) $\\epsilon$ 개념으로 변환하여 더 간단히 표현\n",
    "  $$ \\epsilon = y - w^Tx $$\n",
    "  $$ p(\\epsilon|\\theta) = Ν(0, \\sigma^2) $$\n",
    "  * 주의할 점\n",
    "  > $x, y$ 중 그 어느 것도 그 자체로 정규 분포일 필요는 없다.\n",
    "  \n",
    "  $y$도 $x$에 대해 조건부로 정규 분포를 이루는 것이지 $y$ 자체가 무조건부로 정규분포는 아니다."
   ]
  },
  {
   "cell_type": "markdown",
   "metadata": {},
   "source": [
    "   ### 2.1.2. 외생성(Exogeneity) 가정\n",
    "   * 외생성 가정 : 잡음 $\\epsilon$의 기댓값은 독립 변수 $x$의 크기에 상관없이 항상 0이라고 가정하는 것\n",
    "   $$ E[\\epsilon|x] = 0 $$\n",
    "   * 외생성 가정으로부터 잡음 $\\epsilon$의 무조건부 기댓값이 0임을 증명할 수 있다.\n",
    "   $$ E[\\epsilon] = E[E[\\epsilon|x]] = 0 $$\n",
    "   역은 성립하지 않는다.  \n",
    "   즉 조건부 기댓값이 0이면 기댓값은 0이지만, 기댓값이 0이라고 조건부 기댓값이 0이 되지는 않는다.\n",
    "   * 같은 가정으로부터 잡음 $\\epsilon$와 독립 변수 $x$가 상관 관계가 없다는 것도 증명할 수 있다.\n",
    "   $$ E[\\epsilon x] = E[E[\\epsilon x|x]] = E[xE[\\epsilon|x]] = 0 $$"
   ]
  },
  {
   "cell_type": "markdown",
   "metadata": {},
   "source": [
    "   ### 2.1.3. 조건부 독립 가정\n",
    "   * $i$번째 샘플의 잡음 $\\epsilon_i$와 $j$번째 샘플의 잡음 $\\epsilon_j$의 공분산 값이 $x$와 상관없이 항상 0이라고 가정한다.\n",
    "   $$ Cov[\\epsilon_i, \\epsilon_j|x] = 0 \\text{ (i,j = 1,2,...,N)} $$\n",
    "   이는 $i$번째 샘플 잡음 $\\epsilon_i$와 $j$번째 샘플 잡음 $\\epsilon_j$는 서로 독립이라는 가정과 같다.\n",
    "   * 이 가정과 위의 다른 가정들로부터 다음을 증명할 수 있다.\n",
    "   $$ E[\\epsilon_i\\epsilon_j] = 0 \\text{ (i,j = 1,2,...,N)} $$\n",
    "   이를 공분산 행렬 형태로 표현\n",
    "   $$ Cov[\\epsilon] = E[\\epsilon \\epsilon^T] = \\sigma^2I $$"
   ]
  },
  {
   "cell_type": "markdown",
   "metadata": {},
   "source": [
    " ## 2.2. 가정 2. 독립 변수에 대한 가정\n",
    " * 독립 변수의 특징 행렬 $X$는 풀랭크(full rank)이어야 한다.  \n",
    " 즉, 독립 변수에서 서로 독립인 성분이 독립 변수 갯수만큼 존재해야 한다.\n",
    " * 독립 변수의 특징 행렬 $X$이 풀랭크이면 공분산 행렬 $X^TX$도 풀랭크가 되어 공분산 행렬의 역행렬이 존재한다."
   ]
  },
  {
   "cell_type": "markdown",
   "metadata": {},
   "source": [
    "# 3. 최대 가능도 방법을 사용한 선형 회귀분석\n",
    "#### 확률론적 선형 회귀모형의 가정과 최대 가능도 방법(Maximum Likelihood Estimation)을 사용한 가중치 벡터 $w$ 구하기\n",
    "* 가능도\n",
    "$$ p(y_1:N|x_1:N, \\theta) = \\prod_{i=1}^NΝ(y_i|w^Tx_i, \\sigma^2) $$\n",
    "$$ = \\prod_{i=1}^N\\frac{1}{\\sqrt{2\\pi\\sigma^2}}exp\\{-\\frac{(y_i - w^Tx_i)^2}{2\\sigma^2}\\} $$\n",
    "* 로그 가능도(log-likelihood)\n",
    "$$ LL = logp(y_1:N|x_1:N, \\theta) $$\n",
    "$$ = log\\prod_{i=1}^N\\frac{1}{\\sqrt{2\\pi\\sigma^2}}exp\\{-\\frac{(y_i - w^Tx_i)^2}{2\\sigma^2}\\} $$\n",
    "$$ = -\\frac{1}{2\\sigma^2}\\sum_{i=1}^N(y_i - w^Tx_i)^2 - \\frac{N}{2}log2\\pi\\sigma^2 $$\n",
    "* 행렬로 표시\n",
    "$$ LL = -C_1(y - Xw)^T(y - Xw) - C_0 = -C_1(w^Tx^TXw - 2y^TXw + y^Ty) - C_0 $$\n",
    "$$ C1 = -\\frac{1}{2\\sigma^2} $$\n",
    "$$ c_0 = \\frac{N}{2}log2\\pi\\sigma^2 $$\n",
    "* 최적화하면 OLS와 동일한 결과를 얻는다.\n",
    "$$ \\frac{\\partial}{\\partial w}LL = -C_1(2X^TX\\hat w - 2X^Ty) = 0 $$\n",
    "$$ \\hat w = (X^TX)^{-1}X^Ty $$\n",
    "* 최대 가능도 방법에서도 OLS의 직교 방정식과 같은 직교 방정식을 얻을 수 있다.\n",
    "$$ X^TX\\hat w - X^Ty = 0 $$\n",
    "$$ X^T(X\\hat w - y) = X^T(\\hat y - y) = X^Te = 0 $$"
   ]
  },
  {
   "cell_type": "markdown",
   "metadata": {},
   "source": [
    "# 4. 잔차의 분포\n",
    "확률론적 선형 회귀모형에 따르면 회귀분석에서 생기는 잔차 $e = y - \\hat w^Tx$도 정규분포를 따른다.\n",
    "> **증명**    \n",
    "* 확률론적 선형 회귀모형의 잡음 $\\epsilon$와 잔차 $e$는 다음의 관계를 가진다.\n",
    "$$ \\hat y = X\\hat w = X(X^TX)-1X^Ty = Hy $$\n",
    "    * $H$ : Hat 행렬, 프로젝션(projection) 행렬, 영향도(influence) 행렬이라고 부르는 대칭 행렬\n",
    "* Hat 행렬을 이용한 잔차 표현\n",
    "$$ e = y - \\hat y = y - Hy = (I - H)y = My $$\n",
    "    * $M$ : 잔차(residual) 행렬이라고 부르는 대칭 행렬\n",
    "* 확률적 선형 회귀 모형의 가정을 적용\n",
    "$$e = My = M(Xw + \\epsilon) = MXw + M\\epsilon $$\n",
    "* $MX = 0$이므로\n",
    "$$ e = M\\epsilon $$\n",
    "\n",
    "즉, 잔차 $e$는 잡음 $\\epsilon$의 선형 변환(linear transform)이다.  \n",
    "정규분포의 선형 변환은 마찬가지고 정규분포이므로, 잔차도 정규 분포를 따른다."
   ]
  },
  {
   "cell_type": "code",
   "execution_count": 63,
   "metadata": {},
   "outputs": [
    {
     "data": {
      "image/png": "[encoded data removed]",
      "text/plain": [
       "<Figure size 432x288 with 1 Axes>"
      ]
     },
     "metadata": {
      "needs_background": "light"
     },
     "output_type": "display_data"
    }
   ],
   "source": [
    "import scipy as sp\n",
    "\n",
    "sp.stats.probplot(result.resid, plot=plt)\n",
    "plt.show()"
   ]
  },
  {
   "cell_type": "markdown",
   "metadata": {},
   "source": [
    "#### 정규성 검정을 통해 정규성 살펴보기"
   ]
  },
  {
   "cell_type": "code",
   "execution_count": 64,
   "metadata": {},
   "outputs": [
    {
     "name": "stdout",
     "output_type": "stream",
     "text": [
      "Chi^2       :  3.523\n",
      "P-value     :  0.172\n"
     ]
    }
   ],
   "source": [
    "test = sm.stats.omni_normtest(result.resid)\n",
    "\n",
    "for xi in zip(['Chi^2', 'P-value'], test):\n",
    "    print(\"%-12s: %6.3f\" % xi)"
   ]
  },
  {
   "cell_type": "code",
   "execution_count": 65,
   "metadata": {},
   "outputs": [
    {
     "name": "stdout",
     "output_type": "stream",
     "text": [
      "Jarque-Bera :  2.059\n",
      "P-value     :  0.357\n",
      "Skew        : -0.073\n",
      "Kurtosis    :  2.312\n"
     ]
    }
   ],
   "source": [
    "test = sm.stats.jarque_bera(result.resid)\n",
    "\n",
    "for xi in zip(['Jarque-Bera', 'P-value', 'Skew', 'Kurtosis'], test):\n",
    "    print(\"%-12s: %6.3f\" % xi)"
   ]
  },
  {
   "cell_type": "markdown",
   "metadata": {},
   "source": [
    "오차의 기댓값이 $x$와 상관없이 0이므로 잔차의 기댓값도 $x$와 상관없이 0이어야 한다.\n",
    "$$ E[e|x] = 0 $$\n",
    "\n",
    "#### $x$값이 달라짐에 따라 잔차의 분포의 변화 살펴보기"
   ]
  },
  {
   "cell_type": "code",
   "execution_count": 66,
   "metadata": {},
   "outputs": [
    {
     "data": {
      "image/png": "[encoded data removed]",
      "text/plain": [
       "<Figure size 432x288 with 1 Axes>"
      ]
     },
     "metadata": {
      "needs_background": "light"
     },
     "output_type": "display_data"
    }
   ],
   "source": [
    "plt.plot(X0, result.resid, 'o')\n",
    "plt.axhline(y=0, c='k')\n",
    "plt.xlabel(\"X1\")\n",
    "plt.ylabel(\"Residual\")\n",
    "plt.grid()\n",
    "plt.show()"
   ]
  },
  {
   "cell_type": "markdown",
   "metadata": {},
   "source": [
    "$x$값이 달라져도 분포의 형태가 크게 바뀌지 않는다.\n",
    "\n",
    "#### $x$가 $e$에 미치는 영향 살펴보기\n",
    "$ 0 < x < 1, 1 < x < 2$ 구간으로 나누어 $e$ 분포의 모양을 살펴본다. "
   ]
  },
  {
   "cell_type": "code",
   "execution_count": 67,
   "metadata": {},
   "outputs": [
    {
     "data": {
      "image/png": "[encoded data removed]",
      "text/plain": [
       "<Figure size 432x288 with 1 Axes>"
      ]
     },
     "metadata": {
      "needs_background": "light"
     },
     "output_type": "display_data"
    }
   ],
   "source": [
    "sns.kdeplot(result.resid[((1 < X0) & (X0 < 2)).flatten()], label=\"1 < x < 2\")\n",
    "sns.kdeplot(result.resid[((0 < X0) & (X0 < 1)).flatten()], label=\"0 < x < 1\")\n",
    "plt.legend()\n",
    "plt.grid()\n",
    "plt.show()"
   ]
  },
  {
   "cell_type": "markdown",
   "metadata": {},
   "source": [
    "# 5. 회귀 계수의 표준 오차\n",
    "* 가중치의 예측치 $\\hat w$도 정규분포 확률변수인 $\\epsilon$의 선형 변환이므로 정규분포를 따른다.\n",
    "$$ \\hat w = (X^TX)^{-1}X^Ty $$\n",
    "$$ = (X^TX)^{-1}X^T(Xw + \\epsilon) $$\n",
    "$$ = w + (X^TX)^{-1}X^T\\epsilon $$"
   ]
  },
  {
   "cell_type": "code",
   "execution_count": null,
   "metadata": {},
   "outputs": [],
   "source": []
  },
  {
   "cell_type": "code",
   "execution_count": null,
   "metadata": {},
   "outputs": [],
   "source": []
  },
  {
   "cell_type": "code",
   "execution_count": null,
   "metadata": {},
   "outputs": [],
   "source": []
  }
 ],
 "metadata": {
  "kernelspec": {
   "display_name": "Python 3",
   "language": "python",
   "name": "python3"
  },
  "language_info": {
   "codemirror_mode": {
    "name": "ipython",
    "version": 3
   },
   "file_extension": ".py",
   "mimetype": "text/x-python",
   "name": "python",
   "nbconvert_exporter": "python",
   "pygments_lexer": "ipython3",
   "version": "3.6.6"
  }
 },
 "nbformat": 4,
 "nbformat_minor": 2
}
